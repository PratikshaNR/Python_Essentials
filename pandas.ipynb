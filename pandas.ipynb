{
 "cells": [
  {
   "cell_type": "markdown",
   "id": "07502ef0",
   "metadata": {},
   "source": [
    "# **Pandas**\n",
    "\n",
    "Pandas is an open-source Python library used for data analysis and manipulation, providing fast, flexible, and expressive data structures like Series and DataFrame.\n",
    "\n",
    "Data Structures – Offers Series (1D) and DataFrame (2D) for handling structured data.\n",
    "\n",
    "Features – Supports data cleaning, merging, filtering, grouping, reshaping, and visualization.\n",
    "\n",
    "Integration – Works seamlessly with NumPy, Matplotlib, and other Python data science libraries."
   ]
  },
  {
   "cell_type": "code",
   "execution_count": 2,
   "id": "9a0a6834",
   "metadata": {},
   "outputs": [],
   "source": [
    "import warnings\n",
    "warnings.filterwarnings('ignore')\n"
   ]
  },
  {
   "cell_type": "code",
   "execution_count": 3,
   "id": "ca7fba58",
   "metadata": {},
   "outputs": [
    {
     "name": "stdout",
     "output_type": "stream",
     "text": [
      "Requirement already satisfied: pandas in c:\\users\\pratiksha\\lib\\site-packages (2.2.3)\n",
      "Requirement already satisfied: numpy>=1.26.0 in c:\\users\\pratiksha\\lib\\site-packages (from pandas) (2.2.3)\n",
      "Requirement already satisfied: python-dateutil>=2.8.2 in c:\\users\\pratiksha\\appdata\\roaming\\python\\python313\\site-packages (from pandas) (2.9.0.post0)\n",
      "Requirement already satisfied: pytz>=2020.1 in c:\\users\\pratiksha\\lib\\site-packages (from pandas) (2025.1)\n",
      "Requirement already satisfied: tzdata>=2022.7 in c:\\users\\pratiksha\\lib\\site-packages (from pandas) (2025.1)\n",
      "Requirement already satisfied: six>=1.5 in c:\\users\\pratiksha\\appdata\\roaming\\python\\python313\\site-packages (from python-dateutil>=2.8.2->pandas) (1.17.0)\n",
      "Note: you may need to restart the kernel to use updated packages.\n"
     ]
    },
    {
     "name": "stderr",
     "output_type": "stream",
     "text": [
      "\n",
      "[notice] A new release of pip is available: 25.0.1 -> 25.2\n",
      "[notice] To update, run: python.exe -m pip install --upgrade pip\n"
     ]
    }
   ],
   "source": [
    "pip install pandas"
   ]
  },
  {
   "cell_type": "code",
   "execution_count": 4,
   "id": "ad26bea6",
   "metadata": {},
   "outputs": [],
   "source": [
    "#importing pandas in diffrent ways\n",
    "import pandas\n",
    "import pandas as pd \n",
    "from pandas import pandas  as pd"
   ]
  },
  {
   "cell_type": "code",
   "execution_count": 5,
   "id": "9a9e3d36",
   "metadata": {},
   "outputs": [
    {
     "data": {
      "text/plain": [
       "['ArrowDtype',\n",
       " 'BooleanDtype',\n",
       " 'Categorical',\n",
       " 'CategoricalDtype',\n",
       " 'CategoricalIndex',\n",
       " 'DataFrame',\n",
       " 'DateOffset',\n",
       " 'DatetimeIndex',\n",
       " 'DatetimeTZDtype',\n",
       " 'ExcelFile',\n",
       " 'ExcelWriter',\n",
       " 'Flags',\n",
       " 'Float32Dtype',\n",
       " 'Float64Dtype',\n",
       " 'Grouper',\n",
       " 'HDFStore',\n",
       " 'Index',\n",
       " 'IndexSlice',\n",
       " 'Int16Dtype',\n",
       " 'Int32Dtype',\n",
       " 'Int64Dtype',\n",
       " 'Int8Dtype',\n",
       " 'Interval',\n",
       " 'IntervalDtype',\n",
       " 'IntervalIndex',\n",
       " 'MultiIndex',\n",
       " 'NA',\n",
       " 'NaT',\n",
       " 'NamedAgg',\n",
       " 'Period',\n",
       " 'PeriodDtype',\n",
       " 'PeriodIndex',\n",
       " 'RangeIndex',\n",
       " 'Series',\n",
       " 'SparseDtype',\n",
       " 'StringDtype',\n",
       " 'Timedelta',\n",
       " 'TimedeltaIndex',\n",
       " 'Timestamp',\n",
       " 'UInt16Dtype',\n",
       " 'UInt32Dtype',\n",
       " 'UInt64Dtype',\n",
       " 'UInt8Dtype',\n",
       " '__all__',\n",
       " '__builtins__',\n",
       " '__cached__',\n",
       " '__doc__',\n",
       " '__docformat__',\n",
       " '__file__',\n",
       " '__git_version__',\n",
       " '__loader__',\n",
       " '__name__',\n",
       " '__package__',\n",
       " '__path__',\n",
       " '__spec__',\n",
       " '__version__',\n",
       " '_built_with_meson',\n",
       " '_config',\n",
       " '_is_numpy_dev',\n",
       " '_libs',\n",
       " '_pandas_datetime_CAPI',\n",
       " '_pandas_parser_CAPI',\n",
       " '_testing',\n",
       " '_typing',\n",
       " '_version_meson',\n",
       " 'annotations',\n",
       " 'api',\n",
       " 'array',\n",
       " 'arrays',\n",
       " 'bdate_range',\n",
       " 'compat',\n",
       " 'concat',\n",
       " 'core',\n",
       " 'crosstab',\n",
       " 'cut',\n",
       " 'date_range',\n",
       " 'describe_option',\n",
       " 'errors',\n",
       " 'eval',\n",
       " 'factorize',\n",
       " 'from_dummies',\n",
       " 'get_dummies',\n",
       " 'get_option',\n",
       " 'infer_freq',\n",
       " 'interval_range',\n",
       " 'io',\n",
       " 'isna',\n",
       " 'isnull',\n",
       " 'json_normalize',\n",
       " 'lreshape',\n",
       " 'melt',\n",
       " 'merge',\n",
       " 'merge_asof',\n",
       " 'merge_ordered',\n",
       " 'notna',\n",
       " 'notnull',\n",
       " 'offsets',\n",
       " 'option_context',\n",
       " 'options',\n",
       " 'pandas',\n",
       " 'period_range',\n",
       " 'pivot',\n",
       " 'pivot_table',\n",
       " 'plotting',\n",
       " 'qcut',\n",
       " 'read_clipboard',\n",
       " 'read_csv',\n",
       " 'read_excel',\n",
       " 'read_feather',\n",
       " 'read_fwf',\n",
       " 'read_gbq',\n",
       " 'read_hdf',\n",
       " 'read_html',\n",
       " 'read_json',\n",
       " 'read_orc',\n",
       " 'read_parquet',\n",
       " 'read_pickle',\n",
       " 'read_sas',\n",
       " 'read_spss',\n",
       " 'read_sql',\n",
       " 'read_sql_query',\n",
       " 'read_sql_table',\n",
       " 'read_stata',\n",
       " 'read_table',\n",
       " 'read_xml',\n",
       " 'reset_option',\n",
       " 'set_eng_float_format',\n",
       " 'set_option',\n",
       " 'show_versions',\n",
       " 'test',\n",
       " 'testing',\n",
       " 'timedelta_range',\n",
       " 'to_datetime',\n",
       " 'to_numeric',\n",
       " 'to_pickle',\n",
       " 'to_timedelta',\n",
       " 'tseries',\n",
       " 'unique',\n",
       " 'util',\n",
       " 'value_counts',\n",
       " 'wide_to_long']"
      ]
     },
     "execution_count": 5,
     "metadata": {},
     "output_type": "execute_result"
    }
   ],
   "source": [
    "#directories\n",
    "dir(pd)"
   ]
  },
  {
   "cell_type": "code",
   "execution_count": 6,
   "id": "485aa1f8",
   "metadata": {},
   "outputs": [
    {
     "data": {
      "text/plain": [
       "'2.2.3'"
      ]
     },
     "execution_count": 6,
     "metadata": {},
     "output_type": "execute_result"
    }
   ],
   "source": [
    "#version\n",
    "pd.__version__"
   ]
  },
  {
   "cell_type": "code",
   "execution_count": 7,
   "id": "05d9609a",
   "metadata": {},
   "outputs": [
    {
     "name": "stdout",
     "output_type": "stream",
     "text": [
      "\n",
      "pandas - a powerful data analysis and manipulation library for Python\n",
      "=====================================================================\n",
      "\n",
      "**pandas** is a Python package providing fast, flexible, and expressive data\n",
      "structures designed to make working with \"relational\" or \"labeled\" data both\n",
      "easy and intuitive. It aims to be the fundamental high-level building block for\n",
      "doing practical, **real world** data analysis in Python. Additionally, it has\n",
      "the broader goal of becoming **the most powerful and flexible open source data\n",
      "analysis / manipulation tool available in any language**. It is already well on\n",
      "its way toward this goal.\n",
      "\n",
      "Main Features\n",
      "-------------\n",
      "Here are just a few of the things that pandas does well:\n",
      "\n",
      "  - Easy handling of missing data in floating point as well as non-floating\n",
      "    point data.\n",
      "  - Size mutability: columns can be inserted and deleted from DataFrame and\n",
      "    higher dimensional objects\n",
      "  - Automatic and explicit data alignment: objects can be explicitly aligned\n",
      "    to a set of labels, or the user can simply ignore the labels and let\n",
      "    `Series`, `DataFrame`, etc. automatically align the data for you in\n",
      "    computations.\n",
      "  - Powerful, flexible group by functionality to perform split-apply-combine\n",
      "    operations on data sets, for both aggregating and transforming data.\n",
      "  - Make it easy to convert ragged, differently-indexed data in other Python\n",
      "    and NumPy data structures into DataFrame objects.\n",
      "  - Intelligent label-based slicing, fancy indexing, and subsetting of large\n",
      "    data sets.\n",
      "  - Intuitive merging and joining data sets.\n",
      "  - Flexible reshaping and pivoting of data sets.\n",
      "  - Hierarchical labeling of axes (possible to have multiple labels per tick).\n",
      "  - Robust IO tools for loading data from flat files (CSV and delimited),\n",
      "    Excel files, databases, and saving/loading data from the ultrafast HDF5\n",
      "    format.\n",
      "  - Time series-specific functionality: date range generation and frequency\n",
      "    conversion, moving window statistics, date shifting and lagging.\n",
      "\n"
     ]
    }
   ],
   "source": [
    "#documentation\n",
    "print(pd.__doc__)"
   ]
  },
  {
   "cell_type": "markdown",
   "id": "01a78ef1",
   "metadata": {},
   "source": [
    "## **Series**\n",
    " - A Series is a one-dimensional labeled array in Pandas that can hold data of any type (integers, strings, floats, etc.). \n",
    " - It is like a single column in a table with labels (index) for each value.\n",
    " - One-dimensional – Stores data in a single column form with an index.\n",
    " - Indexed – Each value has a label (index) for easy access.\n",
    " - Flexible Data Types – Can hold integers, floats, strings, or even mixed data types."
   ]
  },
  {
   "cell_type": "code",
   "execution_count": 8,
   "id": "b5ec9273",
   "metadata": {},
   "outputs": [
    {
     "data": {
      "text/plain": [
       "0    20\n",
       "1    25\n",
       "2    30\n",
       "3    41\n",
       "4    12\n",
       "5    10\n",
       "6    15\n",
       "7    60\n",
       "dtype: int64"
      ]
     },
     "execution_count": 8,
     "metadata": {},
     "output_type": "execute_result"
    }
   ],
   "source": [
    "age =[20,25,30,41,12,10,15,60]\n",
    "series =pd.Series(age)\n",
    "series"
   ]
  },
  {
   "cell_type": "code",
   "execution_count": 9,
   "id": "15313c9a",
   "metadata": {},
   "outputs": [
    {
     "data": {
      "text/plain": [
       "a    20\n",
       "b    25\n",
       "c    30\n",
       "d    41\n",
       "e    12\n",
       "f    10\n",
       "g    15\n",
       "h    60\n",
       "Name: Series, dtype: int64"
      ]
     },
     "execution_count": 9,
     "metadata": {},
     "output_type": "execute_result"
    }
   ],
   "source": [
    "age =[20,25,30,41,12,10,15,60]\n",
    "index= ['a','b','c','d','e','f','g','h']\n",
    "\n",
    "series =pd.Series(data=age, index=index,name='Series')\n",
    "series"
   ]
  },
  {
   "cell_type": "markdown",
   "id": "498d5b87",
   "metadata": {},
   "source": [
    " ## **DataFrame**\n",
    " - A DataFrame in Pandas is a two-dimensional, size-mutable, and labeled data structure that holds data in rows and columns, similar to an Excel sheet or SQL table.\n",
    " - Two-dimensional – Data is stored in rows and columns.\n",
    " - Labeled Axes – Has row indices and column names for easy access.\n",
    " - Heterogeneous Data – Each column can hold a different data type.\n"
   ]
  },
  {
   "cell_type": "code",
   "execution_count": 10,
   "id": "5ce077c1",
   "metadata": {},
   "outputs": [],
   "source": [
    "data = {\n",
    "    'Name': ['Alice', 'Bob', 'Charlie', 'David', 'Eva', 'Frank', 'Grace', 'Hannah', 'Ivan', 'Jack', 'Ivan', 'Jack', 'Grace', 'Hannah'],  \n",
    "    'Age': [45, 58, 60, 28, 49, 67, None, 60, 37, 31, 37, 31, 29, 60],  \n",
    "    'City': ['New York', 'London', 'Tokyo', 'Paris', 'Berlin', 'Paris', 'Berlin', 'New York', 'Tokyo', 'London', 'Tokyo', 'London', 'Berlin', 'New York'],  \n",
    "    'Salary': [95445, 86235, 62330, 46022, 65999, 88320, 57141, 65413, 87016, 58725, 87016, 58725, 57141, None],  \n",
    "    'Date': ['2023-01-01', '2023-01-02', '2023-01-03', '2023-01-04', '2023-01-05', '2023-01-06', '2023-01-07', '2023-01-08', '2023-01-09', '2023-01-10', '2023-01-09', '2023-01-10', '2023-01-07', '2023-01-08'],  \n",
    "    'Category': ['A', 'B', 'C', 'A', 'B', 'A', 'C', 'B', 'A', 'B', 'A', 'B', None, 'B']  \n",
    "}"
   ]
  },
  {
   "cell_type": "code",
   "execution_count": 11,
   "id": "318e82b5",
   "metadata": {},
   "outputs": [
    {
     "name": "stdout",
     "output_type": "stream",
     "text": [
      "\n",
      "Two-dimensional, size-mutable, potentially heterogeneous tabular data.\n",
      "\n",
      "Data structure also contains labeled axes (rows and columns).\n",
      "Arithmetic operations align on both row and column labels. Can be\n",
      "thought of as a dict-like container for Series objects. The primary\n",
      "pandas data structure.\n",
      "\n",
      "Parameters\n",
      "----------\n",
      "data : ndarray (structured or homogeneous), Iterable, dict, or DataFrame\n",
      "    Dict can contain Series, arrays, constants, dataclass or list-like objects. If\n",
      "    data is a dict, column order follows insertion-order. If a dict contains Series\n",
      "    which have an index defined, it is aligned by its index. This alignment also\n",
      "    occurs if data is a Series or a DataFrame itself. Alignment is done on\n",
      "    Series/DataFrame inputs.\n",
      "\n",
      "    If data is a list of dicts, column order follows insertion-order.\n",
      "\n",
      "index : Index or array-like\n",
      "    Index to use for resulting frame. Will default to RangeIndex if\n",
      "    no indexing information part of input data and no index provided.\n",
      "columns : Index or array-like\n",
      "    Column labels to use for resulting frame when data does not have them,\n",
      "    defaulting to RangeIndex(0, 1, 2, ..., n). If data contains column labels,\n",
      "    will perform column selection instead.\n",
      "dtype : dtype, default None\n",
      "    Data type to force. Only a single dtype is allowed. If None, infer.\n",
      "copy : bool or None, default None\n",
      "    Copy data from inputs.\n",
      "    For dict data, the default of None behaves like ``copy=True``.  For DataFrame\n",
      "    or 2d ndarray input, the default of None behaves like ``copy=False``.\n",
      "    If data is a dict containing one or more Series (possibly of different dtypes),\n",
      "    ``copy=False`` will ensure that these inputs are not copied.\n",
      "\n",
      "    .. versionchanged:: 1.3.0\n",
      "\n",
      "See Also\n",
      "--------\n",
      "DataFrame.from_records : Constructor from tuples, also record arrays.\n",
      "DataFrame.from_dict : From dicts of Series, arrays, or dicts.\n",
      "read_csv : Read a comma-separated values (csv) file into DataFrame.\n",
      "read_table : Read general delimited file into DataFrame.\n",
      "read_clipboard : Read text from clipboard into DataFrame.\n",
      "\n",
      "Notes\n",
      "-----\n",
      "Please reference the :ref:`User Guide <basics.dataframe>` for more information.\n",
      "\n",
      "Examples\n",
      "--------\n",
      "Constructing DataFrame from a dictionary.\n",
      "\n",
      ">>> d = {'col1': [1, 2], 'col2': [3, 4]}\n",
      ">>> df = pd.DataFrame(data=d)\n",
      ">>> df\n",
      "   col1  col2\n",
      "0     1     3\n",
      "1     2     4\n",
      "\n",
      "Notice that the inferred dtype is int64.\n",
      "\n",
      ">>> df.dtypes\n",
      "col1    int64\n",
      "col2    int64\n",
      "dtype: object\n",
      "\n",
      "To enforce a single dtype:\n",
      "\n",
      ">>> df = pd.DataFrame(data=d, dtype=np.int8)\n",
      ">>> df.dtypes\n",
      "col1    int8\n",
      "col2    int8\n",
      "dtype: object\n",
      "\n",
      "Constructing DataFrame from a dictionary including Series:\n",
      "\n",
      ">>> d = {'col1': [0, 1, 2, 3], 'col2': pd.Series([2, 3], index=[2, 3])}\n",
      ">>> pd.DataFrame(data=d, index=[0, 1, 2, 3])\n",
      "   col1  col2\n",
      "0     0   NaN\n",
      "1     1   NaN\n",
      "2     2   2.0\n",
      "3     3   3.0\n",
      "\n",
      "Constructing DataFrame from numpy ndarray:\n",
      "\n",
      ">>> df2 = pd.DataFrame(np.array([[1, 2, 3], [4, 5, 6], [7, 8, 9]]),\n",
      "...                    columns=['a', 'b', 'c'])\n",
      ">>> df2\n",
      "   a  b  c\n",
      "0  1  2  3\n",
      "1  4  5  6\n",
      "2  7  8  9\n",
      "\n",
      "Constructing DataFrame from a numpy ndarray that has labeled columns:\n",
      "\n",
      ">>> data = np.array([(1, 2, 3), (4, 5, 6), (7, 8, 9)],\n",
      "...                 dtype=[(\"a\", \"i4\"), (\"b\", \"i4\"), (\"c\", \"i4\")])\n",
      ">>> df3 = pd.DataFrame(data, columns=['c', 'a'])\n",
      "...\n",
      ">>> df3\n",
      "   c  a\n",
      "0  3  1\n",
      "1  6  4\n",
      "2  9  7\n",
      "\n",
      "Constructing DataFrame from dataclass:\n",
      "\n",
      ">>> from dataclasses import make_dataclass\n",
      ">>> Point = make_dataclass(\"Point\", [(\"x\", int), (\"y\", int)])\n",
      ">>> pd.DataFrame([Point(0, 0), Point(0, 3), Point(2, 3)])\n",
      "   x  y\n",
      "0  0  0\n",
      "1  0  3\n",
      "2  2  3\n",
      "\n",
      "Constructing DataFrame from Series/DataFrame:\n",
      "\n",
      ">>> ser = pd.Series([1, 2, 3], index=[\"a\", \"b\", \"c\"])\n",
      ">>> df = pd.DataFrame(data=ser, index=[\"a\", \"c\"])\n",
      ">>> df\n",
      "   0\n",
      "a  1\n",
      "c  3\n",
      "\n",
      ">>> df1 = pd.DataFrame([1, 2, 3], index=[\"a\", \"b\", \"c\"], columns=[\"x\"])\n",
      ">>> df2 = pd.DataFrame(data=df1, index=[\"a\", \"c\"])\n",
      ">>> df2\n",
      "   x\n",
      "a  1\n",
      "c  3\n",
      "\n"
     ]
    }
   ],
   "source": [
    "print(pd.DataFrame.__doc__)"
   ]
  },
  {
   "cell_type": "code",
   "execution_count": 12,
   "id": "91cf6b03",
   "metadata": {},
   "outputs": [
    {
     "data": {
      "text/html": [
       "<div>\n",
       "<style scoped>\n",
       "    .dataframe tbody tr th:only-of-type {\n",
       "        vertical-align: middle;\n",
       "    }\n",
       "\n",
       "    .dataframe tbody tr th {\n",
       "        vertical-align: top;\n",
       "    }\n",
       "\n",
       "    .dataframe thead th {\n",
       "        text-align: right;\n",
       "    }\n",
       "</style>\n",
       "<table border=\"1\" class=\"dataframe\">\n",
       "  <thead>\n",
       "    <tr style=\"text-align: right;\">\n",
       "      <th></th>\n",
       "      <th>Name</th>\n",
       "      <th>Age</th>\n",
       "      <th>City</th>\n",
       "      <th>Salary</th>\n",
       "      <th>Date</th>\n",
       "      <th>Category</th>\n",
       "    </tr>\n",
       "  </thead>\n",
       "  <tbody>\n",
       "    <tr>\n",
       "      <th>0</th>\n",
       "      <td>Alice</td>\n",
       "      <td>45.0</td>\n",
       "      <td>New York</td>\n",
       "      <td>95445.0</td>\n",
       "      <td>2023-01-01</td>\n",
       "      <td>A</td>\n",
       "    </tr>\n",
       "    <tr>\n",
       "      <th>1</th>\n",
       "      <td>Bob</td>\n",
       "      <td>58.0</td>\n",
       "      <td>London</td>\n",
       "      <td>86235.0</td>\n",
       "      <td>2023-01-02</td>\n",
       "      <td>B</td>\n",
       "    </tr>\n",
       "    <tr>\n",
       "      <th>2</th>\n",
       "      <td>Charlie</td>\n",
       "      <td>60.0</td>\n",
       "      <td>Tokyo</td>\n",
       "      <td>62330.0</td>\n",
       "      <td>2023-01-03</td>\n",
       "      <td>C</td>\n",
       "    </tr>\n",
       "    <tr>\n",
       "      <th>3</th>\n",
       "      <td>David</td>\n",
       "      <td>28.0</td>\n",
       "      <td>Paris</td>\n",
       "      <td>46022.0</td>\n",
       "      <td>2023-01-04</td>\n",
       "      <td>A</td>\n",
       "    </tr>\n",
       "    <tr>\n",
       "      <th>4</th>\n",
       "      <td>Eva</td>\n",
       "      <td>49.0</td>\n",
       "      <td>Berlin</td>\n",
       "      <td>65999.0</td>\n",
       "      <td>2023-01-05</td>\n",
       "      <td>B</td>\n",
       "    </tr>\n",
       "    <tr>\n",
       "      <th>5</th>\n",
       "      <td>Frank</td>\n",
       "      <td>67.0</td>\n",
       "      <td>Paris</td>\n",
       "      <td>88320.0</td>\n",
       "      <td>2023-01-06</td>\n",
       "      <td>A</td>\n",
       "    </tr>\n",
       "    <tr>\n",
       "      <th>6</th>\n",
       "      <td>Grace</td>\n",
       "      <td>NaN</td>\n",
       "      <td>Berlin</td>\n",
       "      <td>57141.0</td>\n",
       "      <td>2023-01-07</td>\n",
       "      <td>C</td>\n",
       "    </tr>\n",
       "    <tr>\n",
       "      <th>7</th>\n",
       "      <td>Hannah</td>\n",
       "      <td>60.0</td>\n",
       "      <td>New York</td>\n",
       "      <td>65413.0</td>\n",
       "      <td>2023-01-08</td>\n",
       "      <td>B</td>\n",
       "    </tr>\n",
       "    <tr>\n",
       "      <th>8</th>\n",
       "      <td>Ivan</td>\n",
       "      <td>37.0</td>\n",
       "      <td>Tokyo</td>\n",
       "      <td>87016.0</td>\n",
       "      <td>2023-01-09</td>\n",
       "      <td>A</td>\n",
       "    </tr>\n",
       "    <tr>\n",
       "      <th>9</th>\n",
       "      <td>Jack</td>\n",
       "      <td>31.0</td>\n",
       "      <td>London</td>\n",
       "      <td>58725.0</td>\n",
       "      <td>2023-01-10</td>\n",
       "      <td>B</td>\n",
       "    </tr>\n",
       "    <tr>\n",
       "      <th>10</th>\n",
       "      <td>Ivan</td>\n",
       "      <td>37.0</td>\n",
       "      <td>Tokyo</td>\n",
       "      <td>87016.0</td>\n",
       "      <td>2023-01-09</td>\n",
       "      <td>A</td>\n",
       "    </tr>\n",
       "    <tr>\n",
       "      <th>11</th>\n",
       "      <td>Jack</td>\n",
       "      <td>31.0</td>\n",
       "      <td>London</td>\n",
       "      <td>58725.0</td>\n",
       "      <td>2023-01-10</td>\n",
       "      <td>B</td>\n",
       "    </tr>\n",
       "    <tr>\n",
       "      <th>12</th>\n",
       "      <td>Grace</td>\n",
       "      <td>29.0</td>\n",
       "      <td>Berlin</td>\n",
       "      <td>57141.0</td>\n",
       "      <td>2023-01-07</td>\n",
       "      <td>None</td>\n",
       "    </tr>\n",
       "    <tr>\n",
       "      <th>13</th>\n",
       "      <td>Hannah</td>\n",
       "      <td>60.0</td>\n",
       "      <td>New York</td>\n",
       "      <td>NaN</td>\n",
       "      <td>2023-01-08</td>\n",
       "      <td>B</td>\n",
       "    </tr>\n",
       "  </tbody>\n",
       "</table>\n",
       "</div>"
      ],
      "text/plain": [
       "       Name   Age      City   Salary        Date Category\n",
       "0     Alice  45.0  New York  95445.0  2023-01-01        A\n",
       "1       Bob  58.0    London  86235.0  2023-01-02        B\n",
       "2   Charlie  60.0     Tokyo  62330.0  2023-01-03        C\n",
       "3     David  28.0     Paris  46022.0  2023-01-04        A\n",
       "4       Eva  49.0    Berlin  65999.0  2023-01-05        B\n",
       "5     Frank  67.0     Paris  88320.0  2023-01-06        A\n",
       "6     Grace   NaN    Berlin  57141.0  2023-01-07        C\n",
       "7    Hannah  60.0  New York  65413.0  2023-01-08        B\n",
       "8      Ivan  37.0     Tokyo  87016.0  2023-01-09        A\n",
       "9      Jack  31.0    London  58725.0  2023-01-10        B\n",
       "10     Ivan  37.0     Tokyo  87016.0  2023-01-09        A\n",
       "11     Jack  31.0    London  58725.0  2023-01-10        B\n",
       "12    Grace  29.0    Berlin  57141.0  2023-01-07     None\n",
       "13   Hannah  60.0  New York      NaN  2023-01-08        B"
      ]
     },
     "execution_count": 12,
     "metadata": {},
     "output_type": "execute_result"
    }
   ],
   "source": [
    "df=pd.DataFrame(data=data)\n",
    "df"
   ]
  },
  {
   "cell_type": "markdown",
   "id": "1544f8d2",
   "metadata": {},
   "source": [
    "## **Data ingestion**\n",
    "\n",
    "Data ingestion is the process of collecting and importing data from various sources into a storage or processing system for analysis.\n",
    "\n",
    "\n",
    "Sources – Can include databases, APIs, files (CSV, Excel, JSON), streaming data, or sensors.\n",
    "\n",
    "Types – Batch ingestion (large chunks at intervals) or real-time ingestion (continuous flow).\n",
    "\n",
    "Goal – Ensure data is available, accessible, and in the right format for processing and analysis."
   ]
  },
  {
   "cell_type": "code",
   "execution_count": 13,
   "id": "87293b34",
   "metadata": {},
   "outputs": [],
   "source": [
    "# df1 = pd.read_csv(r'data.csv')\n",
    "# df2= pd.read_excel(r'data.xlsx',sheet_name='sheet1')\n",
    "#df3 = pd.read_json(r'data.json')\n",
    "#df4 = pd.read_sql(r'sql=)"
   ]
  },
  {
   "cell_type": "markdown",
   "id": "d10877ca",
   "metadata": {},
   "source": [
    "## **Data Store**\n",
    "Data Store refers to any repository where data is collected, stored, and managed so it can be retrieved and used later.\n",
    "\n",
    "Types – Databases (SQL, NoSQL), data warehouses, data lakes, key-value stores, and file systems.\n",
    "\n",
    "Purpose – Preserve data for operational use, analytics, backups, or long-term archiving.\n",
    "\n",
    "Examples – MySQL, MongoDB, Amazon S3, Google BigQuery, Hadoop HDFS.\n"
   ]
  },
  {
   "cell_type": "code",
   "execution_count": 14,
   "id": "496f0eb0",
   "metadata": {},
   "outputs": [],
   "source": [
    "# to store data in csv format\n",
    "df.to_csv(r'C:/Users/Pratiksha/Downloads/data.csv',index=False) \n",
    "\n",
    "# to store data in excel format\n",
    "df.to_excel(r'C:/Users/Pratiksha/Downloads/data.xlsx',index=False,sheet_name='Data') \n",
    "\n",
    "# to store data in json format\n",
    "df.to_json(r'C:/Users/Pratiksha/Downloads/data.json',index=False,orient='records',indent=4)  \n"
   ]
  },
  {
   "cell_type": "code",
   "execution_count": 15,
   "id": "cc1f381e",
   "metadata": {},
   "outputs": [],
   "source": [
    "#pip install openpyxl for excel file reader"
   ]
  },
  {
   "cell_type": "markdown",
   "id": "f19ee9f5",
   "metadata": {},
   "source": [
    "## **Data Extraction**\n",
    "- Data Extraction is the process of retrieving specific data from various sources such as databases, files, APIs, or websites for further processing or analysis.\n",
    "\n",
    "- Source Variety – Can be from structured (databases), semi-structured (XML, JSON), or unstructured (text, images) sources.\n",
    "\n",
    "- Purpose – Usually done to prepare data for analysis, reporting, or migration.\n",
    "\n",
    "- Techniques – Includes manual extraction, automated scripts, and ETL (Extract, Transform, Load) tools.\n"
   ]
  },
  {
   "cell_type": "code",
   "execution_count": 16,
   "id": "b8f7dbb0",
   "metadata": {},
   "outputs": [
    {
     "data": {
      "text/html": [
       "<div>\n",
       "<style scoped>\n",
       "    .dataframe tbody tr th:only-of-type {\n",
       "        vertical-align: middle;\n",
       "    }\n",
       "\n",
       "    .dataframe tbody tr th {\n",
       "        vertical-align: top;\n",
       "    }\n",
       "\n",
       "    .dataframe thead th {\n",
       "        text-align: right;\n",
       "    }\n",
       "</style>\n",
       "<table border=\"1\" class=\"dataframe\">\n",
       "  <thead>\n",
       "    <tr style=\"text-align: right;\">\n",
       "      <th></th>\n",
       "      <th>Name</th>\n",
       "      <th>Age</th>\n",
       "      <th>City</th>\n",
       "      <th>Salary</th>\n",
       "      <th>Date</th>\n",
       "      <th>Category</th>\n",
       "    </tr>\n",
       "  </thead>\n",
       "  <tbody>\n",
       "    <tr>\n",
       "      <th>0</th>\n",
       "      <td>Alice</td>\n",
       "      <td>45.0</td>\n",
       "      <td>New York</td>\n",
       "      <td>95445.0</td>\n",
       "      <td>2023-01-01</td>\n",
       "      <td>A</td>\n",
       "    </tr>\n",
       "    <tr>\n",
       "      <th>1</th>\n",
       "      <td>Bob</td>\n",
       "      <td>58.0</td>\n",
       "      <td>London</td>\n",
       "      <td>86235.0</td>\n",
       "      <td>2023-01-02</td>\n",
       "      <td>B</td>\n",
       "    </tr>\n",
       "    <tr>\n",
       "      <th>2</th>\n",
       "      <td>Charlie</td>\n",
       "      <td>60.0</td>\n",
       "      <td>Tokyo</td>\n",
       "      <td>62330.0</td>\n",
       "      <td>2023-01-03</td>\n",
       "      <td>C</td>\n",
       "    </tr>\n",
       "    <tr>\n",
       "      <th>3</th>\n",
       "      <td>David</td>\n",
       "      <td>28.0</td>\n",
       "      <td>Paris</td>\n",
       "      <td>46022.0</td>\n",
       "      <td>2023-01-04</td>\n",
       "      <td>A</td>\n",
       "    </tr>\n",
       "    <tr>\n",
       "      <th>4</th>\n",
       "      <td>Eva</td>\n",
       "      <td>49.0</td>\n",
       "      <td>Berlin</td>\n",
       "      <td>65999.0</td>\n",
       "      <td>2023-01-05</td>\n",
       "      <td>B</td>\n",
       "    </tr>\n",
       "  </tbody>\n",
       "</table>\n",
       "</div>"
      ],
      "text/plain": [
       "      Name   Age      City   Salary        Date Category\n",
       "0    Alice  45.0  New York  95445.0  2023-01-01        A\n",
       "1      Bob  58.0    London  86235.0  2023-01-02        B\n",
       "2  Charlie  60.0     Tokyo  62330.0  2023-01-03        C\n",
       "3    David  28.0     Paris  46022.0  2023-01-04        A\n",
       "4      Eva  49.0    Berlin  65999.0  2023-01-05        B"
      ]
     },
     "execution_count": 16,
     "metadata": {},
     "output_type": "execute_result"
    }
   ],
   "source": [
    "#default top5 rows\n",
    "df.head() "
   ]
  },
  {
   "cell_type": "code",
   "execution_count": 17,
   "id": "0af400f3",
   "metadata": {},
   "outputs": [
    {
     "data": {
      "text/html": [
       "<div>\n",
       "<style scoped>\n",
       "    .dataframe tbody tr th:only-of-type {\n",
       "        vertical-align: middle;\n",
       "    }\n",
       "\n",
       "    .dataframe tbody tr th {\n",
       "        vertical-align: top;\n",
       "    }\n",
       "\n",
       "    .dataframe thead th {\n",
       "        text-align: right;\n",
       "    }\n",
       "</style>\n",
       "<table border=\"1\" class=\"dataframe\">\n",
       "  <thead>\n",
       "    <tr style=\"text-align: right;\">\n",
       "      <th></th>\n",
       "      <th>Name</th>\n",
       "      <th>Age</th>\n",
       "      <th>City</th>\n",
       "      <th>Salary</th>\n",
       "      <th>Date</th>\n",
       "      <th>Category</th>\n",
       "    </tr>\n",
       "  </thead>\n",
       "  <tbody>\n",
       "    <tr>\n",
       "      <th>0</th>\n",
       "      <td>Alice</td>\n",
       "      <td>45.0</td>\n",
       "      <td>New York</td>\n",
       "      <td>95445.0</td>\n",
       "      <td>2023-01-01</td>\n",
       "      <td>A</td>\n",
       "    </tr>\n",
       "    <tr>\n",
       "      <th>1</th>\n",
       "      <td>Bob</td>\n",
       "      <td>58.0</td>\n",
       "      <td>London</td>\n",
       "      <td>86235.0</td>\n",
       "      <td>2023-01-02</td>\n",
       "      <td>B</td>\n",
       "    </tr>\n",
       "    <tr>\n",
       "      <th>2</th>\n",
       "      <td>Charlie</td>\n",
       "      <td>60.0</td>\n",
       "      <td>Tokyo</td>\n",
       "      <td>62330.0</td>\n",
       "      <td>2023-01-03</td>\n",
       "      <td>C</td>\n",
       "    </tr>\n",
       "    <tr>\n",
       "      <th>3</th>\n",
       "      <td>David</td>\n",
       "      <td>28.0</td>\n",
       "      <td>Paris</td>\n",
       "      <td>46022.0</td>\n",
       "      <td>2023-01-04</td>\n",
       "      <td>A</td>\n",
       "    </tr>\n",
       "    <tr>\n",
       "      <th>4</th>\n",
       "      <td>Eva</td>\n",
       "      <td>49.0</td>\n",
       "      <td>Berlin</td>\n",
       "      <td>65999.0</td>\n",
       "      <td>2023-01-05</td>\n",
       "      <td>B</td>\n",
       "    </tr>\n",
       "    <tr>\n",
       "      <th>5</th>\n",
       "      <td>Frank</td>\n",
       "      <td>67.0</td>\n",
       "      <td>Paris</td>\n",
       "      <td>88320.0</td>\n",
       "      <td>2023-01-06</td>\n",
       "      <td>A</td>\n",
       "    </tr>\n",
       "    <tr>\n",
       "      <th>6</th>\n",
       "      <td>Grace</td>\n",
       "      <td>NaN</td>\n",
       "      <td>Berlin</td>\n",
       "      <td>57141.0</td>\n",
       "      <td>2023-01-07</td>\n",
       "      <td>C</td>\n",
       "    </tr>\n",
       "    <tr>\n",
       "      <th>7</th>\n",
       "      <td>Hannah</td>\n",
       "      <td>60.0</td>\n",
       "      <td>New York</td>\n",
       "      <td>65413.0</td>\n",
       "      <td>2023-01-08</td>\n",
       "      <td>B</td>\n",
       "    </tr>\n",
       "    <tr>\n",
       "      <th>8</th>\n",
       "      <td>Ivan</td>\n",
       "      <td>37.0</td>\n",
       "      <td>Tokyo</td>\n",
       "      <td>87016.0</td>\n",
       "      <td>2023-01-09</td>\n",
       "      <td>A</td>\n",
       "    </tr>\n",
       "    <tr>\n",
       "      <th>9</th>\n",
       "      <td>Jack</td>\n",
       "      <td>31.0</td>\n",
       "      <td>London</td>\n",
       "      <td>58725.0</td>\n",
       "      <td>2023-01-10</td>\n",
       "      <td>B</td>\n",
       "    </tr>\n",
       "    <tr>\n",
       "      <th>10</th>\n",
       "      <td>Ivan</td>\n",
       "      <td>37.0</td>\n",
       "      <td>Tokyo</td>\n",
       "      <td>87016.0</td>\n",
       "      <td>2023-01-09</td>\n",
       "      <td>A</td>\n",
       "    </tr>\n",
       "    <tr>\n",
       "      <th>11</th>\n",
       "      <td>Jack</td>\n",
       "      <td>31.0</td>\n",
       "      <td>London</td>\n",
       "      <td>58725.0</td>\n",
       "      <td>2023-01-10</td>\n",
       "      <td>B</td>\n",
       "    </tr>\n",
       "    <tr>\n",
       "      <th>12</th>\n",
       "      <td>Grace</td>\n",
       "      <td>29.0</td>\n",
       "      <td>Berlin</td>\n",
       "      <td>57141.0</td>\n",
       "      <td>2023-01-07</td>\n",
       "      <td>None</td>\n",
       "    </tr>\n",
       "  </tbody>\n",
       "</table>\n",
       "</div>"
      ],
      "text/plain": [
       "       Name   Age      City   Salary        Date Category\n",
       "0     Alice  45.0  New York  95445.0  2023-01-01        A\n",
       "1       Bob  58.0    London  86235.0  2023-01-02        B\n",
       "2   Charlie  60.0     Tokyo  62330.0  2023-01-03        C\n",
       "3     David  28.0     Paris  46022.0  2023-01-04        A\n",
       "4       Eva  49.0    Berlin  65999.0  2023-01-05        B\n",
       "5     Frank  67.0     Paris  88320.0  2023-01-06        A\n",
       "6     Grace   NaN    Berlin  57141.0  2023-01-07        C\n",
       "7    Hannah  60.0  New York  65413.0  2023-01-08        B\n",
       "8      Ivan  37.0     Tokyo  87016.0  2023-01-09        A\n",
       "9      Jack  31.0    London  58725.0  2023-01-10        B\n",
       "10     Ivan  37.0     Tokyo  87016.0  2023-01-09        A\n",
       "11     Jack  31.0    London  58725.0  2023-01-10        B\n",
       "12    Grace  29.0    Berlin  57141.0  2023-01-07     None"
      ]
     },
     "execution_count": 17,
     "metadata": {},
     "output_type": "execute_result"
    }
   ],
   "source": [
    "#negative value inside paranthesis removes last rows from last\n",
    "df.head(-1) "
   ]
  },
  {
   "cell_type": "code",
   "execution_count": 18,
   "id": "1e7bbf17",
   "metadata": {},
   "outputs": [
    {
     "data": {
      "text/html": [
       "<div>\n",
       "<style scoped>\n",
       "    .dataframe tbody tr th:only-of-type {\n",
       "        vertical-align: middle;\n",
       "    }\n",
       "\n",
       "    .dataframe tbody tr th {\n",
       "        vertical-align: top;\n",
       "    }\n",
       "\n",
       "    .dataframe thead th {\n",
       "        text-align: right;\n",
       "    }\n",
       "</style>\n",
       "<table border=\"1\" class=\"dataframe\">\n",
       "  <thead>\n",
       "    <tr style=\"text-align: right;\">\n",
       "      <th></th>\n",
       "      <th>Name</th>\n",
       "      <th>Age</th>\n",
       "      <th>City</th>\n",
       "      <th>Salary</th>\n",
       "      <th>Date</th>\n",
       "      <th>Category</th>\n",
       "    </tr>\n",
       "  </thead>\n",
       "  <tbody>\n",
       "    <tr>\n",
       "      <th>9</th>\n",
       "      <td>Jack</td>\n",
       "      <td>31.0</td>\n",
       "      <td>London</td>\n",
       "      <td>58725.0</td>\n",
       "      <td>2023-01-10</td>\n",
       "      <td>B</td>\n",
       "    </tr>\n",
       "    <tr>\n",
       "      <th>10</th>\n",
       "      <td>Ivan</td>\n",
       "      <td>37.0</td>\n",
       "      <td>Tokyo</td>\n",
       "      <td>87016.0</td>\n",
       "      <td>2023-01-09</td>\n",
       "      <td>A</td>\n",
       "    </tr>\n",
       "    <tr>\n",
       "      <th>11</th>\n",
       "      <td>Jack</td>\n",
       "      <td>31.0</td>\n",
       "      <td>London</td>\n",
       "      <td>58725.0</td>\n",
       "      <td>2023-01-10</td>\n",
       "      <td>B</td>\n",
       "    </tr>\n",
       "    <tr>\n",
       "      <th>12</th>\n",
       "      <td>Grace</td>\n",
       "      <td>29.0</td>\n",
       "      <td>Berlin</td>\n",
       "      <td>57141.0</td>\n",
       "      <td>2023-01-07</td>\n",
       "      <td>None</td>\n",
       "    </tr>\n",
       "    <tr>\n",
       "      <th>13</th>\n",
       "      <td>Hannah</td>\n",
       "      <td>60.0</td>\n",
       "      <td>New York</td>\n",
       "      <td>NaN</td>\n",
       "      <td>2023-01-08</td>\n",
       "      <td>B</td>\n",
       "    </tr>\n",
       "  </tbody>\n",
       "</table>\n",
       "</div>"
      ],
      "text/plain": [
       "      Name   Age      City   Salary        Date Category\n",
       "9     Jack  31.0    London  58725.0  2023-01-10        B\n",
       "10    Ivan  37.0     Tokyo  87016.0  2023-01-09        A\n",
       "11    Jack  31.0    London  58725.0  2023-01-10        B\n",
       "12   Grace  29.0    Berlin  57141.0  2023-01-07     None\n",
       "13  Hannah  60.0  New York      NaN  2023-01-08        B"
      ]
     },
     "execution_count": 18,
     "metadata": {},
     "output_type": "execute_result"
    }
   ],
   "source": [
    "#bottom 5 rows\n",
    "df.tail()"
   ]
  },
  {
   "cell_type": "code",
   "execution_count": 19,
   "id": "cc4d80da",
   "metadata": {},
   "outputs": [
    {
     "data": {
      "text/plain": [
       "(14, 6)"
      ]
     },
     "execution_count": 19,
     "metadata": {},
     "output_type": "execute_result"
    }
   ],
   "source": [
    "#show dimensionality of the data\n",
    "df.shape"
   ]
  },
  {
   "cell_type": "code",
   "execution_count": 20,
   "id": "0a9f44b8",
   "metadata": {},
   "outputs": [
    {
     "data": {
      "text/plain": [
       "14"
      ]
     },
     "execution_count": 20,
     "metadata": {},
     "output_type": "execute_result"
    }
   ],
   "source": [
    "#to get only rows using index \n",
    "df.shape[0]"
   ]
  },
  {
   "cell_type": "code",
   "execution_count": 21,
   "id": "c613458b",
   "metadata": {},
   "outputs": [
    {
     "data": {
      "text/plain": [
       "6"
      ]
     },
     "execution_count": 21,
     "metadata": {},
     "output_type": "execute_result"
    }
   ],
   "source": [
    "#columns\n",
    "df.shape[1]"
   ]
  },
  {
   "cell_type": "code",
   "execution_count": 22,
   "id": "e249e679",
   "metadata": {},
   "outputs": [
    {
     "data": {
      "text/plain": [
       "84"
      ]
     },
     "execution_count": 22,
     "metadata": {},
     "output_type": "execute_result"
    }
   ],
   "source": [
    "#size of the database\n",
    "df.size"
   ]
  },
  {
   "cell_type": "markdown",
   "id": "8d518cfc",
   "metadata": {},
   "source": []
  },
  {
   "cell_type": "code",
   "execution_count": 23,
   "id": "32eb17ef",
   "metadata": {},
   "outputs": [
    {
     "data": {
      "text/plain": [
       "Name         object\n",
       "Age         float64\n",
       "City         object\n",
       "Salary      float64\n",
       "Date         object\n",
       "Category     object\n",
       "dtype: object"
      ]
     },
     "execution_count": 23,
     "metadata": {},
     "output_type": "execute_result"
    }
   ],
   "source": [
    "#datatypes of each column\n",
    "df.dtypes"
   ]
  },
  {
   "cell_type": "code",
   "execution_count": 24,
   "id": "17c35d8f",
   "metadata": {},
   "outputs": [
    {
     "data": {
      "text/plain": [
       "dtype('O')"
      ]
     },
     "execution_count": 24,
     "metadata": {},
     "output_type": "execute_result"
    }
   ],
   "source": [
    "df.Name.dtype"
   ]
  },
  {
   "cell_type": "code",
   "execution_count": 25,
   "id": "5c3a0579",
   "metadata": {},
   "outputs": [
    {
     "data": {
      "text/plain": [
       "0       Alice\n",
       "1         Bob\n",
       "2     Charlie\n",
       "3       David\n",
       "4         Eva\n",
       "5       Frank\n",
       "6       Grace\n",
       "7      Hannah\n",
       "8        Ivan\n",
       "9        Jack\n",
       "10       Ivan\n",
       "11       Jack\n",
       "12      Grace\n",
       "13     Hannah\n",
       "Name: Name, dtype: object"
      ]
     },
     "execution_count": 25,
     "metadata": {},
     "output_type": "execute_result"
    }
   ],
   "source": [
    "df.Name"
   ]
  },
  {
   "cell_type": "code",
   "execution_count": 26,
   "id": "f22eb297",
   "metadata": {},
   "outputs": [
    {
     "data": {
      "text/plain": [
       "0       Alice\n",
       "1         Bob\n",
       "2     Charlie\n",
       "3       David\n",
       "4         Eva\n",
       "5       Frank\n",
       "6       Grace\n",
       "7      Hannah\n",
       "8        Ivan\n",
       "9        Jack\n",
       "10       Ivan\n",
       "11       Jack\n",
       "12      Grace\n",
       "13     Hannah\n",
       "Name: Name, dtype: object"
      ]
     },
     "execution_count": 26,
     "metadata": {},
     "output_type": "execute_result"
    }
   ],
   "source": [
    "df['Name']"
   ]
  },
  {
   "cell_type": "code",
   "execution_count": 27,
   "id": "beb90219",
   "metadata": {},
   "outputs": [
    {
     "data": {
      "text/html": [
       "<div>\n",
       "<style scoped>\n",
       "    .dataframe tbody tr th:only-of-type {\n",
       "        vertical-align: middle;\n",
       "    }\n",
       "\n",
       "    .dataframe tbody tr th {\n",
       "        vertical-align: top;\n",
       "    }\n",
       "\n",
       "    .dataframe thead th {\n",
       "        text-align: right;\n",
       "    }\n",
       "</style>\n",
       "<table border=\"1\" class=\"dataframe\">\n",
       "  <thead>\n",
       "    <tr style=\"text-align: right;\">\n",
       "      <th></th>\n",
       "      <th>Name</th>\n",
       "    </tr>\n",
       "  </thead>\n",
       "  <tbody>\n",
       "    <tr>\n",
       "      <th>0</th>\n",
       "      <td>Alice</td>\n",
       "    </tr>\n",
       "    <tr>\n",
       "      <th>1</th>\n",
       "      <td>Bob</td>\n",
       "    </tr>\n",
       "    <tr>\n",
       "      <th>2</th>\n",
       "      <td>Charlie</td>\n",
       "    </tr>\n",
       "    <tr>\n",
       "      <th>3</th>\n",
       "      <td>David</td>\n",
       "    </tr>\n",
       "    <tr>\n",
       "      <th>4</th>\n",
       "      <td>Eva</td>\n",
       "    </tr>\n",
       "    <tr>\n",
       "      <th>5</th>\n",
       "      <td>Frank</td>\n",
       "    </tr>\n",
       "    <tr>\n",
       "      <th>6</th>\n",
       "      <td>Grace</td>\n",
       "    </tr>\n",
       "    <tr>\n",
       "      <th>7</th>\n",
       "      <td>Hannah</td>\n",
       "    </tr>\n",
       "    <tr>\n",
       "      <th>8</th>\n",
       "      <td>Ivan</td>\n",
       "    </tr>\n",
       "    <tr>\n",
       "      <th>9</th>\n",
       "      <td>Jack</td>\n",
       "    </tr>\n",
       "    <tr>\n",
       "      <th>10</th>\n",
       "      <td>Ivan</td>\n",
       "    </tr>\n",
       "    <tr>\n",
       "      <th>11</th>\n",
       "      <td>Jack</td>\n",
       "    </tr>\n",
       "    <tr>\n",
       "      <th>12</th>\n",
       "      <td>Grace</td>\n",
       "    </tr>\n",
       "    <tr>\n",
       "      <th>13</th>\n",
       "      <td>Hannah</td>\n",
       "    </tr>\n",
       "  </tbody>\n",
       "</table>\n",
       "</div>"
      ],
      "text/plain": [
       "       Name\n",
       "0     Alice\n",
       "1       Bob\n",
       "2   Charlie\n",
       "3     David\n",
       "4       Eva\n",
       "5     Frank\n",
       "6     Grace\n",
       "7    Hannah\n",
       "8      Ivan\n",
       "9      Jack\n",
       "10     Ivan\n",
       "11     Jack\n",
       "12    Grace\n",
       "13   Hannah"
      ]
     },
     "execution_count": 27,
     "metadata": {},
     "output_type": "execute_result"
    }
   ],
   "source": [
    "df[['Name']]"
   ]
  },
  {
   "cell_type": "code",
   "execution_count": 28,
   "id": "fb47e7f8",
   "metadata": {},
   "outputs": [
    {
     "data": {
      "text/html": [
       "<div>\n",
       "<style scoped>\n",
       "    .dataframe tbody tr th:only-of-type {\n",
       "        vertical-align: middle;\n",
       "    }\n",
       "\n",
       "    .dataframe tbody tr th {\n",
       "        vertical-align: top;\n",
       "    }\n",
       "\n",
       "    .dataframe thead th {\n",
       "        text-align: right;\n",
       "    }\n",
       "</style>\n",
       "<table border=\"1\" class=\"dataframe\">\n",
       "  <thead>\n",
       "    <tr style=\"text-align: right;\">\n",
       "      <th></th>\n",
       "      <th>Name</th>\n",
       "      <th>Age</th>\n",
       "    </tr>\n",
       "  </thead>\n",
       "  <tbody>\n",
       "    <tr>\n",
       "      <th>0</th>\n",
       "      <td>Alice</td>\n",
       "      <td>45.0</td>\n",
       "    </tr>\n",
       "    <tr>\n",
       "      <th>1</th>\n",
       "      <td>Bob</td>\n",
       "      <td>58.0</td>\n",
       "    </tr>\n",
       "    <tr>\n",
       "      <th>2</th>\n",
       "      <td>Charlie</td>\n",
       "      <td>60.0</td>\n",
       "    </tr>\n",
       "    <tr>\n",
       "      <th>3</th>\n",
       "      <td>David</td>\n",
       "      <td>28.0</td>\n",
       "    </tr>\n",
       "    <tr>\n",
       "      <th>4</th>\n",
       "      <td>Eva</td>\n",
       "      <td>49.0</td>\n",
       "    </tr>\n",
       "    <tr>\n",
       "      <th>5</th>\n",
       "      <td>Frank</td>\n",
       "      <td>67.0</td>\n",
       "    </tr>\n",
       "    <tr>\n",
       "      <th>6</th>\n",
       "      <td>Grace</td>\n",
       "      <td>NaN</td>\n",
       "    </tr>\n",
       "    <tr>\n",
       "      <th>7</th>\n",
       "      <td>Hannah</td>\n",
       "      <td>60.0</td>\n",
       "    </tr>\n",
       "    <tr>\n",
       "      <th>8</th>\n",
       "      <td>Ivan</td>\n",
       "      <td>37.0</td>\n",
       "    </tr>\n",
       "    <tr>\n",
       "      <th>9</th>\n",
       "      <td>Jack</td>\n",
       "      <td>31.0</td>\n",
       "    </tr>\n",
       "    <tr>\n",
       "      <th>10</th>\n",
       "      <td>Ivan</td>\n",
       "      <td>37.0</td>\n",
       "    </tr>\n",
       "    <tr>\n",
       "      <th>11</th>\n",
       "      <td>Jack</td>\n",
       "      <td>31.0</td>\n",
       "    </tr>\n",
       "    <tr>\n",
       "      <th>12</th>\n",
       "      <td>Grace</td>\n",
       "      <td>29.0</td>\n",
       "    </tr>\n",
       "    <tr>\n",
       "      <th>13</th>\n",
       "      <td>Hannah</td>\n",
       "      <td>60.0</td>\n",
       "    </tr>\n",
       "  </tbody>\n",
       "</table>\n",
       "</div>"
      ],
      "text/plain": [
       "       Name   Age\n",
       "0     Alice  45.0\n",
       "1       Bob  58.0\n",
       "2   Charlie  60.0\n",
       "3     David  28.0\n",
       "4       Eva  49.0\n",
       "5     Frank  67.0\n",
       "6     Grace   NaN\n",
       "7    Hannah  60.0\n",
       "8      Ivan  37.0\n",
       "9      Jack  31.0\n",
       "10     Ivan  37.0\n",
       "11     Jack  31.0\n",
       "12    Grace  29.0\n",
       "13   Hannah  60.0"
      ]
     },
     "execution_count": 28,
     "metadata": {},
     "output_type": "execute_result"
    }
   ],
   "source": [
    "df[['Name','Age']]"
   ]
  },
  {
   "cell_type": "code",
   "execution_count": 29,
   "id": "ebbcd915",
   "metadata": {},
   "outputs": [
    {
     "data": {
      "text/plain": [
       "Index(['Name', 'Age', 'City', 'Salary', 'Date', 'Category'], dtype='object')"
      ]
     },
     "execution_count": 29,
     "metadata": {},
     "output_type": "execute_result"
    }
   ],
   "source": [
    "#accessing all columns\n",
    "df.columns"
   ]
  },
  {
   "cell_type": "code",
   "execution_count": 30,
   "id": "42887cba",
   "metadata": {},
   "outputs": [
    {
     "data": {
      "text/plain": [
       "Index(['Name', 'Age', 'City', 'Salary', 'Date'], dtype='object')"
      ]
     },
     "execution_count": 30,
     "metadata": {},
     "output_type": "execute_result"
    }
   ],
   "source": [
    "#accessing specific columns\n",
    "df.columns[:5]"
   ]
  },
  {
   "cell_type": "code",
   "execution_count": 31,
   "id": "80e2735b",
   "metadata": {},
   "outputs": [
    {
     "data": {
      "text/plain": [
       "Index(['Salary', 'Date'], dtype='object')"
      ]
     },
     "execution_count": 31,
     "metadata": {},
     "output_type": "execute_result"
    }
   ],
   "source": [
    "df.columns[3:5]"
   ]
  },
  {
   "cell_type": "code",
   "execution_count": 32,
   "id": "7e87c8c9",
   "metadata": {},
   "outputs": [
    {
     "name": "stdout",
     "output_type": "stream",
     "text": [
      "<class 'pandas.core.frame.DataFrame'>\n",
      "RangeIndex: 14 entries, 0 to 13\n",
      "Data columns (total 6 columns):\n",
      " #   Column    Non-Null Count  Dtype  \n",
      "---  ------    --------------  -----  \n",
      " 0   Name      14 non-null     object \n",
      " 1   Age       13 non-null     float64\n",
      " 2   City      14 non-null     object \n",
      " 3   Salary    13 non-null     float64\n",
      " 4   Date      14 non-null     object \n",
      " 5   Category  13 non-null     object \n",
      "dtypes: float64(2), object(4)\n",
      "memory usage: 804.0+ bytes\n"
     ]
    }
   ],
   "source": [
    "# entire information about dataset\n",
    "df.info()"
   ]
  },
  {
   "cell_type": "code",
   "execution_count": 33,
   "id": "2d18f8e8",
   "metadata": {},
   "outputs": [
    {
     "name": "stdout",
     "output_type": "stream",
     "text": [
      "Name :['Alice' 'Bob' 'Charlie' 'David' 'Eva' 'Frank' 'Grace' 'Hannah' 'Ivan'\n",
      " 'Jack']\n",
      "Age :[45. 58. 60. 28. 49. 67. nan 37. 31. 29.]\n",
      "City :['New York' 'London' 'Tokyo' 'Paris' 'Berlin']\n",
      "Salary :[95445. 86235. 62330. 46022. 65999. 88320. 57141. 65413. 87016. 58725.\n",
      "    nan]\n",
      "Date :['2023-01-01' '2023-01-02' '2023-01-03' '2023-01-04' '2023-01-05'\n",
      " '2023-01-06' '2023-01-07' '2023-01-08' '2023-01-09' '2023-01-10']\n",
      "Category :['A' 'B' 'C' None]\n"
     ]
    }
   ],
   "source": [
    "for col in df.columns: # can be for one column\n",
    "    print(f\"{col} :{ df[col].unique()}\")"
   ]
  },
  {
   "cell_type": "code",
   "execution_count": 34,
   "id": "80ef66fe",
   "metadata": {},
   "outputs": [
    {
     "data": {
      "text/plain": [
       "Name        10\n",
       "Age          9\n",
       "City         5\n",
       "Salary      10\n",
       "Date        10\n",
       "Category     3\n",
       "dtype: int64"
      ]
     },
     "execution_count": 34,
     "metadata": {},
     "output_type": "execute_result"
    }
   ],
   "source": [
    "#sum of unique values\n",
    "df.nunique()"
   ]
  },
  {
   "cell_type": "code",
   "execution_count": 35,
   "id": "fb02e9f4",
   "metadata": {},
   "outputs": [
    {
     "data": {
      "text/plain": [
       "3     28.0\n",
       "12    29.0\n",
       "9     31.0\n",
       "11    31.0\n",
       "8     37.0\n",
       "Name: Age, dtype: float64"
      ]
     },
     "execution_count": 35,
     "metadata": {},
     "output_type": "execute_result"
    }
   ],
   "source": [
    "# give it in ascending order\n",
    "df.Age.nsmallest()"
   ]
  },
  {
   "cell_type": "code",
   "execution_count": 36,
   "id": "b5e3101a",
   "metadata": {},
   "outputs": [
    {
     "data": {
      "text/plain": [
       "5     67.0\n",
       "2     60.0\n",
       "7     60.0\n",
       "13    60.0\n",
       "1     58.0\n",
       "Name: Age, dtype: float64"
      ]
     },
     "execution_count": 36,
     "metadata": {},
     "output_type": "execute_result"
    }
   ],
   "source": [
    "#give it in descending order\n",
    "df.Age.nlargest()\n"
   ]
  },
  {
   "cell_type": "code",
   "execution_count": 37,
   "id": "5e9283a2",
   "metadata": {},
   "outputs": [
    {
     "data": {
      "text/html": [
       "<div>\n",
       "<style scoped>\n",
       "    .dataframe tbody tr th:only-of-type {\n",
       "        vertical-align: middle;\n",
       "    }\n",
       "\n",
       "    .dataframe tbody tr th {\n",
       "        vertical-align: top;\n",
       "    }\n",
       "\n",
       "    .dataframe thead th {\n",
       "        text-align: right;\n",
       "    }\n",
       "</style>\n",
       "<table border=\"1\" class=\"dataframe\">\n",
       "  <thead>\n",
       "    <tr style=\"text-align: right;\">\n",
       "      <th></th>\n",
       "      <th>Age</th>\n",
       "      <th>Salary</th>\n",
       "    </tr>\n",
       "  </thead>\n",
       "  <tbody>\n",
       "    <tr>\n",
       "      <th>count</th>\n",
       "      <td>13.000000</td>\n",
       "      <td>13.000000</td>\n",
       "    </tr>\n",
       "    <tr>\n",
       "      <th>mean</th>\n",
       "      <td>45.538462</td>\n",
       "      <td>70425.230769</td>\n",
       "    </tr>\n",
       "    <tr>\n",
       "      <th>std</th>\n",
       "      <td>14.157539</td>\n",
       "      <td>16018.646562</td>\n",
       "    </tr>\n",
       "    <tr>\n",
       "      <th>min</th>\n",
       "      <td>28.000000</td>\n",
       "      <td>46022.000000</td>\n",
       "    </tr>\n",
       "    <tr>\n",
       "      <th>25%</th>\n",
       "      <td>31.000000</td>\n",
       "      <td>58725.000000</td>\n",
       "    </tr>\n",
       "    <tr>\n",
       "      <th>50%</th>\n",
       "      <td>45.000000</td>\n",
       "      <td>65413.000000</td>\n",
       "    </tr>\n",
       "    <tr>\n",
       "      <th>75%</th>\n",
       "      <td>60.000000</td>\n",
       "      <td>87016.000000</td>\n",
       "    </tr>\n",
       "    <tr>\n",
       "      <th>max</th>\n",
       "      <td>67.000000</td>\n",
       "      <td>95445.000000</td>\n",
       "    </tr>\n",
       "  </tbody>\n",
       "</table>\n",
       "</div>"
      ],
      "text/plain": [
       "             Age        Salary\n",
       "count  13.000000     13.000000\n",
       "mean   45.538462  70425.230769\n",
       "std    14.157539  16018.646562\n",
       "min    28.000000  46022.000000\n",
       "25%    31.000000  58725.000000\n",
       "50%    45.000000  65413.000000\n",
       "75%    60.000000  87016.000000\n",
       "max    67.000000  95445.000000"
      ]
     },
     "execution_count": 37,
     "metadata": {},
     "output_type": "execute_result"
    }
   ],
   "source": [
    "# statistical description of the numerical data\n",
    "df.describe()"
   ]
  },
  {
   "cell_type": "code",
   "execution_count": 38,
   "id": "04e6d996",
   "metadata": {},
   "outputs": [
    {
     "data": {
      "text/html": [
       "<div>\n",
       "<style scoped>\n",
       "    .dataframe tbody tr th:only-of-type {\n",
       "        vertical-align: middle;\n",
       "    }\n",
       "\n",
       "    .dataframe tbody tr th {\n",
       "        vertical-align: top;\n",
       "    }\n",
       "\n",
       "    .dataframe thead th {\n",
       "        text-align: right;\n",
       "    }\n",
       "</style>\n",
       "<table border=\"1\" class=\"dataframe\">\n",
       "  <thead>\n",
       "    <tr style=\"text-align: right;\">\n",
       "      <th></th>\n",
       "      <th>count</th>\n",
       "      <th>unique</th>\n",
       "      <th>top</th>\n",
       "      <th>freq</th>\n",
       "    </tr>\n",
       "  </thead>\n",
       "  <tbody>\n",
       "    <tr>\n",
       "      <th>Name</th>\n",
       "      <td>14</td>\n",
       "      <td>10</td>\n",
       "      <td>Ivan</td>\n",
       "      <td>2</td>\n",
       "    </tr>\n",
       "    <tr>\n",
       "      <th>City</th>\n",
       "      <td>14</td>\n",
       "      <td>5</td>\n",
       "      <td>New York</td>\n",
       "      <td>3</td>\n",
       "    </tr>\n",
       "    <tr>\n",
       "      <th>Date</th>\n",
       "      <td>14</td>\n",
       "      <td>10</td>\n",
       "      <td>2023-01-09</td>\n",
       "      <td>2</td>\n",
       "    </tr>\n",
       "    <tr>\n",
       "      <th>Category</th>\n",
       "      <td>13</td>\n",
       "      <td>3</td>\n",
       "      <td>B</td>\n",
       "      <td>6</td>\n",
       "    </tr>\n",
       "  </tbody>\n",
       "</table>\n",
       "</div>"
      ],
      "text/plain": [
       "         count unique         top freq\n",
       "Name        14     10        Ivan    2\n",
       "City        14      5    New York    3\n",
       "Date        14     10  2023-01-09    2\n",
       "Category    13      3           B    6"
      ]
     },
     "execution_count": 38,
     "metadata": {},
     "output_type": "execute_result"
    }
   ],
   "source": [
    "df.describe(include='object').T"
   ]
  },
  {
   "cell_type": "markdown",
   "id": "b216a60d",
   "metadata": {},
   "source": [
    "## **Indexing,Aceesing and Slicing**"
   ]
  },
  {
   "cell_type": "code",
   "execution_count": 39,
   "id": "9b6e9d5f",
   "metadata": {},
   "outputs": [
    {
     "data": {
      "text/html": [
       "<div>\n",
       "<style scoped>\n",
       "    .dataframe tbody tr th:only-of-type {\n",
       "        vertical-align: middle;\n",
       "    }\n",
       "\n",
       "    .dataframe tbody tr th {\n",
       "        vertical-align: top;\n",
       "    }\n",
       "\n",
       "    .dataframe thead th {\n",
       "        text-align: right;\n",
       "    }\n",
       "</style>\n",
       "<table border=\"1\" class=\"dataframe\">\n",
       "  <thead>\n",
       "    <tr style=\"text-align: right;\">\n",
       "      <th></th>\n",
       "      <th>Name</th>\n",
       "      <th>Age</th>\n",
       "      <th>City</th>\n",
       "      <th>Salary</th>\n",
       "    </tr>\n",
       "  </thead>\n",
       "  <tbody>\n",
       "    <tr>\n",
       "      <th>0</th>\n",
       "      <td>Alice</td>\n",
       "      <td>45.0</td>\n",
       "      <td>New York</td>\n",
       "      <td>95445.0</td>\n",
       "    </tr>\n",
       "    <tr>\n",
       "      <th>1</th>\n",
       "      <td>Bob</td>\n",
       "      <td>58.0</td>\n",
       "      <td>London</td>\n",
       "      <td>86235.0</td>\n",
       "    </tr>\n",
       "    <tr>\n",
       "      <th>2</th>\n",
       "      <td>Charlie</td>\n",
       "      <td>60.0</td>\n",
       "      <td>Tokyo</td>\n",
       "      <td>62330.0</td>\n",
       "    </tr>\n",
       "    <tr>\n",
       "      <th>3</th>\n",
       "      <td>David</td>\n",
       "      <td>28.0</td>\n",
       "      <td>Paris</td>\n",
       "      <td>46022.0</td>\n",
       "    </tr>\n",
       "    <tr>\n",
       "      <th>4</th>\n",
       "      <td>Eva</td>\n",
       "      <td>49.0</td>\n",
       "      <td>Berlin</td>\n",
       "      <td>65999.0</td>\n",
       "    </tr>\n",
       "    <tr>\n",
       "      <th>5</th>\n",
       "      <td>Frank</td>\n",
       "      <td>67.0</td>\n",
       "      <td>Paris</td>\n",
       "      <td>88320.0</td>\n",
       "    </tr>\n",
       "    <tr>\n",
       "      <th>6</th>\n",
       "      <td>Grace</td>\n",
       "      <td>NaN</td>\n",
       "      <td>Berlin</td>\n",
       "      <td>57141.0</td>\n",
       "    </tr>\n",
       "    <tr>\n",
       "      <th>7</th>\n",
       "      <td>Hannah</td>\n",
       "      <td>60.0</td>\n",
       "      <td>New York</td>\n",
       "      <td>65413.0</td>\n",
       "    </tr>\n",
       "    <tr>\n",
       "      <th>8</th>\n",
       "      <td>Ivan</td>\n",
       "      <td>37.0</td>\n",
       "      <td>Tokyo</td>\n",
       "      <td>87016.0</td>\n",
       "    </tr>\n",
       "    <tr>\n",
       "      <th>9</th>\n",
       "      <td>Jack</td>\n",
       "      <td>31.0</td>\n",
       "      <td>London</td>\n",
       "      <td>58725.0</td>\n",
       "    </tr>\n",
       "    <tr>\n",
       "      <th>10</th>\n",
       "      <td>Ivan</td>\n",
       "      <td>37.0</td>\n",
       "      <td>Tokyo</td>\n",
       "      <td>87016.0</td>\n",
       "    </tr>\n",
       "    <tr>\n",
       "      <th>11</th>\n",
       "      <td>Jack</td>\n",
       "      <td>31.0</td>\n",
       "      <td>London</td>\n",
       "      <td>58725.0</td>\n",
       "    </tr>\n",
       "    <tr>\n",
       "      <th>12</th>\n",
       "      <td>Grace</td>\n",
       "      <td>29.0</td>\n",
       "      <td>Berlin</td>\n",
       "      <td>57141.0</td>\n",
       "    </tr>\n",
       "    <tr>\n",
       "      <th>13</th>\n",
       "      <td>Hannah</td>\n",
       "      <td>60.0</td>\n",
       "      <td>New York</td>\n",
       "      <td>NaN</td>\n",
       "    </tr>\n",
       "  </tbody>\n",
       "</table>\n",
       "</div>"
      ],
      "text/plain": [
       "       Name   Age      City   Salary\n",
       "0     Alice  45.0  New York  95445.0\n",
       "1       Bob  58.0    London  86235.0\n",
       "2   Charlie  60.0     Tokyo  62330.0\n",
       "3     David  28.0     Paris  46022.0\n",
       "4       Eva  49.0    Berlin  65999.0\n",
       "5     Frank  67.0     Paris  88320.0\n",
       "6     Grace   NaN    Berlin  57141.0\n",
       "7    Hannah  60.0  New York  65413.0\n",
       "8      Ivan  37.0     Tokyo  87016.0\n",
       "9      Jack  31.0    London  58725.0\n",
       "10     Ivan  37.0     Tokyo  87016.0\n",
       "11     Jack  31.0    London  58725.0\n",
       "12    Grace  29.0    Berlin  57141.0\n",
       "13   Hannah  60.0  New York      NaN"
      ]
     },
     "execution_count": 39,
     "metadata": {},
     "output_type": "execute_result"
    }
   ],
   "source": [
    "col=df.columns[:4]\n",
    "df[col]"
   ]
  },
  {
   "cell_type": "markdown",
   "id": "f9fb8335",
   "metadata": {},
   "source": [
    "**Slicing**"
   ]
  },
  {
   "cell_type": "code",
   "execution_count": 40,
   "id": "030f19b5",
   "metadata": {},
   "outputs": [
    {
     "data": {
      "text/html": [
       "<div>\n",
       "<style scoped>\n",
       "    .dataframe tbody tr th:only-of-type {\n",
       "        vertical-align: middle;\n",
       "    }\n",
       "\n",
       "    .dataframe tbody tr th {\n",
       "        vertical-align: top;\n",
       "    }\n",
       "\n",
       "    .dataframe thead th {\n",
       "        text-align: right;\n",
       "    }\n",
       "</style>\n",
       "<table border=\"1\" class=\"dataframe\">\n",
       "  <thead>\n",
       "    <tr style=\"text-align: right;\">\n",
       "      <th></th>\n",
       "      <th>Name</th>\n",
       "      <th>Age</th>\n",
       "      <th>City</th>\n",
       "      <th>Salary</th>\n",
       "      <th>Date</th>\n",
       "      <th>Category</th>\n",
       "    </tr>\n",
       "  </thead>\n",
       "  <tbody>\n",
       "    <tr>\n",
       "      <th>1</th>\n",
       "      <td>Bob</td>\n",
       "      <td>58.0</td>\n",
       "      <td>London</td>\n",
       "      <td>86235.0</td>\n",
       "      <td>2023-01-02</td>\n",
       "      <td>B</td>\n",
       "    </tr>\n",
       "    <tr>\n",
       "      <th>2</th>\n",
       "      <td>Charlie</td>\n",
       "      <td>60.0</td>\n",
       "      <td>Tokyo</td>\n",
       "      <td>62330.0</td>\n",
       "      <td>2023-01-03</td>\n",
       "      <td>C</td>\n",
       "    </tr>\n",
       "    <tr>\n",
       "      <th>3</th>\n",
       "      <td>David</td>\n",
       "      <td>28.0</td>\n",
       "      <td>Paris</td>\n",
       "      <td>46022.0</td>\n",
       "      <td>2023-01-04</td>\n",
       "      <td>A</td>\n",
       "    </tr>\n",
       "    <tr>\n",
       "      <th>4</th>\n",
       "      <td>Eva</td>\n",
       "      <td>49.0</td>\n",
       "      <td>Berlin</td>\n",
       "      <td>65999.0</td>\n",
       "      <td>2023-01-05</td>\n",
       "      <td>B</td>\n",
       "    </tr>\n",
       "    <tr>\n",
       "      <th>5</th>\n",
       "      <td>Frank</td>\n",
       "      <td>67.0</td>\n",
       "      <td>Paris</td>\n",
       "      <td>88320.0</td>\n",
       "      <td>2023-01-06</td>\n",
       "      <td>A</td>\n",
       "    </tr>\n",
       "    <tr>\n",
       "      <th>6</th>\n",
       "      <td>Grace</td>\n",
       "      <td>NaN</td>\n",
       "      <td>Berlin</td>\n",
       "      <td>57141.0</td>\n",
       "      <td>2023-01-07</td>\n",
       "      <td>C</td>\n",
       "    </tr>\n",
       "    <tr>\n",
       "      <th>7</th>\n",
       "      <td>Hannah</td>\n",
       "      <td>60.0</td>\n",
       "      <td>New York</td>\n",
       "      <td>65413.0</td>\n",
       "      <td>2023-01-08</td>\n",
       "      <td>B</td>\n",
       "    </tr>\n",
       "    <tr>\n",
       "      <th>8</th>\n",
       "      <td>Ivan</td>\n",
       "      <td>37.0</td>\n",
       "      <td>Tokyo</td>\n",
       "      <td>87016.0</td>\n",
       "      <td>2023-01-09</td>\n",
       "      <td>A</td>\n",
       "    </tr>\n",
       "    <tr>\n",
       "      <th>9</th>\n",
       "      <td>Jack</td>\n",
       "      <td>31.0</td>\n",
       "      <td>London</td>\n",
       "      <td>58725.0</td>\n",
       "      <td>2023-01-10</td>\n",
       "      <td>B</td>\n",
       "    </tr>\n",
       "  </tbody>\n",
       "</table>\n",
       "</div>"
      ],
      "text/plain": [
       "      Name   Age      City   Salary        Date Category\n",
       "1      Bob  58.0    London  86235.0  2023-01-02        B\n",
       "2  Charlie  60.0     Tokyo  62330.0  2023-01-03        C\n",
       "3    David  28.0     Paris  46022.0  2023-01-04        A\n",
       "4      Eva  49.0    Berlin  65999.0  2023-01-05        B\n",
       "5    Frank  67.0     Paris  88320.0  2023-01-06        A\n",
       "6    Grace   NaN    Berlin  57141.0  2023-01-07        C\n",
       "7   Hannah  60.0  New York  65413.0  2023-01-08        B\n",
       "8     Ivan  37.0     Tokyo  87016.0  2023-01-09        A\n",
       "9     Jack  31.0    London  58725.0  2023-01-10        B"
      ]
     },
     "execution_count": 40,
     "metadata": {},
     "output_type": "execute_result"
    }
   ],
   "source": [
    "df[1:10]"
   ]
  },
  {
   "cell_type": "code",
   "execution_count": 41,
   "id": "0af0f798",
   "metadata": {},
   "outputs": [
    {
     "data": {
      "text/html": [
       "<div>\n",
       "<style scoped>\n",
       "    .dataframe tbody tr th:only-of-type {\n",
       "        vertical-align: middle;\n",
       "    }\n",
       "\n",
       "    .dataframe tbody tr th {\n",
       "        vertical-align: top;\n",
       "    }\n",
       "\n",
       "    .dataframe thead th {\n",
       "        text-align: right;\n",
       "    }\n",
       "</style>\n",
       "<table border=\"1\" class=\"dataframe\">\n",
       "  <thead>\n",
       "    <tr style=\"text-align: right;\">\n",
       "      <th></th>\n",
       "      <th>Name</th>\n",
       "      <th>Age</th>\n",
       "      <th>City</th>\n",
       "      <th>Salary</th>\n",
       "      <th>Date</th>\n",
       "      <th>Category</th>\n",
       "    </tr>\n",
       "  </thead>\n",
       "  <tbody>\n",
       "    <tr>\n",
       "      <th>1</th>\n",
       "      <td>Bob</td>\n",
       "      <td>58.0</td>\n",
       "      <td>London</td>\n",
       "      <td>86235.0</td>\n",
       "      <td>2023-01-02</td>\n",
       "      <td>B</td>\n",
       "    </tr>\n",
       "    <tr>\n",
       "      <th>3</th>\n",
       "      <td>David</td>\n",
       "      <td>28.0</td>\n",
       "      <td>Paris</td>\n",
       "      <td>46022.0</td>\n",
       "      <td>2023-01-04</td>\n",
       "      <td>A</td>\n",
       "    </tr>\n",
       "    <tr>\n",
       "      <th>5</th>\n",
       "      <td>Frank</td>\n",
       "      <td>67.0</td>\n",
       "      <td>Paris</td>\n",
       "      <td>88320.0</td>\n",
       "      <td>2023-01-06</td>\n",
       "      <td>A</td>\n",
       "    </tr>\n",
       "    <tr>\n",
       "      <th>7</th>\n",
       "      <td>Hannah</td>\n",
       "      <td>60.0</td>\n",
       "      <td>New York</td>\n",
       "      <td>65413.0</td>\n",
       "      <td>2023-01-08</td>\n",
       "      <td>B</td>\n",
       "    </tr>\n",
       "    <tr>\n",
       "      <th>9</th>\n",
       "      <td>Jack</td>\n",
       "      <td>31.0</td>\n",
       "      <td>London</td>\n",
       "      <td>58725.0</td>\n",
       "      <td>2023-01-10</td>\n",
       "      <td>B</td>\n",
       "    </tr>\n",
       "  </tbody>\n",
       "</table>\n",
       "</div>"
      ],
      "text/plain": [
       "     Name   Age      City   Salary        Date Category\n",
       "1     Bob  58.0    London  86235.0  2023-01-02        B\n",
       "3   David  28.0     Paris  46022.0  2023-01-04        A\n",
       "5   Frank  67.0     Paris  88320.0  2023-01-06        A\n",
       "7  Hannah  60.0  New York  65413.0  2023-01-08        B\n",
       "9    Jack  31.0    London  58725.0  2023-01-10        B"
      ]
     },
     "execution_count": 41,
     "metadata": {},
     "output_type": "execute_result"
    }
   ],
   "source": [
    "df[1:10:2] #step of 2"
   ]
  },
  {
   "cell_type": "markdown",
   "id": "d31da18c",
   "metadata": {},
   "source": [
    "*loc categorical accesing*\n",
    "- there is no excluding"
   ]
  },
  {
   "cell_type": "code",
   "execution_count": 42,
   "id": "c394a15d",
   "metadata": {},
   "outputs": [
    {
     "data": {
      "text/plain": [
       "Name               Bob\n",
       "Age               58.0\n",
       "City            London\n",
       "Salary         86235.0\n",
       "Date        2023-01-02\n",
       "Category             B\n",
       "Name: 1, dtype: object"
      ]
     },
     "execution_count": 42,
     "metadata": {},
     "output_type": "execute_result"
    }
   ],
   "source": [
    "\n",
    "df.loc[1] # accessing row with index 1"
   ]
  },
  {
   "cell_type": "code",
   "execution_count": 43,
   "id": "82d0830a",
   "metadata": {},
   "outputs": [
    {
     "data": {
      "text/html": [
       "<div>\n",
       "<style scoped>\n",
       "    .dataframe tbody tr th:only-of-type {\n",
       "        vertical-align: middle;\n",
       "    }\n",
       "\n",
       "    .dataframe tbody tr th {\n",
       "        vertical-align: top;\n",
       "    }\n",
       "\n",
       "    .dataframe thead th {\n",
       "        text-align: right;\n",
       "    }\n",
       "</style>\n",
       "<table border=\"1\" class=\"dataframe\">\n",
       "  <thead>\n",
       "    <tr style=\"text-align: right;\">\n",
       "      <th></th>\n",
       "      <th>Name</th>\n",
       "      <th>Age</th>\n",
       "      <th>City</th>\n",
       "      <th>Salary</th>\n",
       "      <th>Date</th>\n",
       "      <th>Category</th>\n",
       "    </tr>\n",
       "  </thead>\n",
       "  <tbody>\n",
       "    <tr>\n",
       "      <th>1</th>\n",
       "      <td>Bob</td>\n",
       "      <td>58.0</td>\n",
       "      <td>London</td>\n",
       "      <td>86235.0</td>\n",
       "      <td>2023-01-02</td>\n",
       "      <td>B</td>\n",
       "    </tr>\n",
       "    <tr>\n",
       "      <th>2</th>\n",
       "      <td>Charlie</td>\n",
       "      <td>60.0</td>\n",
       "      <td>Tokyo</td>\n",
       "      <td>62330.0</td>\n",
       "      <td>2023-01-03</td>\n",
       "      <td>C</td>\n",
       "    </tr>\n",
       "    <tr>\n",
       "      <th>3</th>\n",
       "      <td>David</td>\n",
       "      <td>28.0</td>\n",
       "      <td>Paris</td>\n",
       "      <td>46022.0</td>\n",
       "      <td>2023-01-04</td>\n",
       "      <td>A</td>\n",
       "    </tr>\n",
       "    <tr>\n",
       "      <th>4</th>\n",
       "      <td>Eva</td>\n",
       "      <td>49.0</td>\n",
       "      <td>Berlin</td>\n",
       "      <td>65999.0</td>\n",
       "      <td>2023-01-05</td>\n",
       "      <td>B</td>\n",
       "    </tr>\n",
       "    <tr>\n",
       "      <th>5</th>\n",
       "      <td>Frank</td>\n",
       "      <td>67.0</td>\n",
       "      <td>Paris</td>\n",
       "      <td>88320.0</td>\n",
       "      <td>2023-01-06</td>\n",
       "      <td>A</td>\n",
       "    </tr>\n",
       "  </tbody>\n",
       "</table>\n",
       "</div>"
      ],
      "text/plain": [
       "      Name   Age    City   Salary        Date Category\n",
       "1      Bob  58.0  London  86235.0  2023-01-02        B\n",
       "2  Charlie  60.0   Tokyo  62330.0  2023-01-03        C\n",
       "3    David  28.0   Paris  46022.0  2023-01-04        A\n",
       "4      Eva  49.0  Berlin  65999.0  2023-01-05        B\n",
       "5    Frank  67.0   Paris  88320.0  2023-01-06        A"
      ]
     },
     "execution_count": 43,
     "metadata": {},
     "output_type": "execute_result"
    }
   ],
   "source": [
    "df.loc[1:5] #accessing rows with index 1 to 5"
   ]
  },
  {
   "cell_type": "code",
   "execution_count": 44,
   "id": "cdc8beb3",
   "metadata": {},
   "outputs": [
    {
     "data": {
      "text/html": [
       "<div>\n",
       "<style scoped>\n",
       "    .dataframe tbody tr th:only-of-type {\n",
       "        vertical-align: middle;\n",
       "    }\n",
       "\n",
       "    .dataframe tbody tr th {\n",
       "        vertical-align: top;\n",
       "    }\n",
       "\n",
       "    .dataframe thead th {\n",
       "        text-align: right;\n",
       "    }\n",
       "</style>\n",
       "<table border=\"1\" class=\"dataframe\">\n",
       "  <thead>\n",
       "    <tr style=\"text-align: right;\">\n",
       "      <th></th>\n",
       "      <th>Name</th>\n",
       "      <th>Age</th>\n",
       "      <th>City</th>\n",
       "      <th>Salary</th>\n",
       "    </tr>\n",
       "  </thead>\n",
       "  <tbody>\n",
       "    <tr>\n",
       "      <th>0</th>\n",
       "      <td>Alice</td>\n",
       "      <td>45.0</td>\n",
       "      <td>New York</td>\n",
       "      <td>95445.0</td>\n",
       "    </tr>\n",
       "    <tr>\n",
       "      <th>1</th>\n",
       "      <td>Bob</td>\n",
       "      <td>58.0</td>\n",
       "      <td>London</td>\n",
       "      <td>86235.0</td>\n",
       "    </tr>\n",
       "    <tr>\n",
       "      <th>2</th>\n",
       "      <td>Charlie</td>\n",
       "      <td>60.0</td>\n",
       "      <td>Tokyo</td>\n",
       "      <td>62330.0</td>\n",
       "    </tr>\n",
       "    <tr>\n",
       "      <th>3</th>\n",
       "      <td>David</td>\n",
       "      <td>28.0</td>\n",
       "      <td>Paris</td>\n",
       "      <td>46022.0</td>\n",
       "    </tr>\n",
       "    <tr>\n",
       "      <th>4</th>\n",
       "      <td>Eva</td>\n",
       "      <td>49.0</td>\n",
       "      <td>Berlin</td>\n",
       "      <td>65999.0</td>\n",
       "    </tr>\n",
       "    <tr>\n",
       "      <th>5</th>\n",
       "      <td>Frank</td>\n",
       "      <td>67.0</td>\n",
       "      <td>Paris</td>\n",
       "      <td>88320.0</td>\n",
       "    </tr>\n",
       "    <tr>\n",
       "      <th>6</th>\n",
       "      <td>Grace</td>\n",
       "      <td>NaN</td>\n",
       "      <td>Berlin</td>\n",
       "      <td>57141.0</td>\n",
       "    </tr>\n",
       "    <tr>\n",
       "      <th>7</th>\n",
       "      <td>Hannah</td>\n",
       "      <td>60.0</td>\n",
       "      <td>New York</td>\n",
       "      <td>65413.0</td>\n",
       "    </tr>\n",
       "    <tr>\n",
       "      <th>8</th>\n",
       "      <td>Ivan</td>\n",
       "      <td>37.0</td>\n",
       "      <td>Tokyo</td>\n",
       "      <td>87016.0</td>\n",
       "    </tr>\n",
       "    <tr>\n",
       "      <th>9</th>\n",
       "      <td>Jack</td>\n",
       "      <td>31.0</td>\n",
       "      <td>London</td>\n",
       "      <td>58725.0</td>\n",
       "    </tr>\n",
       "    <tr>\n",
       "      <th>10</th>\n",
       "      <td>Ivan</td>\n",
       "      <td>37.0</td>\n",
       "      <td>Tokyo</td>\n",
       "      <td>87016.0</td>\n",
       "    </tr>\n",
       "  </tbody>\n",
       "</table>\n",
       "</div>"
      ],
      "text/plain": [
       "       Name   Age      City   Salary\n",
       "0     Alice  45.0  New York  95445.0\n",
       "1       Bob  58.0    London  86235.0\n",
       "2   Charlie  60.0     Tokyo  62330.0\n",
       "3     David  28.0     Paris  46022.0\n",
       "4       Eva  49.0    Berlin  65999.0\n",
       "5     Frank  67.0     Paris  88320.0\n",
       "6     Grace   NaN    Berlin  57141.0\n",
       "7    Hannah  60.0  New York  65413.0\n",
       "8      Ivan  37.0     Tokyo  87016.0\n",
       "9      Jack  31.0    London  58725.0\n",
       "10     Ivan  37.0     Tokyo  87016.0"
      ]
     },
     "execution_count": 44,
     "metadata": {},
     "output_type": "execute_result"
    }
   ],
   "source": [
    "df.loc[:10,\"Name\":\"Salary\"] #accessing rows with index 0 to 10 and columns from Name to Salary"
   ]
  },
  {
   "cell_type": "markdown",
   "id": "2cc8c1e1",
   "metadata": {},
   "source": [
    "**Numerical accessing*\n",
    "- there will be exclude"
   ]
  },
  {
   "cell_type": "code",
   "execution_count": 45,
   "id": "ce26c50a",
   "metadata": {},
   "outputs": [
    {
     "data": {
      "text/html": [
       "<div>\n",
       "<style scoped>\n",
       "    .dataframe tbody tr th:only-of-type {\n",
       "        vertical-align: middle;\n",
       "    }\n",
       "\n",
       "    .dataframe tbody tr th {\n",
       "        vertical-align: top;\n",
       "    }\n",
       "\n",
       "    .dataframe thead th {\n",
       "        text-align: right;\n",
       "    }\n",
       "</style>\n",
       "<table border=\"1\" class=\"dataframe\">\n",
       "  <thead>\n",
       "    <tr style=\"text-align: right;\">\n",
       "      <th></th>\n",
       "      <th>Name</th>\n",
       "      <th>Age</th>\n",
       "      <th>City</th>\n",
       "      <th>Salary</th>\n",
       "      <th>Date</th>\n",
       "      <th>Category</th>\n",
       "    </tr>\n",
       "  </thead>\n",
       "  <tbody>\n",
       "    <tr>\n",
       "      <th>0</th>\n",
       "      <td>Alice</td>\n",
       "      <td>45.0</td>\n",
       "      <td>New York</td>\n",
       "      <td>95445.0</td>\n",
       "      <td>2023-01-01</td>\n",
       "      <td>A</td>\n",
       "    </tr>\n",
       "    <tr>\n",
       "      <th>1</th>\n",
       "      <td>Bob</td>\n",
       "      <td>58.0</td>\n",
       "      <td>London</td>\n",
       "      <td>86235.0</td>\n",
       "      <td>2023-01-02</td>\n",
       "      <td>B</td>\n",
       "    </tr>\n",
       "    <tr>\n",
       "      <th>2</th>\n",
       "      <td>Charlie</td>\n",
       "      <td>60.0</td>\n",
       "      <td>Tokyo</td>\n",
       "      <td>62330.0</td>\n",
       "      <td>2023-01-03</td>\n",
       "      <td>C</td>\n",
       "    </tr>\n",
       "    <tr>\n",
       "      <th>3</th>\n",
       "      <td>David</td>\n",
       "      <td>28.0</td>\n",
       "      <td>Paris</td>\n",
       "      <td>46022.0</td>\n",
       "      <td>2023-01-04</td>\n",
       "      <td>A</td>\n",
       "    </tr>\n",
       "    <tr>\n",
       "      <th>4</th>\n",
       "      <td>Eva</td>\n",
       "      <td>49.0</td>\n",
       "      <td>Berlin</td>\n",
       "      <td>65999.0</td>\n",
       "      <td>2023-01-05</td>\n",
       "      <td>B</td>\n",
       "    </tr>\n",
       "    <tr>\n",
       "      <th>5</th>\n",
       "      <td>Frank</td>\n",
       "      <td>67.0</td>\n",
       "      <td>Paris</td>\n",
       "      <td>88320.0</td>\n",
       "      <td>2023-01-06</td>\n",
       "      <td>A</td>\n",
       "    </tr>\n",
       "    <tr>\n",
       "      <th>6</th>\n",
       "      <td>Grace</td>\n",
       "      <td>NaN</td>\n",
       "      <td>Berlin</td>\n",
       "      <td>57141.0</td>\n",
       "      <td>2023-01-07</td>\n",
       "      <td>C</td>\n",
       "    </tr>\n",
       "    <tr>\n",
       "      <th>7</th>\n",
       "      <td>Hannah</td>\n",
       "      <td>60.0</td>\n",
       "      <td>New York</td>\n",
       "      <td>65413.0</td>\n",
       "      <td>2023-01-08</td>\n",
       "      <td>B</td>\n",
       "    </tr>\n",
       "    <tr>\n",
       "      <th>8</th>\n",
       "      <td>Ivan</td>\n",
       "      <td>37.0</td>\n",
       "      <td>Tokyo</td>\n",
       "      <td>87016.0</td>\n",
       "      <td>2023-01-09</td>\n",
       "      <td>A</td>\n",
       "    </tr>\n",
       "    <tr>\n",
       "      <th>9</th>\n",
       "      <td>Jack</td>\n",
       "      <td>31.0</td>\n",
       "      <td>London</td>\n",
       "      <td>58725.0</td>\n",
       "      <td>2023-01-10</td>\n",
       "      <td>B</td>\n",
       "    </tr>\n",
       "    <tr>\n",
       "      <th>10</th>\n",
       "      <td>Ivan</td>\n",
       "      <td>37.0</td>\n",
       "      <td>Tokyo</td>\n",
       "      <td>87016.0</td>\n",
       "      <td>2023-01-09</td>\n",
       "      <td>A</td>\n",
       "    </tr>\n",
       "    <tr>\n",
       "      <th>11</th>\n",
       "      <td>Jack</td>\n",
       "      <td>31.0</td>\n",
       "      <td>London</td>\n",
       "      <td>58725.0</td>\n",
       "      <td>2023-01-10</td>\n",
       "      <td>B</td>\n",
       "    </tr>\n",
       "    <tr>\n",
       "      <th>12</th>\n",
       "      <td>Grace</td>\n",
       "      <td>29.0</td>\n",
       "      <td>Berlin</td>\n",
       "      <td>57141.0</td>\n",
       "      <td>2023-01-07</td>\n",
       "      <td>None</td>\n",
       "    </tr>\n",
       "    <tr>\n",
       "      <th>13</th>\n",
       "      <td>Hannah</td>\n",
       "      <td>60.0</td>\n",
       "      <td>New York</td>\n",
       "      <td>NaN</td>\n",
       "      <td>2023-01-08</td>\n",
       "      <td>B</td>\n",
       "    </tr>\n",
       "  </tbody>\n",
       "</table>\n",
       "</div>"
      ],
      "text/plain": [
       "       Name   Age      City   Salary        Date Category\n",
       "0     Alice  45.0  New York  95445.0  2023-01-01        A\n",
       "1       Bob  58.0    London  86235.0  2023-01-02        B\n",
       "2   Charlie  60.0     Tokyo  62330.0  2023-01-03        C\n",
       "3     David  28.0     Paris  46022.0  2023-01-04        A\n",
       "4       Eva  49.0    Berlin  65999.0  2023-01-05        B\n",
       "5     Frank  67.0     Paris  88320.0  2023-01-06        A\n",
       "6     Grace   NaN    Berlin  57141.0  2023-01-07        C\n",
       "7    Hannah  60.0  New York  65413.0  2023-01-08        B\n",
       "8      Ivan  37.0     Tokyo  87016.0  2023-01-09        A\n",
       "9      Jack  31.0    London  58725.0  2023-01-10        B\n",
       "10     Ivan  37.0     Tokyo  87016.0  2023-01-09        A\n",
       "11     Jack  31.0    London  58725.0  2023-01-10        B\n",
       "12    Grace  29.0    Berlin  57141.0  2023-01-07     None\n",
       "13   Hannah  60.0  New York      NaN  2023-01-08        B"
      ]
     },
     "execution_count": 45,
     "metadata": {},
     "output_type": "execute_result"
    }
   ],
   "source": [
    "df.iloc[::] #accessing all rows and columns"
   ]
  },
  {
   "cell_type": "code",
   "execution_count": 46,
   "id": "d0bcef7b",
   "metadata": {},
   "outputs": [
    {
     "data": {
      "text/html": [
       "<div>\n",
       "<style scoped>\n",
       "    .dataframe tbody tr th:only-of-type {\n",
       "        vertical-align: middle;\n",
       "    }\n",
       "\n",
       "    .dataframe tbody tr th {\n",
       "        vertical-align: top;\n",
       "    }\n",
       "\n",
       "    .dataframe thead th {\n",
       "        text-align: right;\n",
       "    }\n",
       "</style>\n",
       "<table border=\"1\" class=\"dataframe\">\n",
       "  <thead>\n",
       "    <tr style=\"text-align: right;\">\n",
       "      <th></th>\n",
       "      <th>Name</th>\n",
       "      <th>Age</th>\n",
       "      <th>City</th>\n",
       "      <th>Salary</th>\n",
       "      <th>Date</th>\n",
       "      <th>Category</th>\n",
       "    </tr>\n",
       "  </thead>\n",
       "  <tbody>\n",
       "    <tr>\n",
       "      <th>0</th>\n",
       "      <td>Alice</td>\n",
       "      <td>45.0</td>\n",
       "      <td>New York</td>\n",
       "      <td>95445.0</td>\n",
       "      <td>2023-01-01</td>\n",
       "      <td>A</td>\n",
       "    </tr>\n",
       "    <tr>\n",
       "      <th>1</th>\n",
       "      <td>Bob</td>\n",
       "      <td>58.0</td>\n",
       "      <td>London</td>\n",
       "      <td>86235.0</td>\n",
       "      <td>2023-01-02</td>\n",
       "      <td>B</td>\n",
       "    </tr>\n",
       "    <tr>\n",
       "      <th>2</th>\n",
       "      <td>Charlie</td>\n",
       "      <td>60.0</td>\n",
       "      <td>Tokyo</td>\n",
       "      <td>62330.0</td>\n",
       "      <td>2023-01-03</td>\n",
       "      <td>C</td>\n",
       "    </tr>\n",
       "    <tr>\n",
       "      <th>3</th>\n",
       "      <td>David</td>\n",
       "      <td>28.0</td>\n",
       "      <td>Paris</td>\n",
       "      <td>46022.0</td>\n",
       "      <td>2023-01-04</td>\n",
       "      <td>A</td>\n",
       "    </tr>\n",
       "    <tr>\n",
       "      <th>4</th>\n",
       "      <td>Eva</td>\n",
       "      <td>49.0</td>\n",
       "      <td>Berlin</td>\n",
       "      <td>65999.0</td>\n",
       "      <td>2023-01-05</td>\n",
       "      <td>B</td>\n",
       "    </tr>\n",
       "    <tr>\n",
       "      <th>5</th>\n",
       "      <td>Frank</td>\n",
       "      <td>67.0</td>\n",
       "      <td>Paris</td>\n",
       "      <td>88320.0</td>\n",
       "      <td>2023-01-06</td>\n",
       "      <td>A</td>\n",
       "    </tr>\n",
       "    <tr>\n",
       "      <th>6</th>\n",
       "      <td>Grace</td>\n",
       "      <td>NaN</td>\n",
       "      <td>Berlin</td>\n",
       "      <td>57141.0</td>\n",
       "      <td>2023-01-07</td>\n",
       "      <td>C</td>\n",
       "    </tr>\n",
       "    <tr>\n",
       "      <th>7</th>\n",
       "      <td>Hannah</td>\n",
       "      <td>60.0</td>\n",
       "      <td>New York</td>\n",
       "      <td>65413.0</td>\n",
       "      <td>2023-01-08</td>\n",
       "      <td>B</td>\n",
       "    </tr>\n",
       "    <tr>\n",
       "      <th>8</th>\n",
       "      <td>Ivan</td>\n",
       "      <td>37.0</td>\n",
       "      <td>Tokyo</td>\n",
       "      <td>87016.0</td>\n",
       "      <td>2023-01-09</td>\n",
       "      <td>A</td>\n",
       "    </tr>\n",
       "    <tr>\n",
       "      <th>9</th>\n",
       "      <td>Jack</td>\n",
       "      <td>31.0</td>\n",
       "      <td>London</td>\n",
       "      <td>58725.0</td>\n",
       "      <td>2023-01-10</td>\n",
       "      <td>B</td>\n",
       "    </tr>\n",
       "    <tr>\n",
       "      <th>10</th>\n",
       "      <td>Ivan</td>\n",
       "      <td>37.0</td>\n",
       "      <td>Tokyo</td>\n",
       "      <td>87016.0</td>\n",
       "      <td>2023-01-09</td>\n",
       "      <td>A</td>\n",
       "    </tr>\n",
       "    <tr>\n",
       "      <th>11</th>\n",
       "      <td>Jack</td>\n",
       "      <td>31.0</td>\n",
       "      <td>London</td>\n",
       "      <td>58725.0</td>\n",
       "      <td>2023-01-10</td>\n",
       "      <td>B</td>\n",
       "    </tr>\n",
       "  </tbody>\n",
       "</table>\n",
       "</div>"
      ],
      "text/plain": [
       "       Name   Age      City   Salary        Date Category\n",
       "0     Alice  45.0  New York  95445.0  2023-01-01        A\n",
       "1       Bob  58.0    London  86235.0  2023-01-02        B\n",
       "2   Charlie  60.0     Tokyo  62330.0  2023-01-03        C\n",
       "3     David  28.0     Paris  46022.0  2023-01-04        A\n",
       "4       Eva  49.0    Berlin  65999.0  2023-01-05        B\n",
       "5     Frank  67.0     Paris  88320.0  2023-01-06        A\n",
       "6     Grace   NaN    Berlin  57141.0  2023-01-07        C\n",
       "7    Hannah  60.0  New York  65413.0  2023-01-08        B\n",
       "8      Ivan  37.0     Tokyo  87016.0  2023-01-09        A\n",
       "9      Jack  31.0    London  58725.0  2023-01-10        B\n",
       "10     Ivan  37.0     Tokyo  87016.0  2023-01-09        A\n",
       "11     Jack  31.0    London  58725.0  2023-01-10        B"
      ]
     },
     "execution_count": 46,
     "metadata": {},
     "output_type": "execute_result"
    }
   ],
   "source": [
    "df.iloc[:12] #accessing forst 12 rows"
   ]
  },
  {
   "cell_type": "code",
   "execution_count": 47,
   "id": "26e08852",
   "metadata": {},
   "outputs": [
    {
     "data": {
      "text/html": [
       "<div>\n",
       "<style scoped>\n",
       "    .dataframe tbody tr th:only-of-type {\n",
       "        vertical-align: middle;\n",
       "    }\n",
       "\n",
       "    .dataframe tbody tr th {\n",
       "        vertical-align: top;\n",
       "    }\n",
       "\n",
       "    .dataframe thead th {\n",
       "        text-align: right;\n",
       "    }\n",
       "</style>\n",
       "<table border=\"1\" class=\"dataframe\">\n",
       "  <thead>\n",
       "    <tr style=\"text-align: right;\">\n",
       "      <th></th>\n",
       "      <th>Name</th>\n",
       "      <th>Age</th>\n",
       "      <th>City</th>\n",
       "      <th>Salary</th>\n",
       "      <th>Date</th>\n",
       "    </tr>\n",
       "  </thead>\n",
       "  <tbody>\n",
       "    <tr>\n",
       "      <th>0</th>\n",
       "      <td>Alice</td>\n",
       "      <td>45.0</td>\n",
       "      <td>New York</td>\n",
       "      <td>95445.0</td>\n",
       "      <td>2023-01-01</td>\n",
       "    </tr>\n",
       "    <tr>\n",
       "      <th>1</th>\n",
       "      <td>Bob</td>\n",
       "      <td>58.0</td>\n",
       "      <td>London</td>\n",
       "      <td>86235.0</td>\n",
       "      <td>2023-01-02</td>\n",
       "    </tr>\n",
       "    <tr>\n",
       "      <th>2</th>\n",
       "      <td>Charlie</td>\n",
       "      <td>60.0</td>\n",
       "      <td>Tokyo</td>\n",
       "      <td>62330.0</td>\n",
       "      <td>2023-01-03</td>\n",
       "    </tr>\n",
       "    <tr>\n",
       "      <th>3</th>\n",
       "      <td>David</td>\n",
       "      <td>28.0</td>\n",
       "      <td>Paris</td>\n",
       "      <td>46022.0</td>\n",
       "      <td>2023-01-04</td>\n",
       "    </tr>\n",
       "    <tr>\n",
       "      <th>4</th>\n",
       "      <td>Eva</td>\n",
       "      <td>49.0</td>\n",
       "      <td>Berlin</td>\n",
       "      <td>65999.0</td>\n",
       "      <td>2023-01-05</td>\n",
       "    </tr>\n",
       "    <tr>\n",
       "      <th>5</th>\n",
       "      <td>Frank</td>\n",
       "      <td>67.0</td>\n",
       "      <td>Paris</td>\n",
       "      <td>88320.0</td>\n",
       "      <td>2023-01-06</td>\n",
       "    </tr>\n",
       "    <tr>\n",
       "      <th>6</th>\n",
       "      <td>Grace</td>\n",
       "      <td>NaN</td>\n",
       "      <td>Berlin</td>\n",
       "      <td>57141.0</td>\n",
       "      <td>2023-01-07</td>\n",
       "    </tr>\n",
       "    <tr>\n",
       "      <th>7</th>\n",
       "      <td>Hannah</td>\n",
       "      <td>60.0</td>\n",
       "      <td>New York</td>\n",
       "      <td>65413.0</td>\n",
       "      <td>2023-01-08</td>\n",
       "    </tr>\n",
       "    <tr>\n",
       "      <th>8</th>\n",
       "      <td>Ivan</td>\n",
       "      <td>37.0</td>\n",
       "      <td>Tokyo</td>\n",
       "      <td>87016.0</td>\n",
       "      <td>2023-01-09</td>\n",
       "    </tr>\n",
       "    <tr>\n",
       "      <th>9</th>\n",
       "      <td>Jack</td>\n",
       "      <td>31.0</td>\n",
       "      <td>London</td>\n",
       "      <td>58725.0</td>\n",
       "      <td>2023-01-10</td>\n",
       "    </tr>\n",
       "    <tr>\n",
       "      <th>10</th>\n",
       "      <td>Ivan</td>\n",
       "      <td>37.0</td>\n",
       "      <td>Tokyo</td>\n",
       "      <td>87016.0</td>\n",
       "      <td>2023-01-09</td>\n",
       "    </tr>\n",
       "    <tr>\n",
       "      <th>11</th>\n",
       "      <td>Jack</td>\n",
       "      <td>31.0</td>\n",
       "      <td>London</td>\n",
       "      <td>58725.0</td>\n",
       "      <td>2023-01-10</td>\n",
       "    </tr>\n",
       "  </tbody>\n",
       "</table>\n",
       "</div>"
      ],
      "text/plain": [
       "       Name   Age      City   Salary        Date\n",
       "0     Alice  45.0  New York  95445.0  2023-01-01\n",
       "1       Bob  58.0    London  86235.0  2023-01-02\n",
       "2   Charlie  60.0     Tokyo  62330.0  2023-01-03\n",
       "3     David  28.0     Paris  46022.0  2023-01-04\n",
       "4       Eva  49.0    Berlin  65999.0  2023-01-05\n",
       "5     Frank  67.0     Paris  88320.0  2023-01-06\n",
       "6     Grace   NaN    Berlin  57141.0  2023-01-07\n",
       "7    Hannah  60.0  New York  65413.0  2023-01-08\n",
       "8      Ivan  37.0     Tokyo  87016.0  2023-01-09\n",
       "9      Jack  31.0    London  58725.0  2023-01-10\n",
       "10     Ivan  37.0     Tokyo  87016.0  2023-01-09\n",
       "11     Jack  31.0    London  58725.0  2023-01-10"
      ]
     },
     "execution_count": 47,
     "metadata": {},
     "output_type": "execute_result"
    }
   ],
   "source": [
    "df.iloc[:12,0:5] #accesing first 12 rows and first 5 columns"
   ]
  },
  {
   "cell_type": "code",
   "execution_count": 48,
   "id": "1ca4fe2c",
   "metadata": {},
   "outputs": [
    {
     "data": {
      "text/html": [
       "<div>\n",
       "<style scoped>\n",
       "    .dataframe tbody tr th:only-of-type {\n",
       "        vertical-align: middle;\n",
       "    }\n",
       "\n",
       "    .dataframe tbody tr th {\n",
       "        vertical-align: top;\n",
       "    }\n",
       "\n",
       "    .dataframe thead th {\n",
       "        text-align: right;\n",
       "    }\n",
       "</style>\n",
       "<table border=\"1\" class=\"dataframe\">\n",
       "  <thead>\n",
       "    <tr style=\"text-align: right;\">\n",
       "      <th></th>\n",
       "      <th>Name</th>\n",
       "      <th>City</th>\n",
       "      <th>Date</th>\n",
       "    </tr>\n",
       "  </thead>\n",
       "  <tbody>\n",
       "    <tr>\n",
       "      <th>0</th>\n",
       "      <td>Alice</td>\n",
       "      <td>New York</td>\n",
       "      <td>2023-01-01</td>\n",
       "    </tr>\n",
       "    <tr>\n",
       "      <th>1</th>\n",
       "      <td>Bob</td>\n",
       "      <td>London</td>\n",
       "      <td>2023-01-02</td>\n",
       "    </tr>\n",
       "    <tr>\n",
       "      <th>2</th>\n",
       "      <td>Charlie</td>\n",
       "      <td>Tokyo</td>\n",
       "      <td>2023-01-03</td>\n",
       "    </tr>\n",
       "    <tr>\n",
       "      <th>3</th>\n",
       "      <td>David</td>\n",
       "      <td>Paris</td>\n",
       "      <td>2023-01-04</td>\n",
       "    </tr>\n",
       "    <tr>\n",
       "      <th>4</th>\n",
       "      <td>Eva</td>\n",
       "      <td>Berlin</td>\n",
       "      <td>2023-01-05</td>\n",
       "    </tr>\n",
       "    <tr>\n",
       "      <th>5</th>\n",
       "      <td>Frank</td>\n",
       "      <td>Paris</td>\n",
       "      <td>2023-01-06</td>\n",
       "    </tr>\n",
       "    <tr>\n",
       "      <th>6</th>\n",
       "      <td>Grace</td>\n",
       "      <td>Berlin</td>\n",
       "      <td>2023-01-07</td>\n",
       "    </tr>\n",
       "    <tr>\n",
       "      <th>7</th>\n",
       "      <td>Hannah</td>\n",
       "      <td>New York</td>\n",
       "      <td>2023-01-08</td>\n",
       "    </tr>\n",
       "    <tr>\n",
       "      <th>8</th>\n",
       "      <td>Ivan</td>\n",
       "      <td>Tokyo</td>\n",
       "      <td>2023-01-09</td>\n",
       "    </tr>\n",
       "    <tr>\n",
       "      <th>9</th>\n",
       "      <td>Jack</td>\n",
       "      <td>London</td>\n",
       "      <td>2023-01-10</td>\n",
       "    </tr>\n",
       "    <tr>\n",
       "      <th>10</th>\n",
       "      <td>Ivan</td>\n",
       "      <td>Tokyo</td>\n",
       "      <td>2023-01-09</td>\n",
       "    </tr>\n",
       "    <tr>\n",
       "      <th>11</th>\n",
       "      <td>Jack</td>\n",
       "      <td>London</td>\n",
       "      <td>2023-01-10</td>\n",
       "    </tr>\n",
       "  </tbody>\n",
       "</table>\n",
       "</div>"
      ],
      "text/plain": [
       "       Name      City        Date\n",
       "0     Alice  New York  2023-01-01\n",
       "1       Bob    London  2023-01-02\n",
       "2   Charlie     Tokyo  2023-01-03\n",
       "3     David     Paris  2023-01-04\n",
       "4       Eva    Berlin  2023-01-05\n",
       "5     Frank     Paris  2023-01-06\n",
       "6     Grace    Berlin  2023-01-07\n",
       "7    Hannah  New York  2023-01-08\n",
       "8      Ivan     Tokyo  2023-01-09\n",
       "9      Jack    London  2023-01-10\n",
       "10     Ivan     Tokyo  2023-01-09\n",
       "11     Jack    London  2023-01-10"
      ]
     },
     "execution_count": 48,
     "metadata": {},
     "output_type": "execute_result"
    }
   ],
   "source": [
    "df.iloc[:12,0:5:2] #accesing first 12 rows and first 5 columns with step of 2"
   ]
  },
  {
   "cell_type": "markdown",
   "id": "2bfa4def",
   "metadata": {},
   "source": [
    "## **Boolean indexing**"
   ]
  },
  {
   "cell_type": "code",
   "execution_count": 49,
   "id": "aef3a7c9",
   "metadata": {},
   "outputs": [
    {
     "data": {
      "text/plain": [
       "0      True\n",
       "1      True\n",
       "2      True\n",
       "3     False\n",
       "4      True\n",
       "5      True\n",
       "6     False\n",
       "7      True\n",
       "8      True\n",
       "9      True\n",
       "10     True\n",
       "11     True\n",
       "12    False\n",
       "13     True\n",
       "Name: Age, dtype: bool"
      ]
     },
     "execution_count": 49,
     "metadata": {},
     "output_type": "execute_result"
    }
   ],
   "source": [
    "df['Age']>30"
   ]
  },
  {
   "cell_type": "code",
   "execution_count": 50,
   "id": "a95ec227",
   "metadata": {},
   "outputs": [
    {
     "data": {
      "text/html": [
       "<div>\n",
       "<style scoped>\n",
       "    .dataframe tbody tr th:only-of-type {\n",
       "        vertical-align: middle;\n",
       "    }\n",
       "\n",
       "    .dataframe tbody tr th {\n",
       "        vertical-align: top;\n",
       "    }\n",
       "\n",
       "    .dataframe thead th {\n",
       "        text-align: right;\n",
       "    }\n",
       "</style>\n",
       "<table border=\"1\" class=\"dataframe\">\n",
       "  <thead>\n",
       "    <tr style=\"text-align: right;\">\n",
       "      <th></th>\n",
       "      <th>Name</th>\n",
       "      <th>Age</th>\n",
       "      <th>City</th>\n",
       "      <th>Salary</th>\n",
       "      <th>Date</th>\n",
       "      <th>Category</th>\n",
       "    </tr>\n",
       "  </thead>\n",
       "  <tbody>\n",
       "    <tr>\n",
       "      <th>0</th>\n",
       "      <td>Alice</td>\n",
       "      <td>45.0</td>\n",
       "      <td>New York</td>\n",
       "      <td>95445.0</td>\n",
       "      <td>2023-01-01</td>\n",
       "      <td>A</td>\n",
       "    </tr>\n",
       "    <tr>\n",
       "      <th>1</th>\n",
       "      <td>Bob</td>\n",
       "      <td>58.0</td>\n",
       "      <td>London</td>\n",
       "      <td>86235.0</td>\n",
       "      <td>2023-01-02</td>\n",
       "      <td>B</td>\n",
       "    </tr>\n",
       "    <tr>\n",
       "      <th>2</th>\n",
       "      <td>Charlie</td>\n",
       "      <td>60.0</td>\n",
       "      <td>Tokyo</td>\n",
       "      <td>62330.0</td>\n",
       "      <td>2023-01-03</td>\n",
       "      <td>C</td>\n",
       "    </tr>\n",
       "    <tr>\n",
       "      <th>4</th>\n",
       "      <td>Eva</td>\n",
       "      <td>49.0</td>\n",
       "      <td>Berlin</td>\n",
       "      <td>65999.0</td>\n",
       "      <td>2023-01-05</td>\n",
       "      <td>B</td>\n",
       "    </tr>\n",
       "    <tr>\n",
       "      <th>5</th>\n",
       "      <td>Frank</td>\n",
       "      <td>67.0</td>\n",
       "      <td>Paris</td>\n",
       "      <td>88320.0</td>\n",
       "      <td>2023-01-06</td>\n",
       "      <td>A</td>\n",
       "    </tr>\n",
       "    <tr>\n",
       "      <th>7</th>\n",
       "      <td>Hannah</td>\n",
       "      <td>60.0</td>\n",
       "      <td>New York</td>\n",
       "      <td>65413.0</td>\n",
       "      <td>2023-01-08</td>\n",
       "      <td>B</td>\n",
       "    </tr>\n",
       "    <tr>\n",
       "      <th>8</th>\n",
       "      <td>Ivan</td>\n",
       "      <td>37.0</td>\n",
       "      <td>Tokyo</td>\n",
       "      <td>87016.0</td>\n",
       "      <td>2023-01-09</td>\n",
       "      <td>A</td>\n",
       "    </tr>\n",
       "    <tr>\n",
       "      <th>9</th>\n",
       "      <td>Jack</td>\n",
       "      <td>31.0</td>\n",
       "      <td>London</td>\n",
       "      <td>58725.0</td>\n",
       "      <td>2023-01-10</td>\n",
       "      <td>B</td>\n",
       "    </tr>\n",
       "    <tr>\n",
       "      <th>10</th>\n",
       "      <td>Ivan</td>\n",
       "      <td>37.0</td>\n",
       "      <td>Tokyo</td>\n",
       "      <td>87016.0</td>\n",
       "      <td>2023-01-09</td>\n",
       "      <td>A</td>\n",
       "    </tr>\n",
       "    <tr>\n",
       "      <th>11</th>\n",
       "      <td>Jack</td>\n",
       "      <td>31.0</td>\n",
       "      <td>London</td>\n",
       "      <td>58725.0</td>\n",
       "      <td>2023-01-10</td>\n",
       "      <td>B</td>\n",
       "    </tr>\n",
       "    <tr>\n",
       "      <th>13</th>\n",
       "      <td>Hannah</td>\n",
       "      <td>60.0</td>\n",
       "      <td>New York</td>\n",
       "      <td>NaN</td>\n",
       "      <td>2023-01-08</td>\n",
       "      <td>B</td>\n",
       "    </tr>\n",
       "  </tbody>\n",
       "</table>\n",
       "</div>"
      ],
      "text/plain": [
       "       Name   Age      City   Salary        Date Category\n",
       "0     Alice  45.0  New York  95445.0  2023-01-01        A\n",
       "1       Bob  58.0    London  86235.0  2023-01-02        B\n",
       "2   Charlie  60.0     Tokyo  62330.0  2023-01-03        C\n",
       "4       Eva  49.0    Berlin  65999.0  2023-01-05        B\n",
       "5     Frank  67.0     Paris  88320.0  2023-01-06        A\n",
       "7    Hannah  60.0  New York  65413.0  2023-01-08        B\n",
       "8      Ivan  37.0     Tokyo  87016.0  2023-01-09        A\n",
       "9      Jack  31.0    London  58725.0  2023-01-10        B\n",
       "10     Ivan  37.0     Tokyo  87016.0  2023-01-09        A\n",
       "11     Jack  31.0    London  58725.0  2023-01-10        B\n",
       "13   Hannah  60.0  New York      NaN  2023-01-08        B"
      ]
     },
     "execution_count": 50,
     "metadata": {},
     "output_type": "execute_result"
    }
   ],
   "source": [
    "df[df['Age']>30] #accessing rows where age is greater than 30"
   ]
  },
  {
   "cell_type": "code",
   "execution_count": 51,
   "id": "af48cf78",
   "metadata": {},
   "outputs": [
    {
     "data": {
      "text/html": [
       "<div>\n",
       "<style scoped>\n",
       "    .dataframe tbody tr th:only-of-type {\n",
       "        vertical-align: middle;\n",
       "    }\n",
       "\n",
       "    .dataframe tbody tr th {\n",
       "        vertical-align: top;\n",
       "    }\n",
       "\n",
       "    .dataframe thead th {\n",
       "        text-align: right;\n",
       "    }\n",
       "</style>\n",
       "<table border=\"1\" class=\"dataframe\">\n",
       "  <thead>\n",
       "    <tr style=\"text-align: right;\">\n",
       "      <th></th>\n",
       "      <th>Name</th>\n",
       "      <th>Age</th>\n",
       "      <th>City</th>\n",
       "      <th>Salary</th>\n",
       "      <th>Date</th>\n",
       "      <th>Category</th>\n",
       "    </tr>\n",
       "  </thead>\n",
       "  <tbody>\n",
       "    <tr>\n",
       "      <th>2</th>\n",
       "      <td>Charlie</td>\n",
       "      <td>60.0</td>\n",
       "      <td>Tokyo</td>\n",
       "      <td>62330.0</td>\n",
       "      <td>2023-01-03</td>\n",
       "      <td>C</td>\n",
       "    </tr>\n",
       "    <tr>\n",
       "      <th>6</th>\n",
       "      <td>Grace</td>\n",
       "      <td>NaN</td>\n",
       "      <td>Berlin</td>\n",
       "      <td>57141.0</td>\n",
       "      <td>2023-01-07</td>\n",
       "      <td>C</td>\n",
       "    </tr>\n",
       "  </tbody>\n",
       "</table>\n",
       "</div>"
      ],
      "text/plain": [
       "      Name   Age    City   Salary        Date Category\n",
       "2  Charlie  60.0   Tokyo  62330.0  2023-01-03        C\n",
       "6    Grace   NaN  Berlin  57141.0  2023-01-07        C"
      ]
     },
     "execution_count": 51,
     "metadata": {},
     "output_type": "execute_result"
    }
   ],
   "source": [
    "df[df['Category']=='C'] #accessing rows where category is C "
   ]
  },
  {
   "cell_type": "code",
   "execution_count": 52,
   "id": "d3a2a9b5",
   "metadata": {},
   "outputs": [
    {
     "data": {
      "text/html": [
       "<div>\n",
       "<style scoped>\n",
       "    .dataframe tbody tr th:only-of-type {\n",
       "        vertical-align: middle;\n",
       "    }\n",
       "\n",
       "    .dataframe tbody tr th {\n",
       "        vertical-align: top;\n",
       "    }\n",
       "\n",
       "    .dataframe thead th {\n",
       "        text-align: right;\n",
       "    }\n",
       "</style>\n",
       "<table border=\"1\" class=\"dataframe\">\n",
       "  <thead>\n",
       "    <tr style=\"text-align: right;\">\n",
       "      <th></th>\n",
       "      <th>Name</th>\n",
       "      <th>Age</th>\n",
       "      <th>City</th>\n",
       "      <th>Salary</th>\n",
       "      <th>Date</th>\n",
       "      <th>Category</th>\n",
       "    </tr>\n",
       "  </thead>\n",
       "  <tbody>\n",
       "    <tr>\n",
       "      <th>0</th>\n",
       "      <td>Alice</td>\n",
       "      <td>45.0</td>\n",
       "      <td>New York</td>\n",
       "      <td>95445.0</td>\n",
       "      <td>2023-01-01</td>\n",
       "      <td>A</td>\n",
       "    </tr>\n",
       "    <tr>\n",
       "      <th>5</th>\n",
       "      <td>Frank</td>\n",
       "      <td>67.0</td>\n",
       "      <td>Paris</td>\n",
       "      <td>88320.0</td>\n",
       "      <td>2023-01-06</td>\n",
       "      <td>A</td>\n",
       "    </tr>\n",
       "    <tr>\n",
       "      <th>8</th>\n",
       "      <td>Ivan</td>\n",
       "      <td>37.0</td>\n",
       "      <td>Tokyo</td>\n",
       "      <td>87016.0</td>\n",
       "      <td>2023-01-09</td>\n",
       "      <td>A</td>\n",
       "    </tr>\n",
       "    <tr>\n",
       "      <th>10</th>\n",
       "      <td>Ivan</td>\n",
       "      <td>37.0</td>\n",
       "      <td>Tokyo</td>\n",
       "      <td>87016.0</td>\n",
       "      <td>2023-01-09</td>\n",
       "      <td>A</td>\n",
       "    </tr>\n",
       "  </tbody>\n",
       "</table>\n",
       "</div>"
      ],
      "text/plain": [
       "     Name   Age      City   Salary        Date Category\n",
       "0   Alice  45.0  New York  95445.0  2023-01-01        A\n",
       "5   Frank  67.0     Paris  88320.0  2023-01-06        A\n",
       "8    Ivan  37.0     Tokyo  87016.0  2023-01-09        A\n",
       "10   Ivan  37.0     Tokyo  87016.0  2023-01-09        A"
      ]
     },
     "execution_count": 52,
     "metadata": {},
     "output_type": "execute_result"
    }
   ],
   "source": [
    "df[(df['Age']>30)& (df['Category']=='A')] #accessing rows where age is greater than 30 and category is A"
   ]
  },
  {
   "cell_type": "code",
   "execution_count": 53,
   "id": "1486cc61",
   "metadata": {},
   "outputs": [
    {
     "data": {
      "text/html": [
       "<div>\n",
       "<style scoped>\n",
       "    .dataframe tbody tr th:only-of-type {\n",
       "        vertical-align: middle;\n",
       "    }\n",
       "\n",
       "    .dataframe tbody tr th {\n",
       "        vertical-align: top;\n",
       "    }\n",
       "\n",
       "    .dataframe thead th {\n",
       "        text-align: right;\n",
       "    }\n",
       "</style>\n",
       "<table border=\"1\" class=\"dataframe\">\n",
       "  <thead>\n",
       "    <tr style=\"text-align: right;\">\n",
       "      <th></th>\n",
       "      <th>Name</th>\n",
       "      <th>Age</th>\n",
       "      <th>City</th>\n",
       "      <th>Salary</th>\n",
       "      <th>Date</th>\n",
       "      <th>Category</th>\n",
       "    </tr>\n",
       "  </thead>\n",
       "  <tbody>\n",
       "    <tr>\n",
       "      <th>2</th>\n",
       "      <td>Charlie</td>\n",
       "      <td>60.0</td>\n",
       "      <td>Tokyo</td>\n",
       "      <td>62330.0</td>\n",
       "      <td>2023-01-03</td>\n",
       "      <td>C</td>\n",
       "    </tr>\n",
       "    <tr>\n",
       "      <th>8</th>\n",
       "      <td>Ivan</td>\n",
       "      <td>37.0</td>\n",
       "      <td>Tokyo</td>\n",
       "      <td>87016.0</td>\n",
       "      <td>2023-01-09</td>\n",
       "      <td>A</td>\n",
       "    </tr>\n",
       "    <tr>\n",
       "      <th>10</th>\n",
       "      <td>Ivan</td>\n",
       "      <td>37.0</td>\n",
       "      <td>Tokyo</td>\n",
       "      <td>87016.0</td>\n",
       "      <td>2023-01-09</td>\n",
       "      <td>A</td>\n",
       "    </tr>\n",
       "  </tbody>\n",
       "</table>\n",
       "</div>"
      ],
      "text/plain": [
       "       Name   Age   City   Salary        Date Category\n",
       "2   Charlie  60.0  Tokyo  62330.0  2023-01-03        C\n",
       "8      Ivan  37.0  Tokyo  87016.0  2023-01-09        A\n",
       "10     Ivan  37.0  Tokyo  87016.0  2023-01-09        A"
      ]
     },
     "execution_count": 53,
     "metadata": {},
     "output_type": "execute_result"
    }
   ],
   "source": [
    "df[(df['Age']>30)& (df['City']=='Tokyo')] #accessing rows where age is greater than 30 and city is Tokyo"
   ]
  },
  {
   "cell_type": "code",
   "execution_count": 54,
   "id": "31c17d01",
   "metadata": {},
   "outputs": [
    {
     "data": {
      "text/html": [
       "<div>\n",
       "<style scoped>\n",
       "    .dataframe tbody tr th:only-of-type {\n",
       "        vertical-align: middle;\n",
       "    }\n",
       "\n",
       "    .dataframe tbody tr th {\n",
       "        vertical-align: top;\n",
       "    }\n",
       "\n",
       "    .dataframe thead th {\n",
       "        text-align: right;\n",
       "    }\n",
       "</style>\n",
       "<table border=\"1\" class=\"dataframe\">\n",
       "  <thead>\n",
       "    <tr style=\"text-align: right;\">\n",
       "      <th></th>\n",
       "      <th>Name</th>\n",
       "      <th>Age</th>\n",
       "      <th>City</th>\n",
       "      <th>Salary</th>\n",
       "      <th>Date</th>\n",
       "      <th>Category</th>\n",
       "    </tr>\n",
       "  </thead>\n",
       "  <tbody>\n",
       "    <tr>\n",
       "      <th>0</th>\n",
       "      <td>Alice</td>\n",
       "      <td>45.0</td>\n",
       "      <td>New York</td>\n",
       "      <td>95445.0</td>\n",
       "      <td>2023-01-01</td>\n",
       "      <td>A</td>\n",
       "    </tr>\n",
       "    <tr>\n",
       "      <th>1</th>\n",
       "      <td>Bob</td>\n",
       "      <td>58.0</td>\n",
       "      <td>London</td>\n",
       "      <td>86235.0</td>\n",
       "      <td>2023-01-02</td>\n",
       "      <td>B</td>\n",
       "    </tr>\n",
       "    <tr>\n",
       "      <th>3</th>\n",
       "      <td>David</td>\n",
       "      <td>28.0</td>\n",
       "      <td>Paris</td>\n",
       "      <td>46022.0</td>\n",
       "      <td>2023-01-04</td>\n",
       "      <td>A</td>\n",
       "    </tr>\n",
       "    <tr>\n",
       "      <th>4</th>\n",
       "      <td>Eva</td>\n",
       "      <td>49.0</td>\n",
       "      <td>Berlin</td>\n",
       "      <td>65999.0</td>\n",
       "      <td>2023-01-05</td>\n",
       "      <td>B</td>\n",
       "    </tr>\n",
       "    <tr>\n",
       "      <th>5</th>\n",
       "      <td>Frank</td>\n",
       "      <td>67.0</td>\n",
       "      <td>Paris</td>\n",
       "      <td>88320.0</td>\n",
       "      <td>2023-01-06</td>\n",
       "      <td>A</td>\n",
       "    </tr>\n",
       "    <tr>\n",
       "      <th>7</th>\n",
       "      <td>Hannah</td>\n",
       "      <td>60.0</td>\n",
       "      <td>New York</td>\n",
       "      <td>65413.0</td>\n",
       "      <td>2023-01-08</td>\n",
       "      <td>B</td>\n",
       "    </tr>\n",
       "    <tr>\n",
       "      <th>8</th>\n",
       "      <td>Ivan</td>\n",
       "      <td>37.0</td>\n",
       "      <td>Tokyo</td>\n",
       "      <td>87016.0</td>\n",
       "      <td>2023-01-09</td>\n",
       "      <td>A</td>\n",
       "    </tr>\n",
       "    <tr>\n",
       "      <th>9</th>\n",
       "      <td>Jack</td>\n",
       "      <td>31.0</td>\n",
       "      <td>London</td>\n",
       "      <td>58725.0</td>\n",
       "      <td>2023-01-10</td>\n",
       "      <td>B</td>\n",
       "    </tr>\n",
       "    <tr>\n",
       "      <th>10</th>\n",
       "      <td>Ivan</td>\n",
       "      <td>37.0</td>\n",
       "      <td>Tokyo</td>\n",
       "      <td>87016.0</td>\n",
       "      <td>2023-01-09</td>\n",
       "      <td>A</td>\n",
       "    </tr>\n",
       "    <tr>\n",
       "      <th>11</th>\n",
       "      <td>Jack</td>\n",
       "      <td>31.0</td>\n",
       "      <td>London</td>\n",
       "      <td>58725.0</td>\n",
       "      <td>2023-01-10</td>\n",
       "      <td>B</td>\n",
       "    </tr>\n",
       "    <tr>\n",
       "      <th>13</th>\n",
       "      <td>Hannah</td>\n",
       "      <td>60.0</td>\n",
       "      <td>New York</td>\n",
       "      <td>NaN</td>\n",
       "      <td>2023-01-08</td>\n",
       "      <td>B</td>\n",
       "    </tr>\n",
       "  </tbody>\n",
       "</table>\n",
       "</div>"
      ],
      "text/plain": [
       "      Name   Age      City   Salary        Date Category\n",
       "0    Alice  45.0  New York  95445.0  2023-01-01        A\n",
       "1      Bob  58.0    London  86235.0  2023-01-02        B\n",
       "3    David  28.0     Paris  46022.0  2023-01-04        A\n",
       "4      Eva  49.0    Berlin  65999.0  2023-01-05        B\n",
       "5    Frank  67.0     Paris  88320.0  2023-01-06        A\n",
       "7   Hannah  60.0  New York  65413.0  2023-01-08        B\n",
       "8     Ivan  37.0     Tokyo  87016.0  2023-01-09        A\n",
       "9     Jack  31.0    London  58725.0  2023-01-10        B\n",
       "10    Ivan  37.0     Tokyo  87016.0  2023-01-09        A\n",
       "11    Jack  31.0    London  58725.0  2023-01-10        B\n",
       "13  Hannah  60.0  New York      NaN  2023-01-08        B"
      ]
     },
     "execution_count": 54,
     "metadata": {},
     "output_type": "execute_result"
    }
   ],
   "source": [
    "df[df['Category'].isin([ 'A', 'B'])]"
   ]
  },
  {
   "cell_type": "code",
   "execution_count": 55,
   "id": "9d513fdc",
   "metadata": {},
   "outputs": [
    {
     "data": {
      "text/html": [
       "<div>\n",
       "<style scoped>\n",
       "    .dataframe tbody tr th:only-of-type {\n",
       "        vertical-align: middle;\n",
       "    }\n",
       "\n",
       "    .dataframe tbody tr th {\n",
       "        vertical-align: top;\n",
       "    }\n",
       "\n",
       "    .dataframe thead th {\n",
       "        text-align: right;\n",
       "    }\n",
       "</style>\n",
       "<table border=\"1\" class=\"dataframe\">\n",
       "  <thead>\n",
       "    <tr style=\"text-align: right;\">\n",
       "      <th></th>\n",
       "      <th>Name</th>\n",
       "      <th>Age</th>\n",
       "      <th>City</th>\n",
       "      <th>Salary</th>\n",
       "      <th>Date</th>\n",
       "      <th>Category</th>\n",
       "    </tr>\n",
       "  </thead>\n",
       "  <tbody>\n",
       "    <tr>\n",
       "      <th>0</th>\n",
       "      <td>Alice</td>\n",
       "      <td>45.0</td>\n",
       "      <td>New York</td>\n",
       "      <td>95445.0</td>\n",
       "      <td>2023-01-01</td>\n",
       "      <td>A</td>\n",
       "    </tr>\n",
       "    <tr>\n",
       "      <th>1</th>\n",
       "      <td>Bob</td>\n",
       "      <td>58.0</td>\n",
       "      <td>London</td>\n",
       "      <td>86235.0</td>\n",
       "      <td>2023-01-02</td>\n",
       "      <td>B</td>\n",
       "    </tr>\n",
       "    <tr>\n",
       "      <th>7</th>\n",
       "      <td>Hannah</td>\n",
       "      <td>60.0</td>\n",
       "      <td>New York</td>\n",
       "      <td>65413.0</td>\n",
       "      <td>2023-01-08</td>\n",
       "      <td>B</td>\n",
       "    </tr>\n",
       "    <tr>\n",
       "      <th>9</th>\n",
       "      <td>Jack</td>\n",
       "      <td>31.0</td>\n",
       "      <td>London</td>\n",
       "      <td>58725.0</td>\n",
       "      <td>2023-01-10</td>\n",
       "      <td>B</td>\n",
       "    </tr>\n",
       "    <tr>\n",
       "      <th>11</th>\n",
       "      <td>Jack</td>\n",
       "      <td>31.0</td>\n",
       "      <td>London</td>\n",
       "      <td>58725.0</td>\n",
       "      <td>2023-01-10</td>\n",
       "      <td>B</td>\n",
       "    </tr>\n",
       "    <tr>\n",
       "      <th>13</th>\n",
       "      <td>Hannah</td>\n",
       "      <td>60.0</td>\n",
       "      <td>New York</td>\n",
       "      <td>NaN</td>\n",
       "      <td>2023-01-08</td>\n",
       "      <td>B</td>\n",
       "    </tr>\n",
       "  </tbody>\n",
       "</table>\n",
       "</div>"
      ],
      "text/plain": [
       "      Name   Age      City   Salary        Date Category\n",
       "0    Alice  45.0  New York  95445.0  2023-01-01        A\n",
       "1      Bob  58.0    London  86235.0  2023-01-02        B\n",
       "7   Hannah  60.0  New York  65413.0  2023-01-08        B\n",
       "9     Jack  31.0    London  58725.0  2023-01-10        B\n",
       "11    Jack  31.0    London  58725.0  2023-01-10        B\n",
       "13  Hannah  60.0  New York      NaN  2023-01-08        B"
      ]
     },
     "execution_count": 55,
     "metadata": {},
     "output_type": "execute_result"
    }
   ],
   "source": [
    "df[df['City'].isin(['New York','London'])] #accessing rows where city is NewYork or London"
   ]
  },
  {
   "cell_type": "markdown",
   "id": "96fd5b24",
   "metadata": {},
   "source": [
    "**Query**"
   ]
  },
  {
   "cell_type": "code",
   "execution_count": 56,
   "id": "1c838743",
   "metadata": {},
   "outputs": [
    {
     "data": {
      "text/html": [
       "<div>\n",
       "<style scoped>\n",
       "    .dataframe tbody tr th:only-of-type {\n",
       "        vertical-align: middle;\n",
       "    }\n",
       "\n",
       "    .dataframe tbody tr th {\n",
       "        vertical-align: top;\n",
       "    }\n",
       "\n",
       "    .dataframe thead th {\n",
       "        text-align: right;\n",
       "    }\n",
       "</style>\n",
       "<table border=\"1\" class=\"dataframe\">\n",
       "  <thead>\n",
       "    <tr style=\"text-align: right;\">\n",
       "      <th></th>\n",
       "      <th>Name</th>\n",
       "      <th>Age</th>\n",
       "      <th>City</th>\n",
       "      <th>Salary</th>\n",
       "      <th>Date</th>\n",
       "      <th>Category</th>\n",
       "    </tr>\n",
       "  </thead>\n",
       "  <tbody>\n",
       "    <tr>\n",
       "      <th>0</th>\n",
       "      <td>Alice</td>\n",
       "      <td>45.0</td>\n",
       "      <td>New York</td>\n",
       "      <td>95445.0</td>\n",
       "      <td>2023-01-01</td>\n",
       "      <td>A</td>\n",
       "    </tr>\n",
       "    <tr>\n",
       "      <th>1</th>\n",
       "      <td>Bob</td>\n",
       "      <td>58.0</td>\n",
       "      <td>London</td>\n",
       "      <td>86235.0</td>\n",
       "      <td>2023-01-02</td>\n",
       "      <td>B</td>\n",
       "    </tr>\n",
       "    <tr>\n",
       "      <th>2</th>\n",
       "      <td>Charlie</td>\n",
       "      <td>60.0</td>\n",
       "      <td>Tokyo</td>\n",
       "      <td>62330.0</td>\n",
       "      <td>2023-01-03</td>\n",
       "      <td>C</td>\n",
       "    </tr>\n",
       "    <tr>\n",
       "      <th>4</th>\n",
       "      <td>Eva</td>\n",
       "      <td>49.0</td>\n",
       "      <td>Berlin</td>\n",
       "      <td>65999.0</td>\n",
       "      <td>2023-01-05</td>\n",
       "      <td>B</td>\n",
       "    </tr>\n",
       "    <tr>\n",
       "      <th>5</th>\n",
       "      <td>Frank</td>\n",
       "      <td>67.0</td>\n",
       "      <td>Paris</td>\n",
       "      <td>88320.0</td>\n",
       "      <td>2023-01-06</td>\n",
       "      <td>A</td>\n",
       "    </tr>\n",
       "    <tr>\n",
       "      <th>7</th>\n",
       "      <td>Hannah</td>\n",
       "      <td>60.0</td>\n",
       "      <td>New York</td>\n",
       "      <td>65413.0</td>\n",
       "      <td>2023-01-08</td>\n",
       "      <td>B</td>\n",
       "    </tr>\n",
       "    <tr>\n",
       "      <th>8</th>\n",
       "      <td>Ivan</td>\n",
       "      <td>37.0</td>\n",
       "      <td>Tokyo</td>\n",
       "      <td>87016.0</td>\n",
       "      <td>2023-01-09</td>\n",
       "      <td>A</td>\n",
       "    </tr>\n",
       "    <tr>\n",
       "      <th>9</th>\n",
       "      <td>Jack</td>\n",
       "      <td>31.0</td>\n",
       "      <td>London</td>\n",
       "      <td>58725.0</td>\n",
       "      <td>2023-01-10</td>\n",
       "      <td>B</td>\n",
       "    </tr>\n",
       "    <tr>\n",
       "      <th>10</th>\n",
       "      <td>Ivan</td>\n",
       "      <td>37.0</td>\n",
       "      <td>Tokyo</td>\n",
       "      <td>87016.0</td>\n",
       "      <td>2023-01-09</td>\n",
       "      <td>A</td>\n",
       "    </tr>\n",
       "    <tr>\n",
       "      <th>11</th>\n",
       "      <td>Jack</td>\n",
       "      <td>31.0</td>\n",
       "      <td>London</td>\n",
       "      <td>58725.0</td>\n",
       "      <td>2023-01-10</td>\n",
       "      <td>B</td>\n",
       "    </tr>\n",
       "    <tr>\n",
       "      <th>13</th>\n",
       "      <td>Hannah</td>\n",
       "      <td>60.0</td>\n",
       "      <td>New York</td>\n",
       "      <td>NaN</td>\n",
       "      <td>2023-01-08</td>\n",
       "      <td>B</td>\n",
       "    </tr>\n",
       "  </tbody>\n",
       "</table>\n",
       "</div>"
      ],
      "text/plain": [
       "       Name   Age      City   Salary        Date Category\n",
       "0     Alice  45.0  New York  95445.0  2023-01-01        A\n",
       "1       Bob  58.0    London  86235.0  2023-01-02        B\n",
       "2   Charlie  60.0     Tokyo  62330.0  2023-01-03        C\n",
       "4       Eva  49.0    Berlin  65999.0  2023-01-05        B\n",
       "5     Frank  67.0     Paris  88320.0  2023-01-06        A\n",
       "7    Hannah  60.0  New York  65413.0  2023-01-08        B\n",
       "8      Ivan  37.0     Tokyo  87016.0  2023-01-09        A\n",
       "9      Jack  31.0    London  58725.0  2023-01-10        B\n",
       "10     Ivan  37.0     Tokyo  87016.0  2023-01-09        A\n",
       "11     Jack  31.0    London  58725.0  2023-01-10        B\n",
       "13   Hannah  60.0  New York      NaN  2023-01-08        B"
      ]
     },
     "execution_count": 56,
     "metadata": {},
     "output_type": "execute_result"
    }
   ],
   "source": [
    "df.query('Age>30') #accessing rows where age is greater than 30"
   ]
  },
  {
   "cell_type": "code",
   "execution_count": 57,
   "id": "4df965a4",
   "metadata": {},
   "outputs": [
    {
     "data": {
      "text/html": [
       "<div>\n",
       "<style scoped>\n",
       "    .dataframe tbody tr th:only-of-type {\n",
       "        vertical-align: middle;\n",
       "    }\n",
       "\n",
       "    .dataframe tbody tr th {\n",
       "        vertical-align: top;\n",
       "    }\n",
       "\n",
       "    .dataframe thead th {\n",
       "        text-align: right;\n",
       "    }\n",
       "</style>\n",
       "<table border=\"1\" class=\"dataframe\">\n",
       "  <thead>\n",
       "    <tr style=\"text-align: right;\">\n",
       "      <th></th>\n",
       "      <th>Name</th>\n",
       "      <th>Age</th>\n",
       "      <th>City</th>\n",
       "      <th>Salary</th>\n",
       "      <th>Date</th>\n",
       "      <th>Category</th>\n",
       "    </tr>\n",
       "  </thead>\n",
       "  <tbody>\n",
       "    <tr>\n",
       "      <th>2</th>\n",
       "      <td>Charlie</td>\n",
       "      <td>60.0</td>\n",
       "      <td>Tokyo</td>\n",
       "      <td>62330.0</td>\n",
       "      <td>2023-01-03</td>\n",
       "      <td>C</td>\n",
       "    </tr>\n",
       "    <tr>\n",
       "      <th>6</th>\n",
       "      <td>Grace</td>\n",
       "      <td>NaN</td>\n",
       "      <td>Berlin</td>\n",
       "      <td>57141.0</td>\n",
       "      <td>2023-01-07</td>\n",
       "      <td>C</td>\n",
       "    </tr>\n",
       "  </tbody>\n",
       "</table>\n",
       "</div>"
      ],
      "text/plain": [
       "      Name   Age    City   Salary        Date Category\n",
       "2  Charlie  60.0   Tokyo  62330.0  2023-01-03        C\n",
       "6    Grace   NaN  Berlin  57141.0  2023-01-07        C"
      ]
     },
     "execution_count": 57,
     "metadata": {},
     "output_type": "execute_result"
    }
   ],
   "source": [
    "df.query('Category ==\"C\"') #accessing rows where category is C"
   ]
  },
  {
   "cell_type": "code",
   "execution_count": 58,
   "id": "d950bb3b",
   "metadata": {},
   "outputs": [
    {
     "data": {
      "text/html": [
       "<div>\n",
       "<style scoped>\n",
       "    .dataframe tbody tr th:only-of-type {\n",
       "        vertical-align: middle;\n",
       "    }\n",
       "\n",
       "    .dataframe tbody tr th {\n",
       "        vertical-align: top;\n",
       "    }\n",
       "\n",
       "    .dataframe thead th {\n",
       "        text-align: right;\n",
       "    }\n",
       "</style>\n",
       "<table border=\"1\" class=\"dataframe\">\n",
       "  <thead>\n",
       "    <tr style=\"text-align: right;\">\n",
       "      <th></th>\n",
       "      <th>Name</th>\n",
       "      <th>Age</th>\n",
       "      <th>City</th>\n",
       "      <th>Salary</th>\n",
       "      <th>Date</th>\n",
       "      <th>Category</th>\n",
       "    </tr>\n",
       "  </thead>\n",
       "  <tbody>\n",
       "    <tr>\n",
       "      <th>0</th>\n",
       "      <td>Alice</td>\n",
       "      <td>45.0</td>\n",
       "      <td>New York</td>\n",
       "      <td>95445.0</td>\n",
       "      <td>2023-01-01</td>\n",
       "      <td>A</td>\n",
       "    </tr>\n",
       "    <tr>\n",
       "      <th>5</th>\n",
       "      <td>Frank</td>\n",
       "      <td>67.0</td>\n",
       "      <td>Paris</td>\n",
       "      <td>88320.0</td>\n",
       "      <td>2023-01-06</td>\n",
       "      <td>A</td>\n",
       "    </tr>\n",
       "    <tr>\n",
       "      <th>8</th>\n",
       "      <td>Ivan</td>\n",
       "      <td>37.0</td>\n",
       "      <td>Tokyo</td>\n",
       "      <td>87016.0</td>\n",
       "      <td>2023-01-09</td>\n",
       "      <td>A</td>\n",
       "    </tr>\n",
       "    <tr>\n",
       "      <th>10</th>\n",
       "      <td>Ivan</td>\n",
       "      <td>37.0</td>\n",
       "      <td>Tokyo</td>\n",
       "      <td>87016.0</td>\n",
       "      <td>2023-01-09</td>\n",
       "      <td>A</td>\n",
       "    </tr>\n",
       "  </tbody>\n",
       "</table>\n",
       "</div>"
      ],
      "text/plain": [
       "     Name   Age      City   Salary        Date Category\n",
       "0   Alice  45.0  New York  95445.0  2023-01-01        A\n",
       "5   Frank  67.0     Paris  88320.0  2023-01-06        A\n",
       "8    Ivan  37.0     Tokyo  87016.0  2023-01-09        A\n",
       "10   Ivan  37.0     Tokyo  87016.0  2023-01-09        A"
      ]
     },
     "execution_count": 58,
     "metadata": {},
     "output_type": "execute_result"
    }
   ],
   "source": [
    "df.query('Age > 30 & Category == \"A\"') #using query to access rows where age is greater than 30 and category is A"
   ]
  },
  {
   "cell_type": "markdown",
   "id": "9e07f0d7",
   "metadata": {},
   "source": [
    "**Where**"
   ]
  },
  {
   "cell_type": "code",
   "execution_count": 59,
   "id": "699d8604",
   "metadata": {},
   "outputs": [],
   "source": [
    "import numpy as np"
   ]
  },
  {
   "cell_type": "code",
   "execution_count": 60,
   "id": "21b178bb",
   "metadata": {},
   "outputs": [
    {
     "data": {
      "text/plain": [
       "(array([ 0,  1,  2,  4,  5,  7,  8,  9, 10, 11, 13]),)"
      ]
     },
     "execution_count": 60,
     "metadata": {},
     "output_type": "execute_result"
    }
   ],
   "source": [
    "np.where(df['Age']>30) #Based on index validate "
   ]
  },
  {
   "cell_type": "markdown",
   "id": "cda9bb21",
   "metadata": {},
   "source": [
    "**Accessing value and Modify**"
   ]
  },
  {
   "cell_type": "code",
   "execution_count": 61,
   "id": "1e5bb222",
   "metadata": {},
   "outputs": [
    {
     "data": {
      "text/plain": [
       "'Charlie'"
      ]
     },
     "execution_count": 61,
     "metadata": {},
     "output_type": "execute_result"
    }
   ],
   "source": [
    "df['Name'][2]"
   ]
  },
  {
   "cell_type": "code",
   "execution_count": 62,
   "id": "d8ca1dd2",
   "metadata": {},
   "outputs": [
    {
     "name": "stdout",
     "output_type": "stream",
     "text": [
      "Before Modifieng :Charlie\n",
      "After Modifieng :laxmi\n"
     ]
    }
   ],
   "source": [
    "print(f\"Before Modifieng :{df['Name'][2]}\")\n",
    "df['Name'][2]='laxmi'\n",
    "print(f\"After Modifieng :{df['Name'][2]}\")"
   ]
  },
  {
   "cell_type": "code",
   "execution_count": 63,
   "id": "8b2e505f",
   "metadata": {},
   "outputs": [
    {
     "data": {
      "text/plain": [
       "Name             laxmi\n",
       "Age               60.0\n",
       "City             Tokyo\n",
       "Salary         62330.0\n",
       "Date        2023-01-03\n",
       "Category             C\n",
       "Name: 2, dtype: object"
      ]
     },
     "execution_count": 63,
     "metadata": {},
     "output_type": "execute_result"
    }
   ],
   "source": [
    "df.loc[2] # accessing row with index 2"
   ]
  },
  {
   "cell_type": "markdown",
   "id": "52a6bc31",
   "metadata": {},
   "source": [
    "## String Methods "
   ]
  },
  {
   "cell_type": "code",
   "execution_count": 64,
   "id": "4ae35abb",
   "metadata": {},
   "outputs": [
    {
     "data": {
      "text/html": [
       "<div>\n",
       "<style scoped>\n",
       "    .dataframe tbody tr th:only-of-type {\n",
       "        vertical-align: middle;\n",
       "    }\n",
       "\n",
       "    .dataframe tbody tr th {\n",
       "        vertical-align: top;\n",
       "    }\n",
       "\n",
       "    .dataframe thead th {\n",
       "        text-align: right;\n",
       "    }\n",
       "</style>\n",
       "<table border=\"1\" class=\"dataframe\">\n",
       "  <thead>\n",
       "    <tr style=\"text-align: right;\">\n",
       "      <th></th>\n",
       "      <th>Name</th>\n",
       "      <th>Age</th>\n",
       "      <th>City</th>\n",
       "      <th>Salary</th>\n",
       "      <th>Date</th>\n",
       "      <th>Category</th>\n",
       "    </tr>\n",
       "  </thead>\n",
       "  <tbody>\n",
       "    <tr>\n",
       "      <th>1</th>\n",
       "      <td>Bob</td>\n",
       "      <td>58.0</td>\n",
       "      <td>London</td>\n",
       "      <td>86235.0</td>\n",
       "      <td>2023-01-02</td>\n",
       "      <td>B</td>\n",
       "    </tr>\n",
       "    <tr>\n",
       "      <th>9</th>\n",
       "      <td>Jack</td>\n",
       "      <td>31.0</td>\n",
       "      <td>London</td>\n",
       "      <td>58725.0</td>\n",
       "      <td>2023-01-10</td>\n",
       "      <td>B</td>\n",
       "    </tr>\n",
       "    <tr>\n",
       "      <th>11</th>\n",
       "      <td>Jack</td>\n",
       "      <td>31.0</td>\n",
       "      <td>London</td>\n",
       "      <td>58725.0</td>\n",
       "      <td>2023-01-10</td>\n",
       "      <td>B</td>\n",
       "    </tr>\n",
       "  </tbody>\n",
       "</table>\n",
       "</div>"
      ],
      "text/plain": [
       "    Name   Age    City   Salary        Date Category\n",
       "1    Bob  58.0  London  86235.0  2023-01-02        B\n",
       "9   Jack  31.0  London  58725.0  2023-01-10        B\n",
       "11  Jack  31.0  London  58725.0  2023-01-10        B"
      ]
     },
     "execution_count": 64,
     "metadata": {},
     "output_type": "execute_result"
    }
   ],
   "source": [
    "df[df['City'].str.contains('London',case=False)] #accessing rows where city contains London #case accept both upper and lowe case"
   ]
  },
  {
   "cell_type": "code",
   "execution_count": 65,
   "id": "5763c1f8",
   "metadata": {},
   "outputs": [
    {
     "data": {
      "text/plain": [
       "0     [New, York]\n",
       "1        [London]\n",
       "2         [Tokyo]\n",
       "3         [Paris]\n",
       "4        [Berlin]\n",
       "5         [Paris]\n",
       "6        [Berlin]\n",
       "7     [New, York]\n",
       "8         [Tokyo]\n",
       "9        [London]\n",
       "10        [Tokyo]\n",
       "11       [London]\n",
       "12       [Berlin]\n",
       "13    [New, York]\n",
       "Name: City, dtype: object"
      ]
     },
     "execution_count": 65,
     "metadata": {},
     "output_type": "execute_result"
    }
   ],
   "source": [
    "df['City'].str.split(' ') #splitting city column by space"
   ]
  },
  {
   "cell_type": "code",
   "execution_count": 66,
   "id": "8e111875",
   "metadata": {},
   "outputs": [
    {
     "data": {
      "text/plain": [
       "0        New\n",
       "1     London\n",
       "2      Tokyo\n",
       "3      Paris\n",
       "4     Berlin\n",
       "5      Paris\n",
       "6     Berlin\n",
       "7        New\n",
       "8      Tokyo\n",
       "9     London\n",
       "10     Tokyo\n",
       "11    London\n",
       "12    Berlin\n",
       "13       New\n",
       "Name: City, dtype: object"
      ]
     },
     "execution_count": 66,
     "metadata": {},
     "output_type": "execute_result"
    }
   ],
   "source": [
    "df['City'].str.split(' ').str.get(0) #getting first element after splitting city column by space"
   ]
  },
  {
   "cell_type": "code",
   "execution_count": 67,
   "id": "cd62aaa3",
   "metadata": {},
   "outputs": [
    {
     "data": {
      "text/plain": [
       "0     New York\n",
       "1        India\n",
       "2        Tokyo\n",
       "3        Paris\n",
       "4       Berlin\n",
       "5        Paris\n",
       "6       Berlin\n",
       "7     New York\n",
       "8        Tokyo\n",
       "9        India\n",
       "10       Tokyo\n",
       "11       India\n",
       "12      Berlin\n",
       "13    New York\n",
       "Name: City, dtype: object"
      ]
     },
     "execution_count": 67,
     "metadata": {},
     "output_type": "execute_result"
    }
   ],
   "source": [
    "df['City'].str.replace('London','India')  #replacing London with India in city column"
   ]
  },
  {
   "cell_type": "code",
   "execution_count": 68,
   "id": "200b8d95",
   "metadata": {},
   "outputs": [
    {
     "data": {
      "text/html": [
       "<div>\n",
       "<style scoped>\n",
       "    .dataframe tbody tr th:only-of-type {\n",
       "        vertical-align: middle;\n",
       "    }\n",
       "\n",
       "    .dataframe tbody tr th {\n",
       "        vertical-align: top;\n",
       "    }\n",
       "\n",
       "    .dataframe thead th {\n",
       "        text-align: right;\n",
       "    }\n",
       "</style>\n",
       "<table border=\"1\" class=\"dataframe\">\n",
       "  <thead>\n",
       "    <tr style=\"text-align: right;\">\n",
       "      <th></th>\n",
       "      <th>Name</th>\n",
       "      <th>Age</th>\n",
       "      <th>City</th>\n",
       "      <th>Salary</th>\n",
       "      <th>Date</th>\n",
       "      <th>Category</th>\n",
       "    </tr>\n",
       "  </thead>\n",
       "  <tbody>\n",
       "    <tr>\n",
       "      <th>0</th>\n",
       "      <td>Alice</td>\n",
       "      <td>45.0</td>\n",
       "      <td>New York</td>\n",
       "      <td>95445.0</td>\n",
       "      <td>2023-01-01</td>\n",
       "      <td>A</td>\n",
       "    </tr>\n",
       "    <tr>\n",
       "      <th>1</th>\n",
       "      <td>Bob</td>\n",
       "      <td>58.0</td>\n",
       "      <td>India</td>\n",
       "      <td>86235.0</td>\n",
       "      <td>2023-01-02</td>\n",
       "      <td>B</td>\n",
       "    </tr>\n",
       "    <tr>\n",
       "      <th>2</th>\n",
       "      <td>laxmi</td>\n",
       "      <td>60.0</td>\n",
       "      <td>Tokyo</td>\n",
       "      <td>62330.0</td>\n",
       "      <td>2023-01-03</td>\n",
       "      <td>C</td>\n",
       "    </tr>\n",
       "    <tr>\n",
       "      <th>3</th>\n",
       "      <td>David</td>\n",
       "      <td>28.0</td>\n",
       "      <td>Paris</td>\n",
       "      <td>46022.0</td>\n",
       "      <td>2023-01-04</td>\n",
       "      <td>A</td>\n",
       "    </tr>\n",
       "    <tr>\n",
       "      <th>4</th>\n",
       "      <td>Eva</td>\n",
       "      <td>49.0</td>\n",
       "      <td>Berlin</td>\n",
       "      <td>65999.0</td>\n",
       "      <td>2023-01-05</td>\n",
       "      <td>B</td>\n",
       "    </tr>\n",
       "    <tr>\n",
       "      <th>5</th>\n",
       "      <td>Frank</td>\n",
       "      <td>67.0</td>\n",
       "      <td>Paris</td>\n",
       "      <td>88320.0</td>\n",
       "      <td>2023-01-06</td>\n",
       "      <td>A</td>\n",
       "    </tr>\n",
       "    <tr>\n",
       "      <th>6</th>\n",
       "      <td>Grace</td>\n",
       "      <td>NaN</td>\n",
       "      <td>Berlin</td>\n",
       "      <td>57141.0</td>\n",
       "      <td>2023-01-07</td>\n",
       "      <td>C</td>\n",
       "    </tr>\n",
       "    <tr>\n",
       "      <th>7</th>\n",
       "      <td>Hannah</td>\n",
       "      <td>60.0</td>\n",
       "      <td>New York</td>\n",
       "      <td>65413.0</td>\n",
       "      <td>2023-01-08</td>\n",
       "      <td>B</td>\n",
       "    </tr>\n",
       "    <tr>\n",
       "      <th>8</th>\n",
       "      <td>Ivan</td>\n",
       "      <td>37.0</td>\n",
       "      <td>Tokyo</td>\n",
       "      <td>87016.0</td>\n",
       "      <td>2023-01-09</td>\n",
       "      <td>A</td>\n",
       "    </tr>\n",
       "    <tr>\n",
       "      <th>9</th>\n",
       "      <td>Jack</td>\n",
       "      <td>31.0</td>\n",
       "      <td>India</td>\n",
       "      <td>58725.0</td>\n",
       "      <td>2023-01-10</td>\n",
       "      <td>B</td>\n",
       "    </tr>\n",
       "    <tr>\n",
       "      <th>10</th>\n",
       "      <td>Ivan</td>\n",
       "      <td>37.0</td>\n",
       "      <td>Tokyo</td>\n",
       "      <td>87016.0</td>\n",
       "      <td>2023-01-09</td>\n",
       "      <td>A</td>\n",
       "    </tr>\n",
       "    <tr>\n",
       "      <th>11</th>\n",
       "      <td>Jack</td>\n",
       "      <td>31.0</td>\n",
       "      <td>India</td>\n",
       "      <td>58725.0</td>\n",
       "      <td>2023-01-10</td>\n",
       "      <td>B</td>\n",
       "    </tr>\n",
       "    <tr>\n",
       "      <th>12</th>\n",
       "      <td>Grace</td>\n",
       "      <td>29.0</td>\n",
       "      <td>Berlin</td>\n",
       "      <td>57141.0</td>\n",
       "      <td>2023-01-07</td>\n",
       "      <td>None</td>\n",
       "    </tr>\n",
       "    <tr>\n",
       "      <th>13</th>\n",
       "      <td>Hannah</td>\n",
       "      <td>60.0</td>\n",
       "      <td>New York</td>\n",
       "      <td>NaN</td>\n",
       "      <td>2023-01-08</td>\n",
       "      <td>B</td>\n",
       "    </tr>\n",
       "  </tbody>\n",
       "</table>\n",
       "</div>"
      ],
      "text/plain": [
       "      Name   Age      City   Salary        Date Category\n",
       "0    Alice  45.0  New York  95445.0  2023-01-01        A\n",
       "1      Bob  58.0     India  86235.0  2023-01-02        B\n",
       "2    laxmi  60.0     Tokyo  62330.0  2023-01-03        C\n",
       "3    David  28.0     Paris  46022.0  2023-01-04        A\n",
       "4      Eva  49.0    Berlin  65999.0  2023-01-05        B\n",
       "5    Frank  67.0     Paris  88320.0  2023-01-06        A\n",
       "6    Grace   NaN    Berlin  57141.0  2023-01-07        C\n",
       "7   Hannah  60.0  New York  65413.0  2023-01-08        B\n",
       "8     Ivan  37.0     Tokyo  87016.0  2023-01-09        A\n",
       "9     Jack  31.0     India  58725.0  2023-01-10        B\n",
       "10    Ivan  37.0     Tokyo  87016.0  2023-01-09        A\n",
       "11    Jack  31.0     India  58725.0  2023-01-10        B\n",
       "12   Grace  29.0    Berlin  57141.0  2023-01-07     None\n",
       "13  Hannah  60.0  New York      NaN  2023-01-08        B"
      ]
     },
     "execution_count": 68,
     "metadata": {},
     "output_type": "execute_result"
    }
   ],
   "source": [
    "df['City']=df['City'].str.replace('London','India')  # replacing London with India in city column\n",
    "df"
   ]
  },
  {
   "cell_type": "code",
   "execution_count": 69,
   "id": "d7d690c2",
   "metadata": {},
   "outputs": [
    {
     "data": {
      "text/html": [
       "<div>\n",
       "<style scoped>\n",
       "    .dataframe tbody tr th:only-of-type {\n",
       "        vertical-align: middle;\n",
       "    }\n",
       "\n",
       "    .dataframe tbody tr th {\n",
       "        vertical-align: top;\n",
       "    }\n",
       "\n",
       "    .dataframe thead th {\n",
       "        text-align: right;\n",
       "    }\n",
       "</style>\n",
       "<table border=\"1\" class=\"dataframe\">\n",
       "  <thead>\n",
       "    <tr style=\"text-align: right;\">\n",
       "      <th></th>\n",
       "      <th>Name</th>\n",
       "      <th>Age</th>\n",
       "      <th>City</th>\n",
       "      <th>Salary</th>\n",
       "      <th>Date</th>\n",
       "      <th>Category</th>\n",
       "    </tr>\n",
       "  </thead>\n",
       "  <tbody>\n",
       "    <tr>\n",
       "      <th>0</th>\n",
       "      <td>Alice</td>\n",
       "      <td>45.0</td>\n",
       "      <td>New York</td>\n",
       "      <td>95445.0</td>\n",
       "      <td>2023-01-01</td>\n",
       "      <td>A</td>\n",
       "    </tr>\n",
       "  </tbody>\n",
       "</table>\n",
       "</div>"
      ],
      "text/plain": [
       "    Name   Age      City   Salary        Date Category\n",
       "0  Alice  45.0  New York  95445.0  2023-01-01        A"
      ]
     },
     "execution_count": 69,
     "metadata": {},
     "output_type": "execute_result"
    }
   ],
   "source": [
    "df[df['Name'].str.startswith('A')] #accessing rows where name starts with A"
   ]
  },
  {
   "cell_type": "code",
   "execution_count": 70,
   "id": "62e273cd",
   "metadata": {},
   "outputs": [
    {
     "data": {
      "text/html": [
       "<div>\n",
       "<style scoped>\n",
       "    .dataframe tbody tr th:only-of-type {\n",
       "        vertical-align: middle;\n",
       "    }\n",
       "\n",
       "    .dataframe tbody tr th {\n",
       "        vertical-align: top;\n",
       "    }\n",
       "\n",
       "    .dataframe thead th {\n",
       "        text-align: right;\n",
       "    }\n",
       "</style>\n",
       "<table border=\"1\" class=\"dataframe\">\n",
       "  <thead>\n",
       "    <tr style=\"text-align: right;\">\n",
       "      <th></th>\n",
       "      <th>Name</th>\n",
       "      <th>Age</th>\n",
       "      <th>City</th>\n",
       "      <th>Salary</th>\n",
       "      <th>Date</th>\n",
       "      <th>Category</th>\n",
       "    </tr>\n",
       "  </thead>\n",
       "  <tbody>\n",
       "    <tr>\n",
       "      <th>2</th>\n",
       "      <td>laxmi</td>\n",
       "      <td>60.0</td>\n",
       "      <td>Tokyo</td>\n",
       "      <td>62330.0</td>\n",
       "      <td>2023-01-03</td>\n",
       "      <td>C</td>\n",
       "    </tr>\n",
       "  </tbody>\n",
       "</table>\n",
       "</div>"
      ],
      "text/plain": [
       "    Name   Age   City   Salary        Date Category\n",
       "2  laxmi  60.0  Tokyo  62330.0  2023-01-03        C"
      ]
     },
     "execution_count": 70,
     "metadata": {},
     "output_type": "execute_result"
    }
   ],
   "source": [
    "df[df['Name'].str.endswith('i')] # accessing rows where name ends with i"
   ]
  },
  {
   "cell_type": "markdown",
   "id": "90826cb8",
   "metadata": {},
   "source": [
    "## **Data Manipulation**\n",
    "Data Manipulation is the process of organizing, modifying, and transforming data to make it more structured, accurate, and useful for analysis or decision-making.\n",
    "\n",
    "- Operations – Includes adding, deleting, updating, filtering, and sorting data.\n",
    "\n",
    "- Tools – Commonly done using SQL, Python (Pandas), Excel, or data manipulation languages.\n",
    "\n",
    "- Purpose – Helps clean and prepare raw data for reporting, visualization, or machine learning."
   ]
  },
  {
   "cell_type": "code",
   "execution_count": 71,
   "id": "9cf4eff0",
   "metadata": {},
   "outputs": [],
   "source": [
    "df['Name1']=df['Name'].str.upper() # uppercase all names"
   ]
  },
  {
   "cell_type": "code",
   "execution_count": 72,
   "id": "7cfeee9e",
   "metadata": {},
   "outputs": [],
   "source": [
    "df['Name1']=df['Name'].str.lower() # lowercase all names"
   ]
  },
  {
   "cell_type": "code",
   "execution_count": 73,
   "id": "4187c51c",
   "metadata": {},
   "outputs": [],
   "source": [
    "df['Name1']=df['Name'].str.capitalize() # capitalizing first letter of each name"
   ]
  },
  {
   "cell_type": "code",
   "execution_count": 74,
   "id": "a944fbb3",
   "metadata": {},
   "outputs": [
    {
     "data": {
      "text/plain": [
       "np.int64(2)"
      ]
     },
     "execution_count": 74,
     "metadata": {},
     "output_type": "execute_result"
    }
   ],
   "source": [
    "df['Name'].str.count('Hannah').sum() #counting the number of times Hannah appears in Name column"
   ]
  },
  {
   "cell_type": "code",
   "execution_count": 75,
   "id": "c0e8b242",
   "metadata": {},
   "outputs": [
    {
     "data": {
      "text/plain": [
       "0      Alice Mr\n",
       "1        Bob Mr\n",
       "2      laxmi Mr\n",
       "3      David Mr\n",
       "4        Eva Mr\n",
       "5      Frank Mr\n",
       "6      Grace Mr\n",
       "7     Hannah Mr\n",
       "8       Ivan Mr\n",
       "9       Jack Mr\n",
       "10      Ivan Mr\n",
       "11      Jack Mr\n",
       "12     Grace Mr\n",
       "13    Hannah Mr\n",
       "Name: Name, dtype: object"
      ]
     },
     "execution_count": 75,
     "metadata": {},
     "output_type": "execute_result"
    }
   ],
   "source": [
    "df['Name'].add(' Mr') #adding Mr to each name in Name column"
   ]
  },
  {
   "cell_type": "code",
   "execution_count": 76,
   "id": "c86c7a30",
   "metadata": {},
   "outputs": [
    {
     "data": {
      "text/html": [
       "<div>\n",
       "<style scoped>\n",
       "    .dataframe tbody tr th:only-of-type {\n",
       "        vertical-align: middle;\n",
       "    }\n",
       "\n",
       "    .dataframe tbody tr th {\n",
       "        vertical-align: top;\n",
       "    }\n",
       "\n",
       "    .dataframe thead th {\n",
       "        text-align: right;\n",
       "    }\n",
       "</style>\n",
       "<table border=\"1\" class=\"dataframe\">\n",
       "  <thead>\n",
       "    <tr style=\"text-align: right;\">\n",
       "      <th></th>\n",
       "      <th>Full Name</th>\n",
       "      <th>Age</th>\n",
       "      <th>City</th>\n",
       "      <th>Salary</th>\n",
       "      <th>Date</th>\n",
       "      <th>Category</th>\n",
       "      <th>Name1</th>\n",
       "    </tr>\n",
       "  </thead>\n",
       "  <tbody>\n",
       "    <tr>\n",
       "      <th>0</th>\n",
       "      <td>Alice</td>\n",
       "      <td>45.0</td>\n",
       "      <td>New York</td>\n",
       "      <td>95445.0</td>\n",
       "      <td>2023-01-01</td>\n",
       "      <td>A</td>\n",
       "      <td>Alice</td>\n",
       "    </tr>\n",
       "    <tr>\n",
       "      <th>1</th>\n",
       "      <td>Bob</td>\n",
       "      <td>58.0</td>\n",
       "      <td>India</td>\n",
       "      <td>86235.0</td>\n",
       "      <td>2023-01-02</td>\n",
       "      <td>B</td>\n",
       "      <td>Bob</td>\n",
       "    </tr>\n",
       "    <tr>\n",
       "      <th>2</th>\n",
       "      <td>laxmi</td>\n",
       "      <td>60.0</td>\n",
       "      <td>Tokyo</td>\n",
       "      <td>62330.0</td>\n",
       "      <td>2023-01-03</td>\n",
       "      <td>C</td>\n",
       "      <td>Laxmi</td>\n",
       "    </tr>\n",
       "    <tr>\n",
       "      <th>3</th>\n",
       "      <td>David</td>\n",
       "      <td>28.0</td>\n",
       "      <td>Paris</td>\n",
       "      <td>46022.0</td>\n",
       "      <td>2023-01-04</td>\n",
       "      <td>A</td>\n",
       "      <td>David</td>\n",
       "    </tr>\n",
       "    <tr>\n",
       "      <th>4</th>\n",
       "      <td>Eva</td>\n",
       "      <td>49.0</td>\n",
       "      <td>Berlin</td>\n",
       "      <td>65999.0</td>\n",
       "      <td>2023-01-05</td>\n",
       "      <td>B</td>\n",
       "      <td>Eva</td>\n",
       "    </tr>\n",
       "    <tr>\n",
       "      <th>5</th>\n",
       "      <td>Frank</td>\n",
       "      <td>67.0</td>\n",
       "      <td>Paris</td>\n",
       "      <td>88320.0</td>\n",
       "      <td>2023-01-06</td>\n",
       "      <td>A</td>\n",
       "      <td>Frank</td>\n",
       "    </tr>\n",
       "    <tr>\n",
       "      <th>6</th>\n",
       "      <td>Grace</td>\n",
       "      <td>NaN</td>\n",
       "      <td>Berlin</td>\n",
       "      <td>57141.0</td>\n",
       "      <td>2023-01-07</td>\n",
       "      <td>C</td>\n",
       "      <td>Grace</td>\n",
       "    </tr>\n",
       "    <tr>\n",
       "      <th>7</th>\n",
       "      <td>Hannah</td>\n",
       "      <td>60.0</td>\n",
       "      <td>New York</td>\n",
       "      <td>65413.0</td>\n",
       "      <td>2023-01-08</td>\n",
       "      <td>B</td>\n",
       "      <td>Hannah</td>\n",
       "    </tr>\n",
       "    <tr>\n",
       "      <th>8</th>\n",
       "      <td>Ivan</td>\n",
       "      <td>37.0</td>\n",
       "      <td>Tokyo</td>\n",
       "      <td>87016.0</td>\n",
       "      <td>2023-01-09</td>\n",
       "      <td>A</td>\n",
       "      <td>Ivan</td>\n",
       "    </tr>\n",
       "    <tr>\n",
       "      <th>9</th>\n",
       "      <td>Jack</td>\n",
       "      <td>31.0</td>\n",
       "      <td>India</td>\n",
       "      <td>58725.0</td>\n",
       "      <td>2023-01-10</td>\n",
       "      <td>B</td>\n",
       "      <td>Jack</td>\n",
       "    </tr>\n",
       "    <tr>\n",
       "      <th>10</th>\n",
       "      <td>Ivan</td>\n",
       "      <td>37.0</td>\n",
       "      <td>Tokyo</td>\n",
       "      <td>87016.0</td>\n",
       "      <td>2023-01-09</td>\n",
       "      <td>A</td>\n",
       "      <td>Ivan</td>\n",
       "    </tr>\n",
       "    <tr>\n",
       "      <th>11</th>\n",
       "      <td>Jack</td>\n",
       "      <td>31.0</td>\n",
       "      <td>India</td>\n",
       "      <td>58725.0</td>\n",
       "      <td>2023-01-10</td>\n",
       "      <td>B</td>\n",
       "      <td>Jack</td>\n",
       "    </tr>\n",
       "    <tr>\n",
       "      <th>12</th>\n",
       "      <td>Grace</td>\n",
       "      <td>29.0</td>\n",
       "      <td>Berlin</td>\n",
       "      <td>57141.0</td>\n",
       "      <td>2023-01-07</td>\n",
       "      <td>None</td>\n",
       "      <td>Grace</td>\n",
       "    </tr>\n",
       "    <tr>\n",
       "      <th>13</th>\n",
       "      <td>Hannah</td>\n",
       "      <td>60.0</td>\n",
       "      <td>New York</td>\n",
       "      <td>NaN</td>\n",
       "      <td>2023-01-08</td>\n",
       "      <td>B</td>\n",
       "      <td>Hannah</td>\n",
       "    </tr>\n",
       "  </tbody>\n",
       "</table>\n",
       "</div>"
      ],
      "text/plain": [
       "   Full Name   Age      City   Salary        Date Category   Name1\n",
       "0      Alice  45.0  New York  95445.0  2023-01-01        A   Alice\n",
       "1        Bob  58.0     India  86235.0  2023-01-02        B     Bob\n",
       "2      laxmi  60.0     Tokyo  62330.0  2023-01-03        C   Laxmi\n",
       "3      David  28.0     Paris  46022.0  2023-01-04        A   David\n",
       "4        Eva  49.0    Berlin  65999.0  2023-01-05        B     Eva\n",
       "5      Frank  67.0     Paris  88320.0  2023-01-06        A   Frank\n",
       "6      Grace   NaN    Berlin  57141.0  2023-01-07        C   Grace\n",
       "7     Hannah  60.0  New York  65413.0  2023-01-08        B  Hannah\n",
       "8       Ivan  37.0     Tokyo  87016.0  2023-01-09        A    Ivan\n",
       "9       Jack  31.0     India  58725.0  2023-01-10        B    Jack\n",
       "10      Ivan  37.0     Tokyo  87016.0  2023-01-09        A    Ivan\n",
       "11      Jack  31.0     India  58725.0  2023-01-10        B    Jack\n",
       "12     Grace  29.0    Berlin  57141.0  2023-01-07     None   Grace\n",
       "13    Hannah  60.0  New York      NaN  2023-01-08        B  Hannah"
      ]
     },
     "execution_count": 76,
     "metadata": {},
     "output_type": "execute_result"
    }
   ],
   "source": [
    "df.rename(columns={'Name':'Full Name'},inplace =True) # renaming Name column to Full Name\n",
    "df"
   ]
  },
  {
   "cell_type": "markdown",
   "id": "08d02250",
   "metadata": {},
   "source": [
    "**Data Cleaning**\n",
    "\n",
    "Errors\n",
    "\n",
    "- Missing values =no values or empty causes due to data entry issue, during transformation from one device to another due to loading\n",
    "- Duplicates = row has been repeated multiple times causes due to misconception\n",
    "- Outlier = \n",
    "\n",
    "- Null value find out by isnull, isna, notna, notnull\n",
    "- Handling missing values\n",
    "\n",
    "- Accepting, dropping,imputation\n",
    "in drop there are 2 types list and point wise \n",
    "\n",
    "- imputation replace null values with determined value, determined means there are numerical(mean) and categorical(mode) replace using fillna\n",
    "- duplicates  handled by droping duplicates\n",
    "- outliers handled by z-score (formula) it must be b/w -3 to +3 otherwise it is an outlier\n",
    "and IQR =Q3 - Q1 if any of them exceeding lower and upper fence then it is an outlier\n",
    "- handling outlier through retain,remove and transformation(logroot,square root, cube root transformation)"
   ]
  },
  {
   "cell_type": "code",
   "execution_count": 77,
   "id": "0a67579f",
   "metadata": {},
   "outputs": [
    {
     "data": {
      "text/html": [
       "<div>\n",
       "<style scoped>\n",
       "    .dataframe tbody tr th:only-of-type {\n",
       "        vertical-align: middle;\n",
       "    }\n",
       "\n",
       "    .dataframe tbody tr th {\n",
       "        vertical-align: top;\n",
       "    }\n",
       "\n",
       "    .dataframe thead th {\n",
       "        text-align: right;\n",
       "    }\n",
       "</style>\n",
       "<table border=\"1\" class=\"dataframe\">\n",
       "  <thead>\n",
       "    <tr style=\"text-align: right;\">\n",
       "      <th></th>\n",
       "      <th>A</th>\n",
       "      <th>B</th>\n",
       "    </tr>\n",
       "  </thead>\n",
       "  <tbody>\n",
       "    <tr>\n",
       "      <th>0</th>\n",
       "      <td>1.0</td>\n",
       "      <td>7.0</td>\n",
       "    </tr>\n",
       "    <tr>\n",
       "      <th>1</th>\n",
       "      <td>2.0</td>\n",
       "      <td>NaN</td>\n",
       "    </tr>\n",
       "    <tr>\n",
       "      <th>2</th>\n",
       "      <td>NaN</td>\n",
       "      <td>9.0</td>\n",
       "    </tr>\n",
       "    <tr>\n",
       "      <th>3</th>\n",
       "      <td>4.0</td>\n",
       "      <td>NaN</td>\n",
       "    </tr>\n",
       "    <tr>\n",
       "      <th>4</th>\n",
       "      <td>NaN</td>\n",
       "      <td>11.0</td>\n",
       "    </tr>\n",
       "    <tr>\n",
       "      <th>5</th>\n",
       "      <td>6.0</td>\n",
       "      <td>NaN</td>\n",
       "    </tr>\n",
       "    <tr>\n",
       "      <th>6</th>\n",
       "      <td>7.0</td>\n",
       "      <td>50.0</td>\n",
       "    </tr>\n",
       "    <tr>\n",
       "      <th>7</th>\n",
       "      <td>1.0</td>\n",
       "      <td>7.0</td>\n",
       "    </tr>\n",
       "    <tr>\n",
       "      <th>8</th>\n",
       "      <td>100.0</td>\n",
       "      <td>7.0</td>\n",
       "    </tr>\n",
       "  </tbody>\n",
       "</table>\n",
       "</div>"
      ],
      "text/plain": [
       "       A     B\n",
       "0    1.0   7.0\n",
       "1    2.0   NaN\n",
       "2    NaN   9.0\n",
       "3    4.0   NaN\n",
       "4    NaN  11.0\n",
       "5    6.0   NaN\n",
       "6    7.0  50.0\n",
       "7    1.0   7.0\n",
       "8  100.0   7.0"
      ]
     },
     "execution_count": 77,
     "metadata": {},
     "output_type": "execute_result"
    }
   ],
   "source": [
    "data =pd.DataFrame({'A':[1,2,None, 4,None,6,7,1,100],'B':[7,None,9,None,11,None,50,7,7]})\n",
    "data # creating a dataframe with missing values"
   ]
  },
  {
   "cell_type": "code",
   "execution_count": 78,
   "id": "225c9f9b",
   "metadata": {},
   "outputs": [
    {
     "data": {
      "text/html": [
       "<div>\n",
       "<style scoped>\n",
       "    .dataframe tbody tr th:only-of-type {\n",
       "        vertical-align: middle;\n",
       "    }\n",
       "\n",
       "    .dataframe tbody tr th {\n",
       "        vertical-align: top;\n",
       "    }\n",
       "\n",
       "    .dataframe thead th {\n",
       "        text-align: right;\n",
       "    }\n",
       "</style>\n",
       "<table border=\"1\" class=\"dataframe\">\n",
       "  <thead>\n",
       "    <tr style=\"text-align: right;\">\n",
       "      <th></th>\n",
       "      <th>A</th>\n",
       "      <th>B</th>\n",
       "    </tr>\n",
       "  </thead>\n",
       "  <tbody>\n",
       "    <tr>\n",
       "      <th>0</th>\n",
       "      <td>False</td>\n",
       "      <td>False</td>\n",
       "    </tr>\n",
       "    <tr>\n",
       "      <th>1</th>\n",
       "      <td>False</td>\n",
       "      <td>True</td>\n",
       "    </tr>\n",
       "    <tr>\n",
       "      <th>2</th>\n",
       "      <td>True</td>\n",
       "      <td>False</td>\n",
       "    </tr>\n",
       "    <tr>\n",
       "      <th>3</th>\n",
       "      <td>False</td>\n",
       "      <td>True</td>\n",
       "    </tr>\n",
       "    <tr>\n",
       "      <th>4</th>\n",
       "      <td>True</td>\n",
       "      <td>False</td>\n",
       "    </tr>\n",
       "    <tr>\n",
       "      <th>5</th>\n",
       "      <td>False</td>\n",
       "      <td>True</td>\n",
       "    </tr>\n",
       "    <tr>\n",
       "      <th>6</th>\n",
       "      <td>False</td>\n",
       "      <td>False</td>\n",
       "    </tr>\n",
       "    <tr>\n",
       "      <th>7</th>\n",
       "      <td>False</td>\n",
       "      <td>False</td>\n",
       "    </tr>\n",
       "    <tr>\n",
       "      <th>8</th>\n",
       "      <td>False</td>\n",
       "      <td>False</td>\n",
       "    </tr>\n",
       "  </tbody>\n",
       "</table>\n",
       "</div>"
      ],
      "text/plain": [
       "       A      B\n",
       "0  False  False\n",
       "1  False   True\n",
       "2   True  False\n",
       "3  False   True\n",
       "4   True  False\n",
       "5  False   True\n",
       "6  False  False\n",
       "7  False  False\n",
       "8  False  False"
      ]
     },
     "execution_count": 78,
     "metadata": {},
     "output_type": "execute_result"
    }
   ],
   "source": [
    "data.isnull() # checking for null values in the dataframe"
   ]
  },
  {
   "cell_type": "code",
   "execution_count": 79,
   "id": "a628ce37",
   "metadata": {},
   "outputs": [
    {
     "data": {
      "text/plain": [
       "A    2\n",
       "B    3\n",
       "dtype: int64"
      ]
     },
     "execution_count": 79,
     "metadata": {},
     "output_type": "execute_result"
    }
   ],
   "source": [
    "data.isnull().sum() # counting the number of null values in each column"
   ]
  },
  {
   "cell_type": "code",
   "execution_count": 80,
   "id": "b6eb5b76",
   "metadata": {},
   "outputs": [
    {
     "data": {
      "text/plain": [
       "0    False\n",
       "1    False\n",
       "2    False\n",
       "3    False\n",
       "4    False\n",
       "5    False\n",
       "6    False\n",
       "7     True\n",
       "8    False\n",
       "dtype: bool"
      ]
     },
     "execution_count": 80,
     "metadata": {},
     "output_type": "execute_result"
    }
   ],
   "source": [
    "data.duplicated() # counting the number of duplicate rows"
   ]
  },
  {
   "cell_type": "code",
   "execution_count": 81,
   "id": "f40c5511",
   "metadata": {},
   "outputs": [
    {
     "data": {
      "text/plain": [
       "np.int64(1)"
      ]
     },
     "execution_count": 81,
     "metadata": {},
     "output_type": "execute_result"
    }
   ],
   "source": [
    "data.duplicated().sum() # counting the number of duplicate rows"
   ]
  },
  {
   "cell_type": "markdown",
   "id": "f7e7451a",
   "metadata": {},
   "source": [
    "*handling outliers*"
   ]
  },
  {
   "cell_type": "code",
   "execution_count": 82,
   "id": "46afb527",
   "metadata": {},
   "outputs": [],
   "source": [
    "#finding Outliers using IQR method\n",
    "def find_outliers(df, columns):\n",
    "    outlier_indices = set()\n",
    "    for col in columns:\n",
    "        Q1 = df[col].quantile(0.25)\n",
    "        Q3 = df[col].quantile(0.75)\n",
    "        IQR = Q3 - Q1\n",
    "        Lower_bound = Q1 - 1.5 * IQR\n",
    "        Upper_bound = Q3 + 1.5 * IQR\n",
    "        # Find indices of outliers for this column\n",
    "        indices = df[(df[col] < Lower_bound) | (df[col] > Upper_bound)].index\n",
    "        outlier_indices.update(indices)\n",
    "    return df.loc[list(outlier_indices)]"
   ]
  },
  {
   "cell_type": "code",
   "execution_count": 83,
   "id": "0ff4a7cf",
   "metadata": {},
   "outputs": [
    {
     "name": "stdout",
     "output_type": "stream",
     "text": [
      "       A     B\n",
      "8  100.0   7.0\n",
      "6    7.0  50.0\n"
     ]
    }
   ],
   "source": [
    "outliers=find_outliers(data,['A','B'])\n",
    "print(outliers)"
   ]
  },
  {
   "cell_type": "code",
   "execution_count": 84,
   "id": "264aa495",
   "metadata": {},
   "outputs": [
    {
     "data": {
      "text/html": [
       "<div>\n",
       "<style scoped>\n",
       "    .dataframe tbody tr th:only-of-type {\n",
       "        vertical-align: middle;\n",
       "    }\n",
       "\n",
       "    .dataframe tbody tr th {\n",
       "        vertical-align: top;\n",
       "    }\n",
       "\n",
       "    .dataframe thead th {\n",
       "        text-align: right;\n",
       "    }\n",
       "</style>\n",
       "<table border=\"1\" class=\"dataframe\">\n",
       "  <thead>\n",
       "    <tr style=\"text-align: right;\">\n",
       "      <th></th>\n",
       "      <th>A</th>\n",
       "      <th>B</th>\n",
       "    </tr>\n",
       "  </thead>\n",
       "  <tbody>\n",
       "    <tr>\n",
       "      <th>8</th>\n",
       "      <td>100.0</td>\n",
       "      <td>7.0</td>\n",
       "    </tr>\n",
       "    <tr>\n",
       "      <th>6</th>\n",
       "      <td>7.0</td>\n",
       "      <td>50.0</td>\n",
       "    </tr>\n",
       "  </tbody>\n",
       "</table>\n",
       "</div>"
      ],
      "text/plain": [
       "       A     B\n",
       "8  100.0   7.0\n",
       "6    7.0  50.0"
      ]
     },
     "execution_count": 84,
     "metadata": {},
     "output_type": "execute_result"
    }
   ],
   "source": [
    "find_outliers(data,['A','B']) # finding outliers in columns A and B "
   ]
  },
  {
   "cell_type": "code",
   "execution_count": 85,
   "id": "4021c4b9",
   "metadata": {},
   "outputs": [
    {
     "data": {
      "text/plain": [
       "0      1.00\n",
       "1      2.00\n",
       "2     15.17\n",
       "3      4.00\n",
       "4     15.17\n",
       "5      6.00\n",
       "6      7.00\n",
       "7      1.00\n",
       "8    100.00\n",
       "Name: A, dtype: float64"
      ]
     },
     "execution_count": 85,
     "metadata": {},
     "output_type": "execute_result"
    }
   ],
   "source": [
    "data['A'].fillna(round(data['B'].mean(),2)) # filling missing values in column A with mean of column B rounded to 2 decimal places"
   ]
  },
  {
   "cell_type": "code",
   "execution_count": 86,
   "id": "90685e45",
   "metadata": {},
   "outputs": [
    {
     "data": {
      "text/plain": [
       "0      1.0\n",
       "1      2.0\n",
       "2      NaN\n",
       "3      4.0\n",
       "4      NaN\n",
       "5      6.0\n",
       "6      7.0\n",
       "7      1.0\n",
       "8    100.0\n",
       "Name: A, dtype: float64"
      ]
     },
     "execution_count": 86,
     "metadata": {},
     "output_type": "execute_result"
    }
   ],
   "source": [
    "data['A']"
   ]
  },
  {
   "cell_type": "code",
   "execution_count": 87,
   "id": "dde93a9a",
   "metadata": {},
   "outputs": [
    {
     "data": {
      "text/plain": [
       "0      1.0\n",
       "1      2.0\n",
       "2      3.0\n",
       "3      4.0\n",
       "4      5.0\n",
       "5      6.0\n",
       "6      7.0\n",
       "7      1.0\n",
       "8    100.0\n",
       "Name: A, dtype: float64"
      ]
     },
     "execution_count": 87,
     "metadata": {},
     "output_type": "execute_result"
    }
   ],
   "source": [
    "data['A'].interpolate() #replace missing value with average of the surrounding values"
   ]
  },
  {
   "cell_type": "code",
   "execution_count": 88,
   "id": "d309d58c",
   "metadata": {},
   "outputs": [
    {
     "data": {
      "text/html": [
       "<div>\n",
       "<style scoped>\n",
       "    .dataframe tbody tr th:only-of-type {\n",
       "        vertical-align: middle;\n",
       "    }\n",
       "\n",
       "    .dataframe tbody tr th {\n",
       "        vertical-align: top;\n",
       "    }\n",
       "\n",
       "    .dataframe thead th {\n",
       "        text-align: right;\n",
       "    }\n",
       "</style>\n",
       "<table border=\"1\" class=\"dataframe\">\n",
       "  <thead>\n",
       "    <tr style=\"text-align: right;\">\n",
       "      <th></th>\n",
       "      <th>A</th>\n",
       "      <th>B</th>\n",
       "    </tr>\n",
       "  </thead>\n",
       "  <tbody>\n",
       "    <tr>\n",
       "      <th>0</th>\n",
       "      <td>1.0</td>\n",
       "      <td>7.0</td>\n",
       "    </tr>\n",
       "    <tr>\n",
       "      <th>1</th>\n",
       "      <td>2.0</td>\n",
       "      <td>NaN</td>\n",
       "    </tr>\n",
       "    <tr>\n",
       "      <th>2</th>\n",
       "      <td>NaN</td>\n",
       "      <td>9.0</td>\n",
       "    </tr>\n",
       "    <tr>\n",
       "      <th>3</th>\n",
       "      <td>4.0</td>\n",
       "      <td>NaN</td>\n",
       "    </tr>\n",
       "    <tr>\n",
       "      <th>4</th>\n",
       "      <td>NaN</td>\n",
       "      <td>11.0</td>\n",
       "    </tr>\n",
       "    <tr>\n",
       "      <th>5</th>\n",
       "      <td>6.0</td>\n",
       "      <td>NaN</td>\n",
       "    </tr>\n",
       "    <tr>\n",
       "      <th>6</th>\n",
       "      <td>7.0</td>\n",
       "      <td>50.0</td>\n",
       "    </tr>\n",
       "    <tr>\n",
       "      <th>8</th>\n",
       "      <td>100.0</td>\n",
       "      <td>7.0</td>\n",
       "    </tr>\n",
       "  </tbody>\n",
       "</table>\n",
       "</div>"
      ],
      "text/plain": [
       "       A     B\n",
       "0    1.0   7.0\n",
       "1    2.0   NaN\n",
       "2    NaN   9.0\n",
       "3    4.0   NaN\n",
       "4    NaN  11.0\n",
       "5    6.0   NaN\n",
       "6    7.0  50.0\n",
       "8  100.0   7.0"
      ]
     },
     "execution_count": 88,
     "metadata": {},
     "output_type": "execute_result"
    }
   ],
   "source": [
    "data.drop_duplicates() # removing duplicate rows"
   ]
  },
  {
   "cell_type": "code",
   "execution_count": 89,
   "id": "e8a4b710",
   "metadata": {},
   "outputs": [
    {
     "data": {
      "text/html": [
       "<div>\n",
       "<style scoped>\n",
       "    .dataframe tbody tr th:only-of-type {\n",
       "        vertical-align: middle;\n",
       "    }\n",
       "\n",
       "    .dataframe tbody tr th {\n",
       "        vertical-align: top;\n",
       "    }\n",
       "\n",
       "    .dataframe thead th {\n",
       "        text-align: right;\n",
       "    }\n",
       "</style>\n",
       "<table border=\"1\" class=\"dataframe\">\n",
       "  <thead>\n",
       "    <tr style=\"text-align: right;\">\n",
       "      <th></th>\n",
       "      <th>A</th>\n",
       "      <th>B</th>\n",
       "    </tr>\n",
       "  </thead>\n",
       "  <tbody>\n",
       "    <tr>\n",
       "      <th>7</th>\n",
       "      <td>1.0</td>\n",
       "      <td>7.0</td>\n",
       "    </tr>\n",
       "  </tbody>\n",
       "</table>\n",
       "</div>"
      ],
      "text/plain": [
       "     A    B\n",
       "7  1.0  7.0"
      ]
     },
     "execution_count": 89,
     "metadata": {},
     "output_type": "execute_result"
    }
   ],
   "source": [
    "data[data.duplicated()] # accessing rows that are duplicates"
   ]
  },
  {
   "cell_type": "code",
   "execution_count": 90,
   "id": "0f91d5c9",
   "metadata": {},
   "outputs": [
    {
     "data": {
      "text/html": [
       "<div>\n",
       "<style scoped>\n",
       "    .dataframe tbody tr th:only-of-type {\n",
       "        vertical-align: middle;\n",
       "    }\n",
       "\n",
       "    .dataframe tbody tr th {\n",
       "        vertical-align: top;\n",
       "    }\n",
       "\n",
       "    .dataframe thead th {\n",
       "        text-align: right;\n",
       "    }\n",
       "</style>\n",
       "<table border=\"1\" class=\"dataframe\">\n",
       "  <thead>\n",
       "    <tr style=\"text-align: right;\">\n",
       "      <th></th>\n",
       "      <th>A</th>\n",
       "      <th>B</th>\n",
       "    </tr>\n",
       "  </thead>\n",
       "  <tbody>\n",
       "    <tr>\n",
       "      <th>0</th>\n",
       "      <td>1.0</td>\n",
       "      <td>7.0</td>\n",
       "    </tr>\n",
       "    <tr>\n",
       "      <th>1</th>\n",
       "      <td>2.0</td>\n",
       "      <td>NaN</td>\n",
       "    </tr>\n",
       "    <tr>\n",
       "      <th>2</th>\n",
       "      <td>NaN</td>\n",
       "      <td>9.0</td>\n",
       "    </tr>\n",
       "    <tr>\n",
       "      <th>3</th>\n",
       "      <td>4.0</td>\n",
       "      <td>NaN</td>\n",
       "    </tr>\n",
       "    <tr>\n",
       "      <th>4</th>\n",
       "      <td>NaN</td>\n",
       "      <td>11.0</td>\n",
       "    </tr>\n",
       "    <tr>\n",
       "      <th>5</th>\n",
       "      <td>6.0</td>\n",
       "      <td>NaN</td>\n",
       "    </tr>\n",
       "    <tr>\n",
       "      <th>6</th>\n",
       "      <td>7.0</td>\n",
       "      <td>50.0</td>\n",
       "    </tr>\n",
       "    <tr>\n",
       "      <th>8</th>\n",
       "      <td>100.0</td>\n",
       "      <td>7.0</td>\n",
       "    </tr>\n",
       "  </tbody>\n",
       "</table>\n",
       "</div>"
      ],
      "text/plain": [
       "       A     B\n",
       "0    1.0   7.0\n",
       "1    2.0   NaN\n",
       "2    NaN   9.0\n",
       "3    4.0   NaN\n",
       "4    NaN  11.0\n",
       "5    6.0   NaN\n",
       "6    7.0  50.0\n",
       "8  100.0   7.0"
      ]
     },
     "execution_count": 90,
     "metadata": {},
     "output_type": "execute_result"
    }
   ],
   "source": [
    "data.drop_duplicates() # removing duplicate rows"
   ]
  },
  {
   "cell_type": "code",
   "execution_count": 91,
   "id": "297c466b",
   "metadata": {},
   "outputs": [
    {
     "data": {
      "text/html": [
       "<div>\n",
       "<style scoped>\n",
       "    .dataframe tbody tr th:only-of-type {\n",
       "        vertical-align: middle;\n",
       "    }\n",
       "\n",
       "    .dataframe tbody tr th {\n",
       "        vertical-align: top;\n",
       "    }\n",
       "\n",
       "    .dataframe thead th {\n",
       "        text-align: right;\n",
       "    }\n",
       "</style>\n",
       "<table border=\"1\" class=\"dataframe\">\n",
       "  <thead>\n",
       "    <tr style=\"text-align: right;\">\n",
       "      <th></th>\n",
       "      <th>A</th>\n",
       "      <th>B</th>\n",
       "    </tr>\n",
       "  </thead>\n",
       "  <tbody>\n",
       "    <tr>\n",
       "      <th>0</th>\n",
       "      <td>1.0</td>\n",
       "      <td>7.0</td>\n",
       "    </tr>\n",
       "    <tr>\n",
       "      <th>1</th>\n",
       "      <td>2.0</td>\n",
       "      <td>NaN</td>\n",
       "    </tr>\n",
       "    <tr>\n",
       "      <th>2</th>\n",
       "      <td>NaN</td>\n",
       "      <td>9.0</td>\n",
       "    </tr>\n",
       "    <tr>\n",
       "      <th>3</th>\n",
       "      <td>4.0</td>\n",
       "      <td>NaN</td>\n",
       "    </tr>\n",
       "    <tr>\n",
       "      <th>4</th>\n",
       "      <td>NaN</td>\n",
       "      <td>11.0</td>\n",
       "    </tr>\n",
       "    <tr>\n",
       "      <th>5</th>\n",
       "      <td>6.0</td>\n",
       "      <td>NaN</td>\n",
       "    </tr>\n",
       "    <tr>\n",
       "      <th>6</th>\n",
       "      <td>7.0</td>\n",
       "      <td>50.0</td>\n",
       "    </tr>\n",
       "    <tr>\n",
       "      <th>7</th>\n",
       "      <td>100.0</td>\n",
       "      <td>7.0</td>\n",
       "    </tr>\n",
       "  </tbody>\n",
       "</table>\n",
       "</div>"
      ],
      "text/plain": [
       "       A     B\n",
       "0    1.0   7.0\n",
       "1    2.0   NaN\n",
       "2    NaN   9.0\n",
       "3    4.0   NaN\n",
       "4    NaN  11.0\n",
       "5    6.0   NaN\n",
       "6    7.0  50.0\n",
       "7  100.0   7.0"
      ]
     },
     "execution_count": 91,
     "metadata": {},
     "output_type": "execute_result"
    }
   ],
   "source": [
    "data.drop_duplicates().reset_index(drop=True) #removing duplicate rows and resetting the index"
   ]
  },
  {
   "cell_type": "markdown",
   "id": "441021dd",
   "metadata": {},
   "source": [
    "## **Handle the outlier**"
   ]
  },
  {
   "cell_type": "code",
   "execution_count": 92,
   "id": "f25fab12",
   "metadata": {},
   "outputs": [
    {
     "name": "stdout",
     "output_type": "stream",
     "text": [
      "       A     B\n",
      "8  100.0   7.0\n",
      "6    7.0  50.0\n"
     ]
    }
   ],
   "source": [
    "\n",
    "def remove_outliers(df, columns):  \n",
    "    \n",
    "    Cleaned_df =df.copy()\n",
    "\n",
    "    for col in columns:\n",
    "        Q1 =  Cleaned_df[col].quantile(0.25)\n",
    "        Q3 =  Cleaned_df[col].quantile(0.75)\n",
    "        IQR = Q3 - Q1\n",
    "        lf= Q1 - 1.5 * IQR\n",
    "        uf = Q3 + 1.5 * IQR\n",
    "       \n",
    "       \n",
    "        Cleaned_df =  Cleaned_df[( Cleaned_df[col] >=lf) & ( Cleaned_df[col] <=uf)]\n",
    "        \n",
    "    return Cleaned_df\n",
    "\n",
    "outliers = find_outliers(data,['A','B'])\n",
    "print(outliers)"
   ]
  },
  {
   "cell_type": "code",
   "execution_count": 93,
   "id": "fd452967",
   "metadata": {},
   "outputs": [
    {
     "data": {
      "text/html": [
       "<div>\n",
       "<style scoped>\n",
       "    .dataframe tbody tr th:only-of-type {\n",
       "        vertical-align: middle;\n",
       "    }\n",
       "\n",
       "    .dataframe tbody tr th {\n",
       "        vertical-align: top;\n",
       "    }\n",
       "\n",
       "    .dataframe thead th {\n",
       "        text-align: right;\n",
       "    }\n",
       "</style>\n",
       "<table border=\"1\" class=\"dataframe\">\n",
       "  <thead>\n",
       "    <tr style=\"text-align: right;\">\n",
       "      <th></th>\n",
       "      <th>A</th>\n",
       "      <th>B</th>\n",
       "    </tr>\n",
       "  </thead>\n",
       "  <tbody>\n",
       "    <tr>\n",
       "      <th>0</th>\n",
       "      <td>0.693147</td>\n",
       "      <td>7.0</td>\n",
       "    </tr>\n",
       "    <tr>\n",
       "      <th>1</th>\n",
       "      <td>1.098612</td>\n",
       "      <td>NaN</td>\n",
       "    </tr>\n",
       "    <tr>\n",
       "      <th>2</th>\n",
       "      <td>NaN</td>\n",
       "      <td>9.0</td>\n",
       "    </tr>\n",
       "    <tr>\n",
       "      <th>3</th>\n",
       "      <td>1.609438</td>\n",
       "      <td>NaN</td>\n",
       "    </tr>\n",
       "    <tr>\n",
       "      <th>4</th>\n",
       "      <td>NaN</td>\n",
       "      <td>11.0</td>\n",
       "    </tr>\n",
       "    <tr>\n",
       "      <th>5</th>\n",
       "      <td>1.945910</td>\n",
       "      <td>NaN</td>\n",
       "    </tr>\n",
       "    <tr>\n",
       "      <th>6</th>\n",
       "      <td>2.079442</td>\n",
       "      <td>50.0</td>\n",
       "    </tr>\n",
       "    <tr>\n",
       "      <th>7</th>\n",
       "      <td>0.693147</td>\n",
       "      <td>7.0</td>\n",
       "    </tr>\n",
       "    <tr>\n",
       "      <th>8</th>\n",
       "      <td>4.615121</td>\n",
       "      <td>7.0</td>\n",
       "    </tr>\n",
       "  </tbody>\n",
       "</table>\n",
       "</div>"
      ],
      "text/plain": [
       "          A     B\n",
       "0  0.693147   7.0\n",
       "1  1.098612   NaN\n",
       "2       NaN   9.0\n",
       "3  1.609438   NaN\n",
       "4       NaN  11.0\n",
       "5  1.945910   NaN\n",
       "6  2.079442  50.0\n",
       "7  0.693147   7.0\n",
       "8  4.615121   7.0"
      ]
     },
     "execution_count": 93,
     "metadata": {},
     "output_type": "execute_result"
    }
   ],
   "source": [
    "def log_transformation(df,columns):\n",
    "    transform_df = df.copy()\n",
    "\n",
    "    for col in columns:\n",
    "        transform_df[col] = np.log1p(transform_df[col]) #log1p= log(1+x) transformation\n",
    "        return transform_df\n",
    "log = log_transformation(data,['A','B'])\n",
    "log"
   ]
  },
  {
   "cell_type": "code",
   "execution_count": 94,
   "id": "c9ee43e2",
   "metadata": {},
   "outputs": [
    {
     "data": {
      "text/html": [
       "<div>\n",
       "<style scoped>\n",
       "    .dataframe tbody tr th:only-of-type {\n",
       "        vertical-align: middle;\n",
       "    }\n",
       "\n",
       "    .dataframe tbody tr th {\n",
       "        vertical-align: top;\n",
       "    }\n",
       "\n",
       "    .dataframe thead th {\n",
       "        text-align: right;\n",
       "    }\n",
       "</style>\n",
       "<table border=\"1\" class=\"dataframe\">\n",
       "  <thead>\n",
       "    <tr style=\"text-align: right;\">\n",
       "      <th></th>\n",
       "      <th>Full Name</th>\n",
       "      <th>Age</th>\n",
       "      <th>City</th>\n",
       "      <th>Salary</th>\n",
       "      <th>Date</th>\n",
       "      <th>Category</th>\n",
       "      <th>Name1</th>\n",
       "    </tr>\n",
       "  </thead>\n",
       "  <tbody>\n",
       "    <tr>\n",
       "      <th>0</th>\n",
       "      <td>Alice</td>\n",
       "      <td>45.0</td>\n",
       "      <td>New York</td>\n",
       "      <td>95445.0</td>\n",
       "      <td>2023-01-01</td>\n",
       "      <td>A</td>\n",
       "      <td>Alice</td>\n",
       "    </tr>\n",
       "    <tr>\n",
       "      <th>1</th>\n",
       "      <td>Bob</td>\n",
       "      <td>58.0</td>\n",
       "      <td>India</td>\n",
       "      <td>86235.0</td>\n",
       "      <td>2023-01-02</td>\n",
       "      <td>B</td>\n",
       "      <td>Bob</td>\n",
       "    </tr>\n",
       "    <tr>\n",
       "      <th>2</th>\n",
       "      <td>laxmi</td>\n",
       "      <td>60.0</td>\n",
       "      <td>Tokyo</td>\n",
       "      <td>62330.0</td>\n",
       "      <td>2023-01-03</td>\n",
       "      <td>C</td>\n",
       "      <td>Laxmi</td>\n",
       "    </tr>\n",
       "    <tr>\n",
       "      <th>3</th>\n",
       "      <td>David</td>\n",
       "      <td>28.0</td>\n",
       "      <td>Paris</td>\n",
       "      <td>46022.0</td>\n",
       "      <td>2023-01-04</td>\n",
       "      <td>A</td>\n",
       "      <td>David</td>\n",
       "    </tr>\n",
       "    <tr>\n",
       "      <th>4</th>\n",
       "      <td>Eva</td>\n",
       "      <td>49.0</td>\n",
       "      <td>Berlin</td>\n",
       "      <td>65999.0</td>\n",
       "      <td>2023-01-05</td>\n",
       "      <td>B</td>\n",
       "      <td>Eva</td>\n",
       "    </tr>\n",
       "    <tr>\n",
       "      <th>5</th>\n",
       "      <td>Frank</td>\n",
       "      <td>67.0</td>\n",
       "      <td>Paris</td>\n",
       "      <td>88320.0</td>\n",
       "      <td>2023-01-06</td>\n",
       "      <td>A</td>\n",
       "      <td>Frank</td>\n",
       "    </tr>\n",
       "    <tr>\n",
       "      <th>6</th>\n",
       "      <td>Grace</td>\n",
       "      <td>NaN</td>\n",
       "      <td>Berlin</td>\n",
       "      <td>57141.0</td>\n",
       "      <td>2023-01-07</td>\n",
       "      <td>C</td>\n",
       "      <td>Grace</td>\n",
       "    </tr>\n",
       "    <tr>\n",
       "      <th>7</th>\n",
       "      <td>Hannah</td>\n",
       "      <td>60.0</td>\n",
       "      <td>New York</td>\n",
       "      <td>65413.0</td>\n",
       "      <td>2023-01-08</td>\n",
       "      <td>B</td>\n",
       "      <td>Hannah</td>\n",
       "    </tr>\n",
       "    <tr>\n",
       "      <th>8</th>\n",
       "      <td>Ivan</td>\n",
       "      <td>37.0</td>\n",
       "      <td>Tokyo</td>\n",
       "      <td>87016.0</td>\n",
       "      <td>2023-01-09</td>\n",
       "      <td>A</td>\n",
       "      <td>Ivan</td>\n",
       "    </tr>\n",
       "    <tr>\n",
       "      <th>9</th>\n",
       "      <td>Jack</td>\n",
       "      <td>31.0</td>\n",
       "      <td>India</td>\n",
       "      <td>58725.0</td>\n",
       "      <td>2023-01-10</td>\n",
       "      <td>B</td>\n",
       "      <td>Jack</td>\n",
       "    </tr>\n",
       "    <tr>\n",
       "      <th>10</th>\n",
       "      <td>Ivan</td>\n",
       "      <td>37.0</td>\n",
       "      <td>Tokyo</td>\n",
       "      <td>87016.0</td>\n",
       "      <td>2023-01-09</td>\n",
       "      <td>A</td>\n",
       "      <td>Ivan</td>\n",
       "    </tr>\n",
       "    <tr>\n",
       "      <th>11</th>\n",
       "      <td>Jack</td>\n",
       "      <td>31.0</td>\n",
       "      <td>India</td>\n",
       "      <td>58725.0</td>\n",
       "      <td>2023-01-10</td>\n",
       "      <td>B</td>\n",
       "      <td>Jack</td>\n",
       "    </tr>\n",
       "    <tr>\n",
       "      <th>12</th>\n",
       "      <td>Grace</td>\n",
       "      <td>29.0</td>\n",
       "      <td>Berlin</td>\n",
       "      <td>57141.0</td>\n",
       "      <td>2023-01-07</td>\n",
       "      <td>None</td>\n",
       "      <td>Grace</td>\n",
       "    </tr>\n",
       "    <tr>\n",
       "      <th>13</th>\n",
       "      <td>Hannah</td>\n",
       "      <td>60.0</td>\n",
       "      <td>New York</td>\n",
       "      <td>NaN</td>\n",
       "      <td>2023-01-08</td>\n",
       "      <td>B</td>\n",
       "      <td>Hannah</td>\n",
       "    </tr>\n",
       "  </tbody>\n",
       "</table>\n",
       "</div>"
      ],
      "text/plain": [
       "   Full Name   Age      City   Salary        Date Category   Name1\n",
       "0      Alice  45.0  New York  95445.0  2023-01-01        A   Alice\n",
       "1        Bob  58.0     India  86235.0  2023-01-02        B     Bob\n",
       "2      laxmi  60.0     Tokyo  62330.0  2023-01-03        C   Laxmi\n",
       "3      David  28.0     Paris  46022.0  2023-01-04        A   David\n",
       "4        Eva  49.0    Berlin  65999.0  2023-01-05        B     Eva\n",
       "5      Frank  67.0     Paris  88320.0  2023-01-06        A   Frank\n",
       "6      Grace   NaN    Berlin  57141.0  2023-01-07        C   Grace\n",
       "7     Hannah  60.0  New York  65413.0  2023-01-08        B  Hannah\n",
       "8       Ivan  37.0     Tokyo  87016.0  2023-01-09        A    Ivan\n",
       "9       Jack  31.0     India  58725.0  2023-01-10        B    Jack\n",
       "10      Ivan  37.0     Tokyo  87016.0  2023-01-09        A    Ivan\n",
       "11      Jack  31.0     India  58725.0  2023-01-10        B    Jack\n",
       "12     Grace  29.0    Berlin  57141.0  2023-01-07     None   Grace\n",
       "13    Hannah  60.0  New York      NaN  2023-01-08        B  Hannah"
      ]
     },
     "execution_count": 94,
     "metadata": {},
     "output_type": "execute_result"
    }
   ],
   "source": [
    "df"
   ]
  },
  {
   "cell_type": "code",
   "execution_count": 95,
   "id": "3989d976",
   "metadata": {},
   "outputs": [
    {
     "data": {
      "text/plain": [
       "Full Name    0\n",
       "Age          1\n",
       "City         0\n",
       "Salary       1\n",
       "Date         0\n",
       "Category     1\n",
       "Name1        0\n",
       "dtype: int64"
      ]
     },
     "execution_count": 95,
     "metadata": {},
     "output_type": "execute_result"
    }
   ],
   "source": [
    "df.isnull().sum() # checking for null values in the dataframe"
   ]
  },
  {
   "cell_type": "code",
   "execution_count": 96,
   "id": "fc54f2ba",
   "metadata": {},
   "outputs": [
    {
     "data": {
      "text/plain": [
       "np.int64(2)"
      ]
     },
     "execution_count": 96,
     "metadata": {},
     "output_type": "execute_result"
    }
   ],
   "source": [
    "df.duplicated().sum() # counting the number of duplicate rows"
   ]
  },
  {
   "cell_type": "code",
   "execution_count": 97,
   "id": "6837670e",
   "metadata": {},
   "outputs": [
    {
     "data": {
      "text/html": [
       "<div>\n",
       "<style scoped>\n",
       "    .dataframe tbody tr th:only-of-type {\n",
       "        vertical-align: middle;\n",
       "    }\n",
       "\n",
       "    .dataframe tbody tr th {\n",
       "        vertical-align: top;\n",
       "    }\n",
       "\n",
       "    .dataframe thead th {\n",
       "        text-align: right;\n",
       "    }\n",
       "</style>\n",
       "<table border=\"1\" class=\"dataframe\">\n",
       "  <thead>\n",
       "    <tr style=\"text-align: right;\">\n",
       "      <th></th>\n",
       "      <th>Full Name</th>\n",
       "      <th>Age</th>\n",
       "      <th>City</th>\n",
       "      <th>Salary</th>\n",
       "      <th>Date</th>\n",
       "      <th>Category</th>\n",
       "      <th>Name1</th>\n",
       "    </tr>\n",
       "  </thead>\n",
       "  <tbody>\n",
       "    <tr>\n",
       "      <th>0</th>\n",
       "      <td>Alice</td>\n",
       "      <td>45.00</td>\n",
       "      <td>New York</td>\n",
       "      <td>95445.00</td>\n",
       "      <td>2023-01-01</td>\n",
       "      <td>A</td>\n",
       "      <td>Alice</td>\n",
       "    </tr>\n",
       "    <tr>\n",
       "      <th>1</th>\n",
       "      <td>Bob</td>\n",
       "      <td>58.00</td>\n",
       "      <td>India</td>\n",
       "      <td>86235.00</td>\n",
       "      <td>2023-01-02</td>\n",
       "      <td>B</td>\n",
       "      <td>Bob</td>\n",
       "    </tr>\n",
       "    <tr>\n",
       "      <th>2</th>\n",
       "      <td>laxmi</td>\n",
       "      <td>60.00</td>\n",
       "      <td>Tokyo</td>\n",
       "      <td>62330.00</td>\n",
       "      <td>2023-01-03</td>\n",
       "      <td>C</td>\n",
       "      <td>Laxmi</td>\n",
       "    </tr>\n",
       "    <tr>\n",
       "      <th>3</th>\n",
       "      <td>David</td>\n",
       "      <td>28.00</td>\n",
       "      <td>Paris</td>\n",
       "      <td>46022.00</td>\n",
       "      <td>2023-01-04</td>\n",
       "      <td>A</td>\n",
       "      <td>David</td>\n",
       "    </tr>\n",
       "    <tr>\n",
       "      <th>4</th>\n",
       "      <td>Eva</td>\n",
       "      <td>49.00</td>\n",
       "      <td>Berlin</td>\n",
       "      <td>65999.00</td>\n",
       "      <td>2023-01-05</td>\n",
       "      <td>B</td>\n",
       "      <td>Eva</td>\n",
       "    </tr>\n",
       "    <tr>\n",
       "      <th>5</th>\n",
       "      <td>Frank</td>\n",
       "      <td>67.00</td>\n",
       "      <td>Paris</td>\n",
       "      <td>88320.00</td>\n",
       "      <td>2023-01-06</td>\n",
       "      <td>A</td>\n",
       "      <td>Frank</td>\n",
       "    </tr>\n",
       "    <tr>\n",
       "      <th>6</th>\n",
       "      <td>Grace</td>\n",
       "      <td>45.54</td>\n",
       "      <td>Berlin</td>\n",
       "      <td>57141.00</td>\n",
       "      <td>2023-01-07</td>\n",
       "      <td>C</td>\n",
       "      <td>Grace</td>\n",
       "    </tr>\n",
       "    <tr>\n",
       "      <th>7</th>\n",
       "      <td>Hannah</td>\n",
       "      <td>60.00</td>\n",
       "      <td>New York</td>\n",
       "      <td>65413.00</td>\n",
       "      <td>2023-01-08</td>\n",
       "      <td>B</td>\n",
       "      <td>Hannah</td>\n",
       "    </tr>\n",
       "    <tr>\n",
       "      <th>8</th>\n",
       "      <td>Ivan</td>\n",
       "      <td>37.00</td>\n",
       "      <td>Tokyo</td>\n",
       "      <td>87016.00</td>\n",
       "      <td>2023-01-09</td>\n",
       "      <td>A</td>\n",
       "      <td>Ivan</td>\n",
       "    </tr>\n",
       "    <tr>\n",
       "      <th>9</th>\n",
       "      <td>Jack</td>\n",
       "      <td>31.00</td>\n",
       "      <td>India</td>\n",
       "      <td>58725.00</td>\n",
       "      <td>2023-01-10</td>\n",
       "      <td>B</td>\n",
       "      <td>Jack</td>\n",
       "    </tr>\n",
       "    <tr>\n",
       "      <th>10</th>\n",
       "      <td>Ivan</td>\n",
       "      <td>37.00</td>\n",
       "      <td>Tokyo</td>\n",
       "      <td>87016.00</td>\n",
       "      <td>2023-01-09</td>\n",
       "      <td>A</td>\n",
       "      <td>Ivan</td>\n",
       "    </tr>\n",
       "    <tr>\n",
       "      <th>11</th>\n",
       "      <td>Jack</td>\n",
       "      <td>31.00</td>\n",
       "      <td>India</td>\n",
       "      <td>58725.00</td>\n",
       "      <td>2023-01-10</td>\n",
       "      <td>B</td>\n",
       "      <td>Jack</td>\n",
       "    </tr>\n",
       "    <tr>\n",
       "      <th>12</th>\n",
       "      <td>Grace</td>\n",
       "      <td>29.00</td>\n",
       "      <td>Berlin</td>\n",
       "      <td>57141.00</td>\n",
       "      <td>2023-01-07</td>\n",
       "      <td>B</td>\n",
       "      <td>Grace</td>\n",
       "    </tr>\n",
       "    <tr>\n",
       "      <th>13</th>\n",
       "      <td>Hannah</td>\n",
       "      <td>60.00</td>\n",
       "      <td>New York</td>\n",
       "      <td>70425.23</td>\n",
       "      <td>2023-01-08</td>\n",
       "      <td>B</td>\n",
       "      <td>Hannah</td>\n",
       "    </tr>\n",
       "  </tbody>\n",
       "</table>\n",
       "</div>"
      ],
      "text/plain": [
       "   Full Name    Age      City    Salary        Date Category   Name1\n",
       "0      Alice  45.00  New York  95445.00  2023-01-01        A   Alice\n",
       "1        Bob  58.00     India  86235.00  2023-01-02        B     Bob\n",
       "2      laxmi  60.00     Tokyo  62330.00  2023-01-03        C   Laxmi\n",
       "3      David  28.00     Paris  46022.00  2023-01-04        A   David\n",
       "4        Eva  49.00    Berlin  65999.00  2023-01-05        B     Eva\n",
       "5      Frank  67.00     Paris  88320.00  2023-01-06        A   Frank\n",
       "6      Grace  45.54    Berlin  57141.00  2023-01-07        C   Grace\n",
       "7     Hannah  60.00  New York  65413.00  2023-01-08        B  Hannah\n",
       "8       Ivan  37.00     Tokyo  87016.00  2023-01-09        A    Ivan\n",
       "9       Jack  31.00     India  58725.00  2023-01-10        B    Jack\n",
       "10      Ivan  37.00     Tokyo  87016.00  2023-01-09        A    Ivan\n",
       "11      Jack  31.00     India  58725.00  2023-01-10        B    Jack\n",
       "12     Grace  29.00    Berlin  57141.00  2023-01-07        B   Grace\n",
       "13    Hannah  60.00  New York  70425.23  2023-01-08        B  Hannah"
      ]
     },
     "execution_count": 97,
     "metadata": {},
     "output_type": "execute_result"
    }
   ],
   "source": [
    "df['Age'].fillna(round(df['Age'].mean(),2),inplace=True) # filling missing values in Age column with mean of Age column rounded to 2 decimal places\n",
    "df['Salary'].fillna(round(df['Salary'].mean(),2),inplace=True)  # filling missing values in Salary column with mean of Salary column rounded to 2 decimal places\n",
    "df['Category'].fillna(df['Category'].mode()[0],inplace=True) # filling missing values in Category column with mode of Category column\n",
    "df\n",
    "\n"
   ]
  },
  {
   "cell_type": "markdown",
   "id": "7aadfc38",
   "metadata": {},
   "source": [
    "## **Data Transformation**\n",
    "\n",
    "Data Transformation is the process of converting data from one format, structure, or value range into another to make it compatible, consistent, and more useful for analysis or integration.\n",
    "\n",
    "- Types – Includes normalization, scaling, encoding, aggregation, and pivoting.\n",
    "\n",
    "- Goal – Ensures data is in the correct format and structure for analytics or machine learning.\n",
    "\n",
    "- Tools – Commonly performed using ETL pipelines, Python (Pandas, NumPy), SQL, or data integration tools.\n"
   ]
  },
  {
   "cell_type": "code",
   "execution_count": 98,
   "id": "5a2ee9ae",
   "metadata": {},
   "outputs": [],
   "source": [
    "df.rename(columns={'Name':'Full Name'}, inplace=True) # renaming Name column to Full Name \n"
   ]
  },
  {
   "cell_type": "code",
   "execution_count": 99,
   "id": "dc784cd3",
   "metadata": {},
   "outputs": [],
   "source": [
    "df['Age']= df['Age'].astype('int') # converting Age column to integer type\n"
   ]
  },
  {
   "cell_type": "code",
   "execution_count": 100,
   "id": "bba51b7b",
   "metadata": {},
   "outputs": [],
   "source": [
    "df['City'].replace({'New York':'London'},inplace=True) # replacing New York with London in City column \n"
   ]
  },
  {
   "cell_type": "code",
   "execution_count": 101,
   "id": "618aa2be",
   "metadata": {},
   "outputs": [],
   "source": [
    "def Catgorize(col): # funvtion to categorize age\n",
    "    if col <18:\n",
    "        return \"Young\"\n",
    "    elif col < 35:\n",
    "        return \"Adult\" \n",
    "    elif col < 55:\n",
    "        return \"Middle Aged\" \n",
    "    else:\n",
    "        return \"Senior\"\n",
    "    "
   ]
  },
  {
   "cell_type": "code",
   "execution_count": 102,
   "id": "f15f6f52",
   "metadata": {},
   "outputs": [],
   "source": [
    "df['Age Category'] = df['Age'].apply(Catgorize) # applying the function to Age column to create a new column Age Category \n"
   ]
  },
  {
   "cell_type": "code",
   "execution_count": 103,
   "id": "d4a97291",
   "metadata": {},
   "outputs": [
    {
     "data": {
      "text/html": [
       "<div>\n",
       "<style scoped>\n",
       "    .dataframe tbody tr th:only-of-type {\n",
       "        vertical-align: middle;\n",
       "    }\n",
       "\n",
       "    .dataframe tbody tr th {\n",
       "        vertical-align: top;\n",
       "    }\n",
       "\n",
       "    .dataframe thead th {\n",
       "        text-align: right;\n",
       "    }\n",
       "</style>\n",
       "<table border=\"1\" class=\"dataframe\">\n",
       "  <thead>\n",
       "    <tr style=\"text-align: right;\">\n",
       "      <th></th>\n",
       "      <th>A</th>\n",
       "      <th>B</th>\n",
       "    </tr>\n",
       "  </thead>\n",
       "  <tbody>\n",
       "    <tr>\n",
       "      <th>0</th>\n",
       "      <td>1</td>\n",
       "      <td>4</td>\n",
       "    </tr>\n",
       "    <tr>\n",
       "      <th>1</th>\n",
       "      <td>2</td>\n",
       "      <td>5</td>\n",
       "    </tr>\n",
       "    <tr>\n",
       "      <th>2</th>\n",
       "      <td>3</td>\n",
       "      <td>6</td>\n",
       "    </tr>\n",
       "  </tbody>\n",
       "</table>\n",
       "</div>"
      ],
      "text/plain": [
       "   A  B\n",
       "0  1  4\n",
       "1  2  5\n",
       "2  3  6"
      ]
     },
     "execution_count": 103,
     "metadata": {},
     "output_type": "execute_result"
    }
   ],
   "source": [
    "data1=pd.DataFrame({\"A\":[1,2,3],\"B\":[4,5,6]}) # creating a new dataframe\n",
    "data1\n"
   ]
  },
  {
   "cell_type": "code",
   "execution_count": 104,
   "id": "aa32ac74",
   "metadata": {},
   "outputs": [
    {
     "data": {
      "text/html": [
       "<div>\n",
       "<style scoped>\n",
       "    .dataframe tbody tr th:only-of-type {\n",
       "        vertical-align: middle;\n",
       "    }\n",
       "\n",
       "    .dataframe tbody tr th {\n",
       "        vertical-align: top;\n",
       "    }\n",
       "\n",
       "    .dataframe thead th {\n",
       "        text-align: right;\n",
       "    }\n",
       "</style>\n",
       "<table border=\"1\" class=\"dataframe\">\n",
       "  <thead>\n",
       "    <tr style=\"text-align: right;\">\n",
       "      <th></th>\n",
       "      <th>A</th>\n",
       "      <th>B</th>\n",
       "    </tr>\n",
       "  </thead>\n",
       "  <tbody>\n",
       "    <tr>\n",
       "      <th>0</th>\n",
       "      <td>1</td>\n",
       "      <td>16</td>\n",
       "    </tr>\n",
       "    <tr>\n",
       "      <th>1</th>\n",
       "      <td>4</td>\n",
       "      <td>25</td>\n",
       "    </tr>\n",
       "    <tr>\n",
       "      <th>2</th>\n",
       "      <td>9</td>\n",
       "      <td>36</td>\n",
       "    </tr>\n",
       "  </tbody>\n",
       "</table>\n",
       "</div>"
      ],
      "text/plain": [
       "   A   B\n",
       "0  1  16\n",
       "1  4  25\n",
       "2  9  36"
      ]
     },
     "execution_count": 104,
     "metadata": {},
     "output_type": "execute_result"
    }
   ],
   "source": [
    "data1.applymap(lambda x:x**2)  # applymap used for element wise function on dataframe"
   ]
  },
  {
   "cell_type": "code",
   "execution_count": 105,
   "id": "8da29b33",
   "metadata": {},
   "outputs": [],
   "source": [
    "df.loc[10] = {\"Full Name\": \"Deepak\",\"Age\": 30, \"City\": \"Bengaluru\",\"Salary\":60000,\"Date\": \"2025-07-30\",\"Category\":\"A\",\"Name\":\"Deepak\",\"Age Category\":\"Adult\"} # adding a new row to the dataframe"
   ]
  },
  {
   "cell_type": "code",
   "execution_count": 106,
   "id": "552ab3e8",
   "metadata": {},
   "outputs": [],
   "source": [
    "df.loc[14] = {\"Full Name\": \"Rohan\",\"Age\": 25, \"City\": \"Bengaluru\",\"Salary\":60000,\"Date\": \"2025-07-30\",\"Category\":\"A\",\"Name\":\"Deepak\",\"Age Category\":\"Adult\"} # adding another new row to the dataframe"
   ]
  },
  {
   "cell_type": "code",
   "execution_count": 107,
   "id": "4f62e3bd",
   "metadata": {},
   "outputs": [
    {
     "data": {
      "text/html": [
       "<div>\n",
       "<style scoped>\n",
       "    .dataframe tbody tr th:only-of-type {\n",
       "        vertical-align: middle;\n",
       "    }\n",
       "\n",
       "    .dataframe tbody tr th {\n",
       "        vertical-align: top;\n",
       "    }\n",
       "\n",
       "    .dataframe thead th {\n",
       "        text-align: right;\n",
       "    }\n",
       "</style>\n",
       "<table border=\"1\" class=\"dataframe\">\n",
       "  <thead>\n",
       "    <tr style=\"text-align: right;\">\n",
       "      <th></th>\n",
       "      <th>Full Name</th>\n",
       "      <th>Age</th>\n",
       "      <th>City</th>\n",
       "      <th>Salary</th>\n",
       "      <th>Date</th>\n",
       "      <th>Category</th>\n",
       "      <th>Name1</th>\n",
       "      <th>Age Category</th>\n",
       "    </tr>\n",
       "  </thead>\n",
       "  <tbody>\n",
       "    <tr>\n",
       "      <th>0</th>\n",
       "      <td>Alice</td>\n",
       "      <td>45</td>\n",
       "      <td>London</td>\n",
       "      <td>95445.00</td>\n",
       "      <td>2023-01-01</td>\n",
       "      <td>A</td>\n",
       "      <td>Alice</td>\n",
       "      <td>Middle Aged</td>\n",
       "    </tr>\n",
       "    <tr>\n",
       "      <th>1</th>\n",
       "      <td>Bob</td>\n",
       "      <td>58</td>\n",
       "      <td>India</td>\n",
       "      <td>86235.00</td>\n",
       "      <td>2023-01-02</td>\n",
       "      <td>B</td>\n",
       "      <td>Bob</td>\n",
       "      <td>Senior</td>\n",
       "    </tr>\n",
       "    <tr>\n",
       "      <th>2</th>\n",
       "      <td>laxmi</td>\n",
       "      <td>60</td>\n",
       "      <td>Tokyo</td>\n",
       "      <td>62330.00</td>\n",
       "      <td>2023-01-03</td>\n",
       "      <td>C</td>\n",
       "      <td>Laxmi</td>\n",
       "      <td>Senior</td>\n",
       "    </tr>\n",
       "    <tr>\n",
       "      <th>3</th>\n",
       "      <td>David</td>\n",
       "      <td>28</td>\n",
       "      <td>Paris</td>\n",
       "      <td>46022.00</td>\n",
       "      <td>2023-01-04</td>\n",
       "      <td>A</td>\n",
       "      <td>David</td>\n",
       "      <td>Adult</td>\n",
       "    </tr>\n",
       "    <tr>\n",
       "      <th>4</th>\n",
       "      <td>Eva</td>\n",
       "      <td>49</td>\n",
       "      <td>Berlin</td>\n",
       "      <td>65999.00</td>\n",
       "      <td>2023-01-05</td>\n",
       "      <td>B</td>\n",
       "      <td>Eva</td>\n",
       "      <td>Middle Aged</td>\n",
       "    </tr>\n",
       "    <tr>\n",
       "      <th>5</th>\n",
       "      <td>Frank</td>\n",
       "      <td>67</td>\n",
       "      <td>Paris</td>\n",
       "      <td>88320.00</td>\n",
       "      <td>2023-01-06</td>\n",
       "      <td>A</td>\n",
       "      <td>Frank</td>\n",
       "      <td>Senior</td>\n",
       "    </tr>\n",
       "    <tr>\n",
       "      <th>6</th>\n",
       "      <td>Grace</td>\n",
       "      <td>45</td>\n",
       "      <td>Berlin</td>\n",
       "      <td>57141.00</td>\n",
       "      <td>2023-01-07</td>\n",
       "      <td>C</td>\n",
       "      <td>Grace</td>\n",
       "      <td>Middle Aged</td>\n",
       "    </tr>\n",
       "    <tr>\n",
       "      <th>7</th>\n",
       "      <td>Hannah</td>\n",
       "      <td>60</td>\n",
       "      <td>London</td>\n",
       "      <td>65413.00</td>\n",
       "      <td>2023-01-08</td>\n",
       "      <td>B</td>\n",
       "      <td>Hannah</td>\n",
       "      <td>Senior</td>\n",
       "    </tr>\n",
       "    <tr>\n",
       "      <th>8</th>\n",
       "      <td>Ivan</td>\n",
       "      <td>37</td>\n",
       "      <td>Tokyo</td>\n",
       "      <td>87016.00</td>\n",
       "      <td>2023-01-09</td>\n",
       "      <td>A</td>\n",
       "      <td>Ivan</td>\n",
       "      <td>Middle Aged</td>\n",
       "    </tr>\n",
       "    <tr>\n",
       "      <th>9</th>\n",
       "      <td>Jack</td>\n",
       "      <td>31</td>\n",
       "      <td>India</td>\n",
       "      <td>58725.00</td>\n",
       "      <td>2023-01-10</td>\n",
       "      <td>B</td>\n",
       "      <td>Jack</td>\n",
       "      <td>Adult</td>\n",
       "    </tr>\n",
       "    <tr>\n",
       "      <th>10</th>\n",
       "      <td>Deepak</td>\n",
       "      <td>30</td>\n",
       "      <td>Bengaluru</td>\n",
       "      <td>60000.00</td>\n",
       "      <td>2025-07-30</td>\n",
       "      <td>A</td>\n",
       "      <td>NaN</td>\n",
       "      <td>Adult</td>\n",
       "    </tr>\n",
       "    <tr>\n",
       "      <th>11</th>\n",
       "      <td>Grace</td>\n",
       "      <td>29</td>\n",
       "      <td>Berlin</td>\n",
       "      <td>57141.00</td>\n",
       "      <td>2023-01-07</td>\n",
       "      <td>B</td>\n",
       "      <td>Grace</td>\n",
       "      <td>Adult</td>\n",
       "    </tr>\n",
       "    <tr>\n",
       "      <th>12</th>\n",
       "      <td>Hannah</td>\n",
       "      <td>60</td>\n",
       "      <td>London</td>\n",
       "      <td>70425.23</td>\n",
       "      <td>2023-01-08</td>\n",
       "      <td>B</td>\n",
       "      <td>Hannah</td>\n",
       "      <td>Senior</td>\n",
       "    </tr>\n",
       "    <tr>\n",
       "      <th>13</th>\n",
       "      <td>Rohan</td>\n",
       "      <td>25</td>\n",
       "      <td>Bengaluru</td>\n",
       "      <td>60000.00</td>\n",
       "      <td>2025-07-30</td>\n",
       "      <td>A</td>\n",
       "      <td>NaN</td>\n",
       "      <td>Adult</td>\n",
       "    </tr>\n",
       "  </tbody>\n",
       "</table>\n",
       "</div>"
      ],
      "text/plain": [
       "   Full Name  Age       City    Salary        Date Category   Name1  \\\n",
       "0      Alice   45     London  95445.00  2023-01-01        A   Alice   \n",
       "1        Bob   58      India  86235.00  2023-01-02        B     Bob   \n",
       "2      laxmi   60      Tokyo  62330.00  2023-01-03        C   Laxmi   \n",
       "3      David   28      Paris  46022.00  2023-01-04        A   David   \n",
       "4        Eva   49     Berlin  65999.00  2023-01-05        B     Eva   \n",
       "5      Frank   67      Paris  88320.00  2023-01-06        A   Frank   \n",
       "6      Grace   45     Berlin  57141.00  2023-01-07        C   Grace   \n",
       "7     Hannah   60     London  65413.00  2023-01-08        B  Hannah   \n",
       "8       Ivan   37      Tokyo  87016.00  2023-01-09        A    Ivan   \n",
       "9       Jack   31      India  58725.00  2023-01-10        B    Jack   \n",
       "10    Deepak   30  Bengaluru  60000.00  2025-07-30        A     NaN   \n",
       "11     Grace   29     Berlin  57141.00  2023-01-07        B   Grace   \n",
       "12    Hannah   60     London  70425.23  2023-01-08        B  Hannah   \n",
       "13     Rohan   25  Bengaluru  60000.00  2025-07-30        A     NaN   \n",
       "\n",
       "   Age Category  \n",
       "0   Middle Aged  \n",
       "1        Senior  \n",
       "2        Senior  \n",
       "3         Adult  \n",
       "4   Middle Aged  \n",
       "5        Senior  \n",
       "6   Middle Aged  \n",
       "7        Senior  \n",
       "8   Middle Aged  \n",
       "9         Adult  \n",
       "10        Adult  \n",
       "11        Adult  \n",
       "12       Senior  \n",
       "13        Adult  "
      ]
     },
     "execution_count": 107,
     "metadata": {},
     "output_type": "execute_result"
    }
   ],
   "source": [
    "df.drop_duplicates().reset_index(drop=True) # removing duplicate rows and resetting the index"
   ]
  },
  {
   "cell_type": "code",
   "execution_count": 108,
   "id": "05960aa3",
   "metadata": {},
   "outputs": [
    {
     "data": {
      "text/plain": [
       "np.float64(1018937.23)"
      ]
     },
     "execution_count": 108,
     "metadata": {},
     "output_type": "execute_result"
    }
   ],
   "source": [
    "sum_of_Salary = df['Salary'].sum() # calculating the sum of Salary column\n",
    "sum_of_Salary"
   ]
  },
  {
   "cell_type": "code",
   "execution_count": 109,
   "id": "9ad6017f",
   "metadata": {},
   "outputs": [
    {
     "data": {
      "text/plain": [
       "np.float64(46022.0)"
      ]
     },
     "execution_count": 109,
     "metadata": {},
     "output_type": "execute_result"
    }
   ],
   "source": [
    "min_of_Salary = df['Salary'].min() # finding the minimum salary\n",
    "min_of_Salary"
   ]
  },
  {
   "cell_type": "code",
   "execution_count": 110,
   "id": "4e681db4",
   "metadata": {},
   "outputs": [
    {
     "data": {
      "text/plain": [
       "np.float64(95445.0)"
      ]
     },
     "execution_count": 110,
     "metadata": {},
     "output_type": "execute_result"
    }
   ],
   "source": [
    "max_of_Salary = df['Salary'].max() # finding the maximum salary\n",
    "max_of_Salary"
   ]
  },
  {
   "cell_type": "code",
   "execution_count": 111,
   "id": "31fcb612",
   "metadata": {},
   "outputs": [
    {
     "data": {
      "text/plain": [
       "np.float64(43.666666666666664)"
      ]
     },
     "execution_count": 111,
     "metadata": {},
     "output_type": "execute_result"
    }
   ],
   "source": [
    "avg_of_age = df['Age'].mean() # calculating the average of Age column\n",
    "avg_of_age"
   ]
  },
  {
   "cell_type": "code",
   "execution_count": 112,
   "id": "ab4ab2f2",
   "metadata": {},
   "outputs": [
    {
     "data": {
      "text/plain": [
       "44"
      ]
     },
     "execution_count": 112,
     "metadata": {},
     "output_type": "execute_result"
    }
   ],
   "source": [
    "avg_of_age = round(df['Age'].mean()) # rounding the average of Age column\n",
    "avg_of_age"
   ]
  },
  {
   "cell_type": "code",
   "execution_count": 113,
   "id": "6b03e0aa",
   "metadata": {},
   "outputs": [
    {
     "data": {
      "text/plain": [
       "45"
      ]
     },
     "execution_count": 113,
     "metadata": {},
     "output_type": "execute_result"
    }
   ],
   "source": [
    "avg_of_age = round(df['Age'].median()) # median of Age column\n",
    "avg_of_age"
   ]
  },
  {
   "cell_type": "code",
   "execution_count": 114,
   "id": "14246c0f",
   "metadata": {},
   "outputs": [
    {
     "data": {
      "text/plain": [
       "0    B\n",
       "Name: Category, dtype: object"
      ]
     },
     "execution_count": 114,
     "metadata": {},
     "output_type": "execute_result"
    }
   ],
   "source": [
    "most_occured_category = df['Category'].mode() # finding the most occured category\n",
    "most_occured_category"
   ]
  },
  {
   "cell_type": "code",
   "execution_count": 115,
   "id": "e55eef80",
   "metadata": {},
   "outputs": [
    {
     "data": {
      "text/plain": [
       "np.float64(14.499589485157681)"
      ]
     },
     "execution_count": 115,
     "metadata": {},
     "output_type": "execute_result"
    }
   ],
   "source": [
    "Std_Age = df['Age'].std() # standard deviation of Age column\n",
    "Std_Age"
   ]
  },
  {
   "cell_type": "code",
   "execution_count": 116,
   "id": "d69f56e4",
   "metadata": {},
   "outputs": [
    {
     "data": {
      "text/plain": [
       "np.float64(210.2380952380952)"
      ]
     },
     "execution_count": 116,
     "metadata": {},
     "output_type": "execute_result"
    }
   ],
   "source": [
    "var_Age = df['Age'].var() # variance of Age column\n",
    "var_Age"
   ]
  },
  {
   "cell_type": "code",
   "execution_count": 117,
   "id": "ffd75a7b",
   "metadata": {},
   "outputs": [
    {
     "data": {
      "text/plain": [
       "np.True_"
      ]
     },
     "execution_count": 117,
     "metadata": {},
     "output_type": "execute_result"
    }
   ],
   "source": [
    "np.sqrt(var_Age)== Std_Age # True"
   ]
  },
  {
   "cell_type": "code",
   "execution_count": 118,
   "id": "033600ed",
   "metadata": {},
   "outputs": [
    {
     "data": {
      "text/plain": [
       "0     False\n",
       "1      True\n",
       "2     False\n",
       "3     False\n",
       "4      True\n",
       "5     False\n",
       "6     False\n",
       "7      True\n",
       "8     False\n",
       "9      True\n",
       "10    False\n",
       "11     True\n",
       "12     True\n",
       "13     True\n",
       "14    False\n",
       "Name: Category, dtype: bool"
      ]
     },
     "execution_count": 118,
     "metadata": {},
     "output_type": "execute_result"
    }
   ],
   "source": [
    "df['Category'] == 'B' # counting the number of rows where Category is B"
   ]
  },
  {
   "cell_type": "code",
   "execution_count": 119,
   "id": "0dd24e09",
   "metadata": {},
   "outputs": [
    {
     "data": {
      "text/plain": [
       "Full Name       7\n",
       "Age             7\n",
       "City            7\n",
       "Salary          7\n",
       "Date            7\n",
       "Category        7\n",
       "Name1           7\n",
       "Age Category    7\n",
       "dtype: int64"
      ]
     },
     "execution_count": 119,
     "metadata": {},
     "output_type": "execute_result"
    }
   ],
   "source": [
    "df[df['Category'] == 'B'].count() # counting the number of rows where Category is B"
   ]
  },
  {
   "cell_type": "code",
   "execution_count": 120,
   "id": "326eaa12",
   "metadata": {},
   "outputs": [
    {
     "data": {
      "text/plain": [
       "np.int64(7)"
      ]
     },
     "execution_count": 120,
     "metadata": {},
     "output_type": "execute_result"
    }
   ],
   "source": [
    "df['Category'][df['Category'] == 'B'].count() # counting the number of rows where Category is B"
   ]
  },
  {
   "cell_type": "code",
   "execution_count": 121,
   "id": "2231ad2f",
   "metadata": {},
   "outputs": [
    {
     "data": {
      "text/plain": [
       "np.int64(5)"
      ]
     },
     "execution_count": 121,
     "metadata": {},
     "output_type": "execute_result"
    }
   ],
   "source": [
    "df['Age'].idxmax() # largest age index"
   ]
  },
  {
   "cell_type": "code",
   "execution_count": 122,
   "id": "fc387b46",
   "metadata": {},
   "outputs": [
    {
     "data": {
      "text/plain": [
       "np.int64(14)"
      ]
     },
     "execution_count": 122,
     "metadata": {},
     "output_type": "execute_result"
    }
   ],
   "source": [
    "df['Age'].idxmin() # smallest age index"
   ]
  },
  {
   "cell_type": "code",
   "execution_count": 123,
   "id": "0b355c45",
   "metadata": {},
   "outputs": [
    {
     "data": {
      "text/plain": [
       "np.float64(0.22869995105155044)"
      ]
     },
     "execution_count": 123,
     "metadata": {},
     "output_type": "execute_result"
    }
   ],
   "source": [
    "df['Age'].skew() # skewness of Age column"
   ]
  },
  {
   "cell_type": "code",
   "execution_count": 124,
   "id": "c06da5da",
   "metadata": {},
   "outputs": [
    {
     "data": {
      "text/plain": [
       "0      8.5\n",
       "1     11.0\n",
       "2     13.0\n",
       "3      2.0\n",
       "4     10.0\n",
       "5     15.0\n",
       "6      8.5\n",
       "7     13.0\n",
       "8      7.0\n",
       "9      5.5\n",
       "10     4.0\n",
       "11     5.5\n",
       "12     3.0\n",
       "13    13.0\n",
       "14     1.0\n",
       "Name: Age, dtype: float64"
      ]
     },
     "execution_count": 124,
     "metadata": {},
     "output_type": "execute_result"
    }
   ],
   "source": [
    "df['Age'].rank(method='average') # ranking the Age column, method can be 'average', 'min', max', first', 'dense','ordinal'."
   ]
  },
  {
   "cell_type": "code",
   "execution_count": 125,
   "id": "67014678",
   "metadata": {},
   "outputs": [
    {
     "data": {
      "text/plain": [
       "14    25\n",
       "3     28\n",
       "12    29\n",
       "10    30\n",
       "9     31\n",
       "11    31\n",
       "8     37\n",
       "0     45\n",
       "6     45\n",
       "4     49\n",
       "1     58\n",
       "2     60\n",
       "13    60\n",
       "7     60\n",
       "5     67\n",
       "Name: Age, dtype: int64"
      ]
     },
     "execution_count": 125,
     "metadata": {},
     "output_type": "execute_result"
    }
   ],
   "source": [
    "df['Age'].sort_values(ascending=True) # sorting Age column in ascending order"
   ]
  },
  {
   "cell_type": "code",
   "execution_count": 126,
   "id": "5b126e63",
   "metadata": {},
   "outputs": [
    {
     "data": {
      "text/plain": [
       "0      8.5\n",
       "1     11.0\n",
       "2     13.0\n",
       "3      2.0\n",
       "4     10.0\n",
       "5     15.0\n",
       "6      8.5\n",
       "7     13.0\n",
       "8      7.0\n",
       "9      5.5\n",
       "10     4.0\n",
       "11     5.5\n",
       "12     3.0\n",
       "13    13.0\n",
       "14     1.0\n",
       "Name: Age, dtype: float64"
      ]
     },
     "execution_count": 126,
     "metadata": {},
     "output_type": "execute_result"
    }
   ],
   "source": [
    "df['Age'].rank(ascending=True) # ranking the Age column in ascending order"
   ]
  },
  {
   "cell_type": "code",
   "execution_count": 127,
   "id": "eb91d933",
   "metadata": {},
   "outputs": [
    {
     "data": {
      "text/html": [
       "<div>\n",
       "<style scoped>\n",
       "    .dataframe tbody tr th:only-of-type {\n",
       "        vertical-align: middle;\n",
       "    }\n",
       "\n",
       "    .dataframe tbody tr th {\n",
       "        vertical-align: top;\n",
       "    }\n",
       "\n",
       "    .dataframe thead th {\n",
       "        text-align: right;\n",
       "    }\n",
       "</style>\n",
       "<table border=\"1\" class=\"dataframe\">\n",
       "  <thead>\n",
       "    <tr style=\"text-align: right;\">\n",
       "      <th></th>\n",
       "      <th>Full Name</th>\n",
       "      <th>Age</th>\n",
       "      <th>City</th>\n",
       "      <th>Salary</th>\n",
       "      <th>Date</th>\n",
       "      <th>Category</th>\n",
       "      <th>Name1</th>\n",
       "      <th>Age Category</th>\n",
       "    </tr>\n",
       "  </thead>\n",
       "  <tbody>\n",
       "    <tr>\n",
       "      <th>3</th>\n",
       "      <td>David</td>\n",
       "      <td>28</td>\n",
       "      <td>Paris</td>\n",
       "      <td>46022.0</td>\n",
       "      <td>2023-01-04</td>\n",
       "      <td>A</td>\n",
       "      <td>David</td>\n",
       "      <td>Adult</td>\n",
       "    </tr>\n",
       "    <tr>\n",
       "      <th>9</th>\n",
       "      <td>Jack</td>\n",
       "      <td>31</td>\n",
       "      <td>India</td>\n",
       "      <td>58725.0</td>\n",
       "      <td>2023-01-10</td>\n",
       "      <td>B</td>\n",
       "      <td>Jack</td>\n",
       "      <td>Adult</td>\n",
       "    </tr>\n",
       "    <tr>\n",
       "      <th>10</th>\n",
       "      <td>Deepak</td>\n",
       "      <td>30</td>\n",
       "      <td>Bengaluru</td>\n",
       "      <td>60000.0</td>\n",
       "      <td>2025-07-30</td>\n",
       "      <td>A</td>\n",
       "      <td>NaN</td>\n",
       "      <td>Adult</td>\n",
       "    </tr>\n",
       "    <tr>\n",
       "      <th>11</th>\n",
       "      <td>Jack</td>\n",
       "      <td>31</td>\n",
       "      <td>India</td>\n",
       "      <td>58725.0</td>\n",
       "      <td>2023-01-10</td>\n",
       "      <td>B</td>\n",
       "      <td>Jack</td>\n",
       "      <td>Adult</td>\n",
       "    </tr>\n",
       "    <tr>\n",
       "      <th>12</th>\n",
       "      <td>Grace</td>\n",
       "      <td>29</td>\n",
       "      <td>Berlin</td>\n",
       "      <td>57141.0</td>\n",
       "      <td>2023-01-07</td>\n",
       "      <td>B</td>\n",
       "      <td>Grace</td>\n",
       "      <td>Adult</td>\n",
       "    </tr>\n",
       "    <tr>\n",
       "      <th>14</th>\n",
       "      <td>Rohan</td>\n",
       "      <td>25</td>\n",
       "      <td>Bengaluru</td>\n",
       "      <td>60000.0</td>\n",
       "      <td>2025-07-30</td>\n",
       "      <td>A</td>\n",
       "      <td>NaN</td>\n",
       "      <td>Adult</td>\n",
       "    </tr>\n",
       "  </tbody>\n",
       "</table>\n",
       "</div>"
      ],
      "text/plain": [
       "   Full Name  Age       City   Salary        Date Category  Name1 Age Category\n",
       "3      David   28      Paris  46022.0  2023-01-04        A  David        Adult\n",
       "9       Jack   31      India  58725.0  2023-01-10        B   Jack        Adult\n",
       "10    Deepak   30  Bengaluru  60000.0  2025-07-30        A    NaN        Adult\n",
       "11      Jack   31      India  58725.0  2023-01-10        B   Jack        Adult\n",
       "12     Grace   29     Berlin  57141.0  2023-01-07        B  Grace        Adult\n",
       "14     Rohan   25  Bengaluru  60000.0  2025-07-30        A    NaN        Adult"
      ]
     },
     "execution_count": 127,
     "metadata": {},
     "output_type": "execute_result"
    }
   ],
   "source": [
    "df[df['Age'].between(24,35)]"
   ]
  },
  {
   "cell_type": "code",
   "execution_count": 128,
   "id": "99fc966c",
   "metadata": {},
   "outputs": [],
   "source": [
    "df['Category']=df['Category'].map({'A':'X', 'B':'Y','C':'Z'})\n"
   ]
  },
  {
   "cell_type": "code",
   "execution_count": 129,
   "id": "c3b7a164",
   "metadata": {},
   "outputs": [
    {
     "data": {
      "text/plain": [
       "0     46\n",
       "1     59\n",
       "2     61\n",
       "3     29\n",
       "4     50\n",
       "5     68\n",
       "6     46\n",
       "7     61\n",
       "8     38\n",
       "9     32\n",
       "10    31\n",
       "11    32\n",
       "12    30\n",
       "13    61\n",
       "14    26\n",
       "Name: Age, dtype: int64"
      ]
     },
     "execution_count": 129,
     "metadata": {},
     "output_type": "execute_result"
    }
   ],
   "source": [
    "df['Age'].add(1)"
   ]
  },
  {
   "cell_type": "code",
   "execution_count": 130,
   "id": "cd2f7b38",
   "metadata": {},
   "outputs": [
    {
     "data": {
      "text/plain": [
       "0     44\n",
       "1     57\n",
       "2     59\n",
       "3     27\n",
       "4     48\n",
       "5     66\n",
       "6     44\n",
       "7     59\n",
       "8     36\n",
       "9     30\n",
       "10    29\n",
       "11    30\n",
       "12    28\n",
       "13    59\n",
       "14    24\n",
       "Name: Age, dtype: int64"
      ]
     },
     "execution_count": 130,
     "metadata": {},
     "output_type": "execute_result"
    }
   ],
   "source": [
    "df['Age'].subtract(1)"
   ]
  },
  {
   "cell_type": "code",
   "execution_count": 131,
   "id": "31ab85ef",
   "metadata": {},
   "outputs": [
    {
     "data": {
      "text/plain": [
       "0      90\n",
       "1     116\n",
       "2     120\n",
       "3      56\n",
       "4      98\n",
       "5     134\n",
       "6      90\n",
       "7     120\n",
       "8      74\n",
       "9      62\n",
       "10     60\n",
       "11     62\n",
       "12     58\n",
       "13    120\n",
       "14     50\n",
       "Name: Age, dtype: int64"
      ]
     },
     "execution_count": 131,
     "metadata": {},
     "output_type": "execute_result"
    }
   ],
   "source": [
    "df['Age'].multiply(2)"
   ]
  },
  {
   "cell_type": "code",
   "execution_count": 132,
   "id": "b43762b7",
   "metadata": {},
   "outputs": [
    {
     "data": {
      "text/plain": [
       "0     22.5\n",
       "1     29.0\n",
       "2     30.0\n",
       "3     14.0\n",
       "4     24.5\n",
       "5     33.5\n",
       "6     22.5\n",
       "7     30.0\n",
       "8     18.5\n",
       "9     15.5\n",
       "10    15.0\n",
       "11    15.5\n",
       "12    14.5\n",
       "13    30.0\n",
       "14    12.5\n",
       "Name: Age, dtype: float64"
      ]
     },
     "execution_count": 132,
     "metadata": {},
     "output_type": "execute_result"
    }
   ],
   "source": [
    "df['Age'].div(2)"
   ]
  },
  {
   "cell_type": "code",
   "execution_count": 133,
   "id": "82641e5f",
   "metadata": {},
   "outputs": [
    {
     "data": {
      "text/plain": [
       "0     1\n",
       "1     0\n",
       "2     0\n",
       "3     0\n",
       "4     1\n",
       "5     1\n",
       "6     1\n",
       "7     0\n",
       "8     1\n",
       "9     1\n",
       "10    0\n",
       "11    1\n",
       "12    1\n",
       "13    0\n",
       "14    1\n",
       "Name: Age, dtype: int64"
      ]
     },
     "execution_count": 133,
     "metadata": {},
     "output_type": "execute_result"
    }
   ],
   "source": [
    "df['Age'].mod(2) # modulus of Age column"
   ]
  },
  {
   "cell_type": "code",
   "execution_count": 134,
   "id": "7cd30b5a",
   "metadata": {},
   "outputs": [
    {
     "data": {
      "text/plain": [
       "0     False\n",
       "1      True\n",
       "2      True\n",
       "3      True\n",
       "4     False\n",
       "5     False\n",
       "6     False\n",
       "7      True\n",
       "8     False\n",
       "9     False\n",
       "10     True\n",
       "11    False\n",
       "12    False\n",
       "13     True\n",
       "14    False\n",
       "Name: Age, dtype: bool"
      ]
     },
     "execution_count": 134,
     "metadata": {},
     "output_type": "execute_result"
    }
   ],
   "source": [
    "df['Age'].mod(2)==0 # checking if Age is even"
   ]
  },
  {
   "cell_type": "code",
   "execution_count": 135,
   "id": "30c05f6c",
   "metadata": {},
   "outputs": [
    {
     "data": {
      "text/html": [
       "<div>\n",
       "<style scoped>\n",
       "    .dataframe tbody tr th:only-of-type {\n",
       "        vertical-align: middle;\n",
       "    }\n",
       "\n",
       "    .dataframe tbody tr th {\n",
       "        vertical-align: top;\n",
       "    }\n",
       "\n",
       "    .dataframe thead th {\n",
       "        text-align: right;\n",
       "    }\n",
       "</style>\n",
       "<table border=\"1\" class=\"dataframe\">\n",
       "  <thead>\n",
       "    <tr style=\"text-align: right;\">\n",
       "      <th></th>\n",
       "      <th>Full Name</th>\n",
       "      <th>Age</th>\n",
       "      <th>City</th>\n",
       "      <th>Salary</th>\n",
       "      <th>Date</th>\n",
       "      <th>Category</th>\n",
       "      <th>Name1</th>\n",
       "      <th>Age Category</th>\n",
       "    </tr>\n",
       "  </thead>\n",
       "  <tbody>\n",
       "    <tr>\n",
       "      <th>0</th>\n",
       "      <td>Alice</td>\n",
       "      <td>45</td>\n",
       "      <td>London</td>\n",
       "      <td>95445.00</td>\n",
       "      <td>2023-01-01</td>\n",
       "      <td>X</td>\n",
       "      <td>Alice</td>\n",
       "      <td>Middle Aged</td>\n",
       "    </tr>\n",
       "    <tr>\n",
       "      <th>1</th>\n",
       "      <td>Bob</td>\n",
       "      <td>58</td>\n",
       "      <td>India</td>\n",
       "      <td>86235.00</td>\n",
       "      <td>2023-01-02</td>\n",
       "      <td>Y</td>\n",
       "      <td>Bob</td>\n",
       "      <td>Senior</td>\n",
       "    </tr>\n",
       "    <tr>\n",
       "      <th>2</th>\n",
       "      <td>laxmi</td>\n",
       "      <td>60</td>\n",
       "      <td>Tokyo</td>\n",
       "      <td>62330.00</td>\n",
       "      <td>2023-01-03</td>\n",
       "      <td>Z</td>\n",
       "      <td>Laxmi</td>\n",
       "      <td>Senior</td>\n",
       "    </tr>\n",
       "    <tr>\n",
       "      <th>4</th>\n",
       "      <td>Eva</td>\n",
       "      <td>49</td>\n",
       "      <td>Berlin</td>\n",
       "      <td>65999.00</td>\n",
       "      <td>2023-01-05</td>\n",
       "      <td>Y</td>\n",
       "      <td>Eva</td>\n",
       "      <td>Middle Aged</td>\n",
       "    </tr>\n",
       "    <tr>\n",
       "      <th>5</th>\n",
       "      <td>Frank</td>\n",
       "      <td>67</td>\n",
       "      <td>Paris</td>\n",
       "      <td>88320.00</td>\n",
       "      <td>2023-01-06</td>\n",
       "      <td>X</td>\n",
       "      <td>Frank</td>\n",
       "      <td>Senior</td>\n",
       "    </tr>\n",
       "    <tr>\n",
       "      <th>6</th>\n",
       "      <td>Grace</td>\n",
       "      <td>45</td>\n",
       "      <td>Berlin</td>\n",
       "      <td>57141.00</td>\n",
       "      <td>2023-01-07</td>\n",
       "      <td>Z</td>\n",
       "      <td>Grace</td>\n",
       "      <td>Middle Aged</td>\n",
       "    </tr>\n",
       "    <tr>\n",
       "      <th>7</th>\n",
       "      <td>Hannah</td>\n",
       "      <td>60</td>\n",
       "      <td>London</td>\n",
       "      <td>65413.00</td>\n",
       "      <td>2023-01-08</td>\n",
       "      <td>Y</td>\n",
       "      <td>Hannah</td>\n",
       "      <td>Senior</td>\n",
       "    </tr>\n",
       "    <tr>\n",
       "      <th>8</th>\n",
       "      <td>Ivan</td>\n",
       "      <td>37</td>\n",
       "      <td>Tokyo</td>\n",
       "      <td>87016.00</td>\n",
       "      <td>2023-01-09</td>\n",
       "      <td>X</td>\n",
       "      <td>Ivan</td>\n",
       "      <td>Middle Aged</td>\n",
       "    </tr>\n",
       "    <tr>\n",
       "      <th>13</th>\n",
       "      <td>Hannah</td>\n",
       "      <td>60</td>\n",
       "      <td>London</td>\n",
       "      <td>70425.23</td>\n",
       "      <td>2023-01-08</td>\n",
       "      <td>Y</td>\n",
       "      <td>Hannah</td>\n",
       "      <td>Senior</td>\n",
       "    </tr>\n",
       "  </tbody>\n",
       "</table>\n",
       "</div>"
      ],
      "text/plain": [
       "   Full Name  Age    City    Salary        Date Category   Name1 Age Category\n",
       "0      Alice   45  London  95445.00  2023-01-01        X   Alice  Middle Aged\n",
       "1        Bob   58   India  86235.00  2023-01-02        Y     Bob       Senior\n",
       "2      laxmi   60   Tokyo  62330.00  2023-01-03        Z   Laxmi       Senior\n",
       "4        Eva   49  Berlin  65999.00  2023-01-05        Y     Eva  Middle Aged\n",
       "5      Frank   67   Paris  88320.00  2023-01-06        X   Frank       Senior\n",
       "6      Grace   45  Berlin  57141.00  2023-01-07        Z   Grace  Middle Aged\n",
       "7     Hannah   60  London  65413.00  2023-01-08        Y  Hannah       Senior\n",
       "8       Ivan   37   Tokyo  87016.00  2023-01-09        X    Ivan  Middle Aged\n",
       "13    Hannah   60  London  70425.23  2023-01-08        Y  Hannah       Senior"
      ]
     },
     "execution_count": 135,
     "metadata": {},
     "output_type": "execute_result"
    }
   ],
   "source": [
    "df[df['Age'].ge(35)] # finding rows where Age is greater than or equal to 35"
   ]
  },
  {
   "cell_type": "code",
   "execution_count": 136,
   "id": "6f61725e",
   "metadata": {},
   "outputs": [
    {
     "data": {
      "text/plain": [
       "Category\n",
       "Y    7\n",
       "X    6\n",
       "Z    2\n",
       "Name: count, dtype: int64"
      ]
     },
     "execution_count": 136,
     "metadata": {},
     "output_type": "execute_result"
    }
   ],
   "source": [
    "df['Category'].value_counts() # counting the number of occurences of each category"
   ]
  },
  {
   "cell_type": "code",
   "execution_count": 137,
   "id": "42474b48",
   "metadata": {},
   "outputs": [
    {
     "data": {
      "text/plain": [
       "array([7, 6, 2])"
      ]
     },
     "execution_count": 137,
     "metadata": {},
     "output_type": "execute_result"
    }
   ],
   "source": [
    "df['Category'].value_counts().values # getting the values of value counts"
   ]
  },
  {
   "cell_type": "code",
   "execution_count": 138,
   "id": "63979672",
   "metadata": {},
   "outputs": [
    {
     "data": {
      "text/plain": [
       "Index(['Y', 'X', 'Z'], dtype='object', name='Category')"
      ]
     },
     "execution_count": 138,
     "metadata": {},
     "output_type": "execute_result"
    }
   ],
   "source": [
    "df['Category'].value_counts().index # getting the index of value counts"
   ]
  },
  {
   "cell_type": "code",
   "execution_count": 139,
   "id": "9a00be1a",
   "metadata": {},
   "outputs": [
    {
     "data": {
      "text/plain": [
       "Category\n",
       "X    436803.00\n",
       "Y    462663.23\n",
       "Z    119471.00\n",
       "Name: Salary, dtype: float64"
      ]
     },
     "execution_count": 139,
     "metadata": {},
     "output_type": "execute_result"
    }
   ],
   "source": [
    "df.groupby('Category')['Salary'].sum() # finding total salary in each category"
   ]
  },
  {
   "cell_type": "code",
   "execution_count": 140,
   "id": "9d0762cd",
   "metadata": {},
   "outputs": [
    {
     "data": {
      "text/plain": [
       "Category\n",
       "X    72800.500000\n",
       "Y    66094.747143\n",
       "Z    59735.500000\n",
       "Name: Salary, dtype: float64"
      ]
     },
     "execution_count": 140,
     "metadata": {},
     "output_type": "execute_result"
    }
   ],
   "source": [
    "df.groupby('Category')['Salary'].mean() # finding average salary in each category"
   ]
  },
  {
   "cell_type": "code",
   "execution_count": 141,
   "id": "f2c17117",
   "metadata": {},
   "outputs": [
    {
     "data": {
      "text/plain": [
       "Category\n",
       "X    73508.0\n",
       "Y    65413.0\n",
       "Z    59735.5\n",
       "Name: Salary, dtype: float64"
      ]
     },
     "execution_count": 141,
     "metadata": {},
     "output_type": "execute_result"
    }
   ],
   "source": [
    "df.groupby('Category')['Salary'].median() # finding median salary in each category"
   ]
  },
  {
   "cell_type": "code",
   "execution_count": 142,
   "id": "dbfcb5c7",
   "metadata": {},
   "outputs": [
    {
     "data": {
      "text/plain": [
       "Category\n",
       "X    95445.0\n",
       "Y    86235.0\n",
       "Z    62330.0\n",
       "Name: Salary, dtype: float64"
      ]
     },
     "execution_count": 142,
     "metadata": {},
     "output_type": "execute_result"
    }
   ],
   "source": [
    "df.groupby('Category')['Salary'].first() # finding first salary in each category"
   ]
  },
  {
   "cell_type": "code",
   "execution_count": 143,
   "id": "766da9fb",
   "metadata": {},
   "outputs": [
    {
     "data": {
      "text/plain": [
       "Category\n",
       "X    60000.00\n",
       "Y    70425.23\n",
       "Z    57141.00\n",
       "Name: Salary, dtype: float64"
      ]
     },
     "execution_count": 143,
     "metadata": {},
     "output_type": "execute_result"
    }
   ],
   "source": [
    "df.groupby('Category')['Salary'].last() # finding last salary in each category"
   ]
  },
  {
   "cell_type": "code",
   "execution_count": 144,
   "id": "42638271",
   "metadata": {},
   "outputs": [
    {
     "data": {
      "text/plain": [
       "Category\n",
       "X    46022.0\n",
       "Y    57141.0\n",
       "Z    57141.0\n",
       "Name: Salary, dtype: float64"
      ]
     },
     "execution_count": 144,
     "metadata": {},
     "output_type": "execute_result"
    }
   ],
   "source": [
    "df.groupby('Category')['Salary'].min() # finding minimum salary in each category"
   ]
  },
  {
   "cell_type": "code",
   "execution_count": 145,
   "id": "77d5fc56",
   "metadata": {},
   "outputs": [
    {
     "data": {
      "text/plain": [
       "Category\n",
       "X    95445.0\n",
       "Y    86235.0\n",
       "Z    62330.0\n",
       "Name: Salary, dtype: float64"
      ]
     },
     "execution_count": 145,
     "metadata": {},
     "output_type": "execute_result"
    }
   ],
   "source": [
    "df.groupby('Category')['Salary'].max() # finding maximum salary in each category"
   ]
  },
  {
   "cell_type": "code",
   "execution_count": 146,
   "id": "f26d65e4",
   "metadata": {},
   "outputs": [
    {
     "data": {
      "text/html": [
       "<div>\n",
       "<style scoped>\n",
       "    .dataframe tbody tr th:only-of-type {\n",
       "        vertical-align: middle;\n",
       "    }\n",
       "\n",
       "    .dataframe tbody tr th {\n",
       "        vertical-align: top;\n",
       "    }\n",
       "\n",
       "    .dataframe thead th {\n",
       "        text-align: right;\n",
       "    }\n",
       "</style>\n",
       "<table border=\"1\" class=\"dataframe\">\n",
       "  <thead>\n",
       "    <tr style=\"text-align: right;\">\n",
       "      <th></th>\n",
       "      <th>Full Name</th>\n",
       "      <th>Age</th>\n",
       "      <th>City</th>\n",
       "      <th>Salary</th>\n",
       "      <th>Date</th>\n",
       "      <th>Category</th>\n",
       "      <th>Name1</th>\n",
       "      <th>Age Category</th>\n",
       "    </tr>\n",
       "  </thead>\n",
       "  <tbody>\n",
       "    <tr>\n",
       "      <th>0</th>\n",
       "      <td>Alice</td>\n",
       "      <td>45</td>\n",
       "      <td>London</td>\n",
       "      <td>95445.0</td>\n",
       "      <td>2023-01-01</td>\n",
       "      <td>X</td>\n",
       "      <td>Alice</td>\n",
       "      <td>Middle Aged</td>\n",
       "    </tr>\n",
       "    <tr>\n",
       "      <th>3</th>\n",
       "      <td>David</td>\n",
       "      <td>28</td>\n",
       "      <td>Paris</td>\n",
       "      <td>46022.0</td>\n",
       "      <td>2023-01-04</td>\n",
       "      <td>X</td>\n",
       "      <td>David</td>\n",
       "      <td>Adult</td>\n",
       "    </tr>\n",
       "    <tr>\n",
       "      <th>5</th>\n",
       "      <td>Frank</td>\n",
       "      <td>67</td>\n",
       "      <td>Paris</td>\n",
       "      <td>88320.0</td>\n",
       "      <td>2023-01-06</td>\n",
       "      <td>X</td>\n",
       "      <td>Frank</td>\n",
       "      <td>Senior</td>\n",
       "    </tr>\n",
       "    <tr>\n",
       "      <th>8</th>\n",
       "      <td>Ivan</td>\n",
       "      <td>37</td>\n",
       "      <td>Tokyo</td>\n",
       "      <td>87016.0</td>\n",
       "      <td>2023-01-09</td>\n",
       "      <td>X</td>\n",
       "      <td>Ivan</td>\n",
       "      <td>Middle Aged</td>\n",
       "    </tr>\n",
       "    <tr>\n",
       "      <th>10</th>\n",
       "      <td>Deepak</td>\n",
       "      <td>30</td>\n",
       "      <td>Bengaluru</td>\n",
       "      <td>60000.0</td>\n",
       "      <td>2025-07-30</td>\n",
       "      <td>X</td>\n",
       "      <td>NaN</td>\n",
       "      <td>Adult</td>\n",
       "    </tr>\n",
       "    <tr>\n",
       "      <th>14</th>\n",
       "      <td>Rohan</td>\n",
       "      <td>25</td>\n",
       "      <td>Bengaluru</td>\n",
       "      <td>60000.0</td>\n",
       "      <td>2025-07-30</td>\n",
       "      <td>X</td>\n",
       "      <td>NaN</td>\n",
       "      <td>Adult</td>\n",
       "    </tr>\n",
       "  </tbody>\n",
       "</table>\n",
       "</div>"
      ],
      "text/plain": [
       "   Full Name  Age       City   Salary        Date Category  Name1 Age Category\n",
       "0      Alice   45     London  95445.0  2023-01-01        X  Alice  Middle Aged\n",
       "3      David   28      Paris  46022.0  2023-01-04        X  David        Adult\n",
       "5      Frank   67      Paris  88320.0  2023-01-06        X  Frank       Senior\n",
       "8       Ivan   37      Tokyo  87016.0  2023-01-09        X   Ivan  Middle Aged\n",
       "10    Deepak   30  Bengaluru  60000.0  2025-07-30        X    NaN        Adult\n",
       "14     Rohan   25  Bengaluru  60000.0  2025-07-30        X    NaN        Adult"
      ]
     },
     "execution_count": 146,
     "metadata": {},
     "output_type": "execute_result"
    }
   ],
   "source": [
    "df[df['Category']=='X'] # accessing rows where Category is X"
   ]
  },
  {
   "cell_type": "code",
   "execution_count": 147,
   "id": "20f40dfd",
   "metadata": {},
   "outputs": [
    {
     "data": {
      "text/plain": [
       "City\n",
       "Bengaluru    60000.0\n",
       "Berlin       65999.0\n",
       "India        86235.0\n",
       "London       95445.0\n",
       "Paris        88320.0\n",
       "Tokyo        87016.0\n",
       "Name: Salary, dtype: float64"
      ]
     },
     "execution_count": 147,
     "metadata": {},
     "output_type": "execute_result"
    }
   ],
   "source": [
    "df.groupby('City')['Salary'].max() # finding maximum salary in each city"
   ]
  },
  {
   "cell_type": "code",
   "execution_count": 148,
   "id": "8c380bed",
   "metadata": {},
   "outputs": [
    {
     "data": {
      "text/html": [
       "<div>\n",
       "<style scoped>\n",
       "    .dataframe tbody tr th:only-of-type {\n",
       "        vertical-align: middle;\n",
       "    }\n",
       "\n",
       "    .dataframe tbody tr th {\n",
       "        vertical-align: top;\n",
       "    }\n",
       "\n",
       "    .dataframe thead th {\n",
       "        text-align: right;\n",
       "    }\n",
       "</style>\n",
       "<table border=\"1\" class=\"dataframe\">\n",
       "  <thead>\n",
       "    <tr style=\"text-align: right;\">\n",
       "      <th></th>\n",
       "      <th>Age</th>\n",
       "    </tr>\n",
       "    <tr>\n",
       "      <th>City</th>\n",
       "      <th></th>\n",
       "    </tr>\n",
       "  </thead>\n",
       "  <tbody>\n",
       "    <tr>\n",
       "      <th>Bengaluru</th>\n",
       "      <td>27.5</td>\n",
       "    </tr>\n",
       "    <tr>\n",
       "      <th>Berlin</th>\n",
       "      <td>41.0</td>\n",
       "    </tr>\n",
       "    <tr>\n",
       "      <th>India</th>\n",
       "      <td>40.0</td>\n",
       "    </tr>\n",
       "    <tr>\n",
       "      <th>London</th>\n",
       "      <td>55.0</td>\n",
       "    </tr>\n",
       "    <tr>\n",
       "      <th>Paris</th>\n",
       "      <td>47.5</td>\n",
       "    </tr>\n",
       "    <tr>\n",
       "      <th>Tokyo</th>\n",
       "      <td>48.5</td>\n",
       "    </tr>\n",
       "  </tbody>\n",
       "</table>\n",
       "</div>"
      ],
      "text/plain": [
       "            Age\n",
       "City           \n",
       "Bengaluru  27.5\n",
       "Berlin     41.0\n",
       "India      40.0\n",
       "London     55.0\n",
       "Paris      47.5\n",
       "Tokyo      48.5"
      ]
     },
     "execution_count": 148,
     "metadata": {},
     "output_type": "execute_result"
    }
   ],
   "source": [
    "df.groupby('City').agg({'Age':'mean'}) # grouping by City and aggregate Age column to find mean"
   ]
  },
  {
   "cell_type": "code",
   "execution_count": 149,
   "id": "4b75f464",
   "metadata": {},
   "outputs": [
    {
     "data": {
      "text/html": [
       "<div>\n",
       "<style scoped>\n",
       "    .dataframe tbody tr th:only-of-type {\n",
       "        vertical-align: middle;\n",
       "    }\n",
       "\n",
       "    .dataframe tbody tr th {\n",
       "        vertical-align: top;\n",
       "    }\n",
       "\n",
       "    .dataframe thead th {\n",
       "        text-align: right;\n",
       "    }\n",
       "</style>\n",
       "<table border=\"1\" class=\"dataframe\">\n",
       "  <thead>\n",
       "    <tr style=\"text-align: right;\">\n",
       "      <th></th>\n",
       "      <th></th>\n",
       "      <th>Salary</th>\n",
       "    </tr>\n",
       "    <tr>\n",
       "      <th>Category</th>\n",
       "      <th>Age Category</th>\n",
       "      <th></th>\n",
       "    </tr>\n",
       "  </thead>\n",
       "  <tbody>\n",
       "    <tr>\n",
       "      <th rowspan=\"3\" valign=\"top\">X</th>\n",
       "      <th>Adult</th>\n",
       "      <td>166022.00</td>\n",
       "    </tr>\n",
       "    <tr>\n",
       "      <th>Middle Aged</th>\n",
       "      <td>182461.00</td>\n",
       "    </tr>\n",
       "    <tr>\n",
       "      <th>Senior</th>\n",
       "      <td>88320.00</td>\n",
       "    </tr>\n",
       "    <tr>\n",
       "      <th rowspan=\"3\" valign=\"top\">Y</th>\n",
       "      <th>Adult</th>\n",
       "      <td>174591.00</td>\n",
       "    </tr>\n",
       "    <tr>\n",
       "      <th>Middle Aged</th>\n",
       "      <td>65999.00</td>\n",
       "    </tr>\n",
       "    <tr>\n",
       "      <th>Senior</th>\n",
       "      <td>222073.23</td>\n",
       "    </tr>\n",
       "    <tr>\n",
       "      <th rowspan=\"2\" valign=\"top\">Z</th>\n",
       "      <th>Middle Aged</th>\n",
       "      <td>57141.00</td>\n",
       "    </tr>\n",
       "    <tr>\n",
       "      <th>Senior</th>\n",
       "      <td>62330.00</td>\n",
       "    </tr>\n",
       "  </tbody>\n",
       "</table>\n",
       "</div>"
      ],
      "text/plain": [
       "                          Salary\n",
       "Category Age Category           \n",
       "X        Adult         166022.00\n",
       "         Middle Aged   182461.00\n",
       "         Senior         88320.00\n",
       "Y        Adult         174591.00\n",
       "         Middle Aged    65999.00\n",
       "         Senior        222073.23\n",
       "Z        Middle Aged    57141.00\n",
       "         Senior         62330.00"
      ]
     },
     "execution_count": 149,
     "metadata": {},
     "output_type": "execute_result"
    }
   ],
   "source": [
    "df.groupby(['Category','Age Category']).agg({'Salary':'sum'}) # grouping by Category and Age Category and aggregate"
   ]
  },
  {
   "cell_type": "code",
   "execution_count": 150,
   "id": "bdd47a8b",
   "metadata": {},
   "outputs": [
    {
     "data": {
      "text/html": [
       "<div>\n",
       "<style scoped>\n",
       "    .dataframe tbody tr th:only-of-type {\n",
       "        vertical-align: middle;\n",
       "    }\n",
       "\n",
       "    .dataframe tbody tr th {\n",
       "        vertical-align: top;\n",
       "    }\n",
       "\n",
       "    .dataframe thead th {\n",
       "        text-align: right;\n",
       "    }\n",
       "</style>\n",
       "<table border=\"1\" class=\"dataframe\">\n",
       "  <thead>\n",
       "    <tr style=\"text-align: right;\">\n",
       "      <th></th>\n",
       "      <th>Category</th>\n",
       "      <th>Age Category</th>\n",
       "      <th>Salary</th>\n",
       "    </tr>\n",
       "  </thead>\n",
       "  <tbody>\n",
       "    <tr>\n",
       "      <th>0</th>\n",
       "      <td>Y</td>\n",
       "      <td>Senior</td>\n",
       "      <td>222073.23</td>\n",
       "    </tr>\n",
       "    <tr>\n",
       "      <th>1</th>\n",
       "      <td>X</td>\n",
       "      <td>Middle Aged</td>\n",
       "      <td>182461.00</td>\n",
       "    </tr>\n",
       "    <tr>\n",
       "      <th>2</th>\n",
       "      <td>Y</td>\n",
       "      <td>Adult</td>\n",
       "      <td>174591.00</td>\n",
       "    </tr>\n",
       "    <tr>\n",
       "      <th>3</th>\n",
       "      <td>X</td>\n",
       "      <td>Adult</td>\n",
       "      <td>166022.00</td>\n",
       "    </tr>\n",
       "    <tr>\n",
       "      <th>4</th>\n",
       "      <td>X</td>\n",
       "      <td>Senior</td>\n",
       "      <td>88320.00</td>\n",
       "    </tr>\n",
       "    <tr>\n",
       "      <th>5</th>\n",
       "      <td>Y</td>\n",
       "      <td>Middle Aged</td>\n",
       "      <td>65999.00</td>\n",
       "    </tr>\n",
       "    <tr>\n",
       "      <th>6</th>\n",
       "      <td>Z</td>\n",
       "      <td>Senior</td>\n",
       "      <td>62330.00</td>\n",
       "    </tr>\n",
       "    <tr>\n",
       "      <th>7</th>\n",
       "      <td>Z</td>\n",
       "      <td>Middle Aged</td>\n",
       "      <td>57141.00</td>\n",
       "    </tr>\n",
       "  </tbody>\n",
       "</table>\n",
       "</div>"
      ],
      "text/plain": [
       "  Category Age Category     Salary\n",
       "0        Y       Senior  222073.23\n",
       "1        X  Middle Aged  182461.00\n",
       "2        Y        Adult  174591.00\n",
       "3        X        Adult  166022.00\n",
       "4        X       Senior   88320.00\n",
       "5        Y  Middle Aged   65999.00\n",
       "6        Z       Senior   62330.00\n",
       "7        Z  Middle Aged   57141.00"
      ]
     },
     "execution_count": 150,
     "metadata": {},
     "output_type": "execute_result"
    }
   ],
   "source": [
    "df.groupby(['Category','Age Category']).agg({'Salary':'sum'}).sort_values(by='Salary',ascending=False).reset_index() # grouping by Category and Age Category and aggregate "
   ]
  },
  {
   "cell_type": "code",
   "execution_count": 151,
   "id": "862620f9",
   "metadata": {},
   "outputs": [
    {
     "data": {
      "text/html": [
       "<div>\n",
       "<style scoped>\n",
       "    .dataframe tbody tr th:only-of-type {\n",
       "        vertical-align: middle;\n",
       "    }\n",
       "\n",
       "    .dataframe tbody tr th {\n",
       "        vertical-align: top;\n",
       "    }\n",
       "\n",
       "    .dataframe thead th {\n",
       "        text-align: right;\n",
       "    }\n",
       "</style>\n",
       "<table border=\"1\" class=\"dataframe\">\n",
       "  <thead>\n",
       "    <tr style=\"text-align: right;\">\n",
       "      <th></th>\n",
       "      <th>Category</th>\n",
       "      <th>Age Category</th>\n",
       "      <th>Salary</th>\n",
       "      <th>Age</th>\n",
       "    </tr>\n",
       "  </thead>\n",
       "  <tbody>\n",
       "    <tr>\n",
       "      <th>0</th>\n",
       "      <td>X</td>\n",
       "      <td>Adult</td>\n",
       "      <td>166022.00</td>\n",
       "      <td>27.666667</td>\n",
       "    </tr>\n",
       "    <tr>\n",
       "      <th>1</th>\n",
       "      <td>X</td>\n",
       "      <td>Middle Aged</td>\n",
       "      <td>182461.00</td>\n",
       "      <td>41.000000</td>\n",
       "    </tr>\n",
       "    <tr>\n",
       "      <th>2</th>\n",
       "      <td>X</td>\n",
       "      <td>Senior</td>\n",
       "      <td>88320.00</td>\n",
       "      <td>67.000000</td>\n",
       "    </tr>\n",
       "    <tr>\n",
       "      <th>3</th>\n",
       "      <td>Y</td>\n",
       "      <td>Adult</td>\n",
       "      <td>174591.00</td>\n",
       "      <td>30.333333</td>\n",
       "    </tr>\n",
       "    <tr>\n",
       "      <th>4</th>\n",
       "      <td>Y</td>\n",
       "      <td>Middle Aged</td>\n",
       "      <td>65999.00</td>\n",
       "      <td>49.000000</td>\n",
       "    </tr>\n",
       "    <tr>\n",
       "      <th>5</th>\n",
       "      <td>Y</td>\n",
       "      <td>Senior</td>\n",
       "      <td>222073.23</td>\n",
       "      <td>59.333333</td>\n",
       "    </tr>\n",
       "    <tr>\n",
       "      <th>6</th>\n",
       "      <td>Z</td>\n",
       "      <td>Middle Aged</td>\n",
       "      <td>57141.00</td>\n",
       "      <td>45.000000</td>\n",
       "    </tr>\n",
       "    <tr>\n",
       "      <th>7</th>\n",
       "      <td>Z</td>\n",
       "      <td>Senior</td>\n",
       "      <td>62330.00</td>\n",
       "      <td>60.000000</td>\n",
       "    </tr>\n",
       "  </tbody>\n",
       "</table>\n",
       "</div>"
      ],
      "text/plain": [
       "  Category Age Category     Salary        Age\n",
       "0        X        Adult  166022.00  27.666667\n",
       "1        X  Middle Aged  182461.00  41.000000\n",
       "2        X       Senior   88320.00  67.000000\n",
       "3        Y        Adult  174591.00  30.333333\n",
       "4        Y  Middle Aged   65999.00  49.000000\n",
       "5        Y       Senior  222073.23  59.333333\n",
       "6        Z  Middle Aged   57141.00  45.000000\n",
       "7        Z       Senior   62330.00  60.000000"
      ]
     },
     "execution_count": 151,
     "metadata": {},
     "output_type": "execute_result"
    }
   ],
   "source": [
    "df.groupby(['Category','Age Category']).agg({'Salary':'sum','Age':'mean'}).reset_index() # grouping by Category and Age Category and aggregate "
   ]
  },
  {
   "cell_type": "code",
   "execution_count": 152,
   "id": "cab76f8b",
   "metadata": {},
   "outputs": [
    {
     "data": {
      "text/html": [
       "<div>\n",
       "<style scoped>\n",
       "    .dataframe tbody tr th:only-of-type {\n",
       "        vertical-align: middle;\n",
       "    }\n",
       "\n",
       "    .dataframe tbody tr th {\n",
       "        vertical-align: top;\n",
       "    }\n",
       "\n",
       "    .dataframe thead tr th {\n",
       "        text-align: left;\n",
       "    }\n",
       "</style>\n",
       "<table border=\"1\" class=\"dataframe\">\n",
       "  <thead>\n",
       "    <tr>\n",
       "      <th></th>\n",
       "      <th>Age Category</th>\n",
       "      <th colspan=\"2\" halign=\"left\">Salary</th>\n",
       "      <th colspan=\"2\" halign=\"left\">Age</th>\n",
       "    </tr>\n",
       "    <tr>\n",
       "      <th></th>\n",
       "      <th></th>\n",
       "      <th>min</th>\n",
       "      <th>max</th>\n",
       "      <th>min</th>\n",
       "      <th>max</th>\n",
       "    </tr>\n",
       "  </thead>\n",
       "  <tbody>\n",
       "    <tr>\n",
       "      <th>0</th>\n",
       "      <td>Adult</td>\n",
       "      <td>46022.0</td>\n",
       "      <td>60000.0</td>\n",
       "      <td>25</td>\n",
       "      <td>31</td>\n",
       "    </tr>\n",
       "    <tr>\n",
       "      <th>1</th>\n",
       "      <td>Middle Aged</td>\n",
       "      <td>57141.0</td>\n",
       "      <td>95445.0</td>\n",
       "      <td>37</td>\n",
       "      <td>49</td>\n",
       "    </tr>\n",
       "    <tr>\n",
       "      <th>2</th>\n",
       "      <td>Senior</td>\n",
       "      <td>62330.0</td>\n",
       "      <td>88320.0</td>\n",
       "      <td>58</td>\n",
       "      <td>67</td>\n",
       "    </tr>\n",
       "  </tbody>\n",
       "</table>\n",
       "</div>"
      ],
      "text/plain": [
       "  Age Category   Salary          Age    \n",
       "                    min      max min max\n",
       "0        Adult  46022.0  60000.0  25  31\n",
       "1  Middle Aged  57141.0  95445.0  37  49\n",
       "2       Senior  62330.0  88320.0  58  67"
      ]
     },
     "execution_count": 152,
     "metadata": {},
     "output_type": "execute_result"
    }
   ],
   "source": [
    "category_salary_age=df.groupby(['Age Category']).agg({'Salary':['min','max'],'Age':['min','max']}).reset_index() # grouping by Age Category and aggregate \n",
    "category_salary_age"
   ]
  },
  {
   "cell_type": "code",
   "execution_count": 153,
   "id": "b5cca7b8",
   "metadata": {},
   "outputs": [
    {
     "data": {
      "text/plain": [
       "Age Category       0          Adult\n",
       "                   1    Middle Aged\n",
       "                   2         Senior\n",
       "Salary        min  0        46022.0\n",
       "                   1        57141.0\n",
       "                   2        62330.0\n",
       "              max  0        60000.0\n",
       "                   1        95445.0\n",
       "                   2        88320.0\n",
       "Age           min  0             25\n",
       "                   1             37\n",
       "                   2             58\n",
       "              max  0             31\n",
       "                   1             49\n",
       "                   2             67\n",
       "dtype: object"
      ]
     },
     "execution_count": 153,
     "metadata": {},
     "output_type": "execute_result"
    }
   ],
   "source": [
    "category_salary_age.unstack() # stacking the dataframe to convert columns into rows"
   ]
  },
  {
   "cell_type": "code",
   "execution_count": 154,
   "id": "d3b256bd",
   "metadata": {},
   "outputs": [
    {
     "data": {
      "text/html": [
       "<div>\n",
       "<style scoped>\n",
       "    .dataframe tbody tr th:only-of-type {\n",
       "        vertical-align: middle;\n",
       "    }\n",
       "\n",
       "    .dataframe tbody tr th {\n",
       "        vertical-align: top;\n",
       "    }\n",
       "\n",
       "    .dataframe thead th {\n",
       "        text-align: right;\n",
       "    }\n",
       "</style>\n",
       "<table border=\"1\" class=\"dataframe\">\n",
       "  <thead>\n",
       "    <tr style=\"text-align: right;\">\n",
       "      <th></th>\n",
       "      <th></th>\n",
       "      <th>Age Category</th>\n",
       "      <th>Salary</th>\n",
       "      <th>Age</th>\n",
       "    </tr>\n",
       "  </thead>\n",
       "  <tbody>\n",
       "    <tr>\n",
       "      <th rowspan=\"3\" valign=\"top\">0</th>\n",
       "      <th></th>\n",
       "      <td>Adult</td>\n",
       "      <td>NaN</td>\n",
       "      <td>NaN</td>\n",
       "    </tr>\n",
       "    <tr>\n",
       "      <th>max</th>\n",
       "      <td>NaN</td>\n",
       "      <td>60000.0</td>\n",
       "      <td>31.0</td>\n",
       "    </tr>\n",
       "    <tr>\n",
       "      <th>min</th>\n",
       "      <td>NaN</td>\n",
       "      <td>46022.0</td>\n",
       "      <td>25.0</td>\n",
       "    </tr>\n",
       "    <tr>\n",
       "      <th rowspan=\"3\" valign=\"top\">1</th>\n",
       "      <th></th>\n",
       "      <td>Middle Aged</td>\n",
       "      <td>NaN</td>\n",
       "      <td>NaN</td>\n",
       "    </tr>\n",
       "    <tr>\n",
       "      <th>max</th>\n",
       "      <td>NaN</td>\n",
       "      <td>95445.0</td>\n",
       "      <td>49.0</td>\n",
       "    </tr>\n",
       "    <tr>\n",
       "      <th>min</th>\n",
       "      <td>NaN</td>\n",
       "      <td>57141.0</td>\n",
       "      <td>37.0</td>\n",
       "    </tr>\n",
       "    <tr>\n",
       "      <th rowspan=\"3\" valign=\"top\">2</th>\n",
       "      <th></th>\n",
       "      <td>Senior</td>\n",
       "      <td>NaN</td>\n",
       "      <td>NaN</td>\n",
       "    </tr>\n",
       "    <tr>\n",
       "      <th>max</th>\n",
       "      <td>NaN</td>\n",
       "      <td>88320.0</td>\n",
       "      <td>67.0</td>\n",
       "    </tr>\n",
       "    <tr>\n",
       "      <th>min</th>\n",
       "      <td>NaN</td>\n",
       "      <td>62330.0</td>\n",
       "      <td>58.0</td>\n",
       "    </tr>\n",
       "  </tbody>\n",
       "</table>\n",
       "</div>"
      ],
      "text/plain": [
       "      Age Category   Salary   Age\n",
       "0            Adult      NaN   NaN\n",
       "  max          NaN  60000.0  31.0\n",
       "  min          NaN  46022.0  25.0\n",
       "1      Middle Aged      NaN   NaN\n",
       "  max          NaN  95445.0  49.0\n",
       "  min          NaN  57141.0  37.0\n",
       "2           Senior      NaN   NaN\n",
       "  max          NaN  88320.0  67.0\n",
       "  min          NaN  62330.0  58.0"
      ]
     },
     "execution_count": 154,
     "metadata": {},
     "output_type": "execute_result"
    }
   ],
   "source": [
    "category_salary_age.stack() # stacking the dataframe to convert columns into rows"
   ]
  },
  {
   "cell_type": "markdown",
   "id": "08417390",
   "metadata": {},
   "source": [
    "### **Joining**\n",
    "Joining in data processing means combining rows from two or more datasets based on a related column (key).\n",
    "\n",
    "Key Points:\n",
    "\n",
    "Purpose – Merge data to get a complete view from multiple sources.\n",
    "\n",
    "Types in Pandas / SQL –\n",
    "\n",
    "Inner Join – Only matching rows.\n",
    "\n",
    "Left Join – All from left + matches from right.\n",
    "\n",
    "Right Join – All from right + matches from left.\n",
    "\n",
    "Outer Join – All rows from both sides (fill missing with NaN)."
   ]
  },
  {
   "cell_type": "code",
   "execution_count": 155,
   "id": "aabdc1c1",
   "metadata": {},
   "outputs": [],
   "source": [
    "left_data = {\n",
    "    'ID': [1, 2, 3, 4, 5],\n",
    "    'Name': ['Alice', 'Bob', 'Charlie', 'David', 'Eva'],\n",
    "    'Age': [25, 30, 35, 28, 24],\n",
    "}\n",
    "\n",
    "left_df = pd.DataFrame(left_data)\n",
    "\n",
    "# Sample data for right DataFrame\n",
    "right_data = {\n",
    "    'ID': [1, 2, 4, 5, 6],\n",
    "    'City': ['New York', 'London', 'Paris', 'Berlin', 'Tokyo'],\n",
    "    'Salary': [60000, 75000, 62000, 57000, 80000],\n",
    "}\n",
    "\n",
    "right_df = pd.DataFrame(right_data)"
   ]
  },
  {
   "cell_type": "code",
   "execution_count": 156,
   "id": "7287eca2",
   "metadata": {},
   "outputs": [
    {
     "data": {
      "text/html": [
       "<div>\n",
       "<style scoped>\n",
       "    .dataframe tbody tr th:only-of-type {\n",
       "        vertical-align: middle;\n",
       "    }\n",
       "\n",
       "    .dataframe tbody tr th {\n",
       "        vertical-align: top;\n",
       "    }\n",
       "\n",
       "    .dataframe thead th {\n",
       "        text-align: right;\n",
       "    }\n",
       "</style>\n",
       "<table border=\"1\" class=\"dataframe\">\n",
       "  <thead>\n",
       "    <tr style=\"text-align: right;\">\n",
       "      <th></th>\n",
       "      <th>ID</th>\n",
       "      <th>Name</th>\n",
       "      <th>Age</th>\n",
       "      <th>City</th>\n",
       "      <th>Salary</th>\n",
       "    </tr>\n",
       "  </thead>\n",
       "  <tbody>\n",
       "    <tr>\n",
       "      <th>0</th>\n",
       "      <td>1</td>\n",
       "      <td>Alice</td>\n",
       "      <td>25</td>\n",
       "      <td>New York</td>\n",
       "      <td>60000</td>\n",
       "    </tr>\n",
       "    <tr>\n",
       "      <th>1</th>\n",
       "      <td>2</td>\n",
       "      <td>Bob</td>\n",
       "      <td>30</td>\n",
       "      <td>London</td>\n",
       "      <td>75000</td>\n",
       "    </tr>\n",
       "    <tr>\n",
       "      <th>2</th>\n",
       "      <td>4</td>\n",
       "      <td>David</td>\n",
       "      <td>28</td>\n",
       "      <td>Paris</td>\n",
       "      <td>62000</td>\n",
       "    </tr>\n",
       "    <tr>\n",
       "      <th>3</th>\n",
       "      <td>5</td>\n",
       "      <td>Eva</td>\n",
       "      <td>24</td>\n",
       "      <td>Berlin</td>\n",
       "      <td>57000</td>\n",
       "    </tr>\n",
       "  </tbody>\n",
       "</table>\n",
       "</div>"
      ],
      "text/plain": [
       "   ID   Name  Age      City  Salary\n",
       "0   1  Alice   25  New York   60000\n",
       "1   2    Bob   30    London   75000\n",
       "2   4  David   28     Paris   62000\n",
       "3   5    Eva   24    Berlin   57000"
      ]
     },
     "execution_count": 156,
     "metadata": {},
     "output_type": "execute_result"
    }
   ],
   "source": [
    "data3= pd.merge(left_df, right_df,on='ID') # default inner join\n",
    "data3"
   ]
  },
  {
   "cell_type": "code",
   "execution_count": 157,
   "id": "8f5aa3aa",
   "metadata": {},
   "outputs": [
    {
     "data": {
      "text/html": [
       "<div>\n",
       "<style scoped>\n",
       "    .dataframe tbody tr th:only-of-type {\n",
       "        vertical-align: middle;\n",
       "    }\n",
       "\n",
       "    .dataframe tbody tr th {\n",
       "        vertical-align: top;\n",
       "    }\n",
       "\n",
       "    .dataframe thead th {\n",
       "        text-align: right;\n",
       "    }\n",
       "</style>\n",
       "<table border=\"1\" class=\"dataframe\">\n",
       "  <thead>\n",
       "    <tr style=\"text-align: right;\">\n",
       "      <th></th>\n",
       "      <th>ID</th>\n",
       "      <th>Name</th>\n",
       "      <th>Age</th>\n",
       "      <th>City</th>\n",
       "      <th>Salary</th>\n",
       "    </tr>\n",
       "  </thead>\n",
       "  <tbody>\n",
       "    <tr>\n",
       "      <th>0</th>\n",
       "      <td>1</td>\n",
       "      <td>Alice</td>\n",
       "      <td>25</td>\n",
       "      <td>New York</td>\n",
       "      <td>60000</td>\n",
       "    </tr>\n",
       "    <tr>\n",
       "      <th>1</th>\n",
       "      <td>2</td>\n",
       "      <td>Bob</td>\n",
       "      <td>30</td>\n",
       "      <td>London</td>\n",
       "      <td>75000</td>\n",
       "    </tr>\n",
       "    <tr>\n",
       "      <th>2</th>\n",
       "      <td>4</td>\n",
       "      <td>David</td>\n",
       "      <td>28</td>\n",
       "      <td>Paris</td>\n",
       "      <td>62000</td>\n",
       "    </tr>\n",
       "    <tr>\n",
       "      <th>3</th>\n",
       "      <td>5</td>\n",
       "      <td>Eva</td>\n",
       "      <td>24</td>\n",
       "      <td>Berlin</td>\n",
       "      <td>57000</td>\n",
       "    </tr>\n",
       "  </tbody>\n",
       "</table>\n",
       "</div>"
      ],
      "text/plain": [
       "   ID   Name  Age      City  Salary\n",
       "0   1  Alice   25  New York   60000\n",
       "1   2    Bob   30    London   75000\n",
       "2   4  David   28     Paris   62000\n",
       "3   5    Eva   24    Berlin   57000"
      ]
     },
     "execution_count": 157,
     "metadata": {},
     "output_type": "execute_result"
    }
   ],
   "source": [
    "inner_join= pd.merge(left_df,right_df,on='ID',how='inner') \n",
    "inner_join"
   ]
  },
  {
   "cell_type": "code",
   "execution_count": 158,
   "id": "4fad401d",
   "metadata": {},
   "outputs": [
    {
     "data": {
      "text/html": [
       "<div>\n",
       "<style scoped>\n",
       "    .dataframe tbody tr th:only-of-type {\n",
       "        vertical-align: middle;\n",
       "    }\n",
       "\n",
       "    .dataframe tbody tr th {\n",
       "        vertical-align: top;\n",
       "    }\n",
       "\n",
       "    .dataframe thead th {\n",
       "        text-align: right;\n",
       "    }\n",
       "</style>\n",
       "<table border=\"1\" class=\"dataframe\">\n",
       "  <thead>\n",
       "    <tr style=\"text-align: right;\">\n",
       "      <th></th>\n",
       "      <th>ID</th>\n",
       "      <th>Name</th>\n",
       "      <th>Age</th>\n",
       "      <th>City</th>\n",
       "      <th>Salary</th>\n",
       "    </tr>\n",
       "  </thead>\n",
       "  <tbody>\n",
       "    <tr>\n",
       "      <th>0</th>\n",
       "      <td>1</td>\n",
       "      <td>Alice</td>\n",
       "      <td>25.0</td>\n",
       "      <td>New York</td>\n",
       "      <td>60000.0</td>\n",
       "    </tr>\n",
       "    <tr>\n",
       "      <th>1</th>\n",
       "      <td>2</td>\n",
       "      <td>Bob</td>\n",
       "      <td>30.0</td>\n",
       "      <td>London</td>\n",
       "      <td>75000.0</td>\n",
       "    </tr>\n",
       "    <tr>\n",
       "      <th>2</th>\n",
       "      <td>3</td>\n",
       "      <td>Charlie</td>\n",
       "      <td>35.0</td>\n",
       "      <td>NaN</td>\n",
       "      <td>NaN</td>\n",
       "    </tr>\n",
       "    <tr>\n",
       "      <th>3</th>\n",
       "      <td>4</td>\n",
       "      <td>David</td>\n",
       "      <td>28.0</td>\n",
       "      <td>Paris</td>\n",
       "      <td>62000.0</td>\n",
       "    </tr>\n",
       "    <tr>\n",
       "      <th>4</th>\n",
       "      <td>5</td>\n",
       "      <td>Eva</td>\n",
       "      <td>24.0</td>\n",
       "      <td>Berlin</td>\n",
       "      <td>57000.0</td>\n",
       "    </tr>\n",
       "    <tr>\n",
       "      <th>5</th>\n",
       "      <td>6</td>\n",
       "      <td>NaN</td>\n",
       "      <td>NaN</td>\n",
       "      <td>Tokyo</td>\n",
       "      <td>80000.0</td>\n",
       "    </tr>\n",
       "  </tbody>\n",
       "</table>\n",
       "</div>"
      ],
      "text/plain": [
       "   ID     Name   Age      City   Salary\n",
       "0   1    Alice  25.0  New York  60000.0\n",
       "1   2      Bob  30.0    London  75000.0\n",
       "2   3  Charlie  35.0       NaN      NaN\n",
       "3   4    David  28.0     Paris  62000.0\n",
       "4   5      Eva  24.0    Berlin  57000.0\n",
       "5   6      NaN   NaN     Tokyo  80000.0"
      ]
     },
     "execution_count": 158,
     "metadata": {},
     "output_type": "execute_result"
    }
   ],
   "source": [
    "outer_join= pd.merge(left_df,right_df,on='ID',how='outer')\n",
    "outer_join"
   ]
  },
  {
   "cell_type": "code",
   "execution_count": 159,
   "id": "0d0889ae",
   "metadata": {},
   "outputs": [
    {
     "data": {
      "text/html": [
       "<div>\n",
       "<style scoped>\n",
       "    .dataframe tbody tr th:only-of-type {\n",
       "        vertical-align: middle;\n",
       "    }\n",
       "\n",
       "    .dataframe tbody tr th {\n",
       "        vertical-align: top;\n",
       "    }\n",
       "\n",
       "    .dataframe thead th {\n",
       "        text-align: right;\n",
       "    }\n",
       "</style>\n",
       "<table border=\"1\" class=\"dataframe\">\n",
       "  <thead>\n",
       "    <tr style=\"text-align: right;\">\n",
       "      <th></th>\n",
       "      <th>ID</th>\n",
       "      <th>Name</th>\n",
       "      <th>Age</th>\n",
       "      <th>City</th>\n",
       "      <th>Salary</th>\n",
       "    </tr>\n",
       "  </thead>\n",
       "  <tbody>\n",
       "    <tr>\n",
       "      <th>0</th>\n",
       "      <td>1</td>\n",
       "      <td>Alice</td>\n",
       "      <td>25</td>\n",
       "      <td>New York</td>\n",
       "      <td>60000.0</td>\n",
       "    </tr>\n",
       "    <tr>\n",
       "      <th>1</th>\n",
       "      <td>2</td>\n",
       "      <td>Bob</td>\n",
       "      <td>30</td>\n",
       "      <td>London</td>\n",
       "      <td>75000.0</td>\n",
       "    </tr>\n",
       "    <tr>\n",
       "      <th>2</th>\n",
       "      <td>3</td>\n",
       "      <td>Charlie</td>\n",
       "      <td>35</td>\n",
       "      <td>NaN</td>\n",
       "      <td>NaN</td>\n",
       "    </tr>\n",
       "    <tr>\n",
       "      <th>3</th>\n",
       "      <td>4</td>\n",
       "      <td>David</td>\n",
       "      <td>28</td>\n",
       "      <td>Paris</td>\n",
       "      <td>62000.0</td>\n",
       "    </tr>\n",
       "    <tr>\n",
       "      <th>4</th>\n",
       "      <td>5</td>\n",
       "      <td>Eva</td>\n",
       "      <td>24</td>\n",
       "      <td>Berlin</td>\n",
       "      <td>57000.0</td>\n",
       "    </tr>\n",
       "  </tbody>\n",
       "</table>\n",
       "</div>"
      ],
      "text/plain": [
       "   ID     Name  Age      City   Salary\n",
       "0   1    Alice   25  New York  60000.0\n",
       "1   2      Bob   30    London  75000.0\n",
       "2   3  Charlie   35       NaN      NaN\n",
       "3   4    David   28     Paris  62000.0\n",
       "4   5      Eva   24    Berlin  57000.0"
      ]
     },
     "execution_count": 159,
     "metadata": {},
     "output_type": "execute_result"
    }
   ],
   "source": [
    "left_join= pd.merge(left_df,right_df,on='ID',how='left') \n",
    "left_join"
   ]
  },
  {
   "cell_type": "code",
   "execution_count": 160,
   "id": "21264449",
   "metadata": {},
   "outputs": [
    {
     "data": {
      "text/html": [
       "<div>\n",
       "<style scoped>\n",
       "    .dataframe tbody tr th:only-of-type {\n",
       "        vertical-align: middle;\n",
       "    }\n",
       "\n",
       "    .dataframe tbody tr th {\n",
       "        vertical-align: top;\n",
       "    }\n",
       "\n",
       "    .dataframe thead th {\n",
       "        text-align: right;\n",
       "    }\n",
       "</style>\n",
       "<table border=\"1\" class=\"dataframe\">\n",
       "  <thead>\n",
       "    <tr style=\"text-align: right;\">\n",
       "      <th></th>\n",
       "      <th>ID</th>\n",
       "      <th>Name</th>\n",
       "      <th>Age</th>\n",
       "      <th>City</th>\n",
       "      <th>Salary</th>\n",
       "    </tr>\n",
       "  </thead>\n",
       "  <tbody>\n",
       "    <tr>\n",
       "      <th>0</th>\n",
       "      <td>1</td>\n",
       "      <td>Alice</td>\n",
       "      <td>25.0</td>\n",
       "      <td>New York</td>\n",
       "      <td>60000</td>\n",
       "    </tr>\n",
       "    <tr>\n",
       "      <th>1</th>\n",
       "      <td>2</td>\n",
       "      <td>Bob</td>\n",
       "      <td>30.0</td>\n",
       "      <td>London</td>\n",
       "      <td>75000</td>\n",
       "    </tr>\n",
       "    <tr>\n",
       "      <th>2</th>\n",
       "      <td>4</td>\n",
       "      <td>David</td>\n",
       "      <td>28.0</td>\n",
       "      <td>Paris</td>\n",
       "      <td>62000</td>\n",
       "    </tr>\n",
       "    <tr>\n",
       "      <th>3</th>\n",
       "      <td>5</td>\n",
       "      <td>Eva</td>\n",
       "      <td>24.0</td>\n",
       "      <td>Berlin</td>\n",
       "      <td>57000</td>\n",
       "    </tr>\n",
       "    <tr>\n",
       "      <th>4</th>\n",
       "      <td>6</td>\n",
       "      <td>NaN</td>\n",
       "      <td>NaN</td>\n",
       "      <td>Tokyo</td>\n",
       "      <td>80000</td>\n",
       "    </tr>\n",
       "  </tbody>\n",
       "</table>\n",
       "</div>"
      ],
      "text/plain": [
       "   ID   Name   Age      City  Salary\n",
       "0   1  Alice  25.0  New York   60000\n",
       "1   2    Bob  30.0    London   75000\n",
       "2   4  David  28.0     Paris   62000\n",
       "3   5    Eva  24.0    Berlin   57000\n",
       "4   6    NaN   NaN     Tokyo   80000"
      ]
     },
     "execution_count": 160,
     "metadata": {},
     "output_type": "execute_result"
    }
   ],
   "source": [
    "right_join= pd.merge(left_df,right_df,on='ID',how='right') \n",
    "right_join"
   ]
  },
  {
   "cell_type": "markdown",
   "id": "fd5c5b0e",
   "metadata": {},
   "source": [
    "### **pivote table**\n",
    "A pivot table is a data summarization tool used to reorganize and aggregate data in a table format.\n",
    "It allows you to group, summarize, and analyze large datasets efficiently by transforming rows into columns and calculating aggregated values.\n",
    "\n",
    "Summarization: Helps to aggregate data using functions like sum(), mean(), count(), max(), etc.\n",
    "\n",
    "Reorganization: Rearranges data so that you can compare categories more easily.\n",
    "\n",
    "Multi-Dimensional Analysis: Allows analysis of data across multiple categories at once.\n",
    "\n",
    "\n",
    "\n"
   ]
  },
  {
   "cell_type": "code",
   "execution_count": 161,
   "id": "6bd9e2d8",
   "metadata": {},
   "outputs": [
    {
     "data": {
      "text/html": [
       "<div>\n",
       "<style scoped>\n",
       "    .dataframe tbody tr th:only-of-type {\n",
       "        vertical-align: middle;\n",
       "    }\n",
       "\n",
       "    .dataframe tbody tr th {\n",
       "        vertical-align: top;\n",
       "    }\n",
       "\n",
       "    .dataframe thead th {\n",
       "        text-align: right;\n",
       "    }\n",
       "</style>\n",
       "<table border=\"1\" class=\"dataframe\">\n",
       "  <thead>\n",
       "    <tr style=\"text-align: right;\">\n",
       "      <th>Age Category</th>\n",
       "      <th>Adult</th>\n",
       "      <th>Middle Aged</th>\n",
       "      <th>Senior</th>\n",
       "    </tr>\n",
       "    <tr>\n",
       "      <th>City</th>\n",
       "      <th></th>\n",
       "      <th></th>\n",
       "      <th></th>\n",
       "    </tr>\n",
       "  </thead>\n",
       "  <tbody>\n",
       "    <tr>\n",
       "      <th>Bengaluru</th>\n",
       "      <td>120000.0</td>\n",
       "      <td>NaN</td>\n",
       "      <td>NaN</td>\n",
       "    </tr>\n",
       "    <tr>\n",
       "      <th>Berlin</th>\n",
       "      <td>57141.0</td>\n",
       "      <td>123140.0</td>\n",
       "      <td>NaN</td>\n",
       "    </tr>\n",
       "    <tr>\n",
       "      <th>India</th>\n",
       "      <td>117450.0</td>\n",
       "      <td>NaN</td>\n",
       "      <td>86235.00</td>\n",
       "    </tr>\n",
       "    <tr>\n",
       "      <th>London</th>\n",
       "      <td>NaN</td>\n",
       "      <td>95445.0</td>\n",
       "      <td>135838.23</td>\n",
       "    </tr>\n",
       "    <tr>\n",
       "      <th>Paris</th>\n",
       "      <td>46022.0</td>\n",
       "      <td>NaN</td>\n",
       "      <td>88320.00</td>\n",
       "    </tr>\n",
       "    <tr>\n",
       "      <th>Tokyo</th>\n",
       "      <td>NaN</td>\n",
       "      <td>87016.0</td>\n",
       "      <td>62330.00</td>\n",
       "    </tr>\n",
       "  </tbody>\n",
       "</table>\n",
       "</div>"
      ],
      "text/plain": [
       "Age Category     Adult  Middle Aged     Senior\n",
       "City                                          \n",
       "Bengaluru     120000.0          NaN        NaN\n",
       "Berlin         57141.0     123140.0        NaN\n",
       "India         117450.0          NaN   86235.00\n",
       "London             NaN      95445.0  135838.23\n",
       "Paris          46022.0          NaN   88320.00\n",
       "Tokyo              NaN      87016.0   62330.00"
      ]
     },
     "execution_count": 161,
     "metadata": {},
     "output_type": "execute_result"
    }
   ],
   "source": [
    "df.pivot_table(index='City',columns='Age Category',values='Salary',aggfunc='sum') # creating a pivot table with city as index, age category as columns, and salary as values, using sum as aggregation function "
   ]
  },
  {
   "cell_type": "code",
   "execution_count": 162,
   "id": "d4ca146f",
   "metadata": {},
   "outputs": [
    {
     "data": {
      "text/html": [
       "<div>\n",
       "<style scoped>\n",
       "    .dataframe tbody tr th:only-of-type {\n",
       "        vertical-align: middle;\n",
       "    }\n",
       "\n",
       "    .dataframe tbody tr th {\n",
       "        vertical-align: top;\n",
       "    }\n",
       "\n",
       "    .dataframe thead th {\n",
       "        text-align: right;\n",
       "    }\n",
       "</style>\n",
       "<table border=\"1\" class=\"dataframe\">\n",
       "  <thead>\n",
       "    <tr style=\"text-align: right;\">\n",
       "      <th>Category</th>\n",
       "      <th>X</th>\n",
       "      <th>Y</th>\n",
       "      <th>Z</th>\n",
       "    </tr>\n",
       "    <tr>\n",
       "      <th>Full Name</th>\n",
       "      <th></th>\n",
       "      <th></th>\n",
       "      <th></th>\n",
       "    </tr>\n",
       "  </thead>\n",
       "  <tbody>\n",
       "    <tr>\n",
       "      <th>Alice</th>\n",
       "      <td>45.0</td>\n",
       "      <td>NaN</td>\n",
       "      <td>NaN</td>\n",
       "    </tr>\n",
       "    <tr>\n",
       "      <th>Bob</th>\n",
       "      <td>NaN</td>\n",
       "      <td>58.0</td>\n",
       "      <td>NaN</td>\n",
       "    </tr>\n",
       "    <tr>\n",
       "      <th>David</th>\n",
       "      <td>28.0</td>\n",
       "      <td>NaN</td>\n",
       "      <td>NaN</td>\n",
       "    </tr>\n",
       "    <tr>\n",
       "      <th>Deepak</th>\n",
       "      <td>30.0</td>\n",
       "      <td>NaN</td>\n",
       "      <td>NaN</td>\n",
       "    </tr>\n",
       "    <tr>\n",
       "      <th>Eva</th>\n",
       "      <td>NaN</td>\n",
       "      <td>49.0</td>\n",
       "      <td>NaN</td>\n",
       "    </tr>\n",
       "    <tr>\n",
       "      <th>Frank</th>\n",
       "      <td>67.0</td>\n",
       "      <td>NaN</td>\n",
       "      <td>NaN</td>\n",
       "    </tr>\n",
       "    <tr>\n",
       "      <th>Grace</th>\n",
       "      <td>NaN</td>\n",
       "      <td>29.0</td>\n",
       "      <td>45.0</td>\n",
       "    </tr>\n",
       "    <tr>\n",
       "      <th>Hannah</th>\n",
       "      <td>NaN</td>\n",
       "      <td>60.0</td>\n",
       "      <td>NaN</td>\n",
       "    </tr>\n",
       "    <tr>\n",
       "      <th>Ivan</th>\n",
       "      <td>37.0</td>\n",
       "      <td>NaN</td>\n",
       "      <td>NaN</td>\n",
       "    </tr>\n",
       "    <tr>\n",
       "      <th>Jack</th>\n",
       "      <td>NaN</td>\n",
       "      <td>31.0</td>\n",
       "      <td>NaN</td>\n",
       "    </tr>\n",
       "    <tr>\n",
       "      <th>Rohan</th>\n",
       "      <td>25.0</td>\n",
       "      <td>NaN</td>\n",
       "      <td>NaN</td>\n",
       "    </tr>\n",
       "    <tr>\n",
       "      <th>laxmi</th>\n",
       "      <td>NaN</td>\n",
       "      <td>NaN</td>\n",
       "      <td>60.0</td>\n",
       "    </tr>\n",
       "  </tbody>\n",
       "</table>\n",
       "</div>"
      ],
      "text/plain": [
       "Category      X     Y     Z\n",
       "Full Name                  \n",
       "Alice      45.0   NaN   NaN\n",
       "Bob         NaN  58.0   NaN\n",
       "David      28.0   NaN   NaN\n",
       "Deepak     30.0   NaN   NaN\n",
       "Eva         NaN  49.0   NaN\n",
       "Frank      67.0   NaN   NaN\n",
       "Grace       NaN  29.0  45.0\n",
       "Hannah      NaN  60.0   NaN\n",
       "Ivan       37.0   NaN   NaN\n",
       "Jack        NaN  31.0   NaN\n",
       "Rohan      25.0   NaN   NaN\n",
       "laxmi       NaN   NaN  60.0"
      ]
     },
     "execution_count": 162,
     "metadata": {},
     "output_type": "execute_result"
    }
   ],
   "source": [
    "df.pivot_table(index='Full Name',columns='Category',values='Age',aggfunc='mean') # creating a pivot table with Full Name as index, Category as columns, and Age as values, using mean as aggregation function "
   ]
  },
  {
   "cell_type": "code",
   "execution_count": 163,
   "id": "3ae0d273",
   "metadata": {},
   "outputs": [
    {
     "data": {
      "text/html": [
       "<div>\n",
       "<style scoped>\n",
       "    .dataframe tbody tr th:only-of-type {\n",
       "        vertical-align: middle;\n",
       "    }\n",
       "\n",
       "    .dataframe tbody tr th {\n",
       "        vertical-align: top;\n",
       "    }\n",
       "\n",
       "    .dataframe thead th {\n",
       "        text-align: right;\n",
       "    }\n",
       "</style>\n",
       "<table border=\"1\" class=\"dataframe\">\n",
       "  <thead>\n",
       "    <tr style=\"text-align: right;\">\n",
       "      <th>Category</th>\n",
       "      <th>X</th>\n",
       "      <th>Y</th>\n",
       "      <th>Z</th>\n",
       "    </tr>\n",
       "    <tr>\n",
       "      <th>Full Name</th>\n",
       "      <th></th>\n",
       "      <th></th>\n",
       "      <th></th>\n",
       "    </tr>\n",
       "  </thead>\n",
       "  <tbody>\n",
       "    <tr>\n",
       "      <th>Alice</th>\n",
       "      <td>95445.0</td>\n",
       "      <td>NaN</td>\n",
       "      <td>NaN</td>\n",
       "    </tr>\n",
       "    <tr>\n",
       "      <th>Bob</th>\n",
       "      <td>NaN</td>\n",
       "      <td>86235.00</td>\n",
       "      <td>NaN</td>\n",
       "    </tr>\n",
       "    <tr>\n",
       "      <th>David</th>\n",
       "      <td>46022.0</td>\n",
       "      <td>NaN</td>\n",
       "      <td>NaN</td>\n",
       "    </tr>\n",
       "    <tr>\n",
       "      <th>Deepak</th>\n",
       "      <td>60000.0</td>\n",
       "      <td>NaN</td>\n",
       "      <td>NaN</td>\n",
       "    </tr>\n",
       "    <tr>\n",
       "      <th>Eva</th>\n",
       "      <td>NaN</td>\n",
       "      <td>65999.00</td>\n",
       "      <td>NaN</td>\n",
       "    </tr>\n",
       "    <tr>\n",
       "      <th>Frank</th>\n",
       "      <td>88320.0</td>\n",
       "      <td>NaN</td>\n",
       "      <td>NaN</td>\n",
       "    </tr>\n",
       "    <tr>\n",
       "      <th>Grace</th>\n",
       "      <td>NaN</td>\n",
       "      <td>57141.00</td>\n",
       "      <td>57141.0</td>\n",
       "    </tr>\n",
       "    <tr>\n",
       "      <th>Hannah</th>\n",
       "      <td>NaN</td>\n",
       "      <td>135838.23</td>\n",
       "      <td>NaN</td>\n",
       "    </tr>\n",
       "    <tr>\n",
       "      <th>Ivan</th>\n",
       "      <td>87016.0</td>\n",
       "      <td>NaN</td>\n",
       "      <td>NaN</td>\n",
       "    </tr>\n",
       "    <tr>\n",
       "      <th>Jack</th>\n",
       "      <td>NaN</td>\n",
       "      <td>117450.00</td>\n",
       "      <td>NaN</td>\n",
       "    </tr>\n",
       "    <tr>\n",
       "      <th>Rohan</th>\n",
       "      <td>60000.0</td>\n",
       "      <td>NaN</td>\n",
       "      <td>NaN</td>\n",
       "    </tr>\n",
       "    <tr>\n",
       "      <th>laxmi</th>\n",
       "      <td>NaN</td>\n",
       "      <td>NaN</td>\n",
       "      <td>62330.0</td>\n",
       "    </tr>\n",
       "  </tbody>\n",
       "</table>\n",
       "</div>"
      ],
      "text/plain": [
       "Category         X          Y        Z\n",
       "Full Name                             \n",
       "Alice      95445.0        NaN      NaN\n",
       "Bob            NaN   86235.00      NaN\n",
       "David      46022.0        NaN      NaN\n",
       "Deepak     60000.0        NaN      NaN\n",
       "Eva            NaN   65999.00      NaN\n",
       "Frank      88320.0        NaN      NaN\n",
       "Grace          NaN   57141.00  57141.0\n",
       "Hannah         NaN  135838.23      NaN\n",
       "Ivan       87016.0        NaN      NaN\n",
       "Jack           NaN  117450.00      NaN\n",
       "Rohan      60000.0        NaN      NaN\n",
       "laxmi          NaN        NaN  62330.0"
      ]
     },
     "execution_count": 163,
     "metadata": {},
     "output_type": "execute_result"
    }
   ],
   "source": [
    "cross_tab= pd.crosstab(index=df['Full Name'],columns=df['Category'],values=df['Salary'],aggfunc='sum') # creating a cross tabulation of Full Name and Category with Salary as values \n",
    "cross_tab"
   ]
  },
  {
   "cell_type": "markdown",
   "id": "8434b385",
   "metadata": {},
   "source": [
    "### **Time Series Analysis**\n",
    "\n",
    "Time Series Analysis is the process of analyzing data points collected or recorded over time to identify patterns, trends, and seasonal variations. It helps in making forecasts and understanding time-dependent behaviors.\n",
    "\n",
    "Key Points:\n",
    "\n",
    "Sequential Data: Data is arranged chronologically (daily, monthly, yearly, etc.).\n",
    "\n",
    "Trend & Seasonality: Identifies long-term movements (trend) and repeating patterns (seasonality).\n",
    "\n",
    "Forecasting: Used to predict future values based on past observations."
   ]
  },
  {
   "cell_type": "code",
   "execution_count": 164,
   "id": "78a3b74a",
   "metadata": {},
   "outputs": [],
   "source": [
    "from datetime import datetime\n"
   ]
  },
  {
   "cell_type": "code",
   "execution_count": 165,
   "id": "f69cfca2",
   "metadata": {},
   "outputs": [
    {
     "data": {
      "text/plain": [
       "datetime.datetime(2025, 8, 10, 22, 16, 46, 368877)"
      ]
     },
     "execution_count": 165,
     "metadata": {},
     "output_type": "execute_result"
    }
   ],
   "source": [
    "today = datetime.now()\n",
    "today"
   ]
  },
  {
   "cell_type": "code",
   "execution_count": 166,
   "id": "830dba34",
   "metadata": {},
   "outputs": [
    {
     "data": {
      "text/plain": [
       "2025"
      ]
     },
     "execution_count": 166,
     "metadata": {},
     "output_type": "execute_result"
    }
   ],
   "source": [
    "today.year"
   ]
  },
  {
   "cell_type": "code",
   "execution_count": 167,
   "id": "ffd3f9a8",
   "metadata": {},
   "outputs": [
    {
     "data": {
      "text/plain": [
       "8"
      ]
     },
     "execution_count": 167,
     "metadata": {},
     "output_type": "execute_result"
    }
   ],
   "source": [
    "today.month"
   ]
  },
  {
   "cell_type": "code",
   "execution_count": 168,
   "id": "d0d0ccdf",
   "metadata": {},
   "outputs": [
    {
     "data": {
      "text/plain": [
       "10"
      ]
     },
     "execution_count": 168,
     "metadata": {},
     "output_type": "execute_result"
    }
   ],
   "source": [
    "today.day"
   ]
  },
  {
   "cell_type": "code",
   "execution_count": 169,
   "id": "ed2a78de",
   "metadata": {},
   "outputs": [
    {
     "data": {
      "text/plain": [
       "22"
      ]
     },
     "execution_count": 169,
     "metadata": {},
     "output_type": "execute_result"
    }
   ],
   "source": [
    "today.hour"
   ]
  },
  {
   "cell_type": "code",
   "execution_count": 170,
   "id": "2dc8cad8",
   "metadata": {},
   "outputs": [
    {
     "data": {
      "text/plain": [
       "(datetime.datetime(2025, 8, 10, 22, 16, 46, 368877), False)"
      ]
     },
     "execution_count": 170,
     "metadata": {},
     "output_type": "execute_result"
    }
   ],
   "source": [
    "date = (today,format=='%Y-%m-%d %H :%M:%S')\n",
    "date"
   ]
  },
  {
   "cell_type": "code",
   "execution_count": 171,
   "id": "555d4a1a",
   "metadata": {},
   "outputs": [
    {
     "data": {
      "text/plain": [
       "'25-08-10'"
      ]
     },
     "execution_count": 171,
     "metadata": {},
     "output_type": "execute_result"
    }
   ],
   "source": [
    "date = today.strftime('%y-%m-%d')\n",
    "date"
   ]
  },
  {
   "cell_type": "code",
   "execution_count": 172,
   "id": "2f4adac6",
   "metadata": {},
   "outputs": [
    {
     "data": {
      "text/plain": [
       "'Sunday 10-08-25'"
      ]
     },
     "execution_count": 172,
     "metadata": {},
     "output_type": "execute_result"
    }
   ],
   "source": [
    "date = today.strftime('%A %d-%m-%y')\n",
    "date"
   ]
  },
  {
   "cell_type": "code",
   "execution_count": 173,
   "id": "36dab10a",
   "metadata": {},
   "outputs": [
    {
     "data": {
      "text/plain": [
       "'Sunday 10-August-25'"
      ]
     },
     "execution_count": 173,
     "metadata": {},
     "output_type": "execute_result"
    }
   ],
   "source": [
    "date = today.strftime('%A %d-%B-%y')\n",
    "date"
   ]
  },
  {
   "cell_type": "code",
   "execution_count": 174,
   "id": "5fa3e2fe",
   "metadata": {},
   "outputs": [
    {
     "data": {
      "text/plain": [
       "'Sunday 10-Aug-25'"
      ]
     },
     "execution_count": 174,
     "metadata": {},
     "output_type": "execute_result"
    }
   ],
   "source": [
    "date = today.strftime('%A %d-%b-%y')\n",
    "date"
   ]
  },
  {
   "cell_type": "code",
   "execution_count": 175,
   "id": "92cf7bae",
   "metadata": {},
   "outputs": [
    {
     "data": {
      "text/plain": [
       "Index(['Full Name', 'Age', 'City', 'Salary', 'Date', 'Category', 'Name1',\n",
       "       'Age Category'],\n",
       "      dtype='object')"
      ]
     },
     "execution_count": 175,
     "metadata": {},
     "output_type": "execute_result"
    }
   ],
   "source": [
    "df.columns # checking the columns of the dataframe"
   ]
  },
  {
   "cell_type": "code",
   "execution_count": 176,
   "id": "11f7138f",
   "metadata": {},
   "outputs": [
    {
     "data": {
      "text/plain": [
       "dtype('O')"
      ]
     },
     "execution_count": 176,
     "metadata": {},
     "output_type": "execute_result"
    }
   ],
   "source": [
    "df.Date.dtype # checking the datatype of date column"
   ]
  },
  {
   "cell_type": "code",
   "execution_count": 177,
   "id": "ffaa9314",
   "metadata": {},
   "outputs": [
    {
     "data": {
      "text/plain": [
       "0     2023\n",
       "1     2023\n",
       "2     2023\n",
       "3     2023\n",
       "4     2023\n",
       "5     2023\n",
       "6     2023\n",
       "7     2023\n",
       "8     2023\n",
       "9     2023\n",
       "10    2025\n",
       "11    2023\n",
       "12    2023\n",
       "13    2023\n",
       "14    2025\n",
       "Name: Date, dtype: int32"
      ]
     },
     "execution_count": 177,
     "metadata": {},
     "output_type": "execute_result"
    }
   ],
   "source": [
    "pd.to_datetime(df['Date']).dt.year # getting the year from the Date column"
   ]
  },
  {
   "cell_type": "code",
   "execution_count": 178,
   "id": "fd942f68",
   "metadata": {},
   "outputs": [
    {
     "data": {
      "text/plain": [
       "0    2023-01-01\n",
       "1    2023-01-02\n",
       "2    2023-01-03\n",
       "3    2023-01-04\n",
       "4    2023-01-05\n",
       "5    2023-01-06\n",
       "6    2023-01-07\n",
       "7    2023-01-08\n",
       "8    2023-01-09\n",
       "9    2023-01-10\n",
       "10   2025-07-30\n",
       "11   2023-01-10\n",
       "12   2023-01-07\n",
       "13   2023-01-08\n",
       "14   2025-07-30\n",
       "Name: Date, dtype: datetime64[ns]"
      ]
     },
     "execution_count": 178,
     "metadata": {},
     "output_type": "execute_result"
    }
   ],
   "source": [
    "df['Date']=pd.to_datetime(df['Date'],format='%Y-%m-%d') #coverting Date column to datetime format\n",
    "df['Date']=pd.DatetimeIndex(df['Date']) # converting Date column to DatetimeIndex\n",
    "df['Date']"
   ]
  },
  {
   "cell_type": "code",
   "execution_count": 179,
   "id": "7bd5cfd3",
   "metadata": {},
   "outputs": [
    {
     "data": {
      "text/plain": [
       "0     2023\n",
       "1     2023\n",
       "2     2023\n",
       "3     2023\n",
       "4     2023\n",
       "5     2023\n",
       "6     2023\n",
       "7     2023\n",
       "8     2023\n",
       "9     2023\n",
       "10    2025\n",
       "11    2023\n",
       "12    2023\n",
       "13    2023\n",
       "14    2025\n",
       "Name: Date, dtype: int32"
      ]
     },
     "execution_count": 179,
     "metadata": {},
     "output_type": "execute_result"
    }
   ],
   "source": [
    "df['Date'].dt.year # getting the year from the date column"
   ]
  },
  {
   "cell_type": "code",
   "execution_count": 180,
   "id": "62754248",
   "metadata": {},
   "outputs": [
    {
     "data": {
      "text/plain": [
       "0      1\n",
       "1      2\n",
       "2      3\n",
       "3      4\n",
       "4      5\n",
       "5      6\n",
       "6      7\n",
       "7      8\n",
       "8      9\n",
       "9     10\n",
       "10    30\n",
       "11    10\n",
       "12     7\n",
       "13     8\n",
       "14    30\n",
       "Name: Date, dtype: int32"
      ]
     },
     "execution_count": 180,
     "metadata": {},
     "output_type": "execute_result"
    }
   ],
   "source": [
    "df['Date'].dt.day # getting the day from the date column"
   ]
  },
  {
   "cell_type": "code",
   "execution_count": 181,
   "id": "c746f548",
   "metadata": {},
   "outputs": [
    {
     "data": {
      "text/plain": [
       "0     1\n",
       "1     1\n",
       "2     1\n",
       "3     1\n",
       "4     1\n",
       "5     1\n",
       "6     1\n",
       "7     1\n",
       "8     1\n",
       "9     1\n",
       "10    7\n",
       "11    1\n",
       "12    1\n",
       "13    1\n",
       "14    7\n",
       "Name: Date, dtype: int32"
      ]
     },
     "execution_count": 181,
     "metadata": {},
     "output_type": "execute_result"
    }
   ],
   "source": [
    "df['Date'].dt.month # getting the month from the Date column"
   ]
  },
  {
   "cell_type": "code",
   "execution_count": 182,
   "id": "0df0e138",
   "metadata": {},
   "outputs": [
    {
     "data": {
      "text/html": [
       "<div>\n",
       "<style scoped>\n",
       "    .dataframe tbody tr th:only-of-type {\n",
       "        vertical-align: middle;\n",
       "    }\n",
       "\n",
       "    .dataframe tbody tr th {\n",
       "        vertical-align: top;\n",
       "    }\n",
       "\n",
       "    .dataframe thead th {\n",
       "        text-align: right;\n",
       "    }\n",
       "</style>\n",
       "<table border=\"1\" class=\"dataframe\">\n",
       "  <thead>\n",
       "    <tr style=\"text-align: right;\">\n",
       "      <th></th>\n",
       "      <th>Full Name</th>\n",
       "      <th>Age</th>\n",
       "      <th>City</th>\n",
       "      <th>Salary</th>\n",
       "      <th>Date</th>\n",
       "      <th>Category</th>\n",
       "      <th>Name1</th>\n",
       "      <th>Age Category</th>\n",
       "      <th>Year_Gap</th>\n",
       "    </tr>\n",
       "  </thead>\n",
       "  <tbody>\n",
       "    <tr>\n",
       "      <th>0</th>\n",
       "      <td>Alice</td>\n",
       "      <td>45</td>\n",
       "      <td>London</td>\n",
       "      <td>95445.00</td>\n",
       "      <td>2023-01-01</td>\n",
       "      <td>X</td>\n",
       "      <td>Alice</td>\n",
       "      <td>Middle Aged</td>\n",
       "      <td>2</td>\n",
       "    </tr>\n",
       "    <tr>\n",
       "      <th>1</th>\n",
       "      <td>Bob</td>\n",
       "      <td>58</td>\n",
       "      <td>India</td>\n",
       "      <td>86235.00</td>\n",
       "      <td>2023-01-02</td>\n",
       "      <td>Y</td>\n",
       "      <td>Bob</td>\n",
       "      <td>Senior</td>\n",
       "      <td>2</td>\n",
       "    </tr>\n",
       "    <tr>\n",
       "      <th>2</th>\n",
       "      <td>laxmi</td>\n",
       "      <td>60</td>\n",
       "      <td>Tokyo</td>\n",
       "      <td>62330.00</td>\n",
       "      <td>2023-01-03</td>\n",
       "      <td>Z</td>\n",
       "      <td>Laxmi</td>\n",
       "      <td>Senior</td>\n",
       "      <td>2</td>\n",
       "    </tr>\n",
       "    <tr>\n",
       "      <th>3</th>\n",
       "      <td>David</td>\n",
       "      <td>28</td>\n",
       "      <td>Paris</td>\n",
       "      <td>46022.00</td>\n",
       "      <td>2023-01-04</td>\n",
       "      <td>X</td>\n",
       "      <td>David</td>\n",
       "      <td>Adult</td>\n",
       "      <td>2</td>\n",
       "    </tr>\n",
       "    <tr>\n",
       "      <th>4</th>\n",
       "      <td>Eva</td>\n",
       "      <td>49</td>\n",
       "      <td>Berlin</td>\n",
       "      <td>65999.00</td>\n",
       "      <td>2023-01-05</td>\n",
       "      <td>Y</td>\n",
       "      <td>Eva</td>\n",
       "      <td>Middle Aged</td>\n",
       "      <td>2</td>\n",
       "    </tr>\n",
       "    <tr>\n",
       "      <th>5</th>\n",
       "      <td>Frank</td>\n",
       "      <td>67</td>\n",
       "      <td>Paris</td>\n",
       "      <td>88320.00</td>\n",
       "      <td>2023-01-06</td>\n",
       "      <td>X</td>\n",
       "      <td>Frank</td>\n",
       "      <td>Senior</td>\n",
       "      <td>2</td>\n",
       "    </tr>\n",
       "    <tr>\n",
       "      <th>6</th>\n",
       "      <td>Grace</td>\n",
       "      <td>45</td>\n",
       "      <td>Berlin</td>\n",
       "      <td>57141.00</td>\n",
       "      <td>2023-01-07</td>\n",
       "      <td>Z</td>\n",
       "      <td>Grace</td>\n",
       "      <td>Middle Aged</td>\n",
       "      <td>2</td>\n",
       "    </tr>\n",
       "    <tr>\n",
       "      <th>7</th>\n",
       "      <td>Hannah</td>\n",
       "      <td>60</td>\n",
       "      <td>London</td>\n",
       "      <td>65413.00</td>\n",
       "      <td>2023-01-08</td>\n",
       "      <td>Y</td>\n",
       "      <td>Hannah</td>\n",
       "      <td>Senior</td>\n",
       "      <td>2</td>\n",
       "    </tr>\n",
       "    <tr>\n",
       "      <th>8</th>\n",
       "      <td>Ivan</td>\n",
       "      <td>37</td>\n",
       "      <td>Tokyo</td>\n",
       "      <td>87016.00</td>\n",
       "      <td>2023-01-09</td>\n",
       "      <td>X</td>\n",
       "      <td>Ivan</td>\n",
       "      <td>Middle Aged</td>\n",
       "      <td>2</td>\n",
       "    </tr>\n",
       "    <tr>\n",
       "      <th>9</th>\n",
       "      <td>Jack</td>\n",
       "      <td>31</td>\n",
       "      <td>India</td>\n",
       "      <td>58725.00</td>\n",
       "      <td>2023-01-10</td>\n",
       "      <td>Y</td>\n",
       "      <td>Jack</td>\n",
       "      <td>Adult</td>\n",
       "      <td>2</td>\n",
       "    </tr>\n",
       "    <tr>\n",
       "      <th>10</th>\n",
       "      <td>Deepak</td>\n",
       "      <td>30</td>\n",
       "      <td>Bengaluru</td>\n",
       "      <td>60000.00</td>\n",
       "      <td>2025-07-30</td>\n",
       "      <td>X</td>\n",
       "      <td>NaN</td>\n",
       "      <td>Adult</td>\n",
       "      <td>0</td>\n",
       "    </tr>\n",
       "    <tr>\n",
       "      <th>11</th>\n",
       "      <td>Jack</td>\n",
       "      <td>31</td>\n",
       "      <td>India</td>\n",
       "      <td>58725.00</td>\n",
       "      <td>2023-01-10</td>\n",
       "      <td>Y</td>\n",
       "      <td>Jack</td>\n",
       "      <td>Adult</td>\n",
       "      <td>2</td>\n",
       "    </tr>\n",
       "    <tr>\n",
       "      <th>12</th>\n",
       "      <td>Grace</td>\n",
       "      <td>29</td>\n",
       "      <td>Berlin</td>\n",
       "      <td>57141.00</td>\n",
       "      <td>2023-01-07</td>\n",
       "      <td>Y</td>\n",
       "      <td>Grace</td>\n",
       "      <td>Adult</td>\n",
       "      <td>2</td>\n",
       "    </tr>\n",
       "    <tr>\n",
       "      <th>13</th>\n",
       "      <td>Hannah</td>\n",
       "      <td>60</td>\n",
       "      <td>London</td>\n",
       "      <td>70425.23</td>\n",
       "      <td>2023-01-08</td>\n",
       "      <td>Y</td>\n",
       "      <td>Hannah</td>\n",
       "      <td>Senior</td>\n",
       "      <td>2</td>\n",
       "    </tr>\n",
       "    <tr>\n",
       "      <th>14</th>\n",
       "      <td>Rohan</td>\n",
       "      <td>25</td>\n",
       "      <td>Bengaluru</td>\n",
       "      <td>60000.00</td>\n",
       "      <td>2025-07-30</td>\n",
       "      <td>X</td>\n",
       "      <td>NaN</td>\n",
       "      <td>Adult</td>\n",
       "      <td>0</td>\n",
       "    </tr>\n",
       "  </tbody>\n",
       "</table>\n",
       "</div>"
      ],
      "text/plain": [
       "   Full Name  Age       City    Salary       Date Category   Name1  \\\n",
       "0      Alice   45     London  95445.00 2023-01-01        X   Alice   \n",
       "1        Bob   58      India  86235.00 2023-01-02        Y     Bob   \n",
       "2      laxmi   60      Tokyo  62330.00 2023-01-03        Z   Laxmi   \n",
       "3      David   28      Paris  46022.00 2023-01-04        X   David   \n",
       "4        Eva   49     Berlin  65999.00 2023-01-05        Y     Eva   \n",
       "5      Frank   67      Paris  88320.00 2023-01-06        X   Frank   \n",
       "6      Grace   45     Berlin  57141.00 2023-01-07        Z   Grace   \n",
       "7     Hannah   60     London  65413.00 2023-01-08        Y  Hannah   \n",
       "8       Ivan   37      Tokyo  87016.00 2023-01-09        X    Ivan   \n",
       "9       Jack   31      India  58725.00 2023-01-10        Y    Jack   \n",
       "10    Deepak   30  Bengaluru  60000.00 2025-07-30        X     NaN   \n",
       "11      Jack   31      India  58725.00 2023-01-10        Y    Jack   \n",
       "12     Grace   29     Berlin  57141.00 2023-01-07        Y   Grace   \n",
       "13    Hannah   60     London  70425.23 2023-01-08        Y  Hannah   \n",
       "14     Rohan   25  Bengaluru  60000.00 2025-07-30        X     NaN   \n",
       "\n",
       "   Age Category  Year_Gap  \n",
       "0   Middle Aged         2  \n",
       "1        Senior         2  \n",
       "2        Senior         2  \n",
       "3         Adult         2  \n",
       "4   Middle Aged         2  \n",
       "5        Senior         2  \n",
       "6   Middle Aged         2  \n",
       "7        Senior         2  \n",
       "8   Middle Aged         2  \n",
       "9         Adult         2  \n",
       "10        Adult         0  \n",
       "11        Adult         2  \n",
       "12        Adult         2  \n",
       "13       Senior         2  \n",
       "14        Adult         0  "
      ]
     },
     "execution_count": 182,
     "metadata": {},
     "output_type": "execute_result"
    }
   ],
   "source": [
    "df['Year_Gap']= today.year - df['Date'].dt.year # calculating the year gap between today and the date in the Date column\n",
    "df['Year_Gap']\n",
    "df"
   ]
  },
  {
   "cell_type": "code",
   "execution_count": 183,
   "id": "f5b84dbd",
   "metadata": {},
   "outputs": [
    {
     "data": {
      "text/plain": [
       "DatetimeIndex(['2025-07-31', '2025-08-31', '2025-09-30', '2025-10-31',\n",
       "               '2025-11-30', '2025-12-31', '2026-01-31', '2026-02-28',\n",
       "               '2026-03-31', '2026-04-30', '2026-05-31', '2026-06-30',\n",
       "               '2026-07-31'],\n",
       "              dtype='datetime64[ns]', freq='ME')"
      ]
     },
     "execution_count": 183,
     "metadata": {},
     "output_type": "execute_result"
    }
   ],
   "source": [
    "present_date = pd.date_range(start='31-07-2025',periods=13, freq='M') # monyhly frequency\n",
    "present_date"
   ]
  },
  {
   "cell_type": "code",
   "execution_count": 184,
   "id": "508caf3a",
   "metadata": {},
   "outputs": [
    {
     "data": {
      "text/plain": [
       "DatetimeIndex(['2025-12-31', '2026-12-31', '2027-12-31', '2028-12-31',\n",
       "               '2029-12-31', '2030-12-31', '2031-12-31', '2032-12-31',\n",
       "               '2033-12-31', '2034-12-31', '2035-12-31', '2036-12-31',\n",
       "               '2037-12-31'],\n",
       "              dtype='datetime64[ns]', freq='YE-DEC')"
      ]
     },
     "execution_count": 184,
     "metadata": {},
     "output_type": "execute_result"
    }
   ],
   "source": [
    "present_date = pd.date_range(start='31-07-2025',periods=13, freq='y') # yearly frequency\n",
    "present_date"
   ]
  },
  {
   "cell_type": "code",
   "execution_count": 185,
   "id": "630289dd",
   "metadata": {},
   "outputs": [
    {
     "data": {
      "text/plain": [
       "DatetimeIndex(['2025-07-31', '2025-08-01', '2025-08-02', '2025-08-03',\n",
       "               '2025-08-04', '2025-08-05', '2025-08-06', '2025-08-07',\n",
       "               '2025-08-08', '2025-08-09', '2025-08-10', '2025-08-11',\n",
       "               '2025-08-12'],\n",
       "              dtype='datetime64[ns]', freq='D')"
      ]
     },
     "execution_count": 185,
     "metadata": {},
     "output_type": "execute_result"
    }
   ],
   "source": [
    "present_date = pd.date_range(start='31-07-2025',periods=13, freq='d') # daily frequency\n",
    "present_date"
   ]
  },
  {
   "cell_type": "code",
   "execution_count": 186,
   "id": "139788bf",
   "metadata": {},
   "outputs": [
    {
     "name": "stdout",
     "output_type": "stream",
     "text": [
      "    August 2025\n",
      "Mo Tu We Th Fr Sa Su\n",
      "             1  2  3\n",
      " 4  5  6  7  8  9 10\n",
      "11 12 13 14 15 16 17\n",
      "18 19 20 21 22 23 24\n",
      "25 26 27 28 29 30 31\n",
      "\n"
     ]
    }
   ],
   "source": [
    "import calendar  # printing the calender for the year 2026\n",
    "print(calendar.month(2025,8))"
   ]
  },
  {
   "cell_type": "code",
   "execution_count": 187,
   "id": "34e1f75e",
   "metadata": {},
   "outputs": [
    {
     "name": "stdout",
     "output_type": "stream",
     "text": [
      "                                  2026\n",
      "\n",
      "      January                   February                   March\n",
      "Mo Tu We Th Fr Sa Su      Mo Tu We Th Fr Sa Su      Mo Tu We Th Fr Sa Su\n",
      "          1  2  3  4                         1                         1\n",
      " 5  6  7  8  9 10 11       2  3  4  5  6  7  8       2  3  4  5  6  7  8\n",
      "12 13 14 15 16 17 18       9 10 11 12 13 14 15       9 10 11 12 13 14 15\n",
      "19 20 21 22 23 24 25      16 17 18 19 20 21 22      16 17 18 19 20 21 22\n",
      "26 27 28 29 30 31         23 24 25 26 27 28         23 24 25 26 27 28 29\n",
      "                                                    30 31\n",
      "\n",
      "       April                      May                       June\n",
      "Mo Tu We Th Fr Sa Su      Mo Tu We Th Fr Sa Su      Mo Tu We Th Fr Sa Su\n",
      "       1  2  3  4  5                   1  2  3       1  2  3  4  5  6  7\n",
      " 6  7  8  9 10 11 12       4  5  6  7  8  9 10       8  9 10 11 12 13 14\n",
      "13 14 15 16 17 18 19      11 12 13 14 15 16 17      15 16 17 18 19 20 21\n",
      "20 21 22 23 24 25 26      18 19 20 21 22 23 24      22 23 24 25 26 27 28\n",
      "27 28 29 30               25 26 27 28 29 30 31      29 30\n",
      "\n",
      "        July                     August                  September\n",
      "Mo Tu We Th Fr Sa Su      Mo Tu We Th Fr Sa Su      Mo Tu We Th Fr Sa Su\n",
      "       1  2  3  4  5                      1  2          1  2  3  4  5  6\n",
      " 6  7  8  9 10 11 12       3  4  5  6  7  8  9       7  8  9 10 11 12 13\n",
      "13 14 15 16 17 18 19      10 11 12 13 14 15 16      14 15 16 17 18 19 20\n",
      "20 21 22 23 24 25 26      17 18 19 20 21 22 23      21 22 23 24 25 26 27\n",
      "27 28 29 30 31            24 25 26 27 28 29 30      28 29 30\n",
      "                          31\n",
      "\n",
      "      October                   November                  December\n",
      "Mo Tu We Th Fr Sa Su      Mo Tu We Th Fr Sa Su      Mo Tu We Th Fr Sa Su\n",
      "          1  2  3  4                         1          1  2  3  4  5  6\n",
      " 5  6  7  8  9 10 11       2  3  4  5  6  7  8       7  8  9 10 11 12 13\n",
      "12 13 14 15 16 17 18       9 10 11 12 13 14 15      14 15 16 17 18 19 20\n",
      "19 20 21 22 23 24 25      16 17 18 19 20 21 22      21 22 23 24 25 26 27\n",
      "26 27 28 29 30 31         23 24 25 26 27 28 29      28 29 30 31\n",
      "                          30\n"
     ]
    }
   ],
   "source": [
    "calendar.prcal(2026) # printing the calender for the year 2026"
   ]
  },
  {
   "cell_type": "code",
   "execution_count": null,
   "id": "d61739a3",
   "metadata": {},
   "outputs": [],
   "source": []
  }
 ],
 "metadata": {
  "kernelspec": {
   "display_name": "Python 3.11.9",
   "language": "python",
   "name": "py311"
  },
  "language_info": {
   "codemirror_mode": {
    "name": "ipython",
    "version": 3
   },
   "file_extension": ".py",
   "mimetype": "text/x-python",
   "name": "python",
   "nbconvert_exporter": "python",
   "pygments_lexer": "ipython3",
   "version": "3.13.2"
  }
 },
 "nbformat": 4,
 "nbformat_minor": 5
}
