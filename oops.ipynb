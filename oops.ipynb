{
 "cells": [
  {
   "cell_type": "markdown",
   "id": "4a8bf70f",
   "metadata": {},
   "source": [
    "# ***oops***\n",
    "- versatile used in different programming languages\n",
    "\n",
    "- class- blueprint or template which defines attribute(variable),method\n",
    "- object - instance of class which can implement a class and hold its own data\n",
    "- encapsulation - hiding data\n",
    "- inheritance - getting characters from parents class\n",
    "- types - single,multiple, multilevel\n",
    "- class interitance - class going to inherit\n",
    "- method inheritance - method is going to inherit\n",
    "- instance- using super keyword\n",
    "- polymorphism- same functions with different names with types overriding, overloading"
   ]
  },
  {
   "cell_type": "markdown",
   "id": "eb210a15",
   "metadata": {},
   "source": [
    "class className:\n",
    "    #statements 1\n",
    "    .\n",
    "    .\n",
    "    .\n",
    "    #statements n"
   ]
  },
  {
   "cell_type": "code",
   "execution_count": 2,
   "id": "93ac65ff",
   "metadata": {},
   "outputs": [],
   "source": [
    "import warnings\n",
    "warnings.filterwarnings('ignore')\n"
   ]
  },
  {
   "cell_type": "markdown",
   "id": "2c759f66",
   "metadata": {},
   "source": []
  },
  {
   "cell_type": "code",
   "execution_count": 3,
   "id": "2e0ca42c",
   "metadata": {},
   "outputs": [],
   "source": [
    "class Myclass:\n",
    "    x = 5                                # class variable\n",
    "\n",
    "    #constructor used for intialization\n",
    "    def __init__(self,y):                # self= diff between class and instance variable\n",
    "        self.y = y                       #instance variable\n",
    "\n",
    "    # Method\n",
    "    def display(self):\n",
    "        print(f\"{self.y}\")               #print vs return = print -does not change flow of program,multiple output ,return- it changes the flow of program,only one output\n"
   ]
  },
  {
   "cell_type": "code",
   "execution_count": 4,
   "id": "9838490e",
   "metadata": {},
   "outputs": [],
   "source": [
    "obj = Myclass(8)"
   ]
  },
  {
   "cell_type": "code",
   "execution_count": 5,
   "id": "1ae55482",
   "metadata": {},
   "outputs": [
    {
     "data": {
      "text/plain": [
       "5"
      ]
     },
     "execution_count": 5,
     "metadata": {},
     "output_type": "execute_result"
    }
   ],
   "source": [
    "#Accessing class variable or attribute\n",
    "Myclass.x\n",
    "\n",
    "# or\n",
    "obj.x"
   ]
  },
  {
   "cell_type": "code",
   "execution_count": 6,
   "id": "fae327a1",
   "metadata": {},
   "outputs": [
    {
     "data": {
      "text/plain": [
       "8"
      ]
     },
     "execution_count": 6,
     "metadata": {},
     "output_type": "execute_result"
    }
   ],
   "source": [
    "obj.y"
   ]
  },
  {
   "cell_type": "code",
   "execution_count": 7,
   "id": "29b4b41f",
   "metadata": {},
   "outputs": [
    {
     "name": "stdout",
     "output_type": "stream",
     "text": [
      "8\n"
     ]
    }
   ],
   "source": [
    "#call the method\n",
    "obj.display()"
   ]
  },
  {
   "cell_type": "code",
   "execution_count": 8,
   "id": "d19247d7",
   "metadata": {},
   "outputs": [
    {
     "data": {
      "text/plain": [
       "10"
      ]
     },
     "execution_count": 8,
     "metadata": {},
     "output_type": "execute_result"
    }
   ],
   "source": [
    "Myclass.x = 10\n",
    "Myclass.x"
   ]
  },
  {
   "cell_type": "code",
   "execution_count": 9,
   "id": "aedade17",
   "metadata": {},
   "outputs": [
    {
     "data": {
      "text/plain": [
       "16"
      ]
     },
     "execution_count": 9,
     "metadata": {},
     "output_type": "execute_result"
    }
   ],
   "source": [
    "obj.y = 16\n",
    "obj.y"
   ]
  },
  {
   "cell_type": "code",
   "execution_count": 10,
   "id": "e15b2b9c",
   "metadata": {},
   "outputs": [
    {
     "name": "stdout",
     "output_type": "stream",
     "text": [
      "Canine\n",
      "puppy\n",
      "5\n",
      "the dog name is puppy and the age is 3\n"
     ]
    }
   ],
   "source": [
    "class Dog:\n",
    "    Species = 'Canine'\n",
    "  # constructor\n",
    "    def __init__(self, name, age):\n",
    "        self.name = name\n",
    "        self.age = age\n",
    "#method\n",
    "    def display_info(self):\n",
    "        print(f\"the dog name is {self.name} and the age is {self.age}\")\n",
    "\n",
    "dog1 = Dog(\"puppy\", 3)\n",
    "dog2 = Dog(\"charlie\", 5)\n",
    "\n",
    "print(Dog.Species)\n",
    "print(dog1.name)\n",
    "print(dog2.age)\n",
    "dog1.display_info()"
   ]
  },
  {
   "cell_type": "code",
   "execution_count": 11,
   "id": "ce1f1b2f",
   "metadata": {},
   "outputs": [
    {
     "name": "stdout",
     "output_type": "stream",
     "text": [
      "not divisible by 2\n",
      "divisible by 3\n"
     ]
    }
   ],
   "source": [
    "class divisible:\n",
    "    def __init__(self,num1,num2):                           #passing parameters using constructor\n",
    "        self.num1 =num1\n",
    "        self.num2 =num2\n",
    "\n",
    "    def div2(self):\n",
    "        if self.num1%2 ==0:\n",
    "            print(\"divisible by 2\")\n",
    "        else:\n",
    "            print(\"not divisible by 2\")\n",
    "    def div3(self):\n",
    "        if self.num2%3 ==0:\n",
    "            print(\"divisible by 3\")\n",
    "        else:\n",
    "            print(\"not divisible by 3\")\n",
    "\n",
    "divisible =divisible(9,15)\n",
    "divisible .div2()\n",
    "divisible.div3()\n"
   ]
  },
  {
   "cell_type": "code",
   "execution_count": 12,
   "id": "ef4f93d5",
   "metadata": {},
   "outputs": [
    {
     "name": "stdout",
     "output_type": "stream",
     "text": [
      "divisible by 2\n",
      "not divisible by 2\n",
      "divisible by 2\n",
      "not divisible by 2\n",
      "divisible by 2\n",
      "not divisible by 2\n",
      "divisible by 2\n",
      "not divisible by 2\n",
      "divisible by 2\n",
      "not divisible by 2\n"
     ]
    }
   ],
   "source": [
    "class divisible:\n",
    "    def __init__(self,num1):                           #passing parameters using constructor\n",
    "        self.num1 =num1\n",
    "        \n",
    "\n",
    "    def div2(self):\n",
    "        for i in range(self.num1):\n",
    "            if i%2 == 0:\n",
    "                print(\"divisible by 2\")\n",
    "            else:\n",
    "                print(\"not divisible by 2\")\n",
    "   \n",
    "\n",
    "div1=divisible(10)\n",
    "div1.div2()"
   ]
  },
  {
   "cell_type": "code",
   "execution_count": 13,
   "id": "590bc183",
   "metadata": {},
   "outputs": [
    {
     "name": "stdout",
     "output_type": "stream",
     "text": [
      "car Manufacture mahndra, and Model name thar\n"
     ]
    }
   ],
   "source": [
    "class car:\n",
    "    car_count = 0\n",
    "    def __init__(self,make,model):\n",
    "        self.make= make\n",
    "        self.model= model\n",
    "\n",
    "        car.car_count+=1\n",
    "\n",
    "    def display(self):\n",
    "        print(f\"car Manufacture {self.make}, and Model name {self.model}\")\n",
    "\n",
    "car1 = car(\"KIA\",\"Sonet\")\n",
    "car2 = car(\"Ford\",\"Mustang\")\n",
    "car3 = car(\"toyota\",\"fortuner\")\n",
    "car4 = car(\"mahndra\",\"thar\")\n",
    "\n",
    "car4.display()\n",
    "\n",
    "\n",
    "\n"
   ]
  },
  {
   "cell_type": "code",
   "execution_count": 14,
   "id": "3d97cf8d",
   "metadata": {},
   "outputs": [
    {
     "name": "stdout",
     "output_type": "stream",
     "text": [
      "4\n"
     ]
    }
   ],
   "source": [
    "print(car.car_count)"
   ]
  },
  {
   "cell_type": "code",
   "execution_count": 15,
   "id": "aba46017",
   "metadata": {},
   "outputs": [
    {
     "name": "stdout",
     "output_type": "stream",
     "text": [
      "addition 18\n",
      "substraction 6\n",
      "multiplication 72\n",
      "division 2.0\n",
      "mod 0\n"
     ]
    }
   ],
   "source": [
    "class calculator:\n",
    "    def __init__(self,num1,num2):\n",
    "        self.num1 = num1\n",
    "        self.num2 = num2\n",
    "    def add(self):\n",
    "        print(\"addition\", self.num1+self.num2)\n",
    "    def sub(self):\n",
    "        print(\"substraction\", self.num1-self.num2)\n",
    "    def mul(self):\n",
    "        print(\"multiplication\", self.num1*self.num2)\n",
    "    def div(self):\n",
    "        print(\"division\", self.num1/self.num2)\n",
    "    def mod(self):\n",
    "        print(\"mod\", self.num1%self.num2)\n",
    "    \n",
    "    \n",
    "    \n",
    "cal =calculator(12,6)\n",
    "cal.add()\n",
    "cal.sub()\n",
    "cal.mul()\n",
    "cal.div()  \n",
    "cal.mod()      "
   ]
  },
  {
   "cell_type": "markdown",
   "id": "0c444a34",
   "metadata": {},
   "source": [
    "#### ***Encapsulation***\n",
    "- Encapsulation means keeping data and methods together in a class and controlling how the data is accessed or changed.\n",
    "- Hides data so it can’t be changed directly.\n",
    "- Protects the data from wrong changes.\n",
    "- Easier to update the code without breaking other parts.\n"
   ]
  },
  {
   "cell_type": "code",
   "execution_count": 16,
   "id": "e8ec41a9",
   "metadata": {},
   "outputs": [],
   "source": [
    "class Person:\n",
    "    def __init__(self,name,city):\n",
    "        self.name = name\n",
    "        self.city = city\n",
    "    def display_info(self):\n",
    "        return f\"{self.name}, {self.city}\"\n",
    "obj = Person(\"Ash\",\"India\") \n"
   ]
  },
  {
   "cell_type": "code",
   "execution_count": 17,
   "id": "c20213fe",
   "metadata": {},
   "outputs": [
    {
     "data": {
      "text/plain": [
       "'Ash'"
      ]
     },
     "execution_count": 17,
     "metadata": {},
     "output_type": "execute_result"
    }
   ],
   "source": [
    "obj.name"
   ]
  },
  {
   "cell_type": "code",
   "execution_count": 18,
   "id": "e7ed3bda",
   "metadata": {},
   "outputs": [
    {
     "data": {
      "text/plain": [
       "'India'"
      ]
     },
     "execution_count": 18,
     "metadata": {},
     "output_type": "execute_result"
    }
   ],
   "source": [
    "obj.city"
   ]
  },
  {
   "cell_type": "code",
   "execution_count": 19,
   "id": "0d829755",
   "metadata": {},
   "outputs": [],
   "source": [
    "class Per:\n",
    "    def __init__(self,name,city):\n",
    "        self.__name = name # private attribute(__)\n",
    "        self.__city = city\n",
    "    def display_info(self):\n",
    "        return f\"{self.__name}, {self.__city}\"\n",
    "obj1 = Per(\"pratiksha\",\"ankola\") \n"
   ]
  },
  {
   "cell_type": "code",
   "execution_count": 20,
   "id": "a92ab3bb",
   "metadata": {},
   "outputs": [],
   "source": [
    "# obj1.name ## doesn't give direct acess to see inputs private method"
   ]
  },
  {
   "cell_type": "code",
   "execution_count": 21,
   "id": "3aa1485f",
   "metadata": {},
   "outputs": [
    {
     "data": {
      "text/plain": [
       "'pratiksha, ankola'"
      ]
     },
     "execution_count": 21,
     "metadata": {},
     "output_type": "execute_result"
    }
   ],
   "source": [
    "obj1.display_info()"
   ]
  },
  {
   "cell_type": "code",
   "execution_count": 22,
   "id": "02f7ecfa",
   "metadata": {},
   "outputs": [],
   "source": [
    "class Bankaccount():\n",
    "    def __init__(self,name,balance):\n",
    "        self.name =name\n",
    "        self.__balance =balance\n",
    "        \n",
    "    def deposit(self,amount):\n",
    "        if amount >0:\n",
    "            self.__balance +=amount\n",
    "            print(f\"balance after deposite {self.__balance}\")\n",
    "        else:\n",
    "            print(\"deposit amount must be positive\")\n",
    "\n",
    "    def withdraw(self,amount):\n",
    "        if amount > 0:\n",
    "            if self.__balance >= amount:\n",
    "                self.__balance -= amount\n",
    "                print(f\"balance after withdraw {self.__balance}\")\n",
    "\n",
    "            else: \n",
    "                print(\"insufficient balance\")\n",
    "\n",
    "    def get_balance(self):\n",
    "        return self.__balance\n",
    "account = Bankaccount(\"Sudeep\",5000)"
   ]
  },
  {
   "cell_type": "code",
   "execution_count": 23,
   "id": "6bafd30c",
   "metadata": {},
   "outputs": [
    {
     "name": "stdout",
     "output_type": "stream",
     "text": [
      "balance after deposite 5500\n"
     ]
    }
   ],
   "source": [
    "account.deposit(500)"
   ]
  },
  {
   "cell_type": "code",
   "execution_count": 24,
   "id": "9f9b1548",
   "metadata": {},
   "outputs": [
    {
     "name": "stdout",
     "output_type": "stream",
     "text": [
      "balance after withdraw 4500\n"
     ]
    }
   ],
   "source": [
    "account.withdraw(1000)"
   ]
  },
  {
   "cell_type": "code",
   "execution_count": 25,
   "id": "b432c261",
   "metadata": {},
   "outputs": [
    {
     "data": {
      "text/plain": [
       "4500"
      ]
     },
     "execution_count": 25,
     "metadata": {},
     "output_type": "execute_result"
    }
   ],
   "source": [
    "account.get_balance()"
   ]
  },
  {
   "cell_type": "code",
   "execution_count": 26,
   "id": "045562cc",
   "metadata": {},
   "outputs": [
    {
     "data": {
      "text/plain": [
       "99"
      ]
     },
     "execution_count": 26,
     "metadata": {},
     "output_type": "execute_result"
    }
   ],
   "source": [
    "class student:\n",
    "    def __init__(self,name):\n",
    "        self.name = name \n",
    "        self.__grades ={}\n",
    "\n",
    "    def add_grade(self,subject, grade):\n",
    "        if 0<= grade <=100:\n",
    "            self.__grades[subject] = grade\n",
    "        else:\n",
    "            print(\"invalid grade\")\n",
    "    def get_grade(self,subject):\n",
    "        return self.__grades.get(subject)\n",
    "\n",
    "    def get_all_grades(self):\n",
    "        return self.__grades\n",
    "s1= student(\"Ravi\")\n",
    "s1.add_grade(\"math\",99)\n",
    "s1.add_grade(\"science\",79)\n",
    "\n",
    "\n",
    "s1.get_grade('math')\n",
    "\n",
    "\n"
   ]
  },
  {
   "cell_type": "code",
   "execution_count": 27,
   "id": "84ba7b92",
   "metadata": {},
   "outputs": [
    {
     "data": {
      "text/plain": [
       "{'math': 99, 'science': 79}"
      ]
     },
     "execution_count": 27,
     "metadata": {},
     "output_type": "execute_result"
    }
   ],
   "source": [
    "s1.get_all_grades()"
   ]
  },
  {
   "cell_type": "markdown",
   "id": "b059aa49",
   "metadata": {},
   "source": [
    "# **Single Inheritance**\n",
    "\n",
    "- Single Inheritance means a class inherits features (methods and variables) from only one parent class.\n",
    "\n",
    "- Simple structure – only one parent, so it’s easy to understand.\n",
    "\n",
    "- Code reusability – child class can use parent’s methods and variables.\n",
    "\n",
    "- Easy maintenance – fewer chances of conflicts compared to multiple inheritance.\n",
    "\n"
   ]
  },
  {
   "cell_type": "markdown",
   "id": "c69c525a",
   "metadata": {},
   "source": [
    "# **Multiple Inheitance**\n",
    "\n",
    "- Multiple Inheritance means a class can inherit features (methods and variables) from more than one parent class.\n",
    "\n",
    "\n",
    "- Combines features of multiple classes into one.\n",
    "\n",
    "- Code reusability – avoids writing the same code again.\n",
    "\n",
    "- Can cause conflicts if parent classes have methods with the same name (method resolution order is used)."
   ]
  },
  {
   "cell_type": "markdown",
   "id": "61e8454f",
   "metadata": {},
   "source": []
  },
  {
   "cell_type": "code",
   "execution_count": 28,
   "id": "76988548",
   "metadata": {},
   "outputs": [
    {
     "data": {
      "text/plain": [
       "'Egale Flying'"
      ]
     },
     "execution_count": 28,
     "metadata": {},
     "output_type": "execute_result"
    }
   ],
   "source": [
    "class Bird:\n",
    "    def __init__(self,Name):\n",
    "        self.name=Name \n",
    "    def display(self):\n",
    "        return self.name\n",
    "    \n",
    "class Swimmer:\n",
    "    def swim(self):\n",
    "        return \"Swimming\"\n",
    "    \n",
    "class Flayer:\n",
    "    def __init__(self,Name):\n",
    "        super(). __init__(Name)\n",
    "   \n",
    "    def fly(self):\n",
    "        return f\"{self.name} Flying\"\n",
    "\n",
    "    \n",
    "class Duck(Bird,Swimmer,Flayer):\n",
    "    def quck(self):\n",
    "        return \"Quack\"\n",
    "   \n",
    "    \n",
    "bird = Duck(\"Egale\")\n",
    "bird.fly()\n",
    "    "
   ]
  },
  {
   "cell_type": "code",
   "execution_count": 29,
   "id": "08e33173",
   "metadata": {},
   "outputs": [
    {
     "data": {
      "text/plain": [
       "'Swimming'"
      ]
     },
     "execution_count": 29,
     "metadata": {},
     "output_type": "execute_result"
    }
   ],
   "source": [
    "bird.swim()"
   ]
  },
  {
   "cell_type": "code",
   "execution_count": 30,
   "id": "2accd237",
   "metadata": {},
   "outputs": [
    {
     "data": {
      "text/plain": [
       "'Egale'"
      ]
     },
     "execution_count": 30,
     "metadata": {},
     "output_type": "execute_result"
    }
   ],
   "source": [
    "bird.display()"
   ]
  },
  {
   "cell_type": "markdown",
   "id": "aa03d2d6",
   "metadata": {},
   "source": [
    "## **Multilevel inheritance**\n",
    "\n",
    "Multilevel Inheritance means a class is derived from another class, which is also derived from another class, forming a chain of inheritance.\n",
    "\n",
    "Inheritance chain – features pass from grandparent → parent → child.\n",
    "\n",
    "Code reusability – each level can reuse features from the previous level.\n",
    "\n",
    "Better organization – allows building classes step-by-step with added features at each level.\n",
    "\n"
   ]
  },
  {
   "cell_type": "code",
   "execution_count": 31,
   "id": "2e9670b7",
   "metadata": {},
   "outputs": [
    {
     "name": "stdout",
     "output_type": "stream",
     "text": [
      "Ravi Nayak is studying. (Student ID: 1), (Class ID: 2)\n"
     ]
    }
   ],
   "source": [
    "class Student:\n",
    "    def __init__(self, fname, lname, age, student_id):\n",
    "        self.first_name = fname\n",
    "        self.last_name = lname\n",
    "        self.age = age\n",
    "        self.student_id = student_id\n",
    "\n",
    "class Class_10(Student):\n",
    "    def __init__(self, fname, lname, age, student_id, class_id):\n",
    "        super().__init__(fname, lname, age, student_id)\n",
    "        self.class_id = class_id \n",
    "\n",
    "    def display_info(self):\n",
    "        print(f\"{self.first_name} {self.last_name} is studying. (Student ID: {self.student_id}), (Class ID: {self.class_id})\")\n",
    "\n",
    "student2 = Class_10(\"Ravi\", \"Nayak\", 24, 1, 2)\n",
    "student2.display_info()\n"
   ]
  },
  {
   "cell_type": "markdown",
   "id": "81e5661b",
   "metadata": {},
   "source": [
    "## **Polymorphism**\n",
    "\n",
    "Polymorphism means the same function or method name can work in different ways depending on the object that is calling it.\n",
    "\n",
    "Allows a single function name to be used for different types of objects.\n",
    "\n",
    "Improves flexibility and code reusability.\n",
    "\n",
    "Achieved in Python using method overriding and method overloading (overloading through default arguments)."
   ]
  },
  {
   "cell_type": "code",
   "execution_count": 32,
   "id": "2fe87412",
   "metadata": {},
   "outputs": [],
   "source": [
    "class Bird:\n",
    "    def __init__(self,Name):\n",
    "        self.name=Name \n",
    "    def display(self):\n",
    "        return self.name\n",
    "    \n",
    "class Swimmer:\n",
    "    def swim(self):\n",
    "        return \"Swimming\"\n",
    "    \n",
    "class Flayer:\n",
    "    def __init__(self,Name):\n",
    "        super(). __init__(Name)\n",
    "   \n",
    "    def fly(self):\n",
    "        return f\"{self.name} Flying\"\n",
    "\n",
    "    \n",
    "class Duck(Bird,Swimmer,Flayer):\n",
    "    def quck(self):\n",
    "        return \"Quack\""
   ]
  },
  {
   "cell_type": "code",
   "execution_count": 33,
   "id": "467e574d",
   "metadata": {},
   "outputs": [],
   "source": [
    "obj = Duck(\"Parrot\") #overriding with same name different functions"
   ]
  },
  {
   "cell_type": "code",
   "execution_count": 34,
   "id": "f4838748",
   "metadata": {},
   "outputs": [
    {
     "data": {
      "text/plain": [
       "'Parrot Flying'"
      ]
     },
     "execution_count": 34,
     "metadata": {},
     "output_type": "execute_result"
    }
   ],
   "source": [
    "obj.fly()"
   ]
  },
  {
   "cell_type": "code",
   "execution_count": 35,
   "id": "aacb916b",
   "metadata": {},
   "outputs": [
    {
     "data": {
      "text/plain": [
       "'Pecock Flying'"
      ]
     },
     "execution_count": 35,
     "metadata": {},
     "output_type": "execute_result"
    }
   ],
   "source": [
    "obj2 = Duck(\"Pecock\") #performing operations with same name\n",
    "obj2.fly()"
   ]
  },
  {
   "cell_type": "code",
   "execution_count": 36,
   "id": "a4abea8a",
   "metadata": {},
   "outputs": [
    {
     "data": {
      "text/plain": [
       "'Swimming'"
      ]
     },
     "execution_count": 36,
     "metadata": {},
     "output_type": "execute_result"
    }
   ],
   "source": [
    "obj2.swim()"
   ]
  },
  {
   "cell_type": "code",
   "execution_count": 37,
   "id": "11795f89",
   "metadata": {},
   "outputs": [
    {
     "data": {
      "text/plain": [
       "'Quack'"
      ]
     },
     "execution_count": 37,
     "metadata": {},
     "output_type": "execute_result"
    }
   ],
   "source": [
    "obj2.quck()"
   ]
  },
  {
   "cell_type": "code",
   "execution_count": 38,
   "id": "f57b0ed9",
   "metadata": {},
   "outputs": [
    {
     "name": "stdout",
     "output_type": "stream",
     "text": [
      "2542758660720 2542758658896\n"
     ]
    },
    {
     "data": {
      "text/plain": [
       "False"
      ]
     },
     "execution_count": 38,
     "metadata": {},
     "output_type": "execute_result"
    }
   ],
   "source": [
    "a = 258\n",
    "b= 258\n",
    "print(id(a),id(b))\n",
    "a is b"
   ]
  },
  {
   "cell_type": "code",
   "execution_count": 39,
   "id": "7d36603b",
   "metadata": {},
   "outputs": [
    {
     "name": "stdout",
     "output_type": "stream",
     "text": [
      "140713152218024 140713152218024\n"
     ]
    },
    {
     "data": {
      "text/plain": [
       "True"
      ]
     },
     "execution_count": 39,
     "metadata": {},
     "output_type": "execute_result"
    }
   ],
   "source": [
    "a = 1\n",
    "b = 1\n",
    "print(id(a),id(b))\n",
    "\n",
    "a is b # comparing on the base of id -5 to 256 id will be same after 256 changes id of variable"
   ]
  },
  {
   "cell_type": "markdown",
   "id": "2681e8bb",
   "metadata": {},
   "source": [
    "## **Overloading**\n",
    "\n",
    "Overloading is a feature in object-oriented programming where two or more methods in the same class have the same name but different parameter lists (number or type of parameters).\n",
    "\n",
    "\n",
    "Same name, different inputs – The method name is the same, but parameters differ.\n",
    "\n",
    "Decided at compile time – The compiler chooses which method to run based on arguments.\n",
    "\n",
    "Improves readability – You can use one method name for different types of tasks."
   ]
  },
  {
   "cell_type": "code",
   "execution_count": 40,
   "id": "5632f9c9",
   "metadata": {},
   "outputs": [
    {
     "data": {
      "text/plain": [
       "25"
      ]
     },
     "execution_count": 40,
     "metadata": {},
     "output_type": "execute_result"
    }
   ],
   "source": [
    "class Mathoperation:\n",
    "    def add(self,a,b,c = 0,d= None):\n",
    "        if d is not None:\n",
    "            return a+b+c+d\n",
    "        return a+b+c\n",
    "add = Mathoperation()\n",
    "add.add(12,13)"
   ]
  },
  {
   "cell_type": "code",
   "execution_count": 41,
   "id": "dc17f54a",
   "metadata": {},
   "outputs": [
    {
     "data": {
      "text/plain": [
       "39"
      ]
     },
     "execution_count": 41,
     "metadata": {},
     "output_type": "execute_result"
    }
   ],
   "source": [
    "add.add(12,13,14)"
   ]
  },
  {
   "cell_type": "code",
   "execution_count": 42,
   "id": "c128d4cf",
   "metadata": {},
   "outputs": [
    {
     "data": {
      "text/plain": [
       "50"
      ]
     },
     "execution_count": 42,
     "metadata": {},
     "output_type": "execute_result"
    }
   ],
   "source": [
    "add.add(12,13,14,11)"
   ]
  },
  {
   "cell_type": "code",
   "execution_count": null,
   "id": "18944582",
   "metadata": {},
   "outputs": [],
   "source": []
  }
 ],
 "metadata": {
  "kernelspec": {
   "display_name": "Python 3.11.9",
   "language": "python",
   "name": "py311"
  },
  "language_info": {
   "codemirror_mode": {
    "name": "ipython",
    "version": 3
   },
   "file_extension": ".py",
   "mimetype": "text/x-python",
   "name": "python",
   "nbconvert_exporter": "python",
   "pygments_lexer": "ipython3",
   "version": "3.13.2"
  }
 },
 "nbformat": 4,
 "nbformat_minor": 5
}
