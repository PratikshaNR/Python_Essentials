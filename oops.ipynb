{
 "cells": [
  {
   "cell_type": "markdown",
   "id": "4a8bf70f",
   "metadata": {},
   "source": [
    "# ***oops***\n",
    "- versatile used in different programming languages\n",
    "\n",
    "- class- blueprint or template which defines attribute(variable),method\n",
    "- object - instance of class which can implement a class and hold its own data\n",
    "- encapsulation - hiding data\n",
    "- inheritance - getting characters from parents class\n",
    "- types - single,multiple, multilevel\n",
    "- class interitance - class going to inherit\n",
    "- method inheritance - method is going to inherit\n",
    "- instance- using super keyword\n",
    "- polymorphism- same functions with different names with types overriding, overloading"
   ]
  },
  {
   "cell_type": "markdown",
   "id": "eb210a15",
   "metadata": {},
   "source": [
    "class className:\n",
    "    #statements 1\n",
    "    .\n",
    "    .\n",
    "    .\n",
    "    #statements n"
   ]
  },
  {
   "cell_type": "markdown",
   "id": "2c759f66",
   "metadata": {},
   "source": []
  },
  {
   "cell_type": "code",
   "execution_count": 1,
   "id": "2e0ca42c",
   "metadata": {},
   "outputs": [],
   "source": [
    "class Myclass:\n",
    "    x = 5                                # class variable\n",
    "\n",
    "    #constructor used for intialization\n",
    "    def __init__(self,y):                # self= diff between class and instance variable\n",
    "        self.y = y                       #instance variable\n",
    "\n",
    "    # Method\n",
    "    def display(self):\n",
    "        print(f\"{self.y}\")               #print vs return = print -does not change flow of program,multiple output ,return- it changes the flow of program,only one output\n"
   ]
  },
  {
   "cell_type": "code",
   "execution_count": 2,
   "id": "9838490e",
   "metadata": {},
   "outputs": [],
   "source": [
    "obj = Myclass(8)"
   ]
  },
  {
   "cell_type": "code",
   "execution_count": 3,
   "id": "1ae55482",
   "metadata": {},
   "outputs": [
    {
     "data": {
      "text/plain": [
       "5"
      ]
     },
     "execution_count": 3,
     "metadata": {},
     "output_type": "execute_result"
    }
   ],
   "source": [
    "#Accessing class variable or attribute\n",
    "Myclass.x\n",
    "\n",
    "# or\n",
    "obj.x"
   ]
  },
  {
   "cell_type": "code",
   "execution_count": 4,
   "id": "fae327a1",
   "metadata": {},
   "outputs": [
    {
     "data": {
      "text/plain": [
       "8"
      ]
     },
     "execution_count": 4,
     "metadata": {},
     "output_type": "execute_result"
    }
   ],
   "source": [
    "obj.y"
   ]
  },
  {
   "cell_type": "code",
   "execution_count": 5,
   "id": "29b4b41f",
   "metadata": {},
   "outputs": [
    {
     "name": "stdout",
     "output_type": "stream",
     "text": [
      "8\n"
     ]
    }
   ],
   "source": [
    "#call the method\n",
    "obj.display()"
   ]
  },
  {
   "cell_type": "code",
   "execution_count": 6,
   "id": "d19247d7",
   "metadata": {},
   "outputs": [
    {
     "data": {
      "text/plain": [
       "10"
      ]
     },
     "execution_count": 6,
     "metadata": {},
     "output_type": "execute_result"
    }
   ],
   "source": [
    "Myclass.x = 10\n",
    "Myclass.x"
   ]
  },
  {
   "cell_type": "code",
   "execution_count": 7,
   "id": "aedade17",
   "metadata": {},
   "outputs": [
    {
     "data": {
      "text/plain": [
       "16"
      ]
     },
     "execution_count": 7,
     "metadata": {},
     "output_type": "execute_result"
    }
   ],
   "source": [
    "obj.y = 16\n",
    "obj.y"
   ]
  },
  {
   "cell_type": "code",
   "execution_count": 8,
   "id": "e15b2b9c",
   "metadata": {},
   "outputs": [
    {
     "name": "stdout",
     "output_type": "stream",
     "text": [
      "Canine\n",
      "puppy\n",
      "5\n",
      "the dog name is puppy and the age is 3\n"
     ]
    }
   ],
   "source": [
    "class Dog:\n",
    "    Species = 'Canine'\n",
    "  # constructor\n",
    "    def __init__(self, name, age):\n",
    "        self.name = name\n",
    "        self.age = age\n",
    "#method\n",
    "    def display_info(self):\n",
    "        print(f\"the dog name is {self.name} and the age is {self.age}\")\n",
    "\n",
    "dog1 = Dog(\"puppy\", 3)\n",
    "dog2 = Dog(\"charlie\", 5)\n",
    "\n",
    "print(Dog.Species)\n",
    "print(dog1.name)\n",
    "print(dog2.age)\n",
    "dog1.display_info()"
   ]
  },
  {
   "cell_type": "code",
   "execution_count": 9,
   "id": "ce1f1b2f",
   "metadata": {},
   "outputs": [
    {
     "name": "stdout",
     "output_type": "stream",
     "text": [
      "not divisible by 2\n",
      "divisible by 3\n"
     ]
    }
   ],
   "source": [
    "class divisible:\n",
    "    def __init__(self,num1,num2):                           #passing parameters using constructor\n",
    "        self.num1 =num1\n",
    "        self.num2 =num2\n",
    "\n",
    "    def div2(self):\n",
    "        if self.num1%2 ==0:\n",
    "            print(\"divisible by 2\")\n",
    "        else:\n",
    "            print(\"not divisible by 2\")\n",
    "    def div3(self):\n",
    "        if self.num2%3 ==0:\n",
    "            print(\"divisible by 3\")\n",
    "        else:\n",
    "            print(\"not divisible by 3\")\n",
    "\n",
    "divisible =divisible(9,15)\n",
    "divisible .div2()\n",
    "divisible.div3()\n"
   ]
  },
  {
   "cell_type": "code",
   "execution_count": 10,
   "id": "ef4f93d5",
   "metadata": {},
   "outputs": [
    {
     "name": "stdout",
     "output_type": "stream",
     "text": [
      "divisible by 2\n",
      "not divisible by 2\n",
      "divisible by 2\n",
      "not divisible by 2\n",
      "divisible by 2\n",
      "not divisible by 2\n",
      "divisible by 2\n",
      "not divisible by 2\n",
      "divisible by 2\n",
      "not divisible by 2\n"
     ]
    }
   ],
   "source": [
    "class divisible:\n",
    "    def __init__(self,num1):                           #passing parameters using constructor\n",
    "        self.num1 =num1\n",
    "        \n",
    "\n",
    "    def div2(self):\n",
    "        for i in range(self.num1):\n",
    "            if i%2 == 0:\n",
    "                print(\"divisible by 2\")\n",
    "            else:\n",
    "                print(\"not divisible by 2\")\n",
    "   \n",
    "\n",
    "div1=divisible(10)\n",
    "div1.div2()"
   ]
  },
  {
   "cell_type": "code",
   "execution_count": 11,
   "id": "590bc183",
   "metadata": {},
   "outputs": [
    {
     "name": "stdout",
     "output_type": "stream",
     "text": [
      "car Manufacture mahndra, and Model name thar\n"
     ]
    }
   ],
   "source": [
    "class car:\n",
    "    car_count = 0\n",
    "    def __init__(self,make,model):\n",
    "        self.make= make\n",
    "        self.model= model\n",
    "\n",
    "        car.car_count+=1\n",
    "\n",
    "    def display(self):\n",
    "        print(f\"car Manufacture {self.make}, and Model name {self.model}\")\n",
    "\n",
    "car1 = car(\"KIA\",\"Sonet\")\n",
    "car2 = car(\"Ford\",\"Mustang\")\n",
    "car3 = car(\"toyota\",\"fortuner\")\n",
    "car4 = car(\"mahndra\",\"thar\")\n",
    "\n",
    "car4.display()\n",
    "\n",
    "\n",
    "\n"
   ]
  },
  {
   "cell_type": "code",
   "execution_count": 12,
   "id": "3d97cf8d",
   "metadata": {},
   "outputs": [
    {
     "name": "stdout",
     "output_type": "stream",
     "text": [
      "4\n"
     ]
    }
   ],
   "source": [
    "print(car.car_count)"
   ]
  },
  {
   "cell_type": "code",
   "execution_count": 13,
   "id": "aba46017",
   "metadata": {},
   "outputs": [
    {
     "name": "stdout",
     "output_type": "stream",
     "text": [
      "addition 18\n",
      "substraction 6\n",
      "multiplication 72\n",
      "division 2.0\n",
      "mod 0\n"
     ]
    }
   ],
   "source": [
    "class calculator:\n",
    "    def __init__(self,num1,num2):\n",
    "        self.num1 = num1\n",
    "        self.num2 = num2\n",
    "    def add(self):\n",
    "        print(\"addition\", self.num1+self.num2)\n",
    "    def sub(self):\n",
    "        print(\"substraction\", self.num1-self.num2)\n",
    "    def mul(self):\n",
    "        print(\"multiplication\", self.num1*self.num2)\n",
    "    def div(self):\n",
    "        print(\"division\", self.num1/self.num2)\n",
    "    def mod(self):\n",
    "        print(\"mod\", self.num1%self.num2)\n",
    "    \n",
    "    \n",
    "    \n",
    "cal =calculator(12,6)\n",
    "cal.add()\n",
    "cal.sub()\n",
    "cal.mul()\n",
    "cal.div()  \n",
    "cal.mod()      "
   ]
  },
  {
   "cell_type": "markdown",
   "id": "0c444a34",
   "metadata": {},
   "source": [
    "#### ***Encapsulation***"
   ]
  },
  {
   "cell_type": "code",
   "execution_count": 14,
   "id": "e8ec41a9",
   "metadata": {},
   "outputs": [],
   "source": [
    "class Person:\n",
    "    def __init__(self,name,city):\n",
    "        self.name = name\n",
    "        self.city = city\n",
    "    def display_info(self):\n",
    "        return f\"{self.name}, {self.city}\"\n",
    "obj = Person(\"Ash\",\"India\") \n"
   ]
  },
  {
   "cell_type": "code",
   "execution_count": 15,
   "id": "c20213fe",
   "metadata": {},
   "outputs": [
    {
     "data": {
      "text/plain": [
       "'Ash'"
      ]
     },
     "execution_count": 15,
     "metadata": {},
     "output_type": "execute_result"
    }
   ],
   "source": [
    "obj.name"
   ]
  },
  {
   "cell_type": "code",
   "execution_count": 16,
   "id": "e7ed3bda",
   "metadata": {},
   "outputs": [
    {
     "data": {
      "text/plain": [
       "'India'"
      ]
     },
     "execution_count": 16,
     "metadata": {},
     "output_type": "execute_result"
    }
   ],
   "source": [
    "obj.city"
   ]
  },
  {
   "cell_type": "code",
   "execution_count": 17,
   "id": "0d829755",
   "metadata": {},
   "outputs": [],
   "source": [
    "class Per:\n",
    "    def __init__(self,name,city):\n",
    "        self.__name = name # private attribute(__)\n",
    "        self.__city = city\n",
    "    def display_info(self):\n",
    "        return f\"{self.__name}, {self.__city}\"\n",
    "obj1 = Per(\"pratiksha\",\"ankola\") \n"
   ]
  },
  {
   "cell_type": "code",
   "execution_count": 18,
   "id": "a92ab3bb",
   "metadata": {},
   "outputs": [],
   "source": [
    "# obj1.name ## doesn't give direct acess to see inputs private method"
   ]
  },
  {
   "cell_type": "code",
   "execution_count": 19,
   "id": "3aa1485f",
   "metadata": {},
   "outputs": [
    {
     "data": {
      "text/plain": [
       "'pratiksha, ankola'"
      ]
     },
     "execution_count": 19,
     "metadata": {},
     "output_type": "execute_result"
    }
   ],
   "source": [
    "obj1.display_info()"
   ]
  },
  {
   "cell_type": "code",
   "execution_count": 20,
   "id": "02f7ecfa",
   "metadata": {},
   "outputs": [],
   "source": [
    "class Bankaccount():\n",
    "    def __init__(self,name,balance):\n",
    "        self.name =name\n",
    "        self.__balance =balance\n",
    "        \n",
    "    def deposit(self,amount):\n",
    "        if amount >0:\n",
    "            self.__balance +=amount\n",
    "            print(f\"balance after deposite {self.__balance}\")\n",
    "        else:\n",
    "            print(\"deposit amount must be positive\")\n",
    "\n",
    "    def withdraw(self,amount):\n",
    "        if amount > 0:\n",
    "            if self.__balance >= amount:\n",
    "                self.__balance -= amount\n",
    "                print(f\"balance after withdraw {self.__balance}\")\n",
    "\n",
    "            else: \n",
    "                print(\"insufficient balance\")\n",
    "\n",
    "    def get_balance(self):\n",
    "        return self.__balance\n",
    "account = Bankaccount(\"Sudeep\",5000)"
   ]
  },
  {
   "cell_type": "code",
   "execution_count": 21,
   "id": "6bafd30c",
   "metadata": {},
   "outputs": [
    {
     "name": "stdout",
     "output_type": "stream",
     "text": [
      "balance after deposite 5500\n"
     ]
    }
   ],
   "source": [
    "account.deposit(500)"
   ]
  },
  {
   "cell_type": "code",
   "execution_count": 22,
   "id": "9f9b1548",
   "metadata": {},
   "outputs": [
    {
     "name": "stdout",
     "output_type": "stream",
     "text": [
      "balance after withdraw 4500\n"
     ]
    }
   ],
   "source": [
    "account.withdraw(1000)"
   ]
  },
  {
   "cell_type": "code",
   "execution_count": 23,
   "id": "b432c261",
   "metadata": {},
   "outputs": [
    {
     "data": {
      "text/plain": [
       "4500"
      ]
     },
     "execution_count": 23,
     "metadata": {},
     "output_type": "execute_result"
    }
   ],
   "source": [
    "account.get_balance()"
   ]
  },
  {
   "cell_type": "code",
   "execution_count": 24,
   "id": "045562cc",
   "metadata": {},
   "outputs": [
    {
     "data": {
      "text/plain": [
       "99"
      ]
     },
     "execution_count": 24,
     "metadata": {},
     "output_type": "execute_result"
    }
   ],
   "source": [
    "class student:\n",
    "    def __init__(self,name):\n",
    "        self.name = name \n",
    "        self.__grades ={}\n",
    "\n",
    "    def add_grade(self,subject, grade):\n",
    "        if 0<= grade <=100:\n",
    "            self.__grades[subject] = grade\n",
    "        else:\n",
    "            print(\"invalid grade\")\n",
    "    def get_grade(self,subject):\n",
    "        return self.__grades.get(subject)\n",
    "\n",
    "    def get_all_grades(self):\n",
    "        return self.__grades\n",
    "s1= student(\"Ravi\")\n",
    "s1.add_grade(\"math\",99)\n",
    "s1.add_grade(\"science\",79)\n",
    "\n",
    "\n",
    "s1.get_grade('math')\n",
    "\n",
    "\n"
   ]
  },
  {
   "cell_type": "code",
   "execution_count": 25,
   "id": "84ba7b92",
   "metadata": {},
   "outputs": [
    {
     "data": {
      "text/plain": [
       "{'math': 99, 'science': 79}"
      ]
     },
     "execution_count": 25,
     "metadata": {},
     "output_type": "execute_result"
    }
   ],
   "source": [
    "s1.get_all_grades()"
   ]
  },
  {
   "cell_type": "markdown",
   "id": "b059aa49",
   "metadata": {},
   "source": [
    "# *Single Inheritance*\n"
   ]
  },
  {
   "cell_type": "markdown",
   "id": "c69c525a",
   "metadata": {},
   "source": [
    "# **Multiple Inheitance**"
   ]
  },
  {
   "cell_type": "markdown",
   "id": "61e8454f",
   "metadata": {},
   "source": []
  },
  {
   "cell_type": "code",
   "execution_count": 28,
   "id": "76988548",
   "metadata": {},
   "outputs": [
    {
     "data": {
      "text/plain": [
       "'Egale Flying'"
      ]
     },
     "execution_count": 28,
     "metadata": {},
     "output_type": "execute_result"
    }
   ],
   "source": [
    "class Bird:\n",
    "    def __init__(self,Name):\n",
    "        self.name=Name \n",
    "    def display(self):\n",
    "        return self.name\n",
    "    \n",
    "class Swimmer:\n",
    "    def swim(self):\n",
    "        return \"Swimming\"\n",
    "    \n",
    "class Flayer:\n",
    "    def __init__(self,Name):\n",
    "        super(). __init__(Name)\n",
    "   \n",
    "    def fly(self):\n",
    "        return f\"{self.name} Flying\"\n",
    "\n",
    "    \n",
    "class Duck(Bird,Swimmer,Flayer):\n",
    "    def quck(self):\n",
    "        return \"Quack\"\n",
    "   \n",
    "    \n",
    "bird = Duck(\"Egale\")\n",
    "bird.fly()\n",
    "    "
   ]
  },
  {
   "cell_type": "code",
   "execution_count": 29,
   "id": "08e33173",
   "metadata": {},
   "outputs": [
    {
     "data": {
      "text/plain": [
       "'Swimming'"
      ]
     },
     "execution_count": 29,
     "metadata": {},
     "output_type": "execute_result"
    }
   ],
   "source": [
    "bird.swim()"
   ]
  },
  {
   "cell_type": "code",
   "execution_count": 30,
   "id": "2accd237",
   "metadata": {},
   "outputs": [
    {
     "data": {
      "text/plain": [
       "'Egale'"
      ]
     },
     "execution_count": 30,
     "metadata": {},
     "output_type": "execute_result"
    }
   ],
   "source": [
    "bird.display()"
   ]
  },
  {
   "cell_type": "markdown",
   "id": "aa03d2d6",
   "metadata": {},
   "source": [
    "### **Multilevel inheritance **"
   ]
  },
  {
   "cell_type": "code",
   "execution_count": 35,
   "id": "25ca45ae",
   "metadata": {},
   "outputs": [
    {
     "ename": "TypeError",
     "evalue": "object.__init__() takes exactly one argument (the instance to initialize)",
     "output_type": "error",
     "traceback": [
      "\u001b[31m---------------------------------------------------------------------------\u001b[39m",
      "\u001b[31mTypeError\u001b[39m                                 Traceback (most recent call last)",
      "\u001b[36mCell\u001b[39m\u001b[36m \u001b[39m\u001b[32mIn[35]\u001b[39m\u001b[32m, line 9\u001b[39m\n\u001b[32m      6\u001b[39m     \u001b[38;5;28;01mdef\u001b[39;00m\u001b[38;5;250m \u001b[39m\u001b[34mdisplay_info\u001b[39m(\u001b[38;5;28mself\u001b[39m):\n\u001b[32m      7\u001b[39m         \u001b[38;5;28mprint\u001b[39m(\u001b[33mf\u001b[39m\u001b[33m\"\u001b[39m\u001b[38;5;132;01m{\u001b[39;00m\u001b[38;5;28mself\u001b[39m.first_name+\u001b[33m'\u001b[39m\u001b[33m'\u001b[39m+\u001b[38;5;250m \u001b[39m\u001b[38;5;28mself\u001b[39m.last_name\u001b[38;5;132;01m}\u001b[39;00m\u001b[33m is studying.(Student ID: \u001b[39m\u001b[38;5;132;01m{\u001b[39;00m\u001b[38;5;28mself\u001b[39m.student_id\u001b[38;5;132;01m}\u001b[39;00m\u001b[33m), (Class ID: \u001b[39m\u001b[38;5;132;01m{\u001b[39;00m\u001b[38;5;28mself\u001b[39m.class_id\u001b[38;5;132;01m}\u001b[39;00m\u001b[33m)\u001b[39m\u001b[33m\"\u001b[39m)\n\u001b[32m----> \u001b[39m\u001b[32m9\u001b[39m student2 = \u001b[43mClass_10\u001b[49m\u001b[43m(\u001b[49m\u001b[33;43m\"\u001b[39;49m\u001b[33;43mRavi\u001b[39;49m\u001b[33;43m\"\u001b[39;49m\u001b[43m,\u001b[49m\u001b[33;43m\"\u001b[39;49m\u001b[33;43mnayak\u001b[39;49m\u001b[33;43m\"\u001b[39;49m\u001b[43m,\u001b[49m\u001b[32;43m24\u001b[39;49m\u001b[43m,\u001b[49m\u001b[32;43m1\u001b[39;49m\u001b[43m,\u001b[49m\u001b[32;43m2\u001b[39;49m\u001b[43m)\u001b[49m\n",
      "\u001b[36mCell\u001b[39m\u001b[36m \u001b[39m\u001b[32mIn[35]\u001b[39m\u001b[32m, line 3\u001b[39m, in \u001b[36mClass_10.__init__\u001b[39m\u001b[34m(self, fname, lname, age, student_id, class_id)\u001b[39m\n\u001b[32m      2\u001b[39m \u001b[38;5;28;01mdef\u001b[39;00m\u001b[38;5;250m \u001b[39m\u001b[34m__init__\u001b[39m(\u001b[38;5;28mself\u001b[39m,fname,lname,age,student_id, class_id):\n\u001b[32m----> \u001b[39m\u001b[32m3\u001b[39m     \u001b[38;5;28;43msuper\u001b[39;49m\u001b[43m(\u001b[49m\u001b[43m)\u001b[49m\u001b[43m.\u001b[49m\u001b[34;43m__init__\u001b[39;49m\u001b[43m(\u001b[49m\u001b[43mfname\u001b[49m\u001b[43m,\u001b[49m\u001b[43mlname\u001b[49m\u001b[43m,\u001b[49m\u001b[43mage\u001b[49m\u001b[43m,\u001b[49m\u001b[43mstudent_id\u001b[49m\u001b[43m)\u001b[49m\n\u001b[32m      4\u001b[39m     \u001b[38;5;28mself\u001b[39m.class_id = class_id\n",
      "\u001b[31mTypeError\u001b[39m: object.__init__() takes exactly one argument (the instance to initialize)"
     ]
    }
   ],
   "source": [
    "class Class_10():\n",
    "    def __init__(self,fname,lname,age,student_id, class_id):\n",
    "        super().__init__(fname,lname,age,student_id)\n",
    "        self.class_id = class_id \n",
    "\n",
    "    def display_info(self):\n",
    "        print(f\"{self.first_name+''+ self.last_name} is studying.(Student ID: {self.student_id}), (Class ID: {self.class_id})\")\n",
    "\n",
    "student2 = Class_10(\"Ravi\",\"nayak\",24,1,2)"
   ]
  },
  {
   "cell_type": "code",
   "execution_count": 36,
   "id": "2e9670b7",
   "metadata": {},
   "outputs": [
    {
     "name": "stdout",
     "output_type": "stream",
     "text": [
      "Ravi Nayak is studying. (Student ID: 1), (Class ID: 2)\n"
     ]
    }
   ],
   "source": [
    "class Student:\n",
    "    def __init__(self, fname, lname, age, student_id):\n",
    "        self.first_name = fname\n",
    "        self.last_name = lname\n",
    "        self.age = age\n",
    "        self.student_id = student_id\n",
    "\n",
    "class Class_10(Student):\n",
    "    def __init__(self, fname, lname, age, student_id, class_id):\n",
    "        super().__init__(fname, lname, age, student_id)\n",
    "        self.class_id = class_id \n",
    "\n",
    "    def display_info(self):\n",
    "        print(f\"{self.first_name} {self.last_name} is studying. (Student ID: {self.student_id}), (Class ID: {self.class_id})\")\n",
    "\n",
    "student2 = Class_10(\"Ravi\", \"Nayak\", 24, 1, 2)\n",
    "student2.display_info()\n"
   ]
  },
  {
   "cell_type": "markdown",
   "id": "81e5661b",
   "metadata": {},
   "source": [
    "## **Polymorphism**"
   ]
  },
  {
   "cell_type": "code",
   "execution_count": 37,
   "id": "2fe87412",
   "metadata": {},
   "outputs": [],
   "source": [
    "class Bird:\n",
    "    def __init__(self,Name):\n",
    "        self.name=Name \n",
    "    def display(self):\n",
    "        return self.name\n",
    "    \n",
    "class Swimmer:\n",
    "    def swim(self):\n",
    "        return \"Swimming\"\n",
    "    \n",
    "class Flayer:\n",
    "    def __init__(self,Name):\n",
    "        super(). __init__(Name)\n",
    "   \n",
    "    def fly(self):\n",
    "        return f\"{self.name} Flying\"\n",
    "\n",
    "    \n",
    "class Duck(Bird,Swimmer,Flayer):\n",
    "    def quck(self):\n",
    "        return \"Quack\""
   ]
  },
  {
   "cell_type": "code",
   "execution_count": null,
   "id": "467e574d",
   "metadata": {},
   "outputs": [],
   "source": [
    "obj = Duck(\"Parrot\") #overriding with same name different functions"
   ]
  },
  {
   "cell_type": "code",
   "execution_count": 39,
   "id": "f4838748",
   "metadata": {},
   "outputs": [
    {
     "data": {
      "text/plain": [
       "'Parrot Flying'"
      ]
     },
     "execution_count": 39,
     "metadata": {},
     "output_type": "execute_result"
    }
   ],
   "source": [
    "obj.fly()"
   ]
  },
  {
   "cell_type": "code",
   "execution_count": null,
   "id": "aacb916b",
   "metadata": {},
   "outputs": [
    {
     "data": {
      "text/plain": [
       "'Pecock Flying'"
      ]
     },
     "execution_count": 40,
     "metadata": {},
     "output_type": "execute_result"
    }
   ],
   "source": [
    "obj2 = Duck(\"Pecock\") #performing operations with same name\n",
    "obj2.fly()"
   ]
  },
  {
   "cell_type": "code",
   "execution_count": 41,
   "id": "a4abea8a",
   "metadata": {},
   "outputs": [
    {
     "data": {
      "text/plain": [
       "'Swimming'"
      ]
     },
     "execution_count": 41,
     "metadata": {},
     "output_type": "execute_result"
    }
   ],
   "source": [
    "obj2.swim()"
   ]
  },
  {
   "cell_type": "code",
   "execution_count": 42,
   "id": "11795f89",
   "metadata": {},
   "outputs": [
    {
     "data": {
      "text/plain": [
       "'Quack'"
      ]
     },
     "execution_count": 42,
     "metadata": {},
     "output_type": "execute_result"
    }
   ],
   "source": [
    "obj2.quck()"
   ]
  },
  {
   "cell_type": "code",
   "execution_count": 45,
   "id": "f57b0ed9",
   "metadata": {},
   "outputs": [
    {
     "name": "stdout",
     "output_type": "stream",
     "text": [
      "1832945724304 1832945724816\n"
     ]
    },
    {
     "data": {
      "text/plain": [
       "False"
      ]
     },
     "execution_count": 45,
     "metadata": {},
     "output_type": "execute_result"
    }
   ],
   "source": [
    "a = 258\n",
    "b= 258\n",
    "print(id(a),id(b))\n",
    "a is b"
   ]
  },
  {
   "cell_type": "code",
   "execution_count": 46,
   "id": "7d36603b",
   "metadata": {},
   "outputs": [
    {
     "name": "stdout",
     "output_type": "stream",
     "text": [
      "140713528591272 140713528591272\n"
     ]
    },
    {
     "data": {
      "text/plain": [
       "True"
      ]
     },
     "execution_count": 46,
     "metadata": {},
     "output_type": "execute_result"
    }
   ],
   "source": [
    "a = 1\n",
    "b = 1\n",
    "print(id(a),id(b))\n",
    "\n",
    "a is b # comparing on the base of id -5 to 256 id will be same after 256 changes id of variable"
   ]
  },
  {
   "cell_type": "markdown",
   "id": "2681e8bb",
   "metadata": {},
   "source": [
    "## ***Overloading***"
   ]
  },
  {
   "cell_type": "code",
   "execution_count": 47,
   "id": "5632f9c9",
   "metadata": {},
   "outputs": [
    {
     "data": {
      "text/plain": [
       "25"
      ]
     },
     "execution_count": 47,
     "metadata": {},
     "output_type": "execute_result"
    }
   ],
   "source": [
    "class Mathoperation:\n",
    "    def add(self,a,b,c = 0,d= None):\n",
    "        if d is not None:\n",
    "            return a+b+c+d\n",
    "        return a+b+c\n",
    "add = Mathoperation()\n",
    "add.add(12,13)"
   ]
  },
  {
   "cell_type": "code",
   "execution_count": 48,
   "id": "dc17f54a",
   "metadata": {},
   "outputs": [
    {
     "data": {
      "text/plain": [
       "39"
      ]
     },
     "execution_count": 48,
     "metadata": {},
     "output_type": "execute_result"
    }
   ],
   "source": [
    "add.add(12,13,14)"
   ]
  },
  {
   "cell_type": "code",
   "execution_count": 49,
   "id": "c128d4cf",
   "metadata": {},
   "outputs": [
    {
     "data": {
      "text/plain": [
       "50"
      ]
     },
     "execution_count": 49,
     "metadata": {},
     "output_type": "execute_result"
    }
   ],
   "source": [
    "add.add(12,13,14,11)"
   ]
  },
  {
   "cell_type": "code",
   "execution_count": null,
   "id": "18944582",
   "metadata": {},
   "outputs": [],
   "source": []
  }
 ],
 "metadata": {
  "kernelspec": {
   "display_name": "Python 3.11.9",
   "language": "python",
   "name": "py311"
  },
  "language_info": {
   "codemirror_mode": {
    "name": "ipython",
    "version": 3
   },
   "file_extension": ".py",
   "mimetype": "text/x-python",
   "name": "python",
   "nbconvert_exporter": "python",
   "pygments_lexer": "ipython3",
   "version": "3.13.2"
  }
 },
 "nbformat": 4,
 "nbformat_minor": 5
}
