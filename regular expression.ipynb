{
 "cells": [
  {
   "cell_type": "code",
   "execution_count": 1,
   "id": "638816a5",
   "metadata": {},
   "outputs": [],
   "source": [
    "text1= \"The rain in bengaluru\"\n",
    "text2=\"The-rain-in-bengaluru\"\n",
    "pattern=r'\\s'\n"
   ]
  },
  {
   "cell_type": "code",
   "execution_count": 2,
   "id": "d8645164",
   "metadata": {},
   "outputs": [],
   "source": [
    "import warnings\n",
    "warnings.filterwarnings('ignore')\n"
   ]
  },
  {
   "cell_type": "code",
   "execution_count": 3,
   "id": "8a298367",
   "metadata": {},
   "outputs": [
    {
     "name": "stdout",
     "output_type": "stream",
     "text": [
      "['T', 'w', 'e', 'l', 'v', 'e:1', '2 N', 'i', 'n', 't', 'y n', 'i', 'n', 'e:9', '9']\n"
     ]
    }
   ],
   "source": [
    "import re\n",
    "string1 ='Twelve:12 Ninty nine:99'\n",
    "pattern=r'\\B'\n",
    "match =re.split(pattern,string1)\n",
    "print(match)"
   ]
  },
  {
   "cell_type": "code",
   "execution_count": 4,
   "id": "dbca4f55",
   "metadata": {},
   "outputs": [
    {
     "data": {
      "text/plain": [
       "['regular', 'expression', 'can', 'include', 'literal', 'charcaters']"
      ]
     },
     "execution_count": 4,
     "metadata": {},
     "output_type": "execute_result"
    }
   ],
   "source": [
    "text=\"regular expression can include literal charcaters\"\n",
    "match = re.split(r'\\s',text)\n",
    "match"
   ]
  },
  {
   "cell_type": "markdown",
   "id": "342f5bff",
   "metadata": {},
   "source": [
    "## **Replace**\n",
    "re.sub"
   ]
  },
  {
   "cell_type": "code",
   "execution_count": 5,
   "id": "823ff6d9",
   "metadata": {},
   "outputs": [
    {
     "name": "stdout",
     "output_type": "stream",
     "text": [
      "the Queen in the north clims he is worthy\n"
     ]
    }
   ],
   "source": [
    "text = \"the King in the north clims he is worthy\"\n",
    "pattern = r'king'\n",
    "match = re.sub(pattern,'Queen',text,flags=re.IGNORECASE)\n",
    "print(match)"
   ]
  },
  {
   "cell_type": "code",
   "execution_count": 6,
   "id": "60eb8d57",
   "metadata": {},
   "outputs": [
    {
     "name": "stdout",
     "output_type": "stream",
     "text": [
      "hello Universe\n"
     ]
    }
   ],
   "source": [
    "text=\"hello world\"\n",
    "pattern =r'world'\n",
    "match=re.sub(pattern,'Universe',text,flags=re.IGNORECASE)\n",
    "print(match)"
   ]
  },
  {
   "cell_type": "code",
   "execution_count": 7,
   "id": "f47b3540",
   "metadata": {},
   "outputs": [
    {
     "name": "stdout",
     "output_type": "stream",
     "text": [
      "python-is-high level language\n"
     ]
    }
   ],
   "source": [
    "text=\"python is high level language\"\n",
    "pattern= r'\\s'\n",
    "subt = re.sub(pattern,'-',text,2)\n",
    "print(subt)"
   ]
  },
  {
   "cell_type": "markdown",
   "id": "1dbb4ed8",
   "metadata": {},
   "source": [
    "re.subn - how many times replaced"
   ]
  },
  {
   "cell_type": "code",
   "execution_count": 8,
   "id": "4f32229f",
   "metadata": {},
   "outputs": [
    {
     "name": "stdout",
     "output_type": "stream",
     "text": [
      "('sUBject has UBer booked already', 2)\n"
     ]
    }
   ],
   "source": [
    "text = \"subject has uber booked already\"\n",
    "pattern = r'ub'\n",
    "suc=re.subn(pattern,'UB',text,re.IGNORECASE)\n",
    "print(suc)\n"
   ]
  },
  {
   "cell_type": "code",
   "execution_count": 9,
   "id": "1ff3d321",
   "metadata": {},
   "outputs": [
    {
     "name": "stdout",
     "output_type": "stream",
     "text": [
      "('subject_has_uber_booked_already', 4)\n"
     ]
    }
   ],
   "source": [
    "text = \"subject has uber booked already\"\n",
    "pattern = r'\\s'\n",
    "suc=re.subn(pattern,'_',text)\n",
    "print(suc)\n"
   ]
  },
  {
   "cell_type": "markdown",
   "id": "02fe5042",
   "metadata": {},
   "source": [
    "### **re.compile**"
   ]
  },
  {
   "cell_type": "code",
   "execution_count": 10,
   "id": "a8fbc4d5",
   "metadata": {},
   "outputs": [],
   "source": [
    "pattern = re.compile(r'\\d+') #extract only digits from sentence + used to give all digits coorectely in date format"
   ]
  },
  {
   "cell_type": "code",
   "execution_count": 11,
   "id": "27b65e1a",
   "metadata": {},
   "outputs": [
    {
     "data": {
      "text/plain": [
       "['14', '7', '2025']"
      ]
     },
     "execution_count": 11,
     "metadata": {},
     "output_type": "execute_result"
    }
   ],
   "source": [
    "text = 'today is 14-7-2025, Monday'\n",
    "match = pattern.findall(text)\n",
    "match\n"
   ]
  },
  {
   "cell_type": "code",
   "execution_count": 12,
   "id": "0d469caa",
   "metadata": {},
   "outputs": [],
   "source": [
    "date_pattern=re.compile(r'\\d{2}-\\d{2}-\\d{4}')\n",
    "day_pattern=re.compile(r'\\b(Monday|Tuesdy|Wednesday|Thursday|Friday|Saturday|Sunday)\\b')\n"
   ]
  },
  {
   "cell_type": "code",
   "execution_count": 13,
   "id": "dad9bab4",
   "metadata": {},
   "outputs": [
    {
     "name": "stdout",
     "output_type": "stream",
     "text": [
      "[]\n"
     ]
    }
   ],
   "source": [
    "date = date_pattern.findall(text)\n",
    "print(date)\n"
   ]
  },
  {
   "cell_type": "code",
   "execution_count": 14,
   "id": "cf6b1aa5",
   "metadata": {},
   "outputs": [
    {
     "name": "stdout",
     "output_type": "stream",
     "text": [
      "['Monday']\n"
     ]
    },
    {
     "ename": "TypeError",
     "evalue": "'re.Pattern' object is not iterable",
     "output_type": "error",
     "traceback": [
      "\u001b[31m---------------------------------------------------------------------------\u001b[39m",
      "\u001b[31mTypeError\u001b[39m                                 Traceback (most recent call last)",
      "\u001b[36mCell\u001b[39m\u001b[36m \u001b[39m\u001b[32mIn[14]\u001b[39m\u001b[32m, line 3\u001b[39m\n\u001b[32m      1\u001b[39m day=day_pattern.findall(text, re.IGNORECASE)\n\u001b[32m      2\u001b[39m \u001b[38;5;28mprint\u001b[39m(day)\n\u001b[32m----> \u001b[39m\u001b[32m3\u001b[39m \u001b[38;5;28;01mfor\u001b[39;00m i,j \u001b[38;5;129;01min\u001b[39;00m \u001b[38;5;28;43mzip\u001b[39;49m\u001b[43m(\u001b[49m\u001b[43mdate_pattern\u001b[49m\u001b[43m,\u001b[49m\u001b[43m \u001b[49m\u001b[43mday_pattern\u001b[49m\u001b[43m)\u001b[49m:\n\u001b[32m      4\u001b[39m     \u001b[38;5;28mprint\u001b[39m(i,j)\n",
      "\u001b[31mTypeError\u001b[39m: 're.Pattern' object is not iterable"
     ]
    }
   ],
   "source": [
    "day=day_pattern.findall(text, re.IGNORECASE)\n",
    "print(day)\n",
    "for i,j in zip(date_pattern, day_pattern):\n",
    "    print(i,j)"
   ]
  },
  {
   "cell_type": "code",
   "execution_count": null,
   "id": "445878b9",
   "metadata": {},
   "outputs": [
    {
     "ename": "TypeError",
     "evalue": "'re.Pattern' object is not iterable",
     "output_type": "error",
     "traceback": [
      "\u001b[31m---------------------------------------------------------------------------\u001b[39m",
      "\u001b[31mTypeError\u001b[39m                                 Traceback (most recent call last)",
      "\u001b[36mCell\u001b[39m\u001b[36m \u001b[39m\u001b[32mIn[38]\u001b[39m\u001b[32m, line 1\u001b[39m\n\u001b[32m----> \u001b[39m\u001b[32m1\u001b[39m \u001b[38;5;28;01mfor\u001b[39;00m i,j \u001b[38;5;129;01min\u001b[39;00m \u001b[38;5;28;43mzip\u001b[39;49m\u001b[43m(\u001b[49m\u001b[43mdate_pattern\u001b[49m\u001b[43m,\u001b[49m\u001b[43m \u001b[49m\u001b[43mday_pattern\u001b[49m\u001b[43m)\u001b[49m:\n\u001b[32m      2\u001b[39m     match = i.findall(text)\n\u001b[32m      3\u001b[39m     match1=j.findall(text)\n",
      "\u001b[31mTypeError\u001b[39m: 're.Pattern' object is not iterable"
     ]
    }
   ],
   "source": [
    "for i,j in zip(date_pattern, day_pattern):\n",
    "    match = i.findall(text)\n",
    "    match1=j.findall(text)\n",
    "    print(match,'-',match1)"
   ]
  },
  {
   "cell_type": "code",
   "execution_count": null,
   "id": "cb9d8779",
   "metadata": {},
   "outputs": [
    {
     "data": {
      "text/plain": [
       "13"
      ]
     },
     "execution_count": 40,
     "metadata": {},
     "output_type": "execute_result"
    }
   ],
   "source": [
    "12|5"
   ]
  },
  {
   "cell_type": "code",
   "execution_count": null,
   "id": "0e641ef3",
   "metadata": {},
   "outputs": [],
   "source": []
  },
  {
   "cell_type": "code",
   "execution_count": null,
   "id": "3fa31eeb",
   "metadata": {},
   "outputs": [],
   "source": []
  }
 ],
 "metadata": {
  "kernelspec": {
   "display_name": "Python 3.11.9",
   "language": "python",
   "name": "py311"
  },
  "language_info": {
   "codemirror_mode": {
    "name": "ipython",
    "version": 3
   },
   "file_extension": ".py",
   "mimetype": "text/x-python",
   "name": "python",
   "nbconvert_exporter": "python",
   "pygments_lexer": "ipython3",
   "version": "3.13.2"
  }
 },
 "nbformat": 4,
 "nbformat_minor": 5
}
